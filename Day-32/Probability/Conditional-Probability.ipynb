{
 "cells": [
  {
   "cell_type": "markdown",
   "metadata": {},
   "source": [
    "# Conditional Probability\n",
    "\n",
    "Conditional probability is the probability of an event occurring, given that another event has already occurred. It is denoted as `P(A|B)` and read as \"the probability of `A` given `B`.\"\n",
    "\n",
    "The formula for conditional probability is:\n",
    "\n",
    "\\begin{equation}\n",
    "P(A|B) = \\frac{P(A and B)}{P(B)}\n",
    "\\end{equation}\n",
    "\n",
    "where `P(A and B)` is the probability of both events `A` and `B` occurring together, and `P(B)` is the probability of event `B` occurring.\n",
    "\n",
    "Conditional probability is an important concept in probability theory and is used in many real-world applications, such as predicting the likelihood of a disease given certain symptoms, or the probability of a customer buying a product given their demographic information.\n",
    "\n",
    "`Example:` A bag contains 5 red balls and 3 green balls. If a ball is randomly selected from the bag and it is known to be red, what is the probability that it was one of the first two balls drawn from the bag?\n",
    "\n",
    "`Solution:` Let `A` be the event that the ball was one of the first two balls drawn from the bag, and let `B` be the event that the ball is red. We want to find `P(A|B)`.\n",
    "\n",
    "The probability of event `A` is \n",
    "\n",
    "\\begin{equation}\n",
    "P(A) = 2/8 * 1/7 + 6/8 * 2/7 = 10/28\n",
    "\\end{equation}\n",
    "\n",
    "The probability of event `B` is\n",
    "\n",
    "\\begin{equation}\n",
    "P(B) = 5/8\n",
    "\\end{equation}\n",
    "\n",
    "The probability of both events `A and B` occurring together is\n",
    "\n",
    "\\begin{equation}\n",
    "P(A and B) = 2/8 * 1/7 = 1/28\n",
    "\\end{equation}\n",
    "\n",
    "Therefore, the conditional probability of `A` given `B` is:\n",
    "\n",
    "\\begin{equation}\n",
    "P(A|B) = \\frac{P(A and B)}{P(B)} = \\frac{(1/28)}{(5/8)} = 0.057\n",
    "\\end{equation}\n",
    "\n",
    "So the probability that the ball was one of the first two balls drawn from the bag, given that it is red, is `0.057`."
   ]
  },
  {
   "cell_type": "code",
   "execution_count": 1,
   "metadata": {},
   "outputs": [
    {
     "name": "stdout",
     "output_type": "stream",
     "text": [
      "P(A|B) =  0.05714285714285714\n"
     ]
    }
   ],
   "source": [
    "# probability of the ball being one of the first two balls drawn\n",
    "p_A = (2/8 * 1/7) + (6/8 * 2/7)\n",
    "\n",
    "# probability of the ball being red\n",
    "p_B = 5/8\n",
    "\n",
    "# probability of both events A and B occurring together\n",
    "p_AB = 1/28\n",
    "\n",
    "# conditional probability of A given B\n",
    "p_A_given_B = p_AB / p_B\n",
    "\n",
    "print(\"P(A|B) = \", p_A_given_B)"
   ]
  },
  {
   "cell_type": "markdown",
   "metadata": {},
   "source": [
    "## Baye's Theorem\n",
    "\n",
    "Bayes' theorem is a mathematical formula used to calculate conditional probabilities. It describes the probability of an event based on prior knowledge of related conditions that may be relevant to the event. It is named after Reverend Thomas Bayes, an 18th-century statistician and philosopher.\n",
    "\n",
    "The theorem can be stated as:\n",
    "\n",
    "\\begin{equation}\n",
    "P(A|B) = \\frac{P(B|A) * P(A)}{P(B)}\n",
    "\\end{equation}\n",
    "\n",
    "where:\n",
    "\n",
    "- `P(A|B)` is the probability of event `A` given that event `B` has occurred\n",
    "- `P(B|A)` is the probability of event `B` given that event `A` has occurred\n",
    "- `P(A)` is the prior probability of event `A`\n",
    "- `P(B)` is the prior probability of event `B`\n",
    "\n",
    "Bayes' theorem is widely used in fields such as statistics, machine learning, and artificial intelligence. It can be used to update beliefs and make predictions based on new evidence. For example, in medical diagnosis, Bayes' theorem can be used to calculate the probability that a patient has a particular disease given their symptoms and medical history.\n",
    "\n",
    "`Example:` Let A be the event of having the disease and B be the event of a positive test result. Then, we have:\n",
    "\n",
    "\\begin{equation}\n",
    "P(A|B) = \\frac{P(B|A) * P(A)}{P(B)}\n",
    "\\end{equation}\n",
    "\n",
    "where `P(B|A)` is the probability of a positive test result given that the person has the disease, `P(A)` is the prior probability of having the disease, and `P(B)` is the probability of a positive test result.\n",
    "\n",
    "From the given information, we have:\n",
    "\n",
    "- P(B|A) = 0.95 (sensitivity)\n",
    "- P(A) = 0.01 (prevalence)\n",
    "- P(B|A') = 0.02 (false positive rate)\n",
    "- P(A') = 1 - P(A) = 0.99\n",
    "\n",
    "Using the formula, we can calculate:\n",
    "\n",
    "\\begin{equation}\n",
    "P(A|B) = \\frac{0.95 * 0.01}{(0.95 * 0.01) + (0.02 * 0.99)} ≈ 0.324\n",
    "\\end{equation}\n",
    "\n",
    "This means that the probability of having the disease given a positive test result is approximately `0.324` or `32.4%`."
   ]
  },
  {
   "cell_type": "code",
   "execution_count": 2,
   "metadata": {},
   "outputs": [
    {
     "name": "stdout",
     "output_type": "stream",
     "text": [
      "Probability of having the disease given a positive test result: 0.3242320819112628\n"
     ]
    }
   ],
   "source": [
    "# Prior probability of having the disease\n",
    "p_a = 0.01\n",
    "\n",
    "# Sensitivity of the test\n",
    "p_b_given_a = 0.95\n",
    "\n",
    "# False positive rate of the test\n",
    "p_b_given_not_a = 0.02\n",
    "\n",
    "# Probability of a positive test result\n",
    "p_b = (p_b_given_a * p_a) + (p_b_given_not_a * (1 - p_a))\n",
    "\n",
    "# Probability of having the disease given a positive test result\n",
    "p_a_given_b = (p_b_given_a * p_a) / p_b\n",
    "\n",
    "print(\"Probability of having the disease given a positive test result:\", p_a_given_b)"
   ]
  }
 ],
 "metadata": {
  "kernelspec": {
   "display_name": "Python 3 (ipykernel)",
   "language": "python",
   "name": "python3"
  },
  "language_info": {
   "codemirror_mode": {
    "name": "ipython",
    "version": 3
   },
   "file_extension": ".py",
   "mimetype": "text/x-python",
   "name": "python",
   "nbconvert_exporter": "python",
   "pygments_lexer": "ipython3",
   "version": "3.10.12"
  }
 },
 "nbformat": 4,
 "nbformat_minor": 4
}
