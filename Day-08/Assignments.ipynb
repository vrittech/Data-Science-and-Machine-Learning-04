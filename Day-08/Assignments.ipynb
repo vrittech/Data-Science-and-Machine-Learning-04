{
 "cells": [
  {
   "cell_type": "markdown",
   "metadata": {},
   "source": [
    "### Question : Book Keeper\n",
    "\n",
    "Following the data below , complete the given Tasks :"
   ]
  },
  {
   "cell_type": "code",
   "execution_count": 1,
   "metadata": {},
   "outputs": [],
   "source": [
    "# A list of tuples, where each tuple contains information about a book: (title, genre, year_published, times_borrowed).\n",
    "\n",
    "books = [\n",
    "    (\"The Alchemist\", \"Fiction\", 1988, 250),\n",
    "    (\"The Da Vinci Code\", \"Mystery\", 2003, 300),\n",
    "    (\"A Brief History of Time\", \"Science\", 1988, 150),\n",
    "    (\"The Theory of Everything\", \"Science\", 2002, 100),\n",
    "    (\"Pride and Prejudice\", \"Fiction\", 1813, 200),\n",
    "    (\"To Kill a Mockingbird\", \"Fiction\", 1960, 180),\n",
    "    (\"The Catcher in the Rye\", \"Fiction\", 1951, 220),\n",
    "    (\"Angels & Demons\", \"Mystery\", 2000, 210),\n",
    "    (\"The Grand Design\", \"Science\", 2010, 90),\n",
    "    (\"1984\", \"Fiction\", 1949, 190)\n",
    "]"
   ]
  },
  {
   "cell_type": "markdown",
   "metadata": {},
   "source": [
    "**Task 01**: Create a Book Filtering Function\n",
    "\n",
    "Given the list books as shown below, write a Python function named `filter_books` that filters books based on *genre* and *publication year*. The function should take two parameters: `genre (a string)` and `year (an integer)`. It should return a list of book titles that match the given genre and have been **published on or after** the specified year.\n",
    "\n",
    "- Example usage : `print(filter_books(\"Fiction\", 1980))`\n",
    "- Expected output: `['The Alchemist', 'The Catcher in the Rye']`\n",
    "\n",
    "*Try to use List Comprehension with If condition*"
   ]
  },
  {
   "cell_type": "code",
   "execution_count": 5,
   "metadata": {},
   "outputs": [],
   "source": [
    "# Your Solution Here\n",
    "\n",
    "\n"
   ]
  },
  {
   "cell_type": "markdown",
   "metadata": {},
   "source": [
    "**Task 02** : Write a Python function named `borrowing_stats` that uses dictionary comprehension to create and return a dictionary. This dictionary should map each book's title to the number of times it has been borrowed, but only include books from the \"`Fiction`\" genre.\n",
    "\n",
    "\n",
    "- Example usage : `print(borrowing_stats(books))`\n",
    "- Expected output: `{'The Alchemist': 250, 'Pride and Prejudice': 200, 'To Kill a Mockingbird': 180, 'The Catcher in the Rye': 220, '1984': 190}`"
   ]
  },
  {
   "cell_type": "code",
   "execution_count": null,
   "metadata": {},
   "outputs": [],
   "source": [
    "# Your Solution Here\n",
    "\n"
   ]
  },
  {
   "cell_type": "markdown",
   "metadata": {},
   "source": [
    "**Task 03** : Write a Python program that uses a lambda expression to sort this list by publication year in ascending order. Print the sorted list of books.\n",
    "\n",
    "*Try using a lambda expression with the sorted() function*"
   ]
  },
  {
   "cell_type": "code",
   "execution_count": 4,
   "metadata": {},
   "outputs": [
    {
     "name": "stdout",
     "output_type": "stream",
     "text": [
      "[('Pride and Prejudice', 'Fiction', 1813, 200), ('1984', 'Fiction', 1949, 190), ('The Catcher in the Rye', 'Fiction', 1951, 220), ('To Kill a Mockingbird', 'Fiction', 1960, 180), ('The Alchemist', 'Fiction', 1988, 250), ('A Brief History of Time', 'Science', 1988, 150), ('Angels & Demons', 'Mystery', 2000, 210), ('The Theory of Everything', 'Science', 2002, 100), ('The Da Vinci Code', 'Mystery', 2003, 300), ('The Grand Design', 'Science', 2010, 90)]\n"
     ]
    }
   ],
   "source": [
    "# Your Solution Here\n",
    "\n",
    "sorted_books = sorted(books, key=lambda book: book[2])\n",
    "\n",
    "print(sorted_books)"
   ]
  },
  {
   "cell_type": "code",
   "execution_count": null,
   "metadata": {},
   "outputs": [],
   "source": []
  },
  {
   "cell_type": "markdown",
   "metadata": {},
   "source": [
    "### Question: File Read and Write\n",
    "**Write a Program that Uses Functions `write_to_file` and `read_from_file`**:\n",
    "- `write_to_file(filename, content)`: Writes `content` to a file named `filename`. If the file doesn't exist, it should be created.\n",
    "- `read_from_file(filename)`: Reads and prints the content of a file named `filename`.\n",
    "Call `write_to_file` to write \"Hello, Python!\" to a file named \"greetings.txt\", then call `read_from_file` to read and print the content of this file."
   ]
  },
  {
   "cell_type": "code",
   "execution_count": null,
   "metadata": {},
   "outputs": [],
   "source": [
    "# Your Solution Here\n"
   ]
  },
  {
   "cell_type": "markdown",
   "metadata": {},
   "source": []
  },
  {
   "cell_type": "code",
   "execution_count": 2,
   "metadata": {},
   "outputs": [],
   "source": [
    "import time\n",
    "from functools import reduce\n"
   ]
  },
  {
   "cell_type": "code",
   "execution_count": 3,
   "metadata": {},
   "outputs": [
    {
     "data": {
      "text/plain": [
       "0.0393829345703125"
      ]
     },
     "execution_count": 3,
     "metadata": {},
     "output_type": "execute_result"
    }
   ],
   "source": [
    "start = time.time()\n",
    "list = range(1,1000001)\n",
    "result = reduce(lambda x, y: x + y, list)\n",
    "end = time.time()\n",
    "\n",
    "end - start"
   ]
  },
  {
   "cell_type": "code",
   "execution_count": 5,
   "metadata": {},
   "outputs": [
    {
     "data": {
      "text/plain": [
       "0.04360461235046387"
      ]
     },
     "execution_count": 5,
     "metadata": {},
     "output_type": "execute_result"
    }
   ],
   "source": [
    "start = time.time()\n",
    "res = 0\n",
    "for i in range(1,1000001):\n",
    "    res += i\n",
    "end = time.time()\n",
    "\n",
    "end- start"
   ]
  },
  {
   "cell_type": "code",
   "execution_count": 4,
   "metadata": {},
   "outputs": [
    {
     "data": {
      "text/plain": [
       "0.008220672607421875"
      ]
     },
     "execution_count": 4,
     "metadata": {},
     "output_type": "execute_result"
    }
   ],
   "source": [
    "start = time.time()\n",
    "result = sum(range(1,1000001))\n",
    "end = time.time()\n",
    "\n",
    "end - start"
   ]
  },
  {
   "cell_type": "code",
   "execution_count": 16,
   "metadata": {},
   "outputs": [
    {
     "ename": "KeyboardInterrupt",
     "evalue": "",
     "output_type": "error",
     "traceback": [
      "\u001b[0;31m---------------------------------------------------------------------------\u001b[0m",
      "\u001b[0;31mKeyboardInterrupt\u001b[0m                         Traceback (most recent call last)",
      "Cell \u001b[0;32mIn[16], line 7\u001b[0m\n\u001b[1;32m      4\u001b[0m         c \u001b[38;5;241m=\u001b[39m c\u001b[38;5;241m+\u001b[39mc    \n\u001b[1;32m      6\u001b[0m init \u001b[38;5;241m=\u001b[39m time\u001b[38;5;241m.\u001b[39mtime()\n\u001b[0;32m----> 7\u001b[0m \u001b[43ma\u001b[49m\u001b[43m(\u001b[49m\u001b[43m)\u001b[49m\n\u001b[1;32m      8\u001b[0m \u001b[38;5;28mprint\u001b[39m(time\u001b[38;5;241m.\u001b[39mtime()\u001b[38;5;241m-\u001b[39minit) \n",
      "Cell \u001b[0;32mIn[16], line 3\u001b[0m, in \u001b[0;36ma\u001b[0;34m()\u001b[0m\n\u001b[1;32m      1\u001b[0m \u001b[38;5;28;01mdef\u001b[39;00m \u001b[38;5;21ma\u001b[39m ():    \n\u001b[1;32m      2\u001b[0m     c \u001b[38;5;241m=\u001b[39m \u001b[38;5;241m0\u001b[39m    \n\u001b[0;32m----> 3\u001b[0m     \u001b[38;5;28;01mwhile\u001b[39;00m c \u001b[38;5;241m<\u001b[39m\u001b[38;5;241m1000000\u001b[39m:        \n\u001b[1;32m      4\u001b[0m         c \u001b[38;5;241m=\u001b[39m c\u001b[38;5;241m+\u001b[39mc\n",
      "\u001b[0;31mKeyboardInterrupt\u001b[0m: "
     ]
    }
   ],
   "source": [
    "def a ():    \n",
    "    c = 0    \n",
    "    while c <1000000:        \n",
    "        c = c+c    \n",
    "\n",
    "init = time.time()\n",
    "a()\n",
    "print(time.time()-init) "
   ]
  },
  {
   "cell_type": "code",
   "execution_count": 17,
   "metadata": {},
   "outputs": [
    {
     "name": "stdout",
     "output_type": "stream",
     "text": [
      "CPU times: user 4 µs, sys: 0 ns, total: 4 µs\n",
      "Wall time: 5.96 µs\n",
      "Hello\n"
     ]
    }
   ],
   "source": [
    "%time\n",
    "print(\"Hello\")"
   ]
  },
  {
   "cell_type": "code",
   "execution_count": null,
   "metadata": {},
   "outputs": [],
   "source": []
  }
 ],
 "metadata": {
  "kernelspec": {
   "display_name": "Python 3 (ipykernel)",
   "language": "python",
   "name": "python3"
  },
  "language_info": {
   "codemirror_mode": {
    "name": "ipython",
    "version": 3
   },
   "file_extension": ".py",
   "mimetype": "text/x-python",
   "name": "python",
   "nbconvert_exporter": "python",
   "pygments_lexer": "ipython3",
   "version": "3.10.12"
  }
 },
 "nbformat": 4,
 "nbformat_minor": 4
}
