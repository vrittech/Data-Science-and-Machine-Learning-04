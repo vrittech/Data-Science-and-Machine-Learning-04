{
 "cells": [
  {
   "cell_type": "markdown",
   "id": "1f80ac24",
   "metadata": {},
   "source": [
    "# Inheritance in Python\n",
    "\n",
    "Inheritance is one of the key features of object-oriented programming. It allows a new class to be based on an existing class, inheriting all of the attributes and methods of the parent class. This enables code reuse, making it easier to write and maintain complex programs. The parent class is also called the `base` class, while the new class is called the `derived` class.\n",
    "\n",
    "Inheritance is a powerful tool that can greatly simplify code development and maintenance. By reusing existing code and building on top of it, we can avoid duplicating effort and create more complex and powerful programs.\n",
    "\n",
    "There are several types of inheritance, including single inheritance, multiple inheritance, multi-level inheritance, hierarchical inheritance, and hybrid inheritance. Let's discuss each of them independently."
   ]
  },
  {
   "cell_type": "markdown",
   "id": "f33e25b8",
   "metadata": {},
   "source": [
    "## 1. Single Inheritance\n",
    "\n",
    "Single inheritance is a mechanism in object-oriented programming where a class (child or derived class) inherits properties and methods from another class (parent or base class). The derived class inherits all the attributes of the base class, and it can also add its own attributes and methods.\n",
    "\n",
    "To create a single inheritance relationship in Python, you define the derived class and the base class, and then use the syntax `class DerivedClassName(BaseClassName):` to declare the derived class, with the base class specified in the parentheses."
   ]
  },
  {
   "cell_type": "code",
   "execution_count": null,
   "id": "07e4b681",
   "metadata": {},
   "outputs": [],
   "source": [
    "class Animal:\n",
    "    def __init__(self, name, age):\n",
    "        self.name = name\n",
    "        self.age = age\n",
    "\n",
    "    def intro(self):\n",
    "        print(f\"My name is {self.name}.\")\n",
    "\n",
    "class Cat(Animal):\n",
    "    def __init__(self, name, age, color):\n",
    "        super().__init__(name, age)\n",
    "        self.color = color\n",
    "\n",
    "    def speak(self):\n",
    "        print(\"Meow!\")\n",
    "\n",
    "my_cat = Cat(\"Fluffy\", 3, \"gray\")\n"
   ]
  },
  {
   "cell_type": "code",
   "execution_count": null,
   "id": "94d43839-c3db-4243-8a1c-9c9d77cd0a29",
   "metadata": {},
   "outputs": [],
   "source": [
    "print(my_cat.name)\n",
    "print(my_cat.age)\n",
    "print(my_cat.color)"
   ]
  },
  {
   "cell_type": "code",
   "execution_count": null,
   "id": "68974620-ccc8-4a33-93aa-22833c3303b4",
   "metadata": {},
   "outputs": [],
   "source": [
    "my_cat.speak()"
   ]
  },
  {
   "cell_type": "code",
   "execution_count": null,
   "id": "60b74d8f-0008-403e-a5ac-fb6617b59164",
   "metadata": {},
   "outputs": [],
   "source": [
    "my_cat.intro()"
   ]
  },
  {
   "cell_type": "code",
   "execution_count": null,
   "id": "398fdfee-4367-43c6-ad82-94eeb4cd6e61",
   "metadata": {},
   "outputs": [],
   "source": []
  },
  {
   "cell_type": "code",
   "execution_count": null,
   "id": "9f4601d6-c88e-49c9-aadc-20d30e8155ec",
   "metadata": {},
   "outputs": [],
   "source": []
  },
  {
   "cell_type": "markdown",
   "id": "859fa0f1",
   "metadata": {},
   "source": [
    "In this example, we have defined two classes, `Animal` and `Cat`. `Cat` is the derived class, and it inherits from the base class `Animal`. The `Cat` class has its own `__init__()` method, which takes three arguments: `name, age, and color`. The `super()` function is used to call the base class constructor and pass `name and age` arguments to it. The `color` argument is specific to the `Cat` class, and is assigned as an attribute of the object and so is the `speak()` method.\n",
    "\n",
    "## 2. Multiple Inheritance\n",
    "\n",
    "Multiple inheritance is a feature where a class can inherit attributes and methods from more than one base class. It allows a subclass to inherit from multiple parent classes simultaneously. The syntax for multiple inheritance in Python is as follows:\n",
    "\n",
    "```python\n",
    "class MyClass(Parent1, Parent2, ...):\n",
    "    pass\n",
    "```\n",
    "\n",
    "In this example, `MyClass` inherits from `Parent1`, `Parent2`, and so on.\n",
    "\n",
    "When we call a method on an instance of `MyClass`, Python looks for the method in the following order:\n",
    "\n",
    "1. `MyClass` itself\n",
    "2. `Parent1`\n",
    "3. `Parent2`\n",
    "4. and so on\n",
    "\n",
    "This is called the `method resolution order (MRO)`, and it is determined at runtime using a depth-first search algorithm.\n",
    "\n",
    "Multiple inheritance can be a powerful feature of Python, but it can also be complex and can lead to code that is difficult to understand and maintain. It is important to use it judiciously and to keep the design of your classes simple and clear."
   ]
  },
  {
   "cell_type": "code",
   "execution_count": null,
   "id": "24b6383e",
   "metadata": {},
   "outputs": [],
   "source": [
    "class Parent1:\n",
    "    def func1(self):\n",
    "        print(\"This is Parent 1 function.\")\n",
    "\n",
    "class Parent2:\n",
    "    def func2(self):\n",
    "        print(\"This is Parent 2 function.\")\n",
    "\n",
    "class Child(Parent1, Parent2):\n",
    "    def func3(self):\n",
    "        print(\"This is Child function.\")\n",
    "\n",
    "# create an object of Child class\n",
    "obj = Child()\n",
    "\n",
    "# access functions using the object\n",
    "obj.func1()\n",
    "obj.func2()\n",
    "obj.func3()"
   ]
  },
  {
   "cell_type": "markdown",
   "id": "c70126bd",
   "metadata": {},
   "source": [
    "## 3. Multi-level inheritance\n",
    "\n",
    "Multilevel inheritance refers to the inheritance of a derived class from a base class, where the base class itself is derived from another base class. This means that a subclass will inherit from a superclass that has already inherited from another class.\n",
    "\n",
    "For example, consider three classes: `A`, `B`, and `C`. Class `A` is the parent class, class `B` is derived from class `A`, and class `C` is derived from class `B`. In this case, class `C` will inherit all the properties and methods of both class `B` and class `A`."
   ]
  },
  {
   "cell_type": "code",
   "execution_count": 1,
   "id": "5696c1a9",
   "metadata": {},
   "outputs": [
    {
     "name": "stdout",
     "output_type": "stream",
     "text": [
      "This is method A from class A\n",
      "This is method B from class B\n",
      "This is method C from class C\n"
     ]
    }
   ],
   "source": [
    "class A:\n",
    "    def method_a(self):\n",
    "        print(\"This is method A from class A\")\n",
    "\n",
    "class B(A):\n",
    "    def method_b(self):\n",
    "        print(\"This is method B from class B\")\n",
    "\n",
    "class C(B):\n",
    "    def method_c(self):\n",
    "        print(\"This is method C from class C\")\n",
    "\n",
    "obj = C()\n",
    "obj.method_a()\n",
    "obj.method_b()\n",
    "obj.method_c()"
   ]
  },
  {
   "cell_type": "markdown",
   "id": "f55ebfdf",
   "metadata": {},
   "source": [
    "In the above example, class `C` inherits from class `B`, which in turn inherits from class `A`. Therefore, class `C` has access to all the methods and properties of classes `B` and `A`. When an instance of class `C` is created, it can call the methods of all three classes.\n",
    "\n",
    "## 4. Hierarchical Inheritance\n",
    "\n",
    "Hierarchical inheritance is a type of inheritance in which more than one derived class inherits from a single base or parent class. In other words, it is a relationship between classes in which one class serves as a superclass for multiple subclasses.\n",
    "\n",
    "In Python, the syntax for creating hierarchical inheritance is similar to that of single inheritance. To implement hierarchical inheritance, we simply define multiple subclasses that inherit from the same base class. Each of these subclasses can have their own unique attributes and methods, in addition to the ones inherited from the base class."
   ]
  },
  {
   "cell_type": "code",
   "execution_count": 2,
   "id": "a965ac41",
   "metadata": {},
   "outputs": [],
   "source": [
    "class Animal:\n",
    "    def __init__(self, name):\n",
    "        self.name = name\n",
    "    \n",
    "    def intro(self):\n",
    "        pass\n",
    "\n",
    "class Cat(Animal):\n",
    "    def speak(self):\n",
    "        return \"Meow\"\n",
    "    \n",
    "class Dog(Animal):\n",
    "    def speak(self):\n",
    "        return \"Woof\"\n",
    "    \n",
    "class Lion(Animal):\n",
    "    def speak(self):\n",
    "        return \"Roar\""
   ]
  },
  {
   "cell_type": "code",
   "execution_count": 3,
   "id": "1bffe7c7",
   "metadata": {},
   "outputs": [],
   "source": [
    "cat = Cat(\"Fluffy\")\n",
    "dog = Dog(\"Fido\")\n",
    "lion = Lion(\"Simba\")"
   ]
  },
  {
   "cell_type": "code",
   "execution_count": 4,
   "id": "f620d0c0",
   "metadata": {},
   "outputs": [
    {
     "name": "stdout",
     "output_type": "stream",
     "text": [
      "Meow\n"
     ]
    }
   ],
   "source": [
    "print(cat.speak())"
   ]
  },
  {
   "cell_type": "code",
   "execution_count": 5,
   "id": "ee6af36e",
   "metadata": {},
   "outputs": [
    {
     "name": "stdout",
     "output_type": "stream",
     "text": [
      "Woof\n"
     ]
    }
   ],
   "source": [
    "print(dog.speak())"
   ]
  },
  {
   "cell_type": "code",
   "execution_count": 6,
   "id": "f1b3cb01",
   "metadata": {},
   "outputs": [
    {
     "name": "stdout",
     "output_type": "stream",
     "text": [
      "Roar\n"
     ]
    }
   ],
   "source": [
    "print(lion.speak())"
   ]
  },
  {
   "cell_type": "code",
   "execution_count": 7,
   "id": "a809d3f1",
   "metadata": {},
   "outputs": [
    {
     "name": "stdout",
     "output_type": "stream",
     "text": [
      "Simba\n"
     ]
    }
   ],
   "source": [
    "print(lion.name)"
   ]
  },
  {
   "cell_type": "markdown",
   "id": "65925f49",
   "metadata": {},
   "source": [
    "In this example, we have a base class `Animal`, which has an `__init__` method that initializes the `name` attribute, as well as a `intro` method that is not implemented. We then define three subclasses, `Cat`, `Dog`, and `Lion`, each of which inherits from `Animal` and defines their own `speak` method.\n",
    "\n",
    "## 5. Hybrid Inheritance\n",
    "\n",
    "Hybrid inheritance is a combination of two or more types of inheritance from the above types."
   ]
  },
  {
   "cell_type": "code",
   "execution_count": 8,
   "id": "eb3623f5",
   "metadata": {},
   "outputs": [],
   "source": [
    "class Animal:\n",
    "    def __init__(self, name):\n",
    "        self.name = name\n",
    "    \n",
    "    def speak(self):\n",
    "        print(f\"{self.name} is speaking.\")\n",
    "\n",
    "class Mammal(Animal):\n",
    "    def __init__(self, name):\n",
    "        super().__init__(name)\n",
    "    \n",
    "    def feed_milk(self):\n",
    "        print(f\"{self.name} is feeding milk.\")\n",
    "\n",
    "class Bird(Animal):\n",
    "    def __init__(self, name):\n",
    "        super().__init__(name)\n",
    "    \n",
    "    def fly(self):\n",
    "        print(f\"{self.name} is flying.\")\n",
    "\n",
    "class Bat(Mammal, Bird):\n",
    "    def __init__(self, name):\n",
    "        super().__init__(name)\n"
   ]
  },
  {
   "cell_type": "code",
   "execution_count": 10,
   "id": "c2c9aba3",
   "metadata": {},
   "outputs": [
    {
     "name": "stdout",
     "output_type": "stream",
     "text": [
      "Bruce is speaking.\n"
     ]
    }
   ],
   "source": [
    "b = Bat(\"Bruce\")\n",
    "b.speak()"
   ]
  },
  {
   "cell_type": "code",
   "execution_count": 11,
   "id": "ad632461",
   "metadata": {},
   "outputs": [
    {
     "name": "stdout",
     "output_type": "stream",
     "text": [
      "Bruce is feeding milk.\n"
     ]
    }
   ],
   "source": [
    "b.feed_milk()"
   ]
  },
  {
   "cell_type": "code",
   "execution_count": 12,
   "id": "58e916bb",
   "metadata": {},
   "outputs": [
    {
     "name": "stdout",
     "output_type": "stream",
     "text": [
      "Bruce is flying.\n"
     ]
    }
   ],
   "source": [
    "b.fly()"
   ]
  },
  {
   "cell_type": "markdown",
   "id": "547a6a9a",
   "metadata": {},
   "source": [
    "In this example, we have four classes: `Animal`, `Mammal`, `Bird`, and `Bat`. `Mammal` and `Bird` inherit from `Animal`, forming a multiple inheritance hierarchy. `Bat` then inherits from both `Mammal` and `Bird`, forming a hybrid inheritance hierarchy. This means that `Bat` has access to all the methods and attributes of `Animal`, `Mammal`, and `Bird`. When we create an instance of `Bat`, we can call all the methods defined in the parent classes."
   ]
  }
 ],
 "metadata": {
  "kernelspec": {
   "display_name": "Python 3 (ipykernel)",
   "language": "python",
   "name": "python3"
  },
  "language_info": {
   "codemirror_mode": {
    "name": "ipython",
    "version": 3
   },
   "file_extension": ".py",
   "mimetype": "text/x-python",
   "name": "python",
   "nbconvert_exporter": "python",
   "pygments_lexer": "ipython3",
   "version": "3.10.12"
  }
 },
 "nbformat": 4,
 "nbformat_minor": 5
}
