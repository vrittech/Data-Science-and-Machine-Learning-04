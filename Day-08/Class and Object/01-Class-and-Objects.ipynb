{
 "cells": [
  {
   "cell_type": "markdown",
   "id": "2dc8f146",
   "metadata": {},
   "source": [
    "# Object Oriented Programming\n",
    "\n",
    "Object-oriented programming is a programming paradigm that is centered around objects, which are instances of classes that encapsulate data and behavior. In Python, everything is an object, including integers, strings, lists, and functions. Python's support for OOP is a key feature of the language that makes it powerful and flexible.\n"
   ]
  },
  {
   "cell_type": "markdown",
   "id": "8d428f67",
   "metadata": {},
   "source": [
    "# Class and Objects\n",
    "\n",
    "A class is a blueprint or a template for creating objects, which are instances of the class. Classes encapsulate data and the behavior that operates on that data. A class defines a set of attributes and methods that can be used to create objects. In Python, you can define a class using the class keyword. Attributes and methods are the two key components of a python class. Attributes are the characteristics or properties of an object, while methods are the functions that are associated with the object.\n",
    "\n",
    "Here's an example of a simple class definition:"
   ]
  },
  {
   "cell_type": "code",
   "execution_count": 13,
   "id": "4f1bc81c",
   "metadata": {},
   "outputs": [],
   "source": []
  },
  {
   "cell_type": "code",
   "execution_count": 9,
   "id": "aa43cead-3fc3-4cdb-973f-21b55de9b9ae",
   "metadata": {},
   "outputs": [],
   "source": [
    "class Calculator:\n",
    "    def __init__(self, num_1, num_2):\n",
    "        self.num_1 = num_1\n",
    "        self.num_2 = num_2\n",
    "\n",
    "    def add(self):\n",
    "        sum = self.num_1 + self.num_2\n",
    "        return sum\n",
    "\n",
    "    def multiply(\n",
    "        ..\n",
    "        ...\n",
    "        ..."
   ]
  },
  {
   "cell_type": "code",
   "execution_count": 10,
   "id": "aec06782-1c35-4655-b24c-eb8e43a4b654",
   "metadata": {},
   "outputs": [],
   "source": [
    "# num1 = int(input(\"\"))\n",
    "vrit_cal = Calculator(10,5)"
   ]
  },
  {
   "cell_type": "code",
   "execution_count": 12,
   "id": "96c8dedb-b811-4028-aa33-392cb6371ef3",
   "metadata": {},
   "outputs": [
    {
     "data": {
      "text/plain": [
       "15"
      ]
     },
     "execution_count": 12,
     "metadata": {},
     "output_type": "execute_result"
    }
   ],
   "source": [
    "vrit_cal.add()"
   ]
  },
  {
   "cell_type": "code",
   "execution_count": null,
   "id": "8f4b39ab-b39e-4129-b857-3ea5b804a9dd",
   "metadata": {},
   "outputs": [],
   "source": [
    "class Dog:\n",
    "    def __init__(self, name, age):\n",
    "        self.name = name\n",
    "        self.age = age\n",
    "\n",
    "    def bark(self):\n",
    "        print(f\"{self.name} is barking!\")"
   ]
  },
  {
   "cell_type": "markdown",
   "id": "f6bbb000",
   "metadata": {},
   "source": [
    "This class, called `Dog`, has two attributes (`name` and `age`) and one method (`bark`). The `__init__` method is a special method that is called when a new instance of the class is created. It takes two arguments (`name` and `age`) and initializes the corresponding attributes. The `bark` method is a simple method that prints a message to the console.\n",
    "\n",
    "To create an instance of the `Dog` class, you can simply call the class with the appropriate arguments:"
   ]
  },
  {
   "cell_type": "code",
   "execution_count": 14,
   "id": "d76c5a56",
   "metadata": {},
   "outputs": [
    {
     "name": "stdout",
     "output_type": "stream",
     "text": [
      "<class '__main__.Dog'>\n"
     ]
    }
   ],
   "source": [
    "my_dog = Dog(\"Buddy\", 3)\n",
    "print(type(my_dog))"
   ]
  },
  {
   "cell_type": "markdown",
   "id": "5a7519c2",
   "metadata": {},
   "source": [
    "This creates a new instance of the `Dog` class with the name `\"Buddy\"` and the age `3`, and assigns it to the variable `my_dog`. You can access the attributes of an instance using the dot notation."
   ]
  },
  {
   "cell_type": "code",
   "execution_count": 15,
   "id": "7976cd1a",
   "metadata": {},
   "outputs": [
    {
     "name": "stdout",
     "output_type": "stream",
     "text": [
      "Buddy\n",
      "3\n"
     ]
    }
   ],
   "source": [
    "print(my_dog.name)\n",
    "print(my_dog.age)"
   ]
  },
  {
   "cell_type": "markdown",
   "id": "ac1ee3ae",
   "metadata": {},
   "source": [
    "You can call the methods of an instance using the dot notation as well."
   ]
  },
  {
   "cell_type": "code",
   "execution_count": 16,
   "id": "01d10e4e",
   "metadata": {},
   "outputs": [
    {
     "name": "stdout",
     "output_type": "stream",
     "text": [
      "Buddy is barking!\n"
     ]
    }
   ],
   "source": [
    "my_dog.bark()"
   ]
  },
  {
   "cell_type": "code",
   "execution_count": 17,
   "id": "ef70f177",
   "metadata": {},
   "outputs": [],
   "source": [
    "your_dog = Dog(\"Rocky\",4)"
   ]
  },
  {
   "cell_type": "code",
   "execution_count": null,
   "id": "b313dd4c",
   "metadata": {},
   "outputs": [],
   "source": []
  },
  {
   "cell_type": "code",
   "execution_count": null,
   "id": "1c34246d",
   "metadata": {},
   "outputs": [],
   "source": []
  },
  {
   "cell_type": "code",
   "execution_count": null,
   "id": "186ca138",
   "metadata": {},
   "outputs": [],
   "source": []
  },
  {
   "cell_type": "markdown",
   "id": "afc738b3",
   "metadata": {},
   "source": [
    "## Types of Attributes\n",
    "\n",
    "#### 1. Instance Attributes\n",
    "\n",
    "These are the attributes that belong to instances of a class. They are defined within the constructor method `__init__` and can be accessed using the `self` keyword like `self.name` and `self.age` in the above `Dog` class.. They are initialized when a new instance of the class is created.\n",
    "\n",
    "#### 2. Class attributes\n",
    "\n",
    "Class attributes are attributes that belong to the class itself. They are defined outside the constructor method `__init__` and can be accessed using the class name. Class attributes are shared by all instances of the class like `count` attribute in the `Person` class below.\n",
    "\n",
    "## Types of Methods\n",
    "\n",
    "#### 1. Instance methods\n",
    "\n",
    "The most common type of method in Python. These are the methods that operate on an instance of a class and have access to the instance's attributes. Instance methods are defined within the class and are called on instances of the class like `bark` method of the `Dog` class above.\n",
    "\n",
    "#### 2. Class methods\n",
    "\n",
    "Class methods are methods that operate on the class itself rather than on instances of the class. They are defined using the `@classmethod` decorator and take the class itself as the first argument like `get_count` method of `Person` class below.\n",
    "\n",
    "#### 3. Static methods\n",
    "\n",
    "Static methods are methods that do not operate on the instance or the class, but are related to the class in some way. They are defined using the `@staticmethod` decorator and do not take the instance or the class as arguments like `get_full_name` in `Person` class below."
   ]
  },
  {
   "cell_type": "code",
   "execution_count": 28,
   "id": "49d7a671",
   "metadata": {},
   "outputs": [],
   "source": [
    "class Person:\n",
    "    count = 0  # Class attribute\n",
    "\n",
    "    def __init__(self, name):\n",
    "        self.name = name\n",
    "        Person.count += 1\n",
    "\n",
    "    def update_name(self,new_name):\n",
    "        self.name = str(new_name)\n",
    "        \n",
    "    @classmethod\n",
    "    def get_count(cls):  #Defining Class method\n",
    "        return cls.count\n",
    "    \n",
    "    @staticmethod\n",
    "    def get_full_name(firstname, secondname):\n",
    "        return f'{firstname} {secondname}'"
   ]
  },
  {
   "cell_type": "markdown",
   "id": "174458f1",
   "metadata": {},
   "source": [
    "This class, called `Person`, has one class-level attribute (`count`) and one class-level method (`get_count`). The `__init__` method increments the count attribute each time a new instance of the class is created. The `classmethod` decorator is used to define `get_count` method as class-level. The `get_count` method returns the current value of the count attribute.\n",
    "\n",
    "To call the class-level method, you can use the class itself as the object:"
   ]
  },
  {
   "cell_type": "code",
   "execution_count": 29,
   "id": "b95e9a1c",
   "metadata": {},
   "outputs": [
    {
     "name": "stdout",
     "output_type": "stream",
     "text": [
      "0\n"
     ]
    }
   ],
   "source": [
    "print(Person.get_count())"
   ]
  },
  {
   "cell_type": "code",
   "execution_count": 30,
   "id": "c7988913-85f9-4886-b76c-8e2eeeed15e0",
   "metadata": {},
   "outputs": [
    {
     "name": "stdout",
     "output_type": "stream",
     "text": [
      "Shyam\n",
      "1\n"
     ]
    }
   ],
   "source": [
    "person1 = Person(\"Shyam\")\n",
    "print(person1.name)\n",
    "print(Person.get_count())"
   ]
  },
  {
   "cell_type": "code",
   "execution_count": 31,
   "id": "337f3dfa-d584-4c5b-99e5-bf5fe724411d",
   "metadata": {},
   "outputs": [
    {
     "name": "stdout",
     "output_type": "stream",
     "text": [
      "Ram\n",
      "2\n"
     ]
    }
   ],
   "source": [
    "person2 = Person(\"Ram\")\n",
    "print(person2.name)\n",
    "print(Person.get_count())"
   ]
  },
  {
   "cell_type": "code",
   "execution_count": 32,
   "id": "2800813b-38dc-4b62-b258-15cdd9640b32",
   "metadata": {},
   "outputs": [
    {
     "name": "stdout",
     "output_type": "stream",
     "text": [
      "Hari\n",
      "3\n"
     ]
    }
   ],
   "source": [
    "person3 = Person(\"Hari\")\n",
    "print(person3.name)\n",
    "print(Person.get_count())"
   ]
  },
  {
   "cell_type": "markdown",
   "id": "d8964073",
   "metadata": {},
   "source": [
    "In this example, we call the `get_count` method on the `Person` class to get the initial value of the `count` attribute (which is `0`). We then create two instances of the `Person` class (`person1` and `person2`), which increment the count attribute each time. Finally, we call the `get_count` method again to get the current value of the `count` attribute (which is `2`).\n",
    "\n",
    "This is just a brief introduction to OOP in Python. There are many more advanced features and techniques that you can use to create powerful and flexible programs."
   ]
  },
  {
   "cell_type": "code",
   "execution_count": null,
   "id": "a787eba0-8a70-4d66-8bc7-3d7781101672",
   "metadata": {},
   "outputs": [],
   "source": [
    "1. Create class LIbrary \n",
    "2. constructor , student name and dept\n",
    "3. Class attribute , total student count\n",
    "4. book lend, input book name , if he/she caqn lend it or not"
   ]
  },
  {
   "cell_type": "code",
   "execution_count": null,
   "id": "de359a4e-6361-4de3-9fdf-143966289c3d",
   "metadata": {},
   "outputs": [],
   "source": [
    "books = [ \n",
    "    (\"The Alchemist\", 25),\n",
    "    (\"The Da Vinci Code\", 30),\n",
    "    (\"A Brief History of Time\", 15),\n",
    "    (\"Angels & Demons\", 0),\n",
    "    (\"The Grand Design\", 0),\n",
    "    (\"1984\", 19)\n",
    "]"
   ]
  },
  {
   "cell_type": "code",
   "execution_count": 40,
   "id": "1fb20023-7670-4d0a-ae15-8a77398dac5b",
   "metadata": {},
   "outputs": [],
   "source": [
    "class Library:\n",
    "    st_count = 0\n",
    "    \n",
    "    def __init__(inst, name, dept = \"Engineering\"):\n",
    "        inst.books = [ \n",
    "            (\"The Alchemist\", 25),\n",
    "            (\"The Da Vinci Code\", 30),\n",
    "            (\"A Brief History of Time\", 15),\n",
    "            (\"Angels & Demons\", 0),\n",
    "            (\"The Grand Design\", 0),\n",
    "            (\"1984\", 19)\n",
    "        ]\n",
    "        inst.student_name = name\n",
    "        inst.department = dept\n",
    "        Library.st_count += 1\n",
    "\n",
    "    def can_burrow(inst, book_name):\n",
    "        status =[ book for name, quantity in inst.books if (name == book_name) & (quantity > 0) ]\n",
    "        if status:\n",
    "            print(\"Yes\")\n",
    "        else:\n",
    "            print(\"No\")\n",
    "        \n",
    "    @classmethod\n",
    "    def get_student_count(cls):\n",
    "        return cls.st_count\n",
    "        \n",
    "        "
   ]
  },
  {
   "cell_type": "code",
   "execution_count": 41,
   "id": "cf80101a-e295-40d3-a83d-b3f3f7f80e55",
   "metadata": {},
   "outputs": [],
   "source": [
    "std1 = Library(\"Vrit\")"
   ]
  },
  {
   "cell_type": "code",
   "execution_count": 42,
   "id": "f7bd53f8-1f3f-46c3-ac18-4c1261a4c0aa",
   "metadata": {},
   "outputs": [
    {
     "data": {
      "text/plain": [
       "1"
      ]
     },
     "execution_count": 42,
     "metadata": {},
     "output_type": "execute_result"
    }
   ],
   "source": [
    "std1.get_student_count()"
   ]
  },
  {
   "cell_type": "code",
   "execution_count": 43,
   "id": "e68f0329-377b-4825-a41e-18b13f96f69a",
   "metadata": {},
   "outputs": [
    {
     "name": "stdout",
     "output_type": "stream",
     "text": [
      "No\n"
     ]
    }
   ],
   "source": [
    "std1.can_burrow(\"The Grand Design\")"
   ]
  },
  {
   "cell_type": "code",
   "execution_count": null,
   "id": "030440f3-a0bc-447d-98e0-9aba01711b6d",
   "metadata": {},
   "outputs": [],
   "source": []
  }
 ],
 "metadata": {
  "kernelspec": {
   "display_name": "Python 3 (ipykernel)",
   "language": "python",
   "name": "python3"
  },
  "language_info": {
   "codemirror_mode": {
    "name": "ipython",
    "version": 3
   },
   "file_extension": ".py",
   "mimetype": "text/x-python",
   "name": "python",
   "nbconvert_exporter": "python",
   "pygments_lexer": "ipython3",
   "version": "3.10.12"
  }
 },
 "nbformat": 4,
 "nbformat_minor": 5
}
