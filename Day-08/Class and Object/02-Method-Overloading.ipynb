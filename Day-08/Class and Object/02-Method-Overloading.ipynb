{
 "cells": [
  {
   "cell_type": "markdown",
   "id": "648bc5ed",
   "metadata": {},
   "source": [
    "# Method Overloading in Python\n",
    "\n",
    "Method overloading is a concept in object-oriented programming where a class can have multiple methods with the same name, but with different parameters or argument types. In Python, method overloading is not supported in the same way as it is in other object-oriented programming languages such as Java or C++. However, there are some ways to achieve similar functionality in Python.\n",
    "\n",
    "One approach is to use default arguments in the method definition. For example, consider the following code:"
   ]
  },
  {
   "cell_type": "code",
   "execution_count": 1,
   "id": "3ed8eb73",
   "metadata": {},
   "outputs": [],
   "source": [
    "class Example:\n",
    "    def add(self, a, b=None, c=None):\n",
    "        if b is not None and c is not None:\n",
    "            return a + b + c\n",
    "        elif b is not None:\n",
    "            return a + b\n",
    "        else:\n",
    "            return a"
   ]
  },
  {
   "cell_type": "markdown",
   "id": "3e6b474c",
   "metadata": {},
   "source": [
    "Here, the `add` method can take one, two, or three arguments. If only one argument is passed, it returns the value of that argument. If two arguments are passed, it returns the sum of those two arguments. And if three arguments are passed, it returns the sum of all three arguments.\n",
    "\n",
    "Another approach is to use variable-length arguments, which allow a method to take an arbitrary number of arguments. This can be achieved using the `*args` and `**kwargs` syntax. For example:"
   ]
  },
  {
   "cell_type": "code",
   "execution_count": 8,
   "id": "72a4ae22",
   "metadata": {},
   "outputs": [],
   "source": [
    "class Example:\n",
    "    def add(self, *args):\n",
    "        if len(args) == 1:\n",
    "            return args[0]\n",
    "        elif len(args) == 2:\n",
    "            return args[0] + args[1]\n",
    "        elif len(args) == 3:\n",
    "            return args[0] + args[1] + args[2]\n",
    "        else:\n",
    "            return \"Cannot WOrk\""
   ]
  },
  {
   "cell_type": "code",
   "execution_count": 9,
   "id": "c1cd073d-a0a6-4082-9c3c-994921c22673",
   "metadata": {},
   "outputs": [],
   "source": [
    "ex = Example()"
   ]
  },
  {
   "cell_type": "code",
   "execution_count": 10,
   "id": "507aa059-6cab-459b-ad70-4596bd65370a",
   "metadata": {},
   "outputs": [
    {
     "data": {
      "text/plain": [
       "'Cannot WOrk'"
      ]
     },
     "execution_count": 10,
     "metadata": {},
     "output_type": "execute_result"
    }
   ],
   "source": [
    "ex.add(1,2,5,6,7)"
   ]
  },
  {
   "cell_type": "markdown",
   "id": "6e99789d",
   "metadata": {},
   "source": [
    "In this example, the `add` method takes any number of arguments, and the behavior is determined by the length of the arguments tuple.\n",
    "\n",
    "While these approaches can achieve similar functionality to method overloading, it is important to note that they are not exactly the same, and may not be suitable in all situations. It is generally recommended to use descriptive method names that reflect the intended behavior, rather than relying on overloading."
   ]
  }
 ],
 "metadata": {
  "kernelspec": {
   "display_name": "Python 3 (ipykernel)",
   "language": "python",
   "name": "python3"
  },
  "language_info": {
   "codemirror_mode": {
    "name": "ipython",
    "version": 3
   },
   "file_extension": ".py",
   "mimetype": "text/x-python",
   "name": "python",
   "nbconvert_exporter": "python",
   "pygments_lexer": "ipython3",
   "version": "3.10.12"
  },
  "vscode": {
   "interpreter": {
    "hash": "52d0895b74d46736af80307792bc794eabfd4ba41b3599b718f838e53d9478fc"
   }
  }
 },
 "nbformat": 4,
 "nbformat_minor": 5
}
