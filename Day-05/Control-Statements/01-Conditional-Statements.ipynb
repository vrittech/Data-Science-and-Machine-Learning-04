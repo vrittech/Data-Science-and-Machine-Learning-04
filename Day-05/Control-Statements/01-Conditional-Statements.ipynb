{
 "cells": [
  {
   "cell_type": "markdown",
   "id": "4cbe66f0",
   "metadata": {},
   "source": [
    "# Python Conditional statements\n",
    "\n",
    "The `if` statement is used in Python to check whether a condition is `True` or `False`, and then perform an action based on that condition. The basic syntax of the `if` statement is as follows:"
   ]
  },
  {
   "cell_type": "markdown",
   "id": "9a1d0c47",
   "metadata": {},
   "source": [
    "```python\n",
    "if condition:\n",
    "    do something\n",
    "```"
   ]
  },
  {
   "cell_type": "markdown",
   "id": "63818fd5",
   "metadata": {},
   "source": [
    "The `condition` is an expression that returns a boolean value (`True` or `False`). If the condition is `True`, then the code block that follows the `if` statement is executed. If the condition is `False`, then the code block is skipped.\n",
    "\n",
    "Here is an example of how to use the `if` statement in Python:"
   ]
  },
  {
   "cell_type": "code",
   "execution_count": 5,
   "id": "b44ead2b",
   "metadata": {},
   "outputs": [
    {
     "name": "stdout",
     "output_type": "stream",
     "text": [
      "Given Number is -10\n"
     ]
    }
   ],
   "source": [
    "x = -10\n",
    "\n",
    "if x > 0:\n",
    "    print(\"x is positive\")\n",
    "\n",
    "print(f\"Given Number is {x}\")"
   ]
  },
  {
   "cell_type": "markdown",
   "id": "650ac6b5",
   "metadata": {},
   "source": []
  },
  {
   "cell_type": "markdown",
   "id": "b1ea1470",
   "metadata": {},
   "source": [
    "In this example, the `if` statement checks whether `x` is greater than `0`. If the condition is `True`, then the code block that follows the `if` statement (which is just a print statement) is executed.\n",
    "\n",
    "Multiple conditions can be checked in an `if` statement by using logical operators like `and` and `or`. Here is an example:"
   ]
  },
  {
   "cell_type": "code",
   "execution_count": 8,
   "id": "0cb3492a",
   "metadata": {},
   "outputs": [
    {
     "name": "stdout",
     "output_type": "stream",
     "text": [
      "Both x and y are positive\n"
     ]
    }
   ],
   "source": [
    "x = 10\n",
    "y = 5\n",
    "\n",
    "if x > 0 and y > 0:\n",
    "    print(\"Both x and y are positive\")"
   ]
  },
  {
   "cell_type": "markdown",
   "id": "3159fde0",
   "metadata": {},
   "source": [
    "In this example, the `if` statement checks whether both `x` and `y` are greater than `0`. If the condition is `True`, then the code block that follows the `if` statement is executed.\n",
    "\n",
    "The `if` statement can also be followed by an `else` clause, which is executed if the condition is `False`. Here is an example:"
   ]
  },
  {
   "cell_type": "code",
   "execution_count": 11,
   "id": "ea39056d",
   "metadata": {},
   "outputs": [
    {
     "name": "stdout",
     "output_type": "stream",
     "text": [
      "number is neg\n"
     ]
    }
   ],
   "source": [
    "x = -10\n",
    "\n",
    "if x > 0:\n",
    "    print(\"number is pos\")\n",
    "    \n",
    "else:\n",
    "    print(\"number is neg\")\n",
    "    "
   ]
  },
  {
   "cell_type": "markdown",
   "id": "f2bfefb4",
   "metadata": {},
   "source": [
    "In this example, the `if` statement checks whether `x` is greater than `0`. If the condition is `True`, then the first print statement is executed. If the condition is `False`, then the code block that follows the `else` statement (which is the second print statement) is executed.\n",
    "\n",
    "In addition to the `else` clause, the `if` statement can also be followed by an `elif` (short for \"else if\") clause, which allows for multiple conditions to be checked. Here is an example:"
   ]
  },
  {
   "cell_type": "code",
   "execution_count": 12,
   "id": "c0c66927",
   "metadata": {},
   "outputs": [
    {
     "name": "stdout",
     "output_type": "stream",
     "text": [
      "x is positive\n"
     ]
    }
   ],
   "source": [
    "x = 10\n",
    "\n",
    "if x < 0:\n",
    "    print(\"x is negative\")\n",
    "    \n",
    "elif x == 0:\n",
    "    print(\"x is zero\")\n",
    "    \n",
    "else:\n",
    "    print(\"x is positive\")"
   ]
  },
  {
   "cell_type": "markdown",
   "id": "7f8d530e",
   "metadata": {},
   "source": [
    "We used a single `elif` statement here but it can be followed by multiple other `elif` statements with different possible conditions as:\n"
   ]
  },
  {
   "cell_type": "markdown",
   "id": "903a8a3b",
   "metadata": {},
   "source": [
    "```python\n",
    "if condition 1:\n",
    "    do something\n",
    "elif condition 2:\n",
    "    do something\n",
    "...\n",
    "...\n",
    "elif condition n:\n",
    "    do something\n",
    "else:\n",
    "    do something\n",
    "```"
   ]
  },
  {
   "cell_type": "markdown",
   "id": "11f03a35",
   "metadata": {},
   "source": [
    "Question 1: WAP to check if number is positive , negative or zero."
   ]
  },
  {
   "cell_type": "code",
   "execution_count": 17,
   "id": "025a2331-ee40-4161-9e3d-9cd21588ebf1",
   "metadata": {},
   "outputs": [
    {
     "name": "stdin",
     "output_type": "stream",
     "text": [
      "Enter a number 200\n"
     ]
    },
    {
     "name": "stdout",
     "output_type": "stream",
     "text": [
      "Given number 200 is positive\n",
      "Higher positive number\n"
     ]
    }
   ],
   "source": [
    "x = int(input(\"Enter a number\"))\n",
    "\n",
    "if x > 0:\n",
    "    print(f\"Given number {x} is positive\")\n",
    "    if x >= 100:\n",
    "        print(\"Higher positive number\")\n",
    "    else:\n",
    "        print(\"Lower positive number\")\n",
    "        \n",
    "elif x < 0:\n",
    "    print(f\"Given number {x} is negative\")\n",
    "else:\n",
    "    print(f\"Given number {x} is zero\")"
   ]
  },
  {
   "cell_type": "markdown",
   "id": "8db35b48",
   "metadata": {},
   "source": [
    "## Question 2: WAP to grade a number (100-80) Grade A, (80-60) Grade B , (60-40) Grade C and less than 40 Grade D."
   ]
  },
  {
   "cell_type": "code",
   "execution_count": 16,
   "id": "87d41449-521d-466f-b525-baba3ca81b4b",
   "metadata": {},
   "outputs": [
    {
     "name": "stdin",
     "output_type": "stream",
     "text": [
      "Enter your marks. 50\n"
     ]
    },
    {
     "name": "stdout",
     "output_type": "stream",
     "text": [
      "Grade C\n"
     ]
    }
   ],
   "source": [
    "#Assignment\n",
    "\n",
    "marks = int(input(\"Enter your marks.\"))\n",
    "\n",
    "if marks <= 100 and marks > 80:    \n",
    "    print(\"Grade A\")\n",
    "    \n",
    "elif marks <= 80 and marks > 60:    \n",
    "    print(\"Grade B\")\n",
    "    \n",
    "elif marks <= 60 and marks> 40:    \n",
    "    print(\"Grade C\") \n",
    "\n",
    "else:\n",
    "    print(\"Grade D\")"
   ]
  },
  {
   "cell_type": "markdown",
   "id": "f9cf74f4",
   "metadata": {},
   "source": []
  }
 ],
 "metadata": {
  "kernelspec": {
   "display_name": "Python 3 (ipykernel)",
   "language": "python",
   "name": "python3"
  },
  "language_info": {
   "codemirror_mode": {
    "name": "ipython",
    "version": 3
   },
   "file_extension": ".py",
   "mimetype": "text/x-python",
   "name": "python",
   "nbconvert_exporter": "python",
   "pygments_lexer": "ipython3",
   "version": "3.10.12"
  }
 },
 "nbformat": 4,
 "nbformat_minor": 5
}
