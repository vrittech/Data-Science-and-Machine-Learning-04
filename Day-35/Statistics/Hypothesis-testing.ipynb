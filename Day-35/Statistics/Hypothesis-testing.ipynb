{
 "cells": [
  {
   "cell_type": "markdown",
   "id": "aee2b196-0b6f-4cc6-bdd6-2d933d0f0f9f",
   "metadata": {},
   "source": [
    "## Hypothesis Testing"
   ]
  },
  {
   "cell_type": "markdown",
   "id": "bc92130a-8b46-4a0c-8f5a-5e310fb9b44d",
   "metadata": {},
   "source": [
    "Hypothesis testing is a statistical technique used to make decisions or draw conclusions about a population based on sample data. It involves formulating two competing hypotheses, the null hypothesis ($H_0$) and the alternative hypothesis ($H_1$), and using statistical methods to evaluate the evidence in favor of one hypothesis over the other.\n",
    "\n",
    "The goal of hypothesis testing is to determine whether the observed data provides enough evidence to reject the null hypothesis in favor of the alternative hypothesis, or whether the data is not statistically significant enough to reject the null hypothesis."
   ]
  },
  {
   "cell_type": "markdown",
   "id": "0e9d7611-6184-47cc-bbd7-e9cd379246aa",
   "metadata": {},
   "source": [
    "## Steps of Hypothesis Testing"
   ]
  },
  {
   "cell_type": "markdown",
   "id": "d4fdf1fe-1734-49fc-bb15-ecfc7d22f34d",
   "metadata": {},
   "source": [
    "### Step 1 : Formulate the Null and Alternative Hypotheses"
   ]
  },
  {
   "cell_type": "markdown",
   "id": "6e846504-4f0e-4fb8-9a40-2aeb17e2b4dd",
   "metadata": {},
   "source": [
    "The null hypothesis ($H_0$) represents the default assumption or the claim to be tested. The alternative hypothesis ($H_1$) represents the opposite or competing claim.\n",
    "\n",
    "For example, let's consider a situation where we want to test whether the mean weight of a population is equal to a specific value, say $\\mu_0$. The hypotheses can be formulated as:\n",
    "\n",
    "Null Hypothesis ($H_0$): The mean weight of the population is equal to $\\mu_0$.\n",
    "\n",
    "Alternative Hypothesis ($H_1$): The mean weight of the population is not equal to $\\mu_0$."
   ]
  },
  {
   "cell_type": "markdown",
   "id": "e571dd29-18ed-4908-a26a-6af10e11b6de",
   "metadata": {},
   "source": [
    "### Step 2 : Choose the significance Level ($\\alpha$)"
   ]
  },
  {
   "cell_type": "markdown",
   "id": "b5d0179d-f697-4749-a365-2b1a49bf205c",
   "metadata": {},
   "source": [
    "The significance level, denoted by $\\alpha$, represents the probability of rejecting the null hypothesis when it is actually true. It determines the threshold for considering evidence against the null hypothesis.\n",
    "\n",
    "Commonly used values for $\\alpha$ are 0.05 (5%) and 0.01 (1%). The choice of the significance level depends on the desired balance between Type I and Type II errors (discussed later)."
   ]
  },
  {
   "cell_type": "markdown",
   "id": "d931762f-e259-4397-9756-d4415a5d1f47",
   "metadata": {},
   "source": [
    "### Step 3: Determine the Rejection Region"
   ]
  },
  {
   "cell_type": "markdown",
   "id": "cbe73cc9-3e65-44f3-8fc6-6ca9f68dda53",
   "metadata": {},
   "source": [
    "The rejection region is the range of values of the test statistic that leads to the rejection of the null hypothesis. It is determined based on the chosen significance level and the distribution of the test statistic under the null hypothesis.\n",
    "\n",
    "For a two-tailed test (testing for inequality), the rejection region consists of extreme values both in the left and right tails of the distribution. For a one-tailed test (testing for inequality in a specific direction), the rejection region is defined on either the left or right tail."
   ]
  },
  {
   "cell_type": "markdown",
   "id": "66ad6d57-8beb-4ee3-834b-f4341f4f1e63",
   "metadata": {},
   "source": [
    "### Step 4: Select the Test Statistics"
   ]
  },
  {
   "cell_type": "markdown",
   "id": "859b205f-2adc-40b4-b129-10b3c3dc857d",
   "metadata": {},
   "source": [
    "The test statistic is a numerical value computed from the sample data that is used to assess the evidence against the null hypothesis. The choice of the test statistic depends on the nature of the hypothesis being tested and the characteristics of the population distribution.\n",
    "\n",
    "For example, if we are testing the mean of a population when the population standard deviation is known, the appropriate test statistic is the z-score. If the population standard deviation is unknown and needs to be estimated from the sample, the t-score is used."
   ]
  },
  {
   "cell_type": "markdown",
   "id": "546d0307-11af-4b35-bff2-e4fb07b75ce0",
   "metadata": {},
   "source": [
    "### Step 5: Compute the Test Statistics and P-value"
   ]
  },
  {
   "cell_type": "markdown",
   "id": "cb7bc830-eca1-4ce0-b8dc-cb1ee852db47",
   "metadata": {},
   "source": [
    "Using the sample data, compute the value of the test statistic. Then, calculate the probability, known as the p-value, of obtaining a test statistic as extreme as or more extreme than the observed value, assuming the null hypothesis is true.\n",
    "\n",
    "The p-value represents the strength of evidence against the null hypothesis. A small p-value suggests that the observed data is unlikely to occur if the null hypothesis is true, thus providing evidence in favor of the alternative hypothesis."
   ]
  },
  {
   "cell_type": "markdown",
   "id": "7779d7aa-665f-49da-b99d-273c7aa0ed3b",
   "metadata": {},
   "source": [
    "### Step 6: Make a Decision"
   ]
  },
  {
   "cell_type": "markdown",
   "id": "9da42993-148f-49fe-97fc-8ddb794f07c2",
   "metadata": {},
   "source": [
    "Compare the p-value with the significance level. If the p-value is less than or equal to the significance level ($\\alpha$), reject the null hypothesis. Otherwise, fail to reject the null hypothesis."
   ]
  },
  {
   "cell_type": "markdown",
   "id": "4a010e89-5019-4529-b85c-67e401b91449",
   "metadata": {},
   "source": [
    "### Step 7 : Draw Conclusion"
   ]
  },
  {
   "cell_type": "markdown",
   "id": "412aee94-b64e-498e-8bc7-8b41177b1381",
   "metadata": {},
   "source": [
    "Based on the decision made in Step 6, draw conclusions about the population based on the sample data. If the null hypothesis is rejected, it suggests that there is evidence in favor of the alternative hypothesis. If the null hypothesis is not rejected, there is insufficient evidence to support the alternative hypothesis."
   ]
  },
  {
   "cell_type": "code",
   "execution_count": null,
   "id": "ebee98d7-8feb-4181-b46f-c0351abc9a38",
   "metadata": {},
   "outputs": [],
   "source": []
  },
  {
   "cell_type": "markdown",
   "id": "a25782f1-1701-4481-8db5-f147461b502b",
   "metadata": {},
   "source": [
    "## Whai is P-value ?"
   ]
  },
  {
   "cell_type": "markdown",
   "id": "faca6e98-9f8a-438f-a027-73112a8b7a5c",
   "metadata": {},
   "source": [
    "The p-value is a probability that measures the strength of evidence against the null hypothesis. It represents the probability of obtaining a test statistic as extreme as or more extreme than the observed value, assuming the null hypothesis is true."
   ]
  },
  {
   "cell_type": "markdown",
   "id": "0b2ac1f8-fda8-4cb8-9da0-7270f33b115c",
   "metadata": {},
   "source": [
    "If the p-value is small (typically below a predetermined significance level), it suggests that the observed data is unlikely to occur if the null hypothesis is true, providing evidence in favor of the alternative hypothesis.\n",
    "\n",
    "- If the p-value is less than or equal to the significance level ($\\alpha$), we reject the null hypothesis.\n",
    "- If the p-value is greater than the significance level ($\\alpha$), we fail to reject the null hypothesis."
   ]
  },
  {
   "cell_type": "markdown",
   "id": "d4d066d0-2bb4-4c40-909a-d2c484fd9500",
   "metadata": {},
   "source": [
    "The p-value is calculated differently depending on the specific test being conducted. \n",
    "\n",
    "For example, in a z-test for a population mean, the p-value can be calculated using the cumulative distribution function (CDF) of the standard normal distribution. For our case we have the formula as:\n",
    "\n",
    "\\begin{equation}\n",
    "p\\_value = 2 * (1 - stats.norm.cdf(np.abs(z\\_score)))\n",
    "\\end{equation}"
   ]
  },
  {
   "cell_type": "markdown",
   "id": "03a6494a-a1e9-4d57-8cac-0c081a4c4deb",
   "metadata": {},
   "source": [
    "Let's break down the formula step by step:\n",
    "\n",
    "- `np.abs(z_score)`: This calculates the absolute value of the z-score. The z-score measures how many standard deviations an observation is away from the mean. Taking the absolute value ensures that we get the positive distance from the mean.\n",
    "\n",
    "- `stats.norm.cdf(np.abs(z_score))`: This calculates the cumulative distribution function (CDF) of the standard normal distribution up to the absolute value of the z-score. The CDF gives the probability that a random variable from a standard normal distribution is less than or equal to a given value.\n",
    "\n",
    "- `1 - stats.norm.cdf(np.abs(z_score))`: This calculates the probability that a random variable from a standard normal distribution is greater than the absolute value of the z-score. This represents the probability of observing a value as extreme or more extreme than the one represented by the z-score.\n",
    "\n",
    "- `2 * (1 - stats.norm.cdf(np.abs(z_score)))`: Finally, this formula doubles the probability calculated in step 3. This is done because we are interested in a two-tailed test, where we consider both the possibility of observing a value as extreme as the one represented by the z-score in either tail of the distribution."
   ]
  },
  {
   "cell_type": "markdown",
   "id": "0e469c69-92b0-490c-a207-e0ae44bbccd5",
   "metadata": {},
   "source": []
  },
  {
   "cell_type": "markdown",
   "id": "259da0b5-e3b7-49ae-92c0-11bcb967ce2d",
   "metadata": {},
   "source": [
    "## Example: Hypothesis Testing for Mean"
   ]
  },
  {
   "cell_type": "code",
   "execution_count": 1,
   "id": "f85fe0d2-6e0b-49c1-9490-5a39af95f2f2",
   "metadata": {},
   "outputs": [],
   "source": [
    "import numpy as np\n",
    "import matplotlib.pyplot as plt\n",
    "import scipy.stats as stats"
   ]
  },
  {
   "cell_type": "markdown",
   "id": "78ae10ab-d615-40b4-abab-280defb8a979",
   "metadata": {},
   "source": [
    "### Step 1 :\n",
    "\n",
    "- **Null Hypothesis ($H_0$):** The mean weight of the population is equal to $\\mu_0$.\n",
    "- **Alternative Hypothesis ($H_1$):** The mean weight of the population is not equal to $\\mu_0$.\n",
    "\n",
    "### Step 2: \n",
    "Let's choose a significance level of $\\alpha = 0.05$.\n",
    "\n",
    "### Step 3:\n",
    "For a two-tailed test with a significance level of $\\alpha = 0.05$, the rejection region consists of extreme values in both the left and right tails of the standard normal distribution.\n",
    "\n",
    "### Step 4:\n",
    "Since we have the population standard deviation available, we will use the z-test statistic.\n",
    "The z-test statistic is calculated as:\n",
    "\n",
    "\\begin{equation}\n",
    "​Z = \\frac{{\\bar{X} - \\mu}}{{\\sigma / \\sqrt{n}}}\n",
    "\\end{equation}\n",
    "\n",
    "where $\\bar{X}$ is the sample mean, $\\mu_0$ is the hypothesized mean, $\\sigma$ is the population standard deviation, and $n$ is the sample size."
   ]
  },
  {
   "cell_type": "code",
   "execution_count": 2,
   "id": "9add8686-5976-416a-979c-81bf6f316bb0",
   "metadata": {},
   "outputs": [
    {
     "data": {
      "image/png": "[encoded data removed]",
      "text/plain": [
       "<Figure size 800x600 with 1 Axes>"
      ]
     },
     "metadata": {},
     "output_type": "display_data"
    }
   ],
   "source": [
    "x = np.linspace(-3,3, 2000)\n",
    "z_critical = stats.norm.ppf(1 - 0.05/2)\n",
    "\n",
    "\n",
    "plt.figure(figsize = (8,6))\n",
    "\n",
    "plt.plot(x, stats.norm.pdf(x), 'black', lw=2, label='Standard Normal Distribution')\n",
    "\n",
    "plt.fill_between(\n",
    "    x, stats.norm.pdf(x), where = (x <= -z_critical) | (x >= z_critical), color=\"red\",\n",
    "    alpha=0.3, label= \"Rejection Region\"\n",
    ")\n",
    "\n",
    "plt.title(\"Standard Normal Distribution with Rejection Region\")\n",
    "plt.xlabel('Z-Score')\n",
    "plt.ylabel('Density')\n",
    "plt.legend()\n",
    "plt.show()"
   ]
  },
  {
   "cell_type": "markdown",
   "id": "61b8ce45-be0c-437d-b773-e6a6339fdb51",
   "metadata": {},
   "source": [
    "### Step 5: Compute the Test Statistics and P-value"
   ]
  },
  {
   "cell_type": "code",
   "execution_count": 13,
   "id": "e7a28997-e53e-4201-9778-f184e4c1ca48",
   "metadata": {},
   "outputs": [
    {
     "name": "stdout",
     "output_type": "stream",
     "text": [
      "0.0\n"
     ]
    }
   ],
   "source": [
    "sample = [150,160,170,180, 155, 165,175]\n",
    "\n",
    "sample_mean = np.mean(sample)\n",
    "sample_std = np.std(sample, ddof =1 )\n",
    "sample_size = len(sample)\n",
    "\n",
    "mu_0 = 120\n",
    "\n",
    "z_score = (sample_mean - mu_0) / (sample_std / np.sqrt(sample_size))\n",
    "\n",
    "p_value = 2 * (1 - stats.norm.cdf(np.abs(z_score)))\n",
    "\n",
    "print(p_value)"
   ]
  },
  {
   "cell_type": "markdown",
   "id": "0736a8ec-5032-444d-8881-fbb74d799895",
   "metadata": {},
   "source": [
    "### Step 6: Make a Decision"
   ]
  },
  {
   "cell_type": "code",
   "execution_count": 7,
   "id": "d2359e5f-a027-4986-a5c9-a0a7acab2564",
   "metadata": {},
   "outputs": [
    {
     "name": "stdout",
     "output_type": "stream",
     "text": [
      "Failt to reject H0\n"
     ]
    }
   ],
   "source": [
    "if p_value <= 0.05:\n",
    "    decision = \"Reject H0\"\n",
    "else:\n",
    "    decision = \"Failt to reject H0\"\n",
    "\n",
    "print(decision)"
   ]
  },
  {
   "cell_type": "code",
   "execution_count": 8,
   "id": "67f04c8f-1300-42c8-910e-1ac1b4c9e414",
   "metadata": {},
   "outputs": [
    {
     "name": "stdout",
     "output_type": "stream",
     "text": [
      "There is insufficient evidence to support that the mean weight is different from 167.\n"
     ]
    }
   ],
   "source": [
    "if p_value <= 0.05:\n",
    "    conclusion = f'There is evidence to support that the mean weight is different from {mu_0}.'\n",
    "else:\n",
    "    conclusion = f'There is insufficient evidence to support that the mean weight is different from {mu_0}.'\n",
    "\n",
    "print(conclusion)"
   ]
  },
  {
   "cell_type": "code",
   "execution_count": null,
   "id": "587d4ecd-3bff-4921-8787-27df39b25521",
   "metadata": {},
   "outputs": [],
   "source": []
  }
 ],
 "metadata": {
  "kernelspec": {
   "display_name": "Python 3 (ipykernel)",
   "language": "python",
   "name": "python3"
  },
  "language_info": {
   "codemirror_mode": {
    "name": "ipython",
    "version": 3
   },
   "file_extension": ".py",
   "mimetype": "text/x-python",
   "name": "python",
   "nbconvert_exporter": "python",
   "pygments_lexer": "ipython3",
   "version": "3.10.12"
  }
 },
 "nbformat": 4,
 "nbformat_minor": 5
}
