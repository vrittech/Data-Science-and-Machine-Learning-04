{
 "cells": [
  {
   "cell_type": "code",
   "execution_count": 2,
   "id": "ec0e091c-0297-4610-8a0c-ac9d00f116c1",
   "metadata": {},
   "outputs": [],
   "source": [
    "import pandas as pd\n",
    "dataframe = pd.read_csv(\"clean_data.csv\")"
   ]
  },
  {
   "cell_type": "markdown",
   "id": "75785477-420b-45d7-8798-ee6df6559de1",
   "metadata": {},
   "source": [
    "## Handling data normalization"
   ]
  },
  {
   "cell_type": "markdown",
   "id": "841b68fc-d624-4692-bec1-1f1cb2f4cf3b",
   "metadata": {},
   "source": [
    "Data normalization is the process of transforming data into a common scale or range, to eliminate differences in magnitude and make the data more comparable and interpretable. Normalization is an important step in data preprocessing, as it can improve the accuracy and performance of machine learning models and other data analysis techniques."
   ]
  },
  {
   "cell_type": "markdown",
   "id": "69da876a-c2c8-4577-940a-d91303081c1e",
   "metadata": {},
   "source": [
    "**ETL (extract, transform, load) integration:** This involves extracting data from different sources, transforming it to meet the needs of the target system, and loading it into a target database or data warehouse. ETL tools are commonly used to automate this process, making it more efficient and less error-prone. Python has several powerful ETL tools like `Apache Nifi`, `Apache Airflow`, and `Apache Beam`. These tools allow developers to extract data from various sources, perform transformations, and load it into a target database or data warehouse."
   ]
  },
  {
   "cell_type": "markdown",
   "id": "7a5a6513-2ac3-40bf-be79-bf4faae93a9a",
   "metadata": {},
   "source": [
    "1. **Min-Max Normalization**\n",
    "\n",
    "This method scales the data to a fixed range, typically between 0 and 1. The formula for min-max normalization is:\n",
    "\n",
    "```python\n",
    "x_norm = (x - x_min) / (x_max - x_min)\n",
    "```"
   ]
  },
  {
   "cell_type": "code",
   "execution_count": 3,
   "id": "a5c1829c-65af-4bfa-a337-8c9512565b45",
   "metadata": {},
   "outputs": [],
   "source": [
    "sales_min = dataframe['sales'].min()\n",
    "sales_max= dataframe['sales'].max()"
   ]
  },
  {
   "cell_type": "code",
   "execution_count": 7,
   "id": "5585dc4e-6a10-4090-b674-d8ee201eb32f",
   "metadata": {},
   "outputs": [],
   "source": [
    "sales_norm = (dataframe['sales'] - sales_min) / (sales_max -sales_min)"
   ]
  },
  {
   "cell_type": "code",
   "execution_count": 9,
   "id": "c9d5e695-8832-420e-99f5-495ac66e902c",
   "metadata": {},
   "outputs": [
    {
     "data": {
      "text/plain": [
       "count    85870.000000\n",
       "mean         0.015259\n",
       "std          0.054357\n",
       "min          0.000000\n",
       "25%          0.000738\n",
       "50%          0.003694\n",
       "75%          0.011074\n",
       "max          1.000000\n",
       "Name: sales, dtype: float64"
      ]
     },
     "execution_count": 9,
     "metadata": {},
     "output_type": "execute_result"
    }
   ],
   "source": [
    "sales_norm.describe()"
   ]
  },
  {
   "cell_type": "code",
   "execution_count": 10,
   "id": "c094be1a-15e2-48b7-87a8-093f13e0bf22",
   "metadata": {},
   "outputs": [
    {
     "data": {
      "text/plain": [
       "count     85870.000000\n",
       "mean       5980.048970\n",
       "std       21302.453181\n",
       "min           0.000000\n",
       "25%         289.144572\n",
       "50%        1447.518085\n",
       "75%        4339.950965\n",
       "max      391900.008970\n",
       "Name: sales, dtype: float64"
      ]
     },
     "execution_count": 10,
     "metadata": {},
     "output_type": "execute_result"
    }
   ],
   "source": [
    "dataframe['sales'].describe()"
   ]
  },
  {
   "cell_type": "code",
   "execution_count": null,
   "id": "d9841d05-98e5-471f-92c9-3ef9834860f7",
   "metadata": {},
   "outputs": [],
   "source": []
  }
 ],
 "metadata": {
  "kernelspec": {
   "display_name": "Python 3 (ipykernel)",
   "language": "python",
   "name": "python3"
  },
  "language_info": {
   "codemirror_mode": {
    "name": "ipython",
    "version": 3
   },
   "file_extension": ".py",
   "mimetype": "text/x-python",
   "name": "python",
   "nbconvert_exporter": "python",
   "pygments_lexer": "ipython3",
   "version": "3.10.12"
  }
 },
 "nbformat": 4,
 "nbformat_minor": 5
}
