{
 "cells": [
  {
   "cell_type": "markdown",
   "id": "409d15a3-5553-464c-b384-de432f4ebb54",
   "metadata": {},
   "source": [
    "The dataset includes eight key variables:\n",
    "\n",
    "- year: The year of the observation\n",
    "- month: The month of the observation\n",
    "- stateDescription: The name of the state\n",
    "- sectorName: The sector of the electricity market (residential, commercial, industrial, other, or all sectors)\n",
    "- customers: The number of customers (missing for some observations)\n",
    "- price: The average price of electricity per kilowatt-hour (kWh) in cents\n",
    "- revenue: The total revenue generated from electricity sales in millions of dollars\n",
    "- sales: The total electricity sales in millions of kilowatt-hours (kWh)\n"
   ]
  },
  {
   "cell_type": "code",
   "execution_count": 1,
   "id": "3be085b4-44a2-4350-aebc-954cb122bb17",
   "metadata": {},
   "outputs": [],
   "source": [
    "import pandas as pd"
   ]
  },
  {
   "cell_type": "markdown",
   "id": "ff2b4181-e8f8-4a0e-8533-32a6cd67193c",
   "metadata": {},
   "source": [
    "dataframe = pd.DataFrame(\n",
    "   Any\n",
    ")\n",
    "\n",
    "**Series and Dataframe**"
   ]
  },
  {
   "cell_type": "code",
   "execution_count": 2,
   "id": "90068855-e165-42a8-a5ad-a5a62ff12f96",
   "metadata": {},
   "outputs": [],
   "source": [
    "dataframe = pd.read_csv(\"clean_data.csv\")"
   ]
  },
  {
   "cell_type": "code",
   "execution_count": 3,
   "id": "d09f6422-0c52-4b7b-87d6-3626642bcb0d",
   "metadata": {},
   "outputs": [
    {
     "data": {
      "text/html": [
       "<div>\n",
       "<style scoped>\n",
       "    .dataframe tbody tr th:only-of-type {\n",
       "        vertical-align: middle;\n",
       "    }\n",
       "\n",
       "    .dataframe tbody tr th {\n",
       "        vertical-align: top;\n",
       "    }\n",
       "\n",
       "    .dataframe thead th {\n",
       "        text-align: right;\n",
       "    }\n",
       "</style>\n",
       "<table border=\"1\" class=\"dataframe\">\n",
       "  <thead>\n",
       "    <tr style=\"text-align: right;\">\n",
       "      <th></th>\n",
       "      <th>year</th>\n",
       "      <th>month</th>\n",
       "      <th>stateDescription</th>\n",
       "      <th>sectorName</th>\n",
       "      <th>customers</th>\n",
       "      <th>price</th>\n",
       "      <th>revenue</th>\n",
       "      <th>sales</th>\n",
       "    </tr>\n",
       "  </thead>\n",
       "  <tbody>\n",
       "    <tr>\n",
       "      <th>0</th>\n",
       "      <td>2001</td>\n",
       "      <td>1</td>\n",
       "      <td>Wyoming</td>\n",
       "      <td>all sectors</td>\n",
       "      <td>NaN</td>\n",
       "      <td>4.31</td>\n",
       "      <td>48.12840</td>\n",
       "      <td>1116.17208</td>\n",
       "    </tr>\n",
       "    <tr>\n",
       "      <th>1</th>\n",
       "      <td>2001</td>\n",
       "      <td>1</td>\n",
       "      <td>Wyoming</td>\n",
       "      <td>commercial</td>\n",
       "      <td>NaN</td>\n",
       "      <td>5.13</td>\n",
       "      <td>12.67978</td>\n",
       "      <td>247.08691</td>\n",
       "    </tr>\n",
       "    <tr>\n",
       "      <th>2</th>\n",
       "      <td>2001</td>\n",
       "      <td>1</td>\n",
       "      <td>Wyoming</td>\n",
       "      <td>industrial</td>\n",
       "      <td>NaN</td>\n",
       "      <td>3.26</td>\n",
       "      <td>19.60858</td>\n",
       "      <td>602.30484</td>\n",
       "    </tr>\n",
       "    <tr>\n",
       "      <th>3</th>\n",
       "      <td>2001</td>\n",
       "      <td>1</td>\n",
       "      <td>Wyoming</td>\n",
       "      <td>other</td>\n",
       "      <td>NaN</td>\n",
       "      <td>4.75</td>\n",
       "      <td>0.76868</td>\n",
       "      <td>16.17442</td>\n",
       "    </tr>\n",
       "    <tr>\n",
       "      <th>4</th>\n",
       "      <td>2001</td>\n",
       "      <td>1</td>\n",
       "      <td>Wyoming</td>\n",
       "      <td>residential</td>\n",
       "      <td>NaN</td>\n",
       "      <td>6.01</td>\n",
       "      <td>15.07136</td>\n",
       "      <td>250.60591</td>\n",
       "    </tr>\n",
       "  </tbody>\n",
       "</table>\n",
       "</div>"
      ],
      "text/plain": [
       "   year  month stateDescription   sectorName  customers  price   revenue  \\\n",
       "0  2001      1          Wyoming  all sectors        NaN   4.31  48.12840   \n",
       "1  2001      1          Wyoming   commercial        NaN   5.13  12.67978   \n",
       "2  2001      1          Wyoming   industrial        NaN   3.26  19.60858   \n",
       "3  2001      1          Wyoming        other        NaN   4.75   0.76868   \n",
       "4  2001      1          Wyoming  residential        NaN   6.01  15.07136   \n",
       "\n",
       "        sales  \n",
       "0  1116.17208  \n",
       "1   247.08691  \n",
       "2   602.30484  \n",
       "3    16.17442  \n",
       "4   250.60591  "
      ]
     },
     "execution_count": 3,
     "metadata": {},
     "output_type": "execute_result"
    }
   ],
   "source": [
    "dataframe.head()"
   ]
  },
  {
   "cell_type": "code",
   "execution_count": 5,
   "id": "e4e2ce4b-5ba7-4a42-bdfe-610793e057a2",
   "metadata": {},
   "outputs": [
    {
     "name": "stdout",
     "output_type": "stream",
     "text": [
      "<class 'pandas.core.frame.DataFrame'>\n",
      "RangeIndex: 85870 entries, 0 to 85869\n",
      "Data columns (total 8 columns):\n",
      " #   Column            Non-Null Count  Dtype  \n",
      "---  ------            --------------  -----  \n",
      " 0   year              85870 non-null  int64  \n",
      " 1   month             85870 non-null  int64  \n",
      " 2   stateDescription  85870 non-null  object \n",
      " 3   sectorName        85870 non-null  object \n",
      " 4   customers         59830 non-null  float64\n",
      " 5   price             85870 non-null  float64\n",
      " 6   revenue           85870 non-null  float64\n",
      " 7   sales             85870 non-null  float64\n",
      "dtypes: float64(4), int64(2), object(2)\n",
      "memory usage: 5.2+ MB\n"
     ]
    }
   ],
   "source": [
    "dataframe.info()"
   ]
  },
  {
   "cell_type": "code",
   "execution_count": 7,
   "id": "fe427978-7088-478e-85fa-947e52d7e8f8",
   "metadata": {},
   "outputs": [
    {
     "data": {
      "text/plain": [
       "sectorName\n",
       "all sectors       17174\n",
       "commercial        17174\n",
       "industrial        17174\n",
       "residential       17174\n",
       "transportation    15686\n",
       "other              1488\n",
       "Name: count, dtype: int64"
      ]
     },
     "execution_count": 7,
     "metadata": {},
     "output_type": "execute_result"
    }
   ],
   "source": [
    "dataframe['sectorName'].value_counts()"
   ]
  },
  {
   "cell_type": "code",
   "execution_count": 24,
   "id": "be4cc6b3-3d45-41b6-93da-829198e1d83e",
   "metadata": {},
   "outputs": [
    {
     "data": {
      "text/plain": [
       "sectorName\n",
       "all sectors       142615.19905\n",
       "commercial         43204.16504\n",
       "industrial         46823.36502\n",
       "residential        52552.77000\n",
       "transportation        34.89901\n",
       "Name: sales, dtype: float64"
      ]
     },
     "execution_count": 24,
     "metadata": {},
     "output_type": "execute_result"
    }
   ],
   "source": [
    "# Year 2020, State Ohio , in different sectors , mean revenue ?\n",
    "\n",
    "ohio_2020_df = dataframe[(dataframe['stateDescription'] == 'Ohio') & (dataframe['year'] == 2020)]\n",
    "ohio_2020_df.groupby('sectorName')['sales'].sum()"
   ]
  },
  {
   "cell_type": "code",
   "execution_count": 37,
   "id": "5f366d15-9147-422b-bbae-b0d6d9a48761",
   "metadata": {},
   "outputs": [
    {
     "data": {
      "text/html": [
       "<div>\n",
       "<style scoped>\n",
       "    .dataframe tbody tr th:only-of-type {\n",
       "        vertical-align: middle;\n",
       "    }\n",
       "\n",
       "    .dataframe tbody tr th {\n",
       "        vertical-align: top;\n",
       "    }\n",
       "\n",
       "    .dataframe thead th {\n",
       "        text-align: right;\n",
       "    }\n",
       "</style>\n",
       "<table border=\"1\" class=\"dataframe\">\n",
       "  <thead>\n",
       "    <tr style=\"text-align: right;\">\n",
       "      <th></th>\n",
       "      <th>month</th>\n",
       "      <th>year</th>\n",
       "    </tr>\n",
       "  </thead>\n",
       "  <tbody>\n",
       "    <tr>\n",
       "      <th>0</th>\n",
       "      <td>1</td>\n",
       "      <td>2001</td>\n",
       "    </tr>\n",
       "    <tr>\n",
       "      <th>1</th>\n",
       "      <td>1</td>\n",
       "      <td>2001</td>\n",
       "    </tr>\n",
       "    <tr>\n",
       "      <th>2</th>\n",
       "      <td>1</td>\n",
       "      <td>2001</td>\n",
       "    </tr>\n",
       "    <tr>\n",
       "      <th>3</th>\n",
       "      <td>1</td>\n",
       "      <td>2001</td>\n",
       "    </tr>\n",
       "    <tr>\n",
       "      <th>4</th>\n",
       "      <td>1</td>\n",
       "      <td>2001</td>\n",
       "    </tr>\n",
       "    <tr>\n",
       "      <th>5</th>\n",
       "      <td>1</td>\n",
       "      <td>2001</td>\n",
       "    </tr>\n",
       "    <tr>\n",
       "      <th>6</th>\n",
       "      <td>1</td>\n",
       "      <td>2001</td>\n",
       "    </tr>\n",
       "    <tr>\n",
       "      <th>7</th>\n",
       "      <td>1</td>\n",
       "      <td>2001</td>\n",
       "    </tr>\n",
       "    <tr>\n",
       "      <th>8</th>\n",
       "      <td>1</td>\n",
       "      <td>2001</td>\n",
       "    </tr>\n",
       "    <tr>\n",
       "      <th>9</th>\n",
       "      <td>1</td>\n",
       "      <td>2001</td>\n",
       "    </tr>\n",
       "    <tr>\n",
       "      <th>10</th>\n",
       "      <td>1</td>\n",
       "      <td>2001</td>\n",
       "    </tr>\n",
       "  </tbody>\n",
       "</table>\n",
       "</div>"
      ],
      "text/plain": [
       "    month  year\n",
       "0       1  2001\n",
       "1       1  2001\n",
       "2       1  2001\n",
       "3       1  2001\n",
       "4       1  2001\n",
       "5       1  2001\n",
       "6       1  2001\n",
       "7       1  2001\n",
       "8       1  2001\n",
       "9       1  2001\n",
       "10      1  2001"
      ]
     },
     "execution_count": 37,
     "metadata": {},
     "output_type": "execute_result"
    }
   ],
   "source": [
    "dataframe.loc[0:10,['month','year']]"
   ]
  },
  {
   "cell_type": "markdown",
   "id": "a6615aca-897f-4ba4-8a29-993e1871ddeb",
   "metadata": {},
   "source": [
    "**Data Cleaning or manipulation**"
   ]
  },
  {
   "cell_type": "code",
   "execution_count": 39,
   "id": "13a85905-e5fc-41ff-907f-c13a80aeb2a7",
   "metadata": {},
   "outputs": [
    {
     "data": {
      "text/plain": [
       "0        False\n",
       "1        False\n",
       "2        False\n",
       "3        False\n",
       "4        False\n",
       "         ...  \n",
       "85865    False\n",
       "85866    False\n",
       "85867    False\n",
       "85868    False\n",
       "85869    False\n",
       "Length: 85870, dtype: bool"
      ]
     },
     "execution_count": 39,
     "metadata": {},
     "output_type": "execute_result"
    }
   ],
   "source": [
    "# Handling Duplicates\n",
    "dataframe.duplicated()\n",
    "dataframe.drop_duplicates()"
   ]
  },
  {
   "cell_type": "code",
   "execution_count": 47,
   "id": "c947aaa8-dc1d-4d76-9035-5eb59989373b",
   "metadata": {},
   "outputs": [
    {
     "name": "stdout",
     "output_type": "stream",
     "text": [
      "Dataset before Handling Incorrect Values\n",
      "   id   name  age gender income\n",
      "0   1   John   25      M  50000\n",
      "1   2   Jane  -31      F  70000\n",
      "2   3    Bob   42      M    NaN\n",
      "3   4  Alice   19      F  30000\n",
      "4   5  David   37      Z  60000\n"
     ]
    }
   ],
   "source": [
    "# Handling incorrect data\n",
    "import numpy as np\n",
    "\n",
    "# Create a dummy dataset\n",
    "data = pd.DataFrame({\n",
    "    'id': [1, 2, 3, 4, 5],\n",
    "    'name': ['John', 'Jane', 'Bob', 'Alice', 'David'],\n",
    "    'age': [25, -31, 42, 19, 37],\n",
    "    'gender': ['M', 'F', 'M', 'F', 'Z'],\n",
    "    'income': [50000, 70000, np.nan, '30000', 60000]\n",
    "})\n",
    "print(\"Dataset before Handling Incorrect Values\")\n",
    "print(data)"
   ]
  },
  {
   "cell_type": "code",
   "execution_count": 48,
   "id": "f0a3cbf6-104d-4da6-b877-8e4163d0da71",
   "metadata": {},
   "outputs": [],
   "source": [
    "# Identify incorrect data\n",
    "incorrect_age = data[(data['age'] <= 0) | (data['age'] > 100)]\n",
    "incorrect_gender = data[~data['gender'].isin(['M', 'F'])]\n",
    "incorrect_income = data[~data['income'].apply(lambda x: isinstance(x, (int, float)))]"
   ]
  },
  {
   "cell_type": "code",
   "execution_count": 50,
   "id": "c8c55003-c892-412d-a048-a63469b4b92b",
   "metadata": {},
   "outputs": [
    {
     "data": {
      "text/html": [
       "<div>\n",
       "<style scoped>\n",
       "    .dataframe tbody tr th:only-of-type {\n",
       "        vertical-align: middle;\n",
       "    }\n",
       "\n",
       "    .dataframe tbody tr th {\n",
       "        vertical-align: top;\n",
       "    }\n",
       "\n",
       "    .dataframe thead th {\n",
       "        text-align: right;\n",
       "    }\n",
       "</style>\n",
       "<table border=\"1\" class=\"dataframe\">\n",
       "  <thead>\n",
       "    <tr style=\"text-align: right;\">\n",
       "      <th></th>\n",
       "      <th>id</th>\n",
       "      <th>name</th>\n",
       "      <th>age</th>\n",
       "      <th>gender</th>\n",
       "      <th>income</th>\n",
       "    </tr>\n",
       "  </thead>\n",
       "  <tbody>\n",
       "    <tr>\n",
       "      <th>0</th>\n",
       "      <td>1</td>\n",
       "      <td>John</td>\n",
       "      <td>25</td>\n",
       "      <td>M</td>\n",
       "      <td>50000</td>\n",
       "    </tr>\n",
       "    <tr>\n",
       "      <th>2</th>\n",
       "      <td>3</td>\n",
       "      <td>Bob</td>\n",
       "      <td>42</td>\n",
       "      <td>M</td>\n",
       "      <td>NaN</td>\n",
       "    </tr>\n",
       "  </tbody>\n",
       "</table>\n",
       "</div>"
      ],
      "text/plain": [
       "   id  name  age gender income\n",
       "0   1  John   25      M  50000\n",
       "2   3   Bob   42      M    NaN"
      ]
     },
     "execution_count": 50,
     "metadata": {},
     "output_type": "execute_result"
    }
   ],
   "source": [
    "# Delete incorrect data\n",
    "data = data.drop(incorrect_age.index)\n",
    "data = data.drop(incorrect_gender.index)\n",
    "data = data.drop(incorrect_income.index)\n",
    "data"
   ]
  },
  {
   "cell_type": "markdown",
   "id": "53e9751d-b257-4ec5-951c-990f180ccd12",
   "metadata": {},
   "source": [
    "**Handling Null-values**"
   ]
  },
  {
   "cell_type": "code",
   "execution_count": 52,
   "id": "f8c80970-e95b-497c-946f-a5a0701c2f8d",
   "metadata": {},
   "outputs": [],
   "source": [
    "# dataframe.isna()\n",
    "# dataframe.fillna()"
   ]
  },
  {
   "cell_type": "markdown",
   "id": "5f615847-309b-4057-8c14-4b9e3401ac82",
   "metadata": {},
   "source": [
    "**Outlier Detection**"
   ]
  },
  {
   "cell_type": "code",
   "execution_count": 58,
   "id": "6140180e-eaab-4f78-a099-c0c0a3f63d0d",
   "metadata": {},
   "outputs": [
    {
     "data": {
      "text/plain": [
       "<Axes: >"
      ]
     },
     "execution_count": 58,
     "metadata": {},
     "output_type": "execute_result"
    },
    {
     "data": {
      "image/png": "[encoded data removed]",
      "text/plain": [
       "<Figure size 640x480 with 1 Axes>"
      ]
     },
     "metadata": {},
     "output_type": "display_data"
    }
   ],
   "source": [
    "dataframe['price'].plot(kind='box')"
   ]
  },
  {
   "cell_type": "code",
   "execution_count": 59,
   "id": "e9b032a8-cb70-440b-8a1b-78345f347f84",
   "metadata": {},
   "outputs": [],
   "source": [
    "# z -score"
   ]
  },
  {
   "cell_type": "code",
   "execution_count": 60,
   "id": "5812a55c-2434-419f-8a74-19e8f89d8d4d",
   "metadata": {},
   "outputs": [],
   "source": [
    "import scipy.stats as stats"
   ]
  },
  {
   "cell_type": "code",
   "execution_count": 68,
   "id": "320a151a-a7b2-49a1-9f8d-49e70775f600",
   "metadata": {},
   "outputs": [
    {
     "data": {
      "text/html": [
       "<div>\n",
       "<style scoped>\n",
       "    .dataframe tbody tr th:only-of-type {\n",
       "        vertical-align: middle;\n",
       "    }\n",
       "\n",
       "    .dataframe tbody tr th {\n",
       "        vertical-align: top;\n",
       "    }\n",
       "\n",
       "    .dataframe thead th {\n",
       "        text-align: right;\n",
       "    }\n",
       "</style>\n",
       "<table border=\"1\" class=\"dataframe\">\n",
       "  <thead>\n",
       "    <tr style=\"text-align: right;\">\n",
       "      <th></th>\n",
       "      <th>year</th>\n",
       "      <th>month</th>\n",
       "      <th>stateDescription</th>\n",
       "      <th>sectorName</th>\n",
       "      <th>customers</th>\n",
       "      <th>price</th>\n",
       "      <th>revenue</th>\n",
       "      <th>sales</th>\n",
       "    </tr>\n",
       "  </thead>\n",
       "  <tbody>\n",
       "    <tr>\n",
       "      <th>0</th>\n",
       "      <td>2001</td>\n",
       "      <td>1</td>\n",
       "      <td>Wyoming</td>\n",
       "      <td>all sectors</td>\n",
       "      <td>NaN</td>\n",
       "      <td>4.31</td>\n",
       "      <td>48.12840</td>\n",
       "      <td>1116.17208</td>\n",
       "    </tr>\n",
       "    <tr>\n",
       "      <th>1</th>\n",
       "      <td>2001</td>\n",
       "      <td>1</td>\n",
       "      <td>Wyoming</td>\n",
       "      <td>commercial</td>\n",
       "      <td>NaN</td>\n",
       "      <td>5.13</td>\n",
       "      <td>12.67978</td>\n",
       "      <td>247.08691</td>\n",
       "    </tr>\n",
       "    <tr>\n",
       "      <th>2</th>\n",
       "      <td>2001</td>\n",
       "      <td>1</td>\n",
       "      <td>Wyoming</td>\n",
       "      <td>industrial</td>\n",
       "      <td>NaN</td>\n",
       "      <td>3.26</td>\n",
       "      <td>19.60858</td>\n",
       "      <td>602.30484</td>\n",
       "    </tr>\n",
       "    <tr>\n",
       "      <th>3</th>\n",
       "      <td>2001</td>\n",
       "      <td>1</td>\n",
       "      <td>Wyoming</td>\n",
       "      <td>other</td>\n",
       "      <td>NaN</td>\n",
       "      <td>4.75</td>\n",
       "      <td>0.76868</td>\n",
       "      <td>16.17442</td>\n",
       "    </tr>\n",
       "    <tr>\n",
       "      <th>4</th>\n",
       "      <td>2001</td>\n",
       "      <td>1</td>\n",
       "      <td>Wyoming</td>\n",
       "      <td>residential</td>\n",
       "      <td>NaN</td>\n",
       "      <td>6.01</td>\n",
       "      <td>15.07136</td>\n",
       "      <td>250.60591</td>\n",
       "    </tr>\n",
       "    <tr>\n",
       "      <th>...</th>\n",
       "      <td>...</td>\n",
       "      <td>...</td>\n",
       "      <td>...</td>\n",
       "      <td>...</td>\n",
       "      <td>...</td>\n",
       "      <td>...</td>\n",
       "      <td>...</td>\n",
       "      <td>...</td>\n",
       "    </tr>\n",
       "    <tr>\n",
       "      <th>85865</th>\n",
       "      <td>2024</td>\n",
       "      <td>1</td>\n",
       "      <td>Arkansas</td>\n",
       "      <td>all sectors</td>\n",
       "      <td>1717720.0</td>\n",
       "      <td>9.63</td>\n",
       "      <td>442.98773</td>\n",
       "      <td>4598.63147</td>\n",
       "    </tr>\n",
       "    <tr>\n",
       "      <th>85866</th>\n",
       "      <td>2024</td>\n",
       "      <td>1</td>\n",
       "      <td>Arkansas</td>\n",
       "      <td>commercial</td>\n",
       "      <td>208669.0</td>\n",
       "      <td>10.26</td>\n",
       "      <td>97.79467</td>\n",
       "      <td>953.02154</td>\n",
       "    </tr>\n",
       "    <tr>\n",
       "      <th>85867</th>\n",
       "      <td>2024</td>\n",
       "      <td>1</td>\n",
       "      <td>Arkansas</td>\n",
       "      <td>industrial</td>\n",
       "      <td>34951.0</td>\n",
       "      <td>7.08</td>\n",
       "      <td>109.92656</td>\n",
       "      <td>1553.02838</td>\n",
       "    </tr>\n",
       "    <tr>\n",
       "      <th>85868</th>\n",
       "      <td>2024</td>\n",
       "      <td>1</td>\n",
       "      <td>Arkansas</td>\n",
       "      <td>residential</td>\n",
       "      <td>1474098.0</td>\n",
       "      <td>11.24</td>\n",
       "      <td>235.26399</td>\n",
       "      <td>2092.56172</td>\n",
       "    </tr>\n",
       "    <tr>\n",
       "      <th>85869</th>\n",
       "      <td>2024</td>\n",
       "      <td>1</td>\n",
       "      <td>Arkansas</td>\n",
       "      <td>transportation</td>\n",
       "      <td>2.0</td>\n",
       "      <td>12.70</td>\n",
       "      <td>0.00252</td>\n",
       "      <td>0.01984</td>\n",
       "    </tr>\n",
       "  </tbody>\n",
       "</table>\n",
       "<p>85673 rows × 8 columns</p>\n",
       "</div>"
      ],
      "text/plain": [
       "       year  month stateDescription      sectorName  customers  price  \\\n",
       "0      2001      1          Wyoming     all sectors        NaN   4.31   \n",
       "1      2001      1          Wyoming      commercial        NaN   5.13   \n",
       "2      2001      1          Wyoming      industrial        NaN   3.26   \n",
       "3      2001      1          Wyoming           other        NaN   4.75   \n",
       "4      2001      1          Wyoming     residential        NaN   6.01   \n",
       "...     ...    ...              ...             ...        ...    ...   \n",
       "85865  2024      1         Arkansas     all sectors  1717720.0   9.63   \n",
       "85866  2024      1         Arkansas      commercial   208669.0  10.26   \n",
       "85867  2024      1         Arkansas      industrial    34951.0   7.08   \n",
       "85868  2024      1         Arkansas     residential  1474098.0  11.24   \n",
       "85869  2024      1         Arkansas  transportation        2.0  12.70   \n",
       "\n",
       "         revenue       sales  \n",
       "0       48.12840  1116.17208  \n",
       "1       12.67978   247.08691  \n",
       "2       19.60858   602.30484  \n",
       "3        0.76868    16.17442  \n",
       "4       15.07136   250.60591  \n",
       "...          ...         ...  \n",
       "85865  442.98773  4598.63147  \n",
       "85866   97.79467   953.02154  \n",
       "85867  109.92656  1553.02838  \n",
       "85868  235.26399  2092.56172  \n",
       "85869    0.00252     0.01984  \n",
       "\n",
       "[85673 rows x 8 columns]"
      ]
     },
     "execution_count": 68,
     "metadata": {},
     "output_type": "execute_result"
    }
   ],
   "source": [
    "z_score = stats.zscore(dataframe['price'])\n",
    "filter_mask = (abs(z_score) < 5)\n",
    "dataframe[filter_mask]"
   ]
  },
  {
   "cell_type": "markdown",
   "id": "97a2f0a6-b7e6-4db0-8c49-25eb64230ee4",
   "metadata": {},
   "source": [
    "**Writing A file**"
   ]
  },
  {
   "cell_type": "code",
   "execution_count": 69,
   "id": "eb9743b1-b758-48d7-af2e-dd9e7308e495",
   "metadata": {},
   "outputs": [],
   "source": [
    "dataframe.to_csv(\n",
    "    'new_file.csv',\n",
    "    index=False\n",
    ")"
   ]
  },
  {
   "cell_type": "code",
   "execution_count": null,
   "id": "7f28444d-cdb4-45f0-954e-2e329310c2c6",
   "metadata": {},
   "outputs": [],
   "source": []
  }
 ],
 "metadata": {
  "kernelspec": {
   "display_name": "Python 3 (ipykernel)",
   "language": "python",
   "name": "python3"
  },
  "language_info": {
   "codemirror_mode": {
    "name": "ipython",
    "version": 3
   },
   "file_extension": ".py",
   "mimetype": "text/x-python",
   "name": "python",
   "nbconvert_exporter": "python",
   "pygments_lexer": "ipython3",
   "version": "3.10.12"
  }
 },
 "nbformat": 4,
 "nbformat_minor": 5
}
