{
 "cells": [
  {
   "cell_type": "markdown",
   "metadata": {},
   "source": [
    "# Python Property Decorator\n",
    "\n",
    "In Python, the `@property` decorator is used to define a getters, setters, and deleters method for a class attribute. They are used to ensure that the attributes of a class are accessed and modified in a controlled manner.\n",
    "\n",
    "## Getter\n",
    "\n",
    "A getter method is used to get the value of an attribute. It is called automatically when the attribute is accessed. In Python, we can define a getter method using the `@property` decorator."
   ]
  },
  {
   "cell_type": "code",
   "execution_count": 2,
   "metadata": {},
   "outputs": [],
   "source": [
    "class Person:\n",
    "    def __init__(self, name):\n",
    "        self._name = name\n",
    "\n",
    "    @property\n",
    "    def get_name(self):\n",
    "        print(\"Getting name...\")\n",
    "        return self._name\n",
    "\n",
    "person = Person(\"Alice\")\n"
   ]
  },
  {
   "cell_type": "code",
   "execution_count": 3,
   "metadata": {},
   "outputs": [
    {
     "name": "stdout",
     "output_type": "stream",
     "text": [
      "Getting name...\n",
      "Alice\n"
     ]
    }
   ],
   "source": [
    "print(person.get_name)"
   ]
  },
  {
   "cell_type": "markdown",
   "metadata": {},
   "source": [
    "In this example, `Person` is a class that has an attribute `_name` and a method `name` decorated with `@property`. The `name` method simply returns the value of the `_name` attribute. When we create an instance of `Person` and access the `name` attribute with `person.name`, the `@property` decorator automatically calls the `name` method and returns its result.\n",
    "\n",
    "Notice that the `name` method was called automatically when we accessed the `name` attribute.\n",
    "\n",
    "## Setter\n",
    "\n",
    "A setter method is used to set the value of an attribute. It is called automatically when the attribute is assigned a new value. In Python, we can define a setter method using the `@property` decorator with the `@setter` decorator."
   ]
  },
  {
   "cell_type": "code",
   "execution_count": 4,
   "metadata": {},
   "outputs": [
    {
     "name": "stdout",
     "output_type": "stream",
     "text": [
      "Getting name...\n",
      "Alice\n"
     ]
    }
   ],
   "source": [
    "class Person:\n",
    "    def __init__(self, name):\n",
    "        self._name = name\n",
    "\n",
    "    @property\n",
    "    def name(self):\n",
    "        print(\"Getting name...\")\n",
    "        return self._name\n",
    "\n",
    "    @name.setter\n",
    "    def name(self, value):\n",
    "        print(\"Setting name...\")\n",
    "        self._name = value\n",
    "\n",
    "person = Person(\"Alice\")\n",
    "print(person.name)"
   ]
  },
  {
   "cell_type": "code",
   "execution_count": 5,
   "metadata": {},
   "outputs": [
    {
     "name": "stdout",
     "output_type": "stream",
     "text": [
      "Setting name...\n",
      "Getting name...\n",
      "Bob\n"
     ]
    }
   ],
   "source": [
    "person.name = \"Bob\"\n",
    "print(person.name)"
   ]
  },
  {
   "cell_type": "markdown",
   "metadata": {},
   "source": [
    "In this example, `Person` is a class that has an attribute `_name`, a method `name` decorated with `@property`, and a method `name` decorated with `@name.setter`. The `name` method gets and sets the `_name` attribute. When we create an instance of `Person` and access the `name` attribute with `person.name`, the `@property` decorator automatically calls the `name` method and returns its result. When we set the `name` attribute with `person.name = \"Bob\"`, the `@name.setter` decorator automatically calls the `name` method with the value of \"Bob\".\n",
    "\n",
    "Notice that the name method was called automatically when we accessed or set the name attribute.\n",
    "\n",
    "## Deleter\n",
    "\n",
    "A deleter method is used to delete an attribute. It is called automatically when the `del` statement is used to delete the attribute. In Python, we can define a deleter method using the `@property` decorator with the `@deleter` decorator."
   ]
  },
  {
   "cell_type": "code",
   "execution_count": 4,
   "metadata": {},
   "outputs": [
    {
     "name": "stdout",
     "output_type": "stream",
     "text": [
      "Getting name...\n",
      "Alice\n"
     ]
    }
   ],
   "source": [
    "class Person:\n",
    "    def __init__(self, name):\n",
    "        self._name = name\n",
    "\n",
    "\n",
    "    @property\n",
    "    def name(self):\n",
    "        print(\"Getting name...\")\n",
    "        return self._name\n",
    "\n",
    "    @name.setter\n",
    "    def name(self, value):\n",
    "        print(\"Setting name...\")\n",
    "        self._name = value\n",
    "\n",
    "    @name.deleter\n",
    "    def name(self):\n",
    "        print(\"Deleting name...\")\n",
    "        del self._name\n",
    "\n",
    "person = Person(\"Alice\")\n",
    "print(person.name)"
   ]
  },
  {
   "cell_type": "code",
   "execution_count": null,
   "metadata": {},
   "outputs": [],
   "source": []
  },
  {
   "cell_type": "code",
   "execution_count": 7,
   "metadata": {},
   "outputs": [
    {
     "name": "stdout",
     "output_type": "stream",
     "text": [
      "Deleting name...\n"
     ]
    }
   ],
   "source": [
    "del person.name"
   ]
  },
  {
   "cell_type": "code",
   "execution_count": 8,
   "metadata": {},
   "outputs": [
    {
     "name": "stdout",
     "output_type": "stream",
     "text": [
      "Getting name...\n"
     ]
    },
    {
     "ename": "AttributeError",
     "evalue": "'Person' object has no attribute '_name'",
     "output_type": "error",
     "traceback": [
      "\u001b[0;31m---------------------------------------------------------------------------\u001b[0m",
      "\u001b[0;31mAttributeError\u001b[0m                            Traceback (most recent call last)",
      "Cell \u001b[0;32mIn[8], line 1\u001b[0m\n\u001b[0;32m----> 1\u001b[0m \u001b[38;5;28mprint\u001b[39m(\u001b[43mperson\u001b[49m\u001b[38;5;241;43m.\u001b[39;49m\u001b[43mname\u001b[49m)\n",
      "Cell \u001b[0;32mIn[6], line 8\u001b[0m, in \u001b[0;36mPerson.name\u001b[0;34m(self)\u001b[0m\n\u001b[1;32m      5\u001b[0m \u001b[38;5;129m@property\u001b[39m\n\u001b[1;32m      6\u001b[0m \u001b[38;5;28;01mdef\u001b[39;00m \u001b[38;5;21mname\u001b[39m(\u001b[38;5;28mself\u001b[39m):\n\u001b[1;32m      7\u001b[0m     \u001b[38;5;28mprint\u001b[39m(\u001b[38;5;124m\"\u001b[39m\u001b[38;5;124mGetting name...\u001b[39m\u001b[38;5;124m\"\u001b[39m)\n\u001b[0;32m----> 8\u001b[0m     \u001b[38;5;28;01mreturn\u001b[39;00m \u001b[38;5;28;43mself\u001b[39;49m\u001b[38;5;241;43m.\u001b[39;49m\u001b[43m_name\u001b[49m\n",
      "\u001b[0;31mAttributeError\u001b[0m: 'Person' object has no attribute '_name'"
     ]
    }
   ],
   "source": [
    "print(person.name)"
   ]
  },
  {
   "cell_type": "markdown",
   "metadata": {},
   "source": [
    "In this example, `Person` is a class that has an attribute `_name`, a method `name` decorated with `@property`, a method `name` decorated with `@name.setter`, and a method `name` decorated with `@name.deleter`. The `name` method gets, sets, and deletes the `_name` attribute. When we create an instance of `Person` and access the `name` attribute with `person.name`, the `@property` decorator automatically calls the `name` method and returns its results. When we set the `name` attribute with `person.name = \"Alice\"`, the `@name.setter` decorator automatically calls the name method with the value of \"Alice\". When we delete the `name` attribute with `del person.name`, the `@name.deleter` decorator automatically calls the name method and deletes the value assigned to `name` attribute. Now, when we try to access the `name` attribute with `person.name`, an `AttributeError` is raised because the attribute no longer exists.\n",
    "\n",
    "Notice that the name method was called automatically when we accessed or set or deleted the name attribute."
   ]
  }
 ],
 "metadata": {
  "kernelspec": {
   "display_name": "Python 3 (ipykernel)",
   "language": "python",
   "name": "python3"
  },
  "language_info": {
   "codemirror_mode": {
    "name": "ipython",
    "version": 3
   },
   "file_extension": ".py",
   "mimetype": "text/x-python",
   "name": "python",
   "nbconvert_exporter": "python",
   "pygments_lexer": "ipython3",
   "version": "3.10.12"
  },
  "vscode": {
   "interpreter": {
    "hash": "52d0895b74d46736af80307792bc794eabfd4ba41b3599b718f838e53d9478fc"
   }
  }
 },
 "nbformat": 4,
 "nbformat_minor": 4
}
