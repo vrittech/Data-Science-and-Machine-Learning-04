{
 "cells": [
  {
   "cell_type": "markdown",
   "metadata": {},
   "source": [
    "# Python Generators\n",
    "\n",
    "A generator in Python is a type of iterator that generates values on-the-fly as they are requested. This means that generators are a more memory-efficient way of generating large sequences of values, as they only generate the values as they are needed, rather than generating them all at once and storing them in memory.\n",
    "\n",
    "Here's a step-by-step tutorial on how to create and use generators in Python:\n",
    "\n",
    "### Step 1: Define a generator function using the `yield` keyword\n",
    "\n",
    "A generator function is a special type of function that uses the `yield` keyword to generate values. The `yield` keyword suspends the function's execution and returns a value to the caller, but it also remembers the function's state so that it can resume execution where it left off the next time it is called.\n",
    "\n",
    "For example, here's a simple generator function that generates a sequence of numbers:"
   ]
  },
  {
   "cell_type": "code",
   "execution_count": 1,
   "metadata": {},
   "outputs": [],
   "source": [
    "def number_generator(start, end):\n",
    "    for num in range(start, end + 1):\n",
    "        yield num"
   ]
  },
  {
   "cell_type": "markdown",
   "metadata": {},
   "source": [
    "In this example, the `number_generator()` function takes two arguments, `start` and `end`, and generates a sequence of numbers from start to end. The `yield` keyword is used to return each number in the sequence, and to remember the function's state so that it can resume execution where it left off the next time it is called.\n",
    "\n",
    "### Step 2: Create a generator object using the generator function\n",
    "\n",
    "To create a generator object, we simply call the generator function. This returns a generator object, which we can use to generate the values on-the-fly."
   ]
  },
  {
   "cell_type": "code",
   "execution_count": 2,
   "metadata": {},
   "outputs": [],
   "source": [
    "my_generator = number_generator(1, 5)"
   ]
  },
  {
   "cell_type": "code",
   "execution_count": 3,
   "metadata": {},
   "outputs": [
    {
     "data": {
      "text/plain": [
       "<generator object number_generator at 0x7fdd08392500>"
      ]
     },
     "execution_count": 3,
     "metadata": {},
     "output_type": "execute_result"
    }
   ],
   "source": [
    "my_generator"
   ]
  },
  {
   "cell_type": "markdown",
   "metadata": {},
   "source": [
    "In this example, we create a generator object called `my_generator` by calling the `number_generator()` function with `start=1` and `end=5`.\n",
    "\n",
    "### Step 3: Use the generator object to generate the values on-the-fly\n",
    "\n",
    "We can use the `next()` function to generate the next value in the sequence on-the-fly. Each time we call `next()` on the generator object, the generator function resumes execution where it left off and generates the next value in the sequence."
   ]
  },
  {
   "cell_type": "code",
   "execution_count": 9,
   "metadata": {},
   "outputs": [
    {
     "ename": "StopIteration",
     "evalue": "",
     "output_type": "error",
     "traceback": [
      "\u001b[0;31m---------------------------------------------------------------------------\u001b[0m",
      "\u001b[0;31mStopIteration\u001b[0m                             Traceback (most recent call last)",
      "Cell \u001b[0;32mIn[9], line 1\u001b[0m\n\u001b[0;32m----> 1\u001b[0m \u001b[38;5;28mprint\u001b[39m(\u001b[38;5;28;43mnext\u001b[39;49m\u001b[43m(\u001b[49m\u001b[43mmy_generator\u001b[49m\u001b[43m)\u001b[49m)\n\u001b[1;32m      2\u001b[0m \u001b[38;5;66;03m# print(next(my_generator))\u001b[39;00m\n\u001b[1;32m      3\u001b[0m \u001b[38;5;66;03m# print(next(my_generator))\u001b[39;00m\n\u001b[1;32m      4\u001b[0m \u001b[38;5;66;03m# print(next(my_generator))\u001b[39;00m\n\u001b[1;32m      5\u001b[0m \u001b[38;5;66;03m# print(next(my_generator))\u001b[39;00m\n",
      "\u001b[0;31mStopIteration\u001b[0m: "
     ]
    }
   ],
   "source": [
    "print(next(my_generator))\n",
    "# print(next(my_generator))\n",
    "# print(next(my_generator))\n",
    "# print(next(my_generator))\n",
    "# print(next(my_generator))"
   ]
  },
  {
   "cell_type": "markdown",
   "metadata": {},
   "source": [
    "In this example, we use the `next()` function to generate each value in the sequence on-the-fly, and print it to the console.\n",
    "\n",
    "### Step 4: Use a for loop to generate all the values in the sequence\n",
    "\n",
    "We can use a `for` loop to generate all the values in the sequence without having to use the `next()` function explicitly."
   ]
  },
  {
   "cell_type": "code",
   "execution_count": 10,
   "metadata": {},
   "outputs": [
    {
     "name": "stdout",
     "output_type": "stream",
     "text": [
      "1\n",
      "2\n",
      "3\n",
      "4\n",
      "5\n"
     ]
    }
   ],
   "source": [
    "my_generator = number_generator(1, 5)\n",
    "\n",
    "for num in my_generator:\n",
    "    print(num)"
   ]
  },
  {
   "cell_type": "markdown",
   "metadata": {},
   "source": [
    "In this example, we use a `for` loop to generate each value in the sequence on-the-fly, and print it to the console.\n",
    "\n",
    "### Step 5: Handle the `StopIteration` exception\n",
    "\n",
    "The `StopIteration` exception is raised when the generator has no more values to generate. We can handle this exception to stop the generation gracefully."
   ]
  },
  {
   "cell_type": "code",
   "execution_count": 11,
   "metadata": {},
   "outputs": [
    {
     "name": "stdout",
     "output_type": "stream",
     "text": [
      "1\n",
      "2\n",
      "3\n",
      "4\n",
      "5\n"
     ]
    }
   ],
   "source": [
    "my_generator = number_generator(1, 5)\n",
    "\n",
    "while True:\n",
    "    try:\n",
    "        num = next(my_generator)\n",
    "        print(num)\n",
    "    except StopIteration:\n",
    "        break"
   ]
  },
  {
   "cell_type": "markdown",
   "metadata": {},
   "source": [
    "In this example, we use a `while` loop and the `next()` function to generate each value in the sequence on-the-fly, and print it to the console.\n",
    "\n",
    "The `try` block calls the `next()` function to get the next value in the sequence. If there are no more values, a `StopIteration` exception is raised which is handled in the `except` block by breaking the loop whenever `StopIteration` exception is encountered."
   ]
  }
 ],
 "metadata": {
  "kernelspec": {
   "display_name": "Python 3 (ipykernel)",
   "language": "python",
   "name": "python3"
  },
  "language_info": {
   "codemirror_mode": {
    "name": "ipython",
    "version": 3
   },
   "file_extension": ".py",
   "mimetype": "text/x-python",
   "name": "python",
   "nbconvert_exporter": "python",
   "pygments_lexer": "ipython3",
   "version": "3.10.12"
  }
 },
 "nbformat": 4,
 "nbformat_minor": 4
}
