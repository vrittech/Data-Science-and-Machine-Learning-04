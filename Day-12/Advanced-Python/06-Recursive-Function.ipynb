{
 "cells": [
  {
   "cell_type": "markdown",
   "id": "f0892409",
   "metadata": {},
   "source": [
    "# Recursive Function\n",
    "\n",
    "Recursive functions are functions that call themselves during their execution. They are useful for solving problems that can be broken down into smaller, similar subproblems. Here's a step-by-step explanation of how recursive functions work in Python.\n",
    "\n",
    "- **Base Case:** Every recursive function needs a base case, which is the simplest possible case where the function does not call itself. It acts as the termination condition for the recursion. Without a base case, the recursive function would continue calling itself indefinitely, resulting in an infinite loop.\n",
    "\n",
    "- **Recursive Case:** In addition to the base case, recursive functions also have a recursive case where the function calls itself with a modified version of the problem. This recursive call allows the function to break down a larger problem into smaller subproblems until it reaches the base case.\n",
    "\n",
    "Now, let's look at an example to illustrate the concept of recursive functions in Python. We'll implement a factorial function using recursion."
   ]
  },
  {
   "cell_type": "code",
   "execution_count": 1,
   "id": "75e67c80",
   "metadata": {},
   "outputs": [
    {
     "name": "stdout",
     "output_type": "stream",
     "text": [
      "120\n"
     ]
    }
   ],
   "source": [
    "def factorial(n):\n",
    "    if n == 0:  # Base case: factorial of 0 is 1\n",
    "        return 1\n",
    "    else:\n",
    "        return n * factorial(n - 1)  # Recursive case: n! = n * (n-1)!\n",
    "\n",
    "print(factorial(5))"
   ]
  },
  {
   "cell_type": "markdown",
   "id": "6e8d64a0",
   "metadata": {},
   "source": [
    "In this example, the `factorial` function calculates the factorial of a given number `n`. If `n` is equal to `0`, it returns `1`, which is the base case. Otherwise, it calls itself with `n-1` and multiplies the result by `n`, which is the recursive case.\n",
    "\n",
    "The function starts with `factorial(5)`. Since `5` is not `0`, it goes to the recursive case and calls `factorial(4)`. Again, `4` is not `0`, so it calls `factorial(3)`. This process continues until `factorial(0)` is reached, which returns `1`. The intermediate results are then multiplied together, resulting in `factorial(5) = 5 * 4 * 3 * 2 * 1 = 120`.\n",
    "\n",
    "Recursive functions can be powerful, but it's important to ensure they have a base case and that the recursive calls converge towards the base case. Otherwise, the function may run indefinitely and cause a stack overflow error."
   ]
  }
 ],
 "metadata": {
  "kernelspec": {
   "display_name": "Python 3 (ipykernel)",
   "language": "python",
   "name": "python3"
  },
  "language_info": {
   "codemirror_mode": {
    "name": "ipython",
    "version": 3
   },
   "file_extension": ".py",
   "mimetype": "text/x-python",
   "name": "python",
   "nbconvert_exporter": "python",
   "pygments_lexer": "ipython3",
   "version": "3.10.12"
  }
 },
 "nbformat": 4,
 "nbformat_minor": 5
}
