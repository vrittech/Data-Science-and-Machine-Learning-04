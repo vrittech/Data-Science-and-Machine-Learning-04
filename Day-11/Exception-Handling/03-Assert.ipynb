{
 "cells": [
  {
   "cell_type": "markdown",
   "id": "76b552fa",
   "metadata": {},
   "source": [
    "# Python `assert` Statement\n",
    "\n",
    "In Python, `assert` is a debugging aid that tests a condition, and triggers an error if the condition is not true. It is commonly used to debug the code during development, by ensuring that assumptions about the code's behavior are met.\n",
    "\n",
    "The assert statement has the following syntax:\n",
    "\n",
    "```python\n",
    "assert condition, message\n",
    "```\n",
    "\n",
    "Here, `condition` is the expression to be tested and `message` is an optional error message string to be displayed if the condition is not true.\n",
    "\n",
    "When the `assert` statement is executed, Python evaluates the `condition`. If it is true, the program continues to execute normally. If it is false, Python raises an `AssertionError` with the optional error message `message`."
   ]
  },
  {
   "cell_type": "code",
   "execution_count": 2,
   "id": "e36d26d3",
   "metadata": {},
   "outputs": [
    {
     "ename": "AssertionError",
     "evalue": "Cannot divide by zero",
     "output_type": "error",
     "traceback": [
      "\u001b[0;31m---------------------------------------------------------------------------\u001b[0m",
      "\u001b[0;31mAssertionError\u001b[0m                            Traceback (most recent call last)",
      "Cell \u001b[0;32mIn[2], line 6\u001b[0m\n\u001b[1;32m      3\u001b[0m     \u001b[38;5;28;01mreturn\u001b[39;00m x \u001b[38;5;241m/\u001b[39m y\n\u001b[1;32m      5\u001b[0m \u001b[38;5;66;03m# print(divide(10, 2))\u001b[39;00m\n\u001b[0;32m----> 6\u001b[0m \u001b[38;5;28mprint\u001b[39m(\u001b[43mdivide\u001b[49m\u001b[43m(\u001b[49m\u001b[38;5;241;43m10\u001b[39;49m\u001b[43m,\u001b[49m\u001b[43m \u001b[49m\u001b[38;5;241;43m0\u001b[39;49m\u001b[43m)\u001b[49m)\n",
      "Cell \u001b[0;32mIn[2], line 2\u001b[0m, in \u001b[0;36mdivide\u001b[0;34m(x, y)\u001b[0m\n\u001b[1;32m      1\u001b[0m \u001b[38;5;28;01mdef\u001b[39;00m \u001b[38;5;21mdivide\u001b[39m(x, y):\n\u001b[0;32m----> 2\u001b[0m     \u001b[38;5;28;01massert\u001b[39;00m y \u001b[38;5;241m!=\u001b[39m \u001b[38;5;241m0\u001b[39m, \u001b[38;5;124m\"\u001b[39m\u001b[38;5;124mCannot divide by zero\u001b[39m\u001b[38;5;124m\"\u001b[39m\n\u001b[1;32m      3\u001b[0m     \u001b[38;5;28;01mreturn\u001b[39;00m x \u001b[38;5;241m/\u001b[39m y\n",
      "\u001b[0;31mAssertionError\u001b[0m: Cannot divide by zero"
     ]
    }
   ],
   "source": [
    "def divide(x, y):\n",
    "    assert y != 0, \"Cannot divide by zero\"\n",
    "    return x / y\n",
    "\n",
    "# print(divide(10, 2))\n",
    "print(divide(10, 0))"
   ]
  },
  {
   "cell_type": "code",
   "execution_count": null,
   "id": "f3108008-b48e-4969-b230-bee6f7d3594d",
   "metadata": {},
   "outputs": [],
   "source": []
  },
  {
   "cell_type": "code",
   "execution_count": null,
   "id": "b7afa43e-4345-4229-a33c-d0289e71cdff",
   "metadata": {},
   "outputs": [],
   "source": []
  },
  {
   "cell_type": "code",
   "execution_count": 4,
   "id": "3dbb537c-ee95-4356-abf6-6694bcbd3655",
   "metadata": {},
   "outputs": [
    {
     "ename": "AssertionError",
     "evalue": "Logical Error",
     "output_type": "error",
     "traceback": [
      "\u001b[0;31m---------------------------------------------------------------------------\u001b[0m",
      "\u001b[0;31mAssertionError\u001b[0m                            Traceback (most recent call last)",
      "Cell \u001b[0;32mIn[4], line 1\u001b[0m\n\u001b[0;32m----> 1\u001b[0m \u001b[38;5;28;01massert\u001b[39;00m \u001b[38;5;28mlen\u001b[39m([\u001b[38;5;241m1\u001b[39m,\u001b[38;5;241m2\u001b[39m,\u001b[38;5;241m3\u001b[39m,\u001b[38;5;241m4\u001b[39m]) \u001b[38;5;241m==\u001b[39m \u001b[38;5;241m3\u001b[39m, \u001b[38;5;124m\"\u001b[39m\u001b[38;5;124mLogical Error\u001b[39m\u001b[38;5;124m\"\u001b[39m\n",
      "\u001b[0;31mAssertionError\u001b[0m: Logical Error"
     ]
    }
   ],
   "source": [
    "assert len([1,2,3,4]) == 3, \"Logical Error\""
   ]
  },
  {
   "cell_type": "markdown",
   "id": "a7a3d8ba",
   "metadata": {},
   "source": [
    "In the above code, the `assert` statement tests whether `y` is not equal to 0 before performing the division operation. If `y` is indeed not 0, the program continues to execute normally and returns the result of the division. If `y` is 0, the assert statement raises an AssertionError with the message \"Cannot divide by zero\"."
   ]
  }
 ],
 "metadata": {
  "kernelspec": {
   "display_name": "Python 3 (ipykernel)",
   "language": "python",
   "name": "python3"
  },
  "language_info": {
   "codemirror_mode": {
    "name": "ipython",
    "version": 3
   },
   "file_extension": ".py",
   "mimetype": "text/x-python",
   "name": "python",
   "nbconvert_exporter": "python",
   "pygments_lexer": "ipython3",
   "version": "3.10.12"
  }
 },
 "nbformat": 4,
 "nbformat_minor": 5
}
