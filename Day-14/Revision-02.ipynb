{
 "cells": [
  {
   "cell_type": "code",
   "execution_count": 3,
   "id": "2dac3f21-a64c-4d1a-b22d-ed6043c8855e",
   "metadata": {},
   "outputs": [
    {
     "name": "stdout",
     "output_type": "stream",
     "text": [
      "!dlroW olleH \n"
     ]
    }
   ],
   "source": [
    "string=\" Hello World!\"\n",
    "reversed_string = \"\"\n",
    "\n",
    "i=len(string) - 1\n",
    "\n",
    "while i >=0:  \n",
    "    reversed_string = reversed_string + string[i] \n",
    "    \n",
    "    i= i-1\n",
    "    \n",
    "print(reversed_string)"
   ]
  },
  {
   "cell_type": "code",
   "execution_count": 5,
   "id": "f9b891ed-7f5b-4ebe-80a3-daed7b2142c2",
   "metadata": {},
   "outputs": [
    {
     "name": "stdout",
     "output_type": "stream",
     "text": [
      "red apple\n",
      "red banana\n",
      "red cherry\n"
     ]
    }
   ],
   "source": [
    "adj = ['red', 'big', 'tasty']\n",
    "fruits = ['apple', 'banana', 'cherry']\n",
    "\n",
    "for a in adj:\n",
    "    for f in fruits:\n",
    "        print(a, f)\n",
    "    break"
   ]
  },
  {
   "cell_type": "code",
   "execution_count": 6,
   "id": "46a91659-8c7a-4cef-aa4f-9e18c9830efb",
   "metadata": {},
   "outputs": [
    {
     "name": "stdout",
     "output_type": "stream",
     "text": [
      "red apple\n",
      "big banana\n",
      "tasty cherry\n"
     ]
    }
   ],
   "source": [
    "for a,f in zip(adj,fruits):\n",
    "    print(a,f)"
   ]
  },
  {
   "cell_type": "code",
   "execution_count": 8,
   "id": "ffbebd56-d10d-4048-bb76-c9b2e99912b6",
   "metadata": {},
   "outputs": [
    {
     "name": "stdout",
     "output_type": "stream",
     "text": [
      "0 apple\n",
      "1 banana\n",
      "2 cherry\n"
     ]
    }
   ],
   "source": [
    "for index, fruit in enumerate(fruits):\n",
    "    print(index, fruit)"
   ]
  },
  {
   "cell_type": "code",
   "execution_count": null,
   "id": "3a86eccd-9d66-47a8-9b69-cc0c0c8af287",
   "metadata": {},
   "outputs": [],
   "source": [
    "range()"
   ]
  },
  {
   "cell_type": "code",
   "execution_count": null,
   "id": "be5bc92f-d471-446e-816e-23e8f00a6781",
   "metadata": {},
   "outputs": [],
   "source": []
  },
  {
   "cell_type": "code",
   "execution_count": null,
   "id": "30ca963d-f47c-44d7-b943-c367561dcbbf",
   "metadata": {},
   "outputs": [],
   "source": [
    "<true expression> if <condition> else <false expression>"
   ]
  },
  {
   "cell_type": "code",
   "execution_count": 11,
   "id": "b5a921f3-1248-4410-af70-9a324e9597f8",
   "metadata": {},
   "outputs": [],
   "source": [
    "name = \"rhailesh\"\n",
    "result = \"Hello\" if name == \"Shailesh\" else \"Bye\""
   ]
  },
  {
   "cell_type": "code",
   "execution_count": 12,
   "id": "bdade568-e61a-480f-95cb-d392dc4d5690",
   "metadata": {},
   "outputs": [
    {
     "data": {
      "text/plain": [
       "'Bye'"
      ]
     },
     "execution_count": 12,
     "metadata": {},
     "output_type": "execute_result"
    }
   ],
   "source": [
    "result"
   ]
  },
  {
   "cell_type": "code",
   "execution_count": 25,
   "id": "7c6ff9c6-6879-444b-aa4e-ecf6073d537d",
   "metadata": {},
   "outputs": [
    {
     "name": "stdout",
     "output_type": "stream",
     "text": [
      "Equipment | Excavator\n",
      "This is a large asset\n"
     ]
    }
   ],
   "source": [
    "def asset_categorise(asset_type, asset_name = \"image.jpg\", **kwargs):\n",
    "    \n",
    "    asset_size = kwargs.get('size', None)\n",
    "\n",
    "    print(f\"{asset_type} | {asset_name}\")\n",
    "    \n",
    "    # Proceed only if asset_size is not None\n",
    "    if asset_size is not None:\n",
    "        if asset_size > 100:\n",
    "            print(\"This is a large asset\")\n",
    "        else:\n",
    "            print(\"This is a small or medium asset\")\n",
    "    else:\n",
    "        print(\"Asset size is not specified\")\n",
    "\n",
    "# Example usage\n",
    "asset_categorise(\"Equipment\", \"Excavator\", size=150)\n",
    "# asset_categorise(\"Equipment\", \"Hammer\", size=50)\n",
    "# asset_categorise(\"Equipment\")  \n"
   ]
  },
  {
   "cell_type": "code",
   "execution_count": 13,
   "id": "75f78b26-5fc5-4096-a624-992257f67801",
   "metadata": {},
   "outputs": [],
   "source": [
    "dd = {\n",
    "    1:\"Ram\",\n",
    "    2:\"shyam\"\n",
    "}"
   ]
  },
  {
   "cell_type": "code",
   "execution_count": 19,
   "id": "5a13a873-535e-4eff-b82e-90d126fb49a0",
   "metadata": {},
   "outputs": [
    {
     "name": "stdout",
     "output_type": "stream",
     "text": [
      "1 Ram\n",
      "2 shyam\n"
     ]
    }
   ],
   "source": [
    "for key, val in dd.items():\n",
    "    print(key, val)"
   ]
  },
  {
   "cell_type": "code",
   "execution_count": 26,
   "id": "d13b452a-c87b-4123-befc-08c46238acfc",
   "metadata": {},
   "outputs": [
    {
     "data": {
      "text/plain": [
       "dict_items([(1, 'Ram'), (2, 'shyam')])"
      ]
     },
     "execution_count": 26,
     "metadata": {},
     "output_type": "execute_result"
    }
   ],
   "source": [
    "dd.items()"
   ]
  },
  {
   "cell_type": "code",
   "execution_count": 3,
   "id": "df783751-f4a2-4e77-80ce-81c93b32d212",
   "metadata": {},
   "outputs": [
    {
     "name": "stdout",
     "output_type": "stream",
     "text": [
      "CPU times: user 1e+03 ns, sys: 0 ns, total: 1e+03 ns\n",
      "Wall time: 2.38 µs\n",
      "[2, 4, 6, 8, 10, 12, 14, 16, 18]\n"
     ]
    }
   ],
   "source": [
    "%time\n",
    "my_list = [1, 2, 3, 4, 5, 6,7, 8,9]\n",
    "doubled_list = list(map(lambda x: x * 2, my_list))\n",
    "print(doubled_list)"
   ]
  },
  {
   "cell_type": "code",
   "execution_count": 1,
   "id": "076f26f6-7c34-401f-aa5d-14fc54d89b25",
   "metadata": {},
   "outputs": [
    {
     "name": "stdout",
     "output_type": "stream",
     "text": [
      "CPU times: user 2 µs, sys: 0 ns, total: 2 µs\n",
      "Wall time: 3.58 µs\n",
      "[2, 4, 6, 8, 10, 12, 14, 16, 18]\n"
     ]
    }
   ],
   "source": [
    "%time\n",
    "my_list = [1, 2, 3, 4, 5, 6,7, 8,9]\n",
    "\n",
    "double = lambda x:x*2\n",
    "\n",
    "result = []\n",
    "\n",
    "for each in my_list:\n",
    "    result.append(\n",
    "        double(each)\n",
    "    )\n",
    "\n",
    "print(result)\n",
    "    "
   ]
  },
  {
   "cell_type": "code",
   "execution_count": null,
   "id": "116cbac8-5f88-4e11-8983-a933f43a7fb3",
   "metadata": {},
   "outputs": [],
   "source": []
  }
 ],
 "metadata": {
  "kernelspec": {
   "display_name": "Python 3 (ipykernel)",
   "language": "python",
   "name": "python3"
  },
  "language_info": {
   "codemirror_mode": {
    "name": "ipython",
    "version": 3
   },
   "file_extension": ".py",
   "mimetype": "text/x-python",
   "name": "python",
   "nbconvert_exporter": "python",
   "pygments_lexer": "ipython3",
   "version": "3.10.12"
  }
 },
 "nbformat": 4,
 "nbformat_minor": 5
}
