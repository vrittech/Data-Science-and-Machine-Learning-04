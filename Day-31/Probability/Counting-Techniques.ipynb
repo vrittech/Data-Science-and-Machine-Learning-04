{
 "cells": [
  {
   "cell_type": "markdown",
   "id": "fbbb502b",
   "metadata": {},
   "source": [
    "# Counting Techniques\n",
    "\n",
    "Counting techniques are used in probability theory to calculate the number of ways in which a set of events can occur. The two main counting techniques used are permutations and combinations.\n",
    "\n",
    "## Fundamental counting principle\n",
    "\n",
    "The fundamental counting principle is used to calculate the total number of outcomes in a sequence of events. It states that if there are `n1` ways to do the first task, `n2` ways to do the second task, and so on, then there are `n1 * n2 * ... * nk` ways to do all `k` tasks.\n",
    "\n",
    "For Example: Suppose you have to choose a shirt, pants, and shoes from a wardrobe of `5` shirts, `3` pairs of pants, and `4` pairs of shoes. How many outfits can you create? The number of outfits is `5 x 3 x 4 = 60`."
   ]
  },
  {
   "cell_type": "code",
   "execution_count": 1,
   "id": "fcb615c7",
   "metadata": {},
   "outputs": [
    {
     "name": "stdout",
     "output_type": "stream",
     "text": [
      "60\n"
     ]
    }
   ],
   "source": [
    "outfits = 5 * 3 * 4\n",
    "print(outfits)"
   ]
  },
  {
   "cell_type": "markdown",
   "id": "ce015c3c",
   "metadata": {},
   "source": [
    "## Permutations\n",
    "\n",
    "Permutations are arrangements of objects in a specific order. There are two types of permutations: permutations without repetition and permutations with repetition.\n",
    "\n",
    "### 1. Permutations without repetition\n",
    "\n",
    "Permutations without repetition are arrangements of `n` distinct objects in a specific order. The number of permutations of `n` distinct objects taken `r` at a time is given by the formula `nPr = n! / (n - r)!`, where `n!` is the factorial of `n`.\n",
    "\n",
    "For example: Suppose you have `5` letters: `A, B, C, D, E`. How many 3-letter words can you form? The number of permutations is `5P3 = 5! / (5-3)! = 60`."
   ]
  },
  {
   "cell_type": "code",
   "execution_count": 1,
   "id": "e2e8b456",
   "metadata": {},
   "outputs": [
    {
     "name": "stdout",
     "output_type": "stream",
     "text": [
      "60.0\n"
     ]
    }
   ],
   "source": [
    "from math import factorial\n",
    "\n",
    "permutations = factorial(5) / factorial(5 - 3)\n",
    "print(permutations)"
   ]
  },
  {
   "cell_type": "markdown",
   "id": "60e1a238",
   "metadata": {},
   "source": [
    "### 2. Permutations with repetition\n",
    "\n",
    "Permutations with repetition are arrangements of `n` objects where some of the objects are identical. The number of permutations of `n` objects taken `r` at a time when there are `k` objects of one type, `l` objects of another type, and so on is given by the formula `nPr = n! / (k! * l! * ... * z!)`, where `k, l, ..., z` are the frequencies of the identical objects.\n",
    "\n",
    "For example: Suppose you have to arrange the letters in the word `\"MISSISSIPPI\"`. How many permutations are possible? The number of permutations is `11! / (4! * 4! * 2!) = 34,650`."
   ]
  },
  {
   "cell_type": "code",
   "execution_count": 3,
   "id": "01fa73be",
   "metadata": {},
   "outputs": [
    {
     "name": "stdout",
     "output_type": "stream",
     "text": [
      "34650.0\n"
     ]
    }
   ],
   "source": [
    "from math import factorial\n",
    "\n",
    "letters = \"MISSISSIPPI\"\n",
    "num_m = letters.count('M')\n",
    "num_i = letters.count('I')\n",
    "num_s = letters.count('S')\n",
    "num_p = letters.count('P')\n",
    "permutations = factorial(len(letters)) / (factorial(num_m) * factorial(num_i) * factorial(num_s) * factorial(num_p))\n",
    "print(permutations)"
   ]
  },
  {
   "cell_type": "markdown",
   "id": "03fcc927",
   "metadata": {},
   "source": [
    "## Circular permutations\n",
    "\n",
    "Circular permutations are arrangements of objects in a circle. The number of circular permutations of `n` distinct objects is `(n-1)!`.\n",
    "\n",
    "For example: Suppose you have to seat `5` people around a circular table. How many arrangements are possible? The number of circular permutations is `(5-1)! = 4!`."
   ]
  },
  {
   "cell_type": "code",
   "execution_count": 4,
   "id": "c4544a7f",
   "metadata": {},
   "outputs": [
    {
     "name": "stdout",
     "output_type": "stream",
     "text": [
      "24\n"
     ]
    }
   ],
   "source": [
    "from math import factorial\n",
    "\n",
    "people = 5\n",
    "circular_permutations = factorial(people-1)\n",
    "print(circular_permutations)"
   ]
  },
  {
   "cell_type": "markdown",
   "id": "b2b66fbd",
   "metadata": {},
   "source": [
    "## Combinations\n",
    "\n",
    "Combinations are selections of objects without regard to their order. The number of combinations of `n` distinct objects taken `r` at a time is given by the formula `nCr = n! / (r! * (n-r)!)`, where `n!` is the factorial of `n`.\n",
    "\n",
    "For example: Suppose you have `6` people and you want to select a committee of `3` people. How many different committees can you form? The number of combinations is `6C3 = 6! / (3! * (6-3)!) = 20`."
   ]
  },
  {
   "cell_type": "code",
   "execution_count": 5,
   "id": "c71cace4",
   "metadata": {},
   "outputs": [
    {
     "name": "stdout",
     "output_type": "stream",
     "text": [
      "20\n"
     ]
    }
   ],
   "source": [
    "from math import comb\n",
    "\n",
    "people = 6\n",
    "committee_size = 3\n",
    "combinations = comb(people, committee_size)\n",
    "print(combinations)"
   ]
  },
  {
   "cell_type": "markdown",
   "id": "6701de8c",
   "metadata": {},
   "source": [
    "## Combinations with repetition\n",
    "\n",
    "Combinations with repetition are selections of `n` objects where some of the objects are identical. The number of combinations of `n` objects taken `r` at a time when there are `k` objects of one type, `l` objects of another type, and so on is given by the formula `(r+k+l+...+z-1)Cr`.\n",
    "\n",
    "For example: Suppose you have `4` different colors of marbles and you want to choose `6` marbles. How many ways can you choose them if you can choose any color more than once? The number of combinations with repetition is `(6+4-1)C(4-1) = 84`."
   ]
  },
  {
   "cell_type": "code",
   "execution_count": 6,
   "id": "9a776044",
   "metadata": {},
   "outputs": [
    {
     "name": "stdout",
     "output_type": "stream",
     "text": [
      "84\n"
     ]
    }
   ],
   "source": [
    "from math import comb\n",
    "\n",
    "colors = 4\n",
    "marbles = 6\n",
    "combinations_with_repetition = comb(marbles + colors - 1, colors - 1)\n",
    "print(combinations_with_repetition)"
   ]
  }
 ],
 "metadata": {
  "kernelspec": {
   "display_name": "Python 3 (ipykernel)",
   "language": "python",
   "name": "python3"
  },
  "language_info": {
   "codemirror_mode": {
    "name": "ipython",
    "version": 3
   },
   "file_extension": ".py",
   "mimetype": "text/x-python",
   "name": "python",
   "nbconvert_exporter": "python",
   "pygments_lexer": "ipython3",
   "version": "3.10.12"
  }
 },
 "nbformat": 4,
 "nbformat_minor": 5
}
