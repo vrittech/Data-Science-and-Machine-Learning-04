{
 "cells": [
  {
   "cell_type": "markdown",
   "id": "88b2a362-aaab-4c83-95db-4fe3620a73d2",
   "metadata": {},
   "source": [
    "# Intorduction to Probability\n",
    "\n",
    "Probability is a branch of mathematics that deals with the study of random events and their likelihoods of occurrence. It is used to quantify uncertainty and measure the likelihood of different outcomes.\n",
    "\n",
    "\n",
    "Probability is a fundamental concept in data science that plays a crucial role in data analysis, modeling, and decision-making. It is the study of the likelihood or chance of an event occurring. Probability is used in data science to analyze and interpret data, build models, and make predictions.\n",
    "\n",
    "In data science, probability is used to:\n",
    "\n",
    "- **Describe the likelihood of events:** Probability theory provides a framework to describe the likelihood of events occurring. For example, it can be used to predict the likelihood of a customer buying a product or the likelihood of a patient developing a particular disease.\n",
    "\n",
    "- **Model uncertainty:** Probability theory is used to model uncertainty in data science. For instance, it can be used to model the uncertainty associated with the outcome of a marketing campaign.\n",
    "\n",
    "- **Build predictive models:** Probability theory is used to build predictive models that can be used to make predictions about future events. For example, it can be used to build a model that predicts the likelihood of a customer churning.\n",
    "\n",
    "- **Data analysis:** Probability theory is used to analyze data and make inferences. For instance, it can be used to analyze data from a survey to make conclusions about the population being studied.\n",
    "\n",
    "Some common applications of probability in data science include:\n",
    "\n",
    "- **Predictive modeling:** Probability theory is used to build predictive models for a wide range of applications, such as predicting customer behavior, stock prices, or weather patterns.\n",
    "\n",
    "- **Bayesian inference:** Probability theory is used in Bayesian inference, a statistical approach used to update probabilities based on new evidence or information.\n",
    "\n",
    "- **A/B testing:** Probability theory is used in A/B testing, a technique used to compare the effectiveness of two different versions of a product, webpage, or marketing campaign.\n",
    "\n",
    "- **Fraud detection:** Probability theory is used in fraud detection to identify anomalies and detect fraudulent activities.\n",
    "\n",
    "Overall, probability is a crucial tool for data scientists to make sense of data and build models that can be used to make predictions and informed decisions.\n"
   ]
  },
  {
   "cell_type": "markdown",
   "id": "62c492fe",
   "metadata": {},
   "source": [
    "\n",
    "## Random Experiment\n",
    "\n",
    "A random experiment is an experiment in which the outcome is uncertain, and it cannot be predicted with certainty. Examples of random experiments include tossing a coin, rolling a die, drawing a card from a deck, and so on.\n",
    "\n",
    "## Sample Space\n",
    "The sample space of a random experiment is the set of all possible outcomes of the experiment. For example, the sample space for tossing a coin is `{heads, tails}`, and the sample space for rolling a die is `{1, 2, 3, 4, 5, 6}`.\n",
    "\n",
    "## Events and their Probabilities\n",
    "\n",
    "An event is a subset of the sample space, which represents a specific outcome or a combination of outcomes. For example, getting heads when tossing a coin is an event, and getting an even number when rolling a die is also an event.\n",
    "\n",
    "The probability of an event is a number between `0` and `1`, which represents the likelihood of the event occurring. A probability of `0` means that the event is impossible, and a probability of `1` means that the event is certain.\n",
    "\n",
    "## Theoretical Probability\n",
    "\n",
    "Theoretical probability is the probability of an event based on mathematical calculations and assumptions. For example, the theoretical probability of getting heads when tossing a fair coin is `1/2`.\n",
    "\n",
    "## Experimental Probability\n",
    "\n",
    "Experimental probability is the probability of an event based on actual experiments or observations. For example, if you toss a coin `100` times and get `55` heads and `45` tails, the experimental probability of getting heads is `55/100 = 0.55`."
   ]
  },
  {
   "cell_type": "code",
   "execution_count": null,
   "id": "a1be97dc-12fe-41ae-b55d-a17fd8b9f722",
   "metadata": {},
   "outputs": [],
   "source": []
  }
 ],
 "metadata": {
  "kernelspec": {
   "display_name": "Python 3 (ipykernel)",
   "language": "python",
   "name": "python3"
  },
  "language_info": {
   "codemirror_mode": {
    "name": "ipython",
    "version": 3
   },
   "file_extension": ".py",
   "mimetype": "text/x-python",
   "name": "python",
   "nbconvert_exporter": "python",
   "pygments_lexer": "ipython3",
   "version": "3.10.12"
  }
 },
 "nbformat": 4,
 "nbformat_minor": 5
}
