{
 "cells": [
  {
   "cell_type": "code",
   "execution_count": 6,
   "id": "069710eb-1320-47ef-bdae-cad537b9cd49",
   "metadata": {},
   "outputs": [],
   "source": [
    "import numpy as np"
   ]
  },
  {
   "cell_type": "markdown",
   "id": "31b91023-6be9-4cd6-91fc-c682b457c379",
   "metadata": {},
   "source": [
    "### Numpy Data-type"
   ]
  },
  {
   "cell_type": "code",
   "execution_count": 39,
   "id": "0c17611a-ad60-4f76-aeaa-851289bbd896",
   "metadata": {},
   "outputs": [],
   "source": [
    "a = np.array([1,5,9], dtype = np.int32)"
   ]
  },
  {
   "cell_type": "code",
   "execution_count": 40,
   "id": "140e694f-463d-44ca-80e4-14e8387c73c0",
   "metadata": {},
   "outputs": [
    {
     "name": "stdout",
     "output_type": "stream",
     "text": [
      "[1 5 9]\n"
     ]
    }
   ],
   "source": [
    "print(a)"
   ]
  },
  {
   "cell_type": "code",
   "execution_count": 41,
   "id": "d128dc6c-7795-4edc-9af3-cd5bae4b99da",
   "metadata": {},
   "outputs": [
    {
     "data": {
      "text/plain": [
       "dtype('int32')"
      ]
     },
     "execution_count": 41,
     "metadata": {},
     "output_type": "execute_result"
    }
   ],
   "source": [
    "a.dtype"
   ]
  },
  {
   "cell_type": "code",
   "execution_count": 34,
   "id": "aabc4d0f-5ff0-443c-ba0b-e61872eefe62",
   "metadata": {},
   "outputs": [],
   "source": [
    "c = np.array([True, False, True], dtype = bool)"
   ]
  },
  {
   "cell_type": "code",
   "execution_count": 35,
   "id": "ede48718-4cde-41e0-891e-f47e0d1bbd7d",
   "metadata": {},
   "outputs": [
    {
     "data": {
      "text/plain": [
       "dtype('bool')"
      ]
     },
     "execution_count": 35,
     "metadata": {},
     "output_type": "execute_result"
    }
   ],
   "source": [
    "c.dtype"
   ]
  },
  {
   "cell_type": "code",
   "execution_count": 36,
   "id": "06e29628-2b72-4bfc-bcde-927f881ce44a",
   "metadata": {},
   "outputs": [
    {
     "data": {
      "text/plain": [
       "array([ True, False,  True])"
      ]
     },
     "execution_count": 36,
     "metadata": {},
     "output_type": "execute_result"
    }
   ],
   "source": [
    "c"
   ]
  },
  {
   "cell_type": "code",
   "execution_count": 30,
   "id": "01948599-798d-4faa-ac07-8b96d2562ff8",
   "metadata": {},
   "outputs": [],
   "source": [
    "c = np.array([\"Ram\", \"shaym\", \"hari\"])"
   ]
  },
  {
   "cell_type": "code",
   "execution_count": 27,
   "id": "fba9e5de-8abb-4b7e-ac08-fb481d74f0c4",
   "metadata": {},
   "outputs": [
    {
     "data": {
      "text/plain": [
       "array(['Ram', 'shaym', 'hari'], dtype='<U5')"
      ]
     },
     "execution_count": 27,
     "metadata": {},
     "output_type": "execute_result"
    }
   ],
   "source": [
    "c"
   ]
  },
  {
   "cell_type": "code",
   "execution_count": 28,
   "id": "198e724a-3fe9-46e3-b3b3-c46f6b203954",
   "metadata": {},
   "outputs": [
    {
     "data": {
      "text/plain": [
       "dtype('<U5')"
      ]
     },
     "execution_count": 28,
     "metadata": {},
     "output_type": "execute_result"
    }
   ],
   "source": [
    "c.dtype"
   ]
  },
  {
   "cell_type": "code",
   "execution_count": null,
   "id": "b2c8f126-01b0-4dc5-941b-fa78f0f9f5ed",
   "metadata": {},
   "outputs": [],
   "source": []
  },
  {
   "cell_type": "markdown",
   "id": "e1e853e7-2cef-4c15-9c03-f74b6555c9e4",
   "metadata": {},
   "source": [
    "### Type Conversion"
   ]
  },
  {
   "cell_type": "code",
   "execution_count": 37,
   "id": "2c987779-9ba0-4285-8133-2dbf7fd7271f",
   "metadata": {},
   "outputs": [
    {
     "data": {
      "text/plain": [
       "array([ True, False,  True])"
      ]
     },
     "execution_count": 37,
     "metadata": {},
     "output_type": "execute_result"
    }
   ],
   "source": [
    "c"
   ]
  },
  {
   "cell_type": "code",
   "execution_count": 38,
   "id": "65035a38-4b04-48b1-a74d-3a12e6d96d17",
   "metadata": {},
   "outputs": [
    {
     "data": {
      "text/plain": [
       "array([1., 0., 1.])"
      ]
     },
     "execution_count": 38,
     "metadata": {},
     "output_type": "execute_result"
    }
   ],
   "source": [
    "c.astype(np.float64)"
   ]
  },
  {
   "cell_type": "code",
   "execution_count": 43,
   "id": "91710bb2-1d83-4016-b16f-762b6d495831",
   "metadata": {},
   "outputs": [
    {
     "data": {
      "text/plain": [
       "array([1., 5., 9.], dtype=float32)"
      ]
     },
     "execution_count": 43,
     "metadata": {},
     "output_type": "execute_result"
    }
   ],
   "source": [
    "a.astype(np.float32)"
   ]
  },
  {
   "cell_type": "code",
   "execution_count": null,
   "id": "9335247f-22eb-4619-90cd-c5db952fc79e",
   "metadata": {},
   "outputs": [],
   "source": []
  }
 ],
 "metadata": {
  "kernelspec": {
   "display_name": "Python 3 (ipykernel)",
   "language": "python",
   "name": "python3"
  },
  "language_info": {
   "codemirror_mode": {
    "name": "ipython",
    "version": 3
   },
   "file_extension": ".py",
   "mimetype": "text/x-python",
   "name": "python",
   "nbconvert_exporter": "python",
   "pygments_lexer": "ipython3",
   "version": "3.10.12"
  }
 },
 "nbformat": 4,
 "nbformat_minor": 5
}
