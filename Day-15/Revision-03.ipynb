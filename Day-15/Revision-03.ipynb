{
 "cells": [
  {
   "cell_type": "code",
   "execution_count": 12,
   "id": "bf6bfd97-5d9a-4fca-9420-320d8d45292d",
   "metadata": {},
   "outputs": [],
   "source": [
    "class Characters:\n",
    "    count_of_char = 0\n",
    "    \n",
    "    def __init__(self, speed, health):\n",
    "        self.speed = speed\n",
    "        self.health = health\n",
    "        Characters.count_of_char += 1\n",
    "\n",
    "    def describe(self):\n",
    "        print(f\"Speed is : {self.speed} with HP {self.health}\")\n",
    "\n",
    "    @classmethod\n",
    "    def get_not_of_char(cls):\n",
    "        return cls.count_of_char\n"
   ]
  },
  {
   "cell_type": "code",
   "execution_count": 13,
   "id": "0c16ec8a-f26d-4c3e-ad34-a080af8b2615",
   "metadata": {},
   "outputs": [],
   "source": [
    "jack = Characters(20,100)\n",
    "jhon = Characters(50,80)"
   ]
  },
  {
   "cell_type": "code",
   "execution_count": 14,
   "id": "2b7c3a50-0190-4512-81b1-3f59723eff82",
   "metadata": {},
   "outputs": [
    {
     "data": {
      "text/plain": [
       "2"
      ]
     },
     "execution_count": 14,
     "metadata": {},
     "output_type": "execute_result"
    }
   ],
   "source": [
    "jack.get_not_of_char()"
   ]
  },
  {
   "cell_type": "code",
   "execution_count": 68,
   "id": "74a481b4-4320-4914-b73e-5eca752c5146",
   "metadata": {},
   "outputs": [],
   "source": [
    "class List:\n",
    "    def __init__(self,inp):\n",
    "        self.data = [inp]\n",
    "\n",
    "    def append(self, new_val):\n",
    "        self.data.append(new_val)\n",
    "\n",
    "    def __str__(self):\n",
    "        print(self.data)\n",
    "        return \"\""
   ]
  },
  {
   "cell_type": "code",
   "execution_count": 69,
   "id": "c63fbc18-5508-4cad-a743-96cb6d11e6eb",
   "metadata": {},
   "outputs": [],
   "source": [
    "lst = List(3)"
   ]
  },
  {
   "cell_type": "code",
   "execution_count": 70,
   "id": "985cdd0f-38e6-42a8-b603-cc4011cb3a7a",
   "metadata": {},
   "outputs": [],
   "source": [
    "lst.append(4)"
   ]
  },
  {
   "cell_type": "code",
   "execution_count": 71,
   "id": "85ea214b-9dd2-46a0-a79b-b1630383f29c",
   "metadata": {},
   "outputs": [
    {
     "name": "stdout",
     "output_type": "stream",
     "text": [
      "[3, 4]\n",
      "\n"
     ]
    }
   ],
   "source": [
    "print(lst)"
   ]
  },
  {
   "cell_type": "markdown",
   "id": "88c754cd-366f-47f8-a53e-348f7ad89e22",
   "metadata": {},
   "source": [
    "Create a BankAccount class with attributes account_number and balance. Include methods deposit() and withdraw() to add or subtract funds form the acoount."
   ]
  },
  {
   "cell_type": "code",
   "execution_count": 57,
   "id": "fb11c90d-db27-4c30-a318-2182ae2907e4",
   "metadata": {},
   "outputs": [],
   "source": [
    "class BankAccount:\n",
    "    account_holder = 0\n",
    "    \n",
    "    def __init__(self,account_number, balance):\n",
    "        self.accn_no = account_number\n",
    "        self.balance = balance\n",
    "\n",
    "    def deposit(self, amount):\n",
    "        self.balance = self.balance + amount\n",
    "        print(f\"Balance after deposit {self.balance}\")\n",
    "\n",
    "        return self.balance\n",
    "\n",
    "    def withdraw(self, amount):\n",
    "        if self.balance > amount:\n",
    "            self.balance = self.balance - amount\n",
    "            print(f\"New balance is {self.balance}\")\n",
    "        else:\n",
    "            print(\"Insufficient Funds\")\n",
    "            "
   ]
  },
  {
   "cell_type": "code",
   "execution_count": 58,
   "id": "55374d45-425b-4920-a20a-8ee930b06629",
   "metadata": {},
   "outputs": [],
   "source": [
    "prabin = BankAccount(\"034560\", 1000)"
   ]
  },
  {
   "cell_type": "code",
   "execution_count": 59,
   "id": "17fa957d-b67c-4105-a808-09bd2d53bef6",
   "metadata": {},
   "outputs": [
    {
     "name": "stdout",
     "output_type": "stream",
     "text": [
      "Balance after deposit 1500\n"
     ]
    }
   ],
   "source": [
    "new_bal = prabin.deposit(500)"
   ]
  },
  {
   "cell_type": "code",
   "execution_count": 61,
   "id": "24bde1e9-87d3-4aa3-b133-eaf239c4a524",
   "metadata": {},
   "outputs": [
    {
     "data": {
      "text/plain": [
       "1500"
      ]
     },
     "execution_count": 61,
     "metadata": {},
     "output_type": "execute_result"
    }
   ],
   "source": [
    "new_bal"
   ]
  },
  {
   "cell_type": "code",
   "execution_count": 60,
   "id": "128f053e-ac52-49dc-8400-b439904723b2",
   "metadata": {},
   "outputs": [
    {
     "data": {
      "text/plain": [
       "1500"
      ]
     },
     "execution_count": 60,
     "metadata": {},
     "output_type": "execute_result"
    }
   ],
   "source": [
    "prabin.balance"
   ]
  },
  {
   "cell_type": "code",
   "execution_count": 49,
   "id": "471a89ff-c7b6-4b5c-9fd6-6b228a9c26ee",
   "metadata": {},
   "outputs": [
    {
     "name": "stdout",
     "output_type": "stream",
     "text": [
      "New balance is 1300\n"
     ]
    }
   ],
   "source": [
    "prabin.withdraw(200)"
   ]
  },
  {
   "cell_type": "code",
   "execution_count": 50,
   "id": "48fb9f3f-873d-4fbe-8b6a-bece83ec1b3d",
   "metadata": {},
   "outputs": [
    {
     "data": {
      "text/plain": [
       "5"
      ]
     },
     "execution_count": 50,
     "metadata": {},
     "output_type": "execute_result"
    }
   ],
   "source": [
    "prabin.account_holder"
   ]
  },
  {
   "cell_type": "code",
   "execution_count": 51,
   "id": "39a666a7-0d30-4f00-b54d-49eb70282b55",
   "metadata": {},
   "outputs": [],
   "source": [
    "sagar  =BankAccount(\"475\", 500)"
   ]
  },
  {
   "cell_type": "code",
   "execution_count": 52,
   "id": "3f9abd8a-d8a9-4c44-b926-8eb05ab940ef",
   "metadata": {},
   "outputs": [
    {
     "data": {
      "text/plain": [
       "5"
      ]
     },
     "execution_count": 52,
     "metadata": {},
     "output_type": "execute_result"
    }
   ],
   "source": [
    "sagar.account_holder"
   ]
  },
  {
   "cell_type": "code",
   "execution_count": 53,
   "id": "93813def-f78d-48db-b94d-249a71678def",
   "metadata": {},
   "outputs": [
    {
     "data": {
      "text/plain": [
       "500"
      ]
     },
     "execution_count": 53,
     "metadata": {},
     "output_type": "execute_result"
    }
   ],
   "source": [
    "sagar.balance"
   ]
  },
  {
   "cell_type": "code",
   "execution_count": null,
   "id": "d68db151-b6d0-42b9-a015-16028a9d5087",
   "metadata": {},
   "outputs": [],
   "source": []
  },
  {
   "cell_type": "code",
   "execution_count": 62,
   "id": "1b9a0ac4-9e2a-49db-8924-c0f432449395",
   "metadata": {},
   "outputs": [],
   "source": [
    "class Parent:\n",
    "    speaks = [\"Nepali\"]\n"
   ]
  },
  {
   "cell_type": "code",
   "execution_count": 63,
   "id": "00f8f786-1796-439e-804b-99d6f7d367c9",
   "metadata": {},
   "outputs": [],
   "source": [
    "\n",
    "class Child(Parent):\n",
    "    def __init__(self):\n",
    "        super().__init__()\n",
    "        self.speaks.append(\"English\")"
   ]
  },
  {
   "cell_type": "code",
   "execution_count": null,
   "id": "1956e319-e6e2-4a78-9851-1740ba933c03",
   "metadata": {},
   "outputs": [],
   "source": []
  },
  {
   "cell_type": "markdown",
   "id": "8a47d539-2433-4095-8dbb-0df9df576c34",
   "metadata": {},
   "source": [
    "Create a **Bus** class that inherits from the **Vehicle** class. Given the **capacity** argument of Bus seating_capacity() a default value of 50"
   ]
  },
  {
   "cell_type": "code",
   "execution_count": 72,
   "id": "c9bd2815-5b27-47eb-9bda-f77f16d13369",
   "metadata": {},
   "outputs": [],
   "source": [
    "class Vechicle:\n",
    "    def __init__(self, name, color):\n",
    "        self.name = name\n",
    "        self.color = color\n",
    "\n",
    "    def details(self):\n",
    "        print(f\"Name : {self.name} and Color : {self.color}\")\n",
    "        \n",
    "class Bus(Vechicle):\n",
    "    def __init__(self,name, color, capacity=50):\n",
    "        super().__init__(name, color)\n",
    "        self.seating_capacity = capacity\n",
    "\n",
    "    def capacity(self):\n",
    "        print(f\"Seating Capacity is {self.seating_capacity}\")"
   ]
  },
  {
   "cell_type": "code",
   "execution_count": 73,
   "id": "b6ca1a9f-954a-4765-9754-af6698c2da85",
   "metadata": {},
   "outputs": [],
   "source": [
    "tata = Bus('x100', 'grey')"
   ]
  },
  {
   "cell_type": "code",
   "execution_count": 74,
   "id": "6b394e70-e0c2-4371-a4f4-fc5bcd91e37b",
   "metadata": {},
   "outputs": [
    {
     "data": {
      "text/plain": [
       "50"
      ]
     },
     "execution_count": 74,
     "metadata": {},
     "output_type": "execute_result"
    }
   ],
   "source": [
    "tata.seating_capacity"
   ]
  },
  {
   "cell_type": "code",
   "execution_count": 75,
   "id": "39691e84-c446-4d4b-81d5-7a1806b402df",
   "metadata": {},
   "outputs": [
    {
     "name": "stdout",
     "output_type": "stream",
     "text": [
      "Seating Capacity is 50\n"
     ]
    }
   ],
   "source": [
    "tata.capacity()"
   ]
  },
  {
   "cell_type": "code",
   "execution_count": 76,
   "id": "dea1a9d6-bfca-491c-8de6-d4407e7ec234",
   "metadata": {},
   "outputs": [
    {
     "name": "stdout",
     "output_type": "stream",
     "text": [
      "Name : x100 and Color : grey\n"
     ]
    }
   ],
   "source": [
    "tata.details()"
   ]
  },
  {
   "cell_type": "code",
   "execution_count": 4,
   "id": "4e68eb7b-4d09-4a79-852a-c46c0db96fb4",
   "metadata": {},
   "outputs": [],
   "source": [
    "class MyList(list):\n",
    "    def sort(self):\n",
    "       return 'custom sorting algorithm'\n",
    "\n",
    "mylist = MyList([1,2,3])\n",
    "# mylist.sort() # => 'custom sorting algorithm'\n"
   ]
  },
  {
   "cell_type": "code",
   "execution_count": 6,
   "id": "c9b526dd-b968-46c2-9900-48cc4f733cf2",
   "metadata": {},
   "outputs": [],
   "source": [
    "mylist.reverse()"
   ]
  },
  {
   "cell_type": "code",
   "execution_count": 7,
   "id": "1e04ebe9-1249-4074-9d84-be9d9885e260",
   "metadata": {},
   "outputs": [
    {
     "data": {
      "text/plain": [
       "[3, 2, 1]"
      ]
     },
     "execution_count": 7,
     "metadata": {},
     "output_type": "execute_result"
    }
   ],
   "source": [
    "mylist"
   ]
  },
  {
   "cell_type": "code",
   "execution_count": 8,
   "id": "d78bfdd8-b807-4c3a-8d57-a747e137e894",
   "metadata": {},
   "outputs": [
    {
     "data": {
      "text/plain": [
       "'custom sorting algorithm'"
      ]
     },
     "execution_count": 8,
     "metadata": {},
     "output_type": "execute_result"
    }
   ],
   "source": [
    "mylist.sort()"
   ]
  },
  {
   "cell_type": "code",
   "execution_count": null,
   "id": "fcadebd0-84fb-4f19-bdae-5baae649f70a",
   "metadata": {},
   "outputs": [],
   "source": []
  }
 ],
 "metadata": {
  "kernelspec": {
   "display_name": "Python 3 (ipykernel)",
   "language": "python",
   "name": "python3"
  },
  "language_info": {
   "codemirror_mode": {
    "name": "ipython",
    "version": 3
   },
   "file_extension": ".py",
   "mimetype": "text/x-python",
   "name": "python",
   "nbconvert_exporter": "python",
   "pygments_lexer": "ipython3",
   "version": "3.10.12"
  }
 },
 "nbformat": 4,
 "nbformat_minor": 5
}
