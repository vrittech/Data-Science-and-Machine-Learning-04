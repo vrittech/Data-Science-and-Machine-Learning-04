{
 "cells": [
  {
   "cell_type": "markdown",
   "metadata": {},
   "source": [
    "# Python Boolean Type\n",
    "\n",
    "In Python, the boolean type is a built-in data type that has two possible values: `True` and `False`. Booleans are used to represent the truth values of logical expressions, and they are often used in conditional statements to control the flow of a program.\n",
    "\n",
    "You can create boolean values using the literals `True` and `False`, or by using expressions that evaluate to boolean values.\n",
    "\n",
    "Here are some examples:"
   ]
  },
  {
   "cell_type": "code",
   "execution_count": 1,
   "metadata": {},
   "outputs": [
    {
     "name": "stdout",
     "output_type": "stream",
     "text": [
      "False\n",
      "True\n"
     ]
    }
   ],
   "source": [
    "a = 5\n",
    "b = 10\n",
    "c = (a > b)\n",
    "d = (a < b)\n",
    "\n",
    "print(c)\n",
    "print(d)"
   ]
  },
  {
   "cell_type": "markdown",
   "metadata": {},
   "source": [
    "Boolean values can be combined using logical operators. The most common logical operators are:\n",
    "\n",
    "- `and:` returns True if both operands are True, otherwise False.\n",
    "- `or:` returns True if either operand is True, otherwise False.\n",
    "- `not:` negates the value of the operand\n",
    "\n",
    "Here are some examples:"
   ]
  },
  {
   "cell_type": "code",
   "execution_count": 2,
   "metadata": {},
   "outputs": [
    {
     "name": "stdout",
     "output_type": "stream",
     "text": [
      "False\n",
      "True\n",
      "False\n"
     ]
    }
   ],
   "source": [
    "x = True\n",
    "y = False\n",
    "\n",
    "print(x and y)\n",
    "print(x or y)\n",
    "print(not x)"
   ]
  },
  {
   "cell_type": "markdown",
   "metadata": {},
   "source": [
    "In Python, any non-zero number, non-empty string, non-empty list, non-empty tuple, non-empty dictionary, or non-None object is considered `True`. Zero, empty strings, empty lists, empty tuples, empty dictionaries, and None are considered `False`.\n",
    "\n",
    "Here are some examples:"
   ]
  },
  {
   "cell_type": "code",
   "execution_count": 3,
   "metadata": {},
   "outputs": [
    {
     "name": "stdout",
     "output_type": "stream",
     "text": [
      "True\n",
      "False\n",
      "True\n",
      "False\n",
      "True\n",
      "False\n",
      "True\n",
      "False\n",
      "True\n",
      "False\n"
     ]
    }
   ],
   "source": [
    "x = 10\n",
    "y = 0\n",
    "s = \"Hello\"\n",
    "t = \"\"\n"
   ]
  },
  {
   "cell_type": "code",
   "execution_count": null,
   "metadata": {},
   "outputs": [],
   "source": [
    "print(bool(x))         # True\n",
    "print(bool(y))         # False\n",
    "print(bool(s))         # True\n",
    "print(bool(t))         # False"
   ]
  },
  {
   "cell_type": "code",
   "execution_count": null,
   "metadata": {},
   "outputs": [],
   "source": [
    "lst = [1, 2, 3]\n",
    "empty_lst = []\n",
    "dct = {\"a\": 1, \"b\": 2}\n",
    "empty_dct = {}\n",
    "obj = object()\n",
    "none_obj = None"
   ]
  },
  {
   "cell_type": "code",
   "execution_count": null,
   "metadata": {},
   "outputs": [],
   "source": [
    "print(bool(lst))       # True\n",
    "print(bool(empty_lst)) # False\n"
   ]
  },
  {
   "cell_type": "code",
   "execution_count": null,
   "metadata": {},
   "outputs": [],
   "source": [
    "print(bool(dct))       # True\n",
    "print(bool(empty_dct)) # False\n"
   ]
  },
  {
   "cell_type": "code",
   "execution_count": null,
   "metadata": {},
   "outputs": [],
   "source": [
    "print(bool(obj))       # True\n",
    "print(bool(none_obj))  # False"
   ]
  }
 ],
 "metadata": {
  "kernelspec": {
   "display_name": "Python 3 (ipykernel)",
   "language": "python",
   "name": "python3"
  },
  "language_info": {
   "codemirror_mode": {
    "name": "ipython",
    "version": 3
   },
   "file_extension": ".py",
   "mimetype": "text/x-python",
   "name": "python",
   "nbconvert_exporter": "python",
   "pygments_lexer": "ipython3",
   "version": "3.10.12"
  },
  "vscode": {
   "interpreter": {
    "hash": "c791da6e143d5c1c10fa1ed7f1815151e7a056a8f495bad5d982eb2a99eb5509"
   }
  }
 },
 "nbformat": 4,
 "nbformat_minor": 4
}
