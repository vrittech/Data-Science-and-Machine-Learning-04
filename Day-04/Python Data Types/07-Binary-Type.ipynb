{
 "cells": [
  {
   "cell_type": "markdown",
   "metadata": {},
   "source": [
    "# Python Binary Type\n",
    "\n",
    "In Python, binary data is represented using the `bytes` and `bytearray` types.\n",
    "\n",
    "A `bytes` object is an immutable sequence of bytes, while a `bytearray` object is a mutable sequence of bytes.\n",
    "\n",
    "You can create `bytes` and `bytearray` objects using the built-in `bytes()` and `bytearray()` functions, passing them either a string of binary data or a list of integers representing the binary data.\n",
    "\n",
    "Here are some examples:"
   ]
  },
  {
   "cell_type": "code",
   "execution_count": 1,
   "metadata": {},
   "outputs": [],
   "source": [
    "# Create a bytes object from a string of binary data\n",
    "b = b'\\x00\\x01\\x02\\x03\\x04\\x05'\n",
    "\n",
    "# Create a bytes object from a list of integers representing the binary data\n",
    "b = bytes([0, 1, 2, 3, 4, 5])\n",
    "\n",
    "# Create a bytearray object from a string of binary data\n",
    "ba = bytearray(b'\\x00\\x01\\x02\\x03\\x04\\x05')\n",
    "\n",
    "# Create a bytearray object from a list of integers representing the binary data\n",
    "ba = bytearray([0, 1, 2, 3, 4, 5])"
   ]
  },
  {
   "cell_type": "markdown",
   "metadata": {},
   "source": [
    "Once you have a `bytes` or `bytearray` object, you can access individual bytes using the indexing operator, just like with lists and strings.\n",
    "\n",
    "Here's an example:"
   ]
  },
  {
   "cell_type": "code",
   "execution_count": 2,
   "metadata": {},
   "outputs": [
    {
     "name": "stdout",
     "output_type": "stream",
     "text": [
      "0\n",
      "1\n",
      "2\n"
     ]
    }
   ],
   "source": [
    "b = b'\\x00\\x01\\x02\\x03\\x04\\x05'\n",
    "\n",
    "print(b[0])  # 0\n",
    "print(b[1])  # 1\n",
    "print(b[2])  # 2"
   ]
  },
  {
   "cell_type": "markdown",
   "metadata": {},
   "source": [
    "Both bytes and bytearray objects have a hex() method that returns a hexadecimal representation of the binary data:"
   ]
  },
  {
   "cell_type": "code",
   "execution_count": 3,
   "metadata": {},
   "outputs": [
    {
     "name": "stdout",
     "output_type": "stream",
     "text": [
      "000102030405\n"
     ]
    }
   ],
   "source": [
    "b = b'\\x00\\x01\\x02\\x03\\x04\\x05'\n",
    "\n",
    "print(b.hex())  # \"000102030405\""
   ]
  },
  {
   "cell_type": "markdown",
   "metadata": {},
   "source": [
    "Note that in Python 3, the `bytes` type is not the same as the `str` type. The `bytes` type is used for binary data, while the `str` type is used for text data. If you need to convert between `bytes` and `str` objects, you can use the `encode()` and `decode()` methods."
   ]
  },
  {
   "cell_type": "code",
   "execution_count": 4,
   "metadata": {},
   "outputs": [
    {
     "name": "stdout",
     "output_type": "stream",
     "text": [
      "b'Hello, World!'\n",
      "Hello, World!\n"
     ]
    }
   ],
   "source": [
    "s = \"Hello, World!\"\n",
    "\n",
    "b = s.encode()\n",
    "print(b)\n",
    "\n",
    "t = b.decode()\n",
    "print(t)"
   ]
  },
  {
   "cell_type": "markdown",
   "metadata": {},
   "source": [
    "It's important to use the correct character encoding when converting between bytes and strings. If the wrong encoding is used, the resulting string may not be the same as the original string.\n",
    "\n",
    "Here's an example of using the wrong encoding:"
   ]
  },
  {
   "cell_type": "code",
   "execution_count": 5,
   "metadata": {},
   "outputs": [
    {
     "ename": "UnicodeEncodeError",
     "evalue": "'ascii' codec can't encode character '\\xe9' in position 1: ordinal not in range(128)",
     "output_type": "error",
     "traceback": [
      "\u001b[0;31m---------------------------------------------------------------------------\u001b[0m",
      "\u001b[0;31mUnicodeEncodeError\u001b[0m                        Traceback (most recent call last)",
      "Cell \u001b[0;32mIn[5], line 2\u001b[0m\n\u001b[1;32m      1\u001b[0m s \u001b[38;5;241m=\u001b[39m \u001b[38;5;124m\"\u001b[39m\u001b[38;5;124mrésumé\u001b[39m\u001b[38;5;124m\"\u001b[39m\n\u001b[0;32m----> 2\u001b[0m b \u001b[38;5;241m=\u001b[39m \u001b[43ms\u001b[49m\u001b[38;5;241;43m.\u001b[39;49m\u001b[43mencode\u001b[49m\u001b[43m(\u001b[49m\u001b[38;5;124;43m'\u001b[39;49m\u001b[38;5;124;43mascii\u001b[39;49m\u001b[38;5;124;43m'\u001b[39;49m\u001b[43m)\u001b[49m\n\u001b[1;32m      4\u001b[0m \u001b[38;5;28mprint\u001b[39m(b)  \u001b[38;5;66;03m# Raises a UnicodeEncodeError\u001b[39;00m\n",
      "\u001b[0;31mUnicodeEncodeError\u001b[0m: 'ascii' codec can't encode character '\\xe9' in position 1: ordinal not in range(128)"
     ]
    }
   ],
   "source": [
    "s = \"résumé\"\n",
    "b = s.encode('ascii')\n",
    "\n",
    "print(b)  # Raises a UnicodeEncodeError"
   ]
  },
  {
   "cell_type": "markdown",
   "metadata": {},
   "source": [
    "In this example, the `s` string contains a non-ASCII character (the é in résumé). When the `encode()` method is called with the `ascii` encoding, it raises a `UnicodeEncodeError`, because the `ascii` encoding does not support the é character.\n",
    "\n",
    "To avoid this error, you should use an encoding that supports the characters in your string. For example, you could use the `utf-8` encoding:"
   ]
  },
  {
   "cell_type": "code",
   "execution_count": 6,
   "metadata": {},
   "outputs": [
    {
     "name": "stdout",
     "output_type": "stream",
     "text": [
      "b'r\\xc3\\xa9sum\\xc3\\xa9'\n"
     ]
    }
   ],
   "source": [
    "s = \"résumé\"\n",
    "b = s.encode('utf-8')\n",
    "\n",
    "print(b)  # b'r\\xc3\\xa9sum\\xc3\\xa9'"
   ]
  },
  {
   "cell_type": "markdown",
   "metadata": {},
   "source": [
    "In this example, the `s` string is encoded using the `utf-8` encoding, which supports the é character. The resulting bytes object is assigned to the variable `b`."
   ]
  }
 ],
 "metadata": {
  "kernelspec": {
   "display_name": "Python 3 (ipykernel)",
   "language": "python",
   "name": "python3"
  },
  "language_info": {
   "codemirror_mode": {
    "name": "ipython",
    "version": 3
   },
   "file_extension": ".py",
   "mimetype": "text/x-python",
   "name": "python",
   "nbconvert_exporter": "python",
   "pygments_lexer": "ipython3",
   "version": "3.8.10"
  }
 },
 "nbformat": 4,
 "nbformat_minor": 2
}
