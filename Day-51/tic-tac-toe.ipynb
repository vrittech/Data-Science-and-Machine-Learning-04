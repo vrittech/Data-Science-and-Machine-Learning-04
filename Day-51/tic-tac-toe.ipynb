{
 "cells": [
  {
   "cell_type": "code",
   "execution_count": 1,
   "id": "02cdc2f5-c48a-41ae-97d3-c9aa447097b1",
   "metadata": {},
   "outputs": [],
   "source": [
    "import random"
   ]
  },
  {
   "cell_type": "code",
   "execution_count": 2,
   "id": "7cf13c4f-b995-4106-a7c5-2232e851fbd8",
   "metadata": {},
   "outputs": [],
   "source": [
    "class TicTacToe:\n",
    "    def __init__(self, player1, player2):\n",
    "        self.player1 = player1\n",
    "        self.player2 = player2\n",
    "        self.board = [' '] * 9\n",
    "        self.player_1_turn = random.choice([True, False])\n",
    "    \n",
    "    def check_full(self, ):\n",
    "        emptys = [x for x in self.board if x == ' ']\n",
    "        if len(emptys) == 0:\n",
    "            return True\n",
    "        return False\n",
    "        \n",
    "    def print_board(self, ):\n",
    "        b = self.board\n",
    "\n",
    "        grid = f'''\n",
    "        {b[0]} | {b[1]} | {b[2]}\n",
    "        ---------\n",
    "        {b[3]} | {b[4]} | {b[5]}\n",
    "        ---------\n",
    "        {b[6]} | {b[7]} | {b[8]}\n",
    "        '''\n",
    "        print(grid)\n",
    "        \n",
    "    def check_winner(self, char):\n",
    "        b = self.board\n",
    "        winner = False\n",
    "        conditions = (\n",
    "            (0, 1, 2), (3, 4, 5), (6, 7, 8),\n",
    "            (0, 3, 6), (1, 4, 7), (2, 5, 8),\n",
    "            (0, 4, 8), (2, 4, 6)\n",
    "        )\n",
    "\n",
    "        for each_condition in conditions:\n",
    "            # i1, i2, i3 = each_condition[0], each_condition[1], each_condition[2]\n",
    "            i1, i2, i3 = each_condition # above and this are same\n",
    "            if char == b[i1] == b[i2] == b[i3]:\n",
    "                winner = True\n",
    "                return winner\n",
    "        return winner\n",
    "    \n",
    "    def play(self, ):\n",
    "        self.player1.new_game()\n",
    "        self.player2.new_game()\n",
    "        while True:\n",
    "            # Check Turns\n",
    "            if self.player_1_turn:\n",
    "                player = self.player1\n",
    "                other_player = self.player2\n",
    "            else:\n",
    "                player = self.player2\n",
    "                other_player = self.player1\n",
    "            # Ask for move\n",
    "            if player.player_type == 'human':\n",
    "                print(f'{player.name} Turn')\n",
    "                self.print_board()\n",
    "            try:\n",
    "                move = player.make_move(self.board)\n",
    "            except (IndexError, ValueError):\n",
    "                print('Game Ended with Draw')\n",
    "                break\n",
    "            # Check Valid\n",
    "            if move < 0 or move > 8:\n",
    "                print('Invalid move, Out of Range!!')\n",
    "                player.reward(-0.25, self.board) \n",
    "                continue\n",
    "            if self.board[move] != ' ':\n",
    "                print('Space is already filled out!!')\n",
    "                player.reward(-0.25, self.board) \n",
    "                continue\n",
    "            # Put Char\n",
    "            self.board[move] = player.char\n",
    "            # Check Winner\n",
    "            win = self.check_winner(player.char)\n",
    "            if win:\n",
    "                player.winner()\n",
    "                player.reward(5, self.board)\n",
    "                other_player.reward(-5, self.board)\n",
    "                self.print_board()\n",
    "                break\n",
    "            # Check full(draw)\n",
    "            full = self.check_full()\n",
    "            if full:\n",
    "                print('Game ended with draw')\n",
    "                player.reward(0.5, self.board)\n",
    "                other_player.reward(0.5, self.board)\n",
    "                self.print_board()\n",
    "                break\n",
    "            player.reward(0.25, self.board)\n",
    "            # Swap Turn\n",
    "            self.player_1_turn = not self.player_1_turn"
   ]
  },
  {
   "cell_type": "code",
   "execution_count": 3,
   "id": "41816f76-47ca-4b41-baa7-96dfd2192e21",
   "metadata": {},
   "outputs": [],
   "source": [
    "class Player:\n",
    "    def __init__(self, name, char, player_type='human'):\n",
    "        self.name = name\n",
    "        self.char = char\n",
    "        self.player_type = player_type\n",
    "    def make_move(self, board=None):\n",
    "        move = input('Make your move: ')\n",
    "        return int(move)\n",
    "    def new_game(self, ):\n",
    "        print(f'{self.name} is {self.char}')\n",
    "    def winner(self, ):\n",
    "        print(f'{self.name} is winner')\n",
    "    def reward(self, reward_value, board=None):\n",
    "        print(f'{self.name} gets reward {reward_value}')"
   ]
  },
  {
   "cell_type": "code",
   "execution_count": 4,
   "id": "d2406ec0-d8e1-400d-9397-17d0f4fab6fa",
   "metadata": {},
   "outputs": [],
   "source": [
    "class AI(Player):\n",
    "    def __init__(self, name, char, alpha=0.01, epsilon=1, gamma=0.9):\n",
    "        super().__init__(name, char, player_type='AI')\n",
    "        self.epsilon = epsilon # Epsilon Greedy\n",
    "        self.gamma = gamma # Discount Factor\n",
    "        self.alpha = alpha # Learing Rate\n",
    "        self.q_table = {}\n",
    "        \n",
    "    def get_Q(self, state, action):\n",
    "        if self.q_table.get((state, action)) == None:\n",
    "            self.q_table[(state, action)] = 5\n",
    "        return self.q_table[(state, action)]\n",
    "        \n",
    "    def available_moves(self, board):\n",
    "        return [x for x in range(9) if board[x] == ' ']\n",
    "        \n",
    "    def q_learn(self, state, action, reward, new_state):\n",
    "        '''\n",
    "        new_q_value = prev_q_value + alpha * (reward + gamma * max_q - prev_q_value)\n",
    "        '''\n",
    "        prev_q_value = self.get_Q(state, action)\n",
    "        available_actions = self.available_moves(state)\n",
    "        available_q_values = [self.get_Q(new_state, action) for action in available_actions]\n",
    "        max_q = max(available_q_values)\n",
    "        self.q_table[(state, action)] = prev_q_value + self.alpha * (reward + self.gamma * max_q - prev_q_value)\n",
    "        \n",
    "    def reward(self, reward_value, board):\n",
    "        print(f'{self.name} gets reward {reward_value}')\n",
    "        self.q_learn(self.prev_board, self.prev_action, reward_value, tuple(board))\n",
    "        \n",
    "    def make_move(self, board):\n",
    "        # save old state\n",
    "        self.prev_board = tuple(board)\n",
    "        available_action = self.available_moves(board)\n",
    "        # Selecting Random Action(Exploration)\n",
    "        if random.random() < self.epsilon: # Epsilon Greedy method\n",
    "            action_taken = random.choice(available_action)\n",
    "            self.prev_action = action_taken\n",
    "            self.epsilon *= 0.9999999 # Epsilon decay\n",
    "            return action_taken\n",
    "        # Selecting actions with max-Q value(Exploitation)\n",
    "        q_values = []\n",
    "        for each_action in available_action:\n",
    "            q_values.append(self.get_Q(board, each_action))\n",
    "        max_q_val = max(q_values)\n",
    "        index = q_values.index(max_q_val)\n",
    "        action_taken = available_action[index]\n",
    "        return action_taken"
   ]
  },
  {
   "cell_type": "code",
   "execution_count": 5,
   "id": "280dab3a-bd3e-4e60-a994-7307a8a0ba4e",
   "metadata": {},
   "outputs": [],
   "source": [
    "p1 = AI('Dall-E', 'X', epsilon=1, gamma=0.85, alpha=0.01)\n",
    "p2 = Player('Sagar', 'O', )"
   ]
  },
  {
   "cell_type": "code",
   "execution_count": 6,
   "id": "56a41cf7-0523-4f4d-86e5-13d09bba189e",
   "metadata": {},
   "outputs": [],
   "source": [
    "game = TicTacToe(p1, p2)"
   ]
  },
  {
   "cell_type": "code",
   "execution_count": 7,
   "id": "2ffede0d-92cc-4daf-a0c8-1229bb9441f3",
   "metadata": {},
   "outputs": [
    {
     "name": "stdout",
     "output_type": "stream",
     "text": [
      "Dall-E is X\n",
      "Sagar is O\n",
      "Sagar Turn\n",
      "\n",
      "          |   |  \n",
      "        ---------\n",
      "          |   |  \n",
      "        ---------\n",
      "          |   |  \n",
      "        \n"
     ]
    },
    {
     "name": "stdin",
     "output_type": "stream",
     "text": [
      "Make your move:  4\n"
     ]
    },
    {
     "name": "stdout",
     "output_type": "stream",
     "text": [
      "Sagar gets reward 0.25\n",
      "Dall-E gets reward 0.25\n",
      "Sagar Turn\n",
      "\n",
      "          |   |  \n",
      "        ---------\n",
      "          | O | X\n",
      "        ---------\n",
      "          |   |  \n",
      "        \n"
     ]
    },
    {
     "name": "stdin",
     "output_type": "stream",
     "text": [
      "Make your move:  1\n"
     ]
    },
    {
     "name": "stdout",
     "output_type": "stream",
     "text": [
      "Sagar gets reward 0.25\n",
      "Dall-E gets reward 0.25\n",
      "Sagar Turn\n",
      "\n",
      "          | O |  \n",
      "        ---------\n",
      "        X | O | X\n",
      "        ---------\n",
      "          |   |  \n",
      "        \n"
     ]
    },
    {
     "name": "stdin",
     "output_type": "stream",
     "text": [
      "Make your move:  8\n"
     ]
    },
    {
     "name": "stdout",
     "output_type": "stream",
     "text": [
      "Sagar gets reward 0.25\n",
      "Dall-E gets reward 0.25\n",
      "Sagar Turn\n",
      "\n",
      "        X | O |  \n",
      "        ---------\n",
      "        X | O | X\n",
      "        ---------\n",
      "          |   | O\n",
      "        \n"
     ]
    },
    {
     "name": "stdin",
     "output_type": "stream",
     "text": [
      "Make your move:  4\n"
     ]
    },
    {
     "name": "stdout",
     "output_type": "stream",
     "text": [
      "Space is already filled out!!\n",
      "Sagar gets reward -0.25\n",
      "Sagar Turn\n",
      "\n",
      "        X | O |  \n",
      "        ---------\n",
      "        X | O | X\n",
      "        ---------\n",
      "          |   | O\n",
      "        \n"
     ]
    },
    {
     "name": "stdin",
     "output_type": "stream",
     "text": [
      "Make your move:  2\n"
     ]
    },
    {
     "name": "stdout",
     "output_type": "stream",
     "text": [
      "Sagar gets reward 0.25\n",
      "Dall-E is winner\n",
      "Dall-E gets reward 5\n",
      "Sagar gets reward -5\n",
      "\n",
      "        X | O | O\n",
      "        ---------\n",
      "        X | O | X\n",
      "        ---------\n",
      "        X |   | O\n",
      "        \n"
     ]
    }
   ],
   "source": [
    "game.play()"
   ]
  },
  {
   "cell_type": "code",
   "execution_count": null,
   "id": "f50ba980-1246-4399-bff2-1c2b1c6776e9",
   "metadata": {},
   "outputs": [],
   "source": []
  }
 ],
 "metadata": {
  "kernelspec": {
   "display_name": "Python 3 (ipykernel)",
   "language": "python",
   "name": "python3"
  },
  "language_info": {
   "codemirror_mode": {
    "name": "ipython",
    "version": 3
   },
   "file_extension": ".py",
   "mimetype": "text/x-python",
   "name": "python",
   "nbconvert_exporter": "python",
   "pygments_lexer": "ipython3",
   "version": "3.10.12"
  }
 },
 "nbformat": 4,
 "nbformat_minor": 5
}
