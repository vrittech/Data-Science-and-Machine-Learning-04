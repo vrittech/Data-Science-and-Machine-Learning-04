{
 "cells": [
  {
   "cell_type": "markdown",
   "id": "e775d318",
   "metadata": {},
   "source": [
    "# Python Comprehensions\n",
    "\n",
    "In Python, comprehensions provide a concise way to create sequences like lists, dictionaries, and sets. They are a more readable and often more efficient alternative to using traditional loops to generate sequences.\n",
    "\n",
    "There are three types of comprehensions in Python: list comprehensions, dictionary comprehensions, and set comprehensions.\n",
    "\n"
   ]
  },
  {
   "cell_type": "markdown",
   "id": "26a23c00",
   "metadata": {},
   "source": [
    "## 1. List Comprehensions\n",
    "\n",
    "In Python, list comprehension is a concise way to create lists. It provides a compact syntax for mapping a given iterable (e.g. list, tuple) to a new list by applying a specific expression to each element in the original iterable.\n",
    "\n"
   ]
  },
  {
   "cell_type": "code",
   "execution_count": null,
   "id": "9c7a7f3e-1a34-468c-afe8-8b4e3d3def4d",
   "metadata": {},
   "outputs": [],
   "source": [
    "output = [ items+1 for items in sequence if condition ]"
   ]
  },
  {
   "cell_type": "markdown",
   "id": "8f6e7856",
   "metadata": {},
   "source": [
    "The basic syntax of a list comprehension is as follows:\n",
    "\n",
    "```python\n",
    "new_list = [expression for item in iterable if condition]\n",
    "```\n",
    "\n"
   ]
  },
  {
   "cell_type": "markdown",
   "id": "ca36125e",
   "metadata": {},
   "source": [
    "In this syntax, `expression` is the operation to be performed on each item in the iterable, `item` is the variable that represents each element in the iterable, and `condition` is an optional filter that can be applied to select only certain elements from the iterable.\n",
    "\n"
   ]
  },
  {
   "cell_type": "markdown",
   "id": "e3cc147c",
   "metadata": {},
   "source": [
    "Here is an example that creates a new list of squared numbers from an existing list:"
   ]
  },
  {
   "cell_type": "code",
   "execution_count": null,
   "id": "a94145a7",
   "metadata": {},
   "outputs": [],
   "source": [
    "numbers = [1, 2, 3, 4, 5]"
   ]
  },
  {
   "cell_type": "code",
   "execution_count": null,
   "id": "b53f4140",
   "metadata": {},
   "outputs": [],
   "source": [
    "# Usual Way\n",
    "\n",
    "squared = []\n",
    "for each in numbers:\n",
    "    squared.append(each ** 2)\n",
    "\n",
    "print(squared)"
   ]
  },
  {
   "cell_type": "code",
   "execution_count": null,
   "id": "f34567c4",
   "metadata": {},
   "outputs": [],
   "source": [
    "# List Comprehension \n",
    "\n",
    "squared = [each ** 2 for each in numbers]\n",
    "print(squared)"
   ]
  },
  {
   "cell_type": "markdown",
   "id": "33e36b51",
   "metadata": {},
   "source": [
    "In this example, the expression `num ** 2` is applied to each element in the `numbers` list, and the results are stored in a new list called `squares`.\n",
    "\n",
    "You can also add an optional condition to the list comprehension. For example, here is a list comprehension that filters out even numbers from the original list:"
   ]
  },
  {
   "cell_type": "markdown",
   "id": "9c4d6b33-e58c-4089-a760-e0c97a44d8b4",
   "metadata": {},
   "source": [
    "---"
   ]
  },
  {
   "cell_type": "code",
   "execution_count": null,
   "id": "42b411d2",
   "metadata": {},
   "outputs": [],
   "source": [
    "# numbers = [1, 2, 3, 4, 5]\n",
    "odds = [ num for num in range(1,6) if num % 2 != 0]\n",
    "print(odds)"
   ]
  },
  {
   "cell_type": "markdown",
   "id": "ee9dc3e7",
   "metadata": {},
   "source": [
    "In this example, the condition `if num % 2 != 0` filters out the even numbers from the original `numbers` list, and the remaining odd numbers are stored in the new `odds` list.\n",
    "\n",
    "List comprehensions can also be nested, allowing you to create more complex sequences. Here is an example that creates a list of tuples:"
   ]
  },
  {
   "cell_type": "code",
   "execution_count": null,
   "id": "7a88d551",
   "metadata": {},
   "outputs": [],
   "source": [
    "letters = ['a', 'b', 'c']\n",
    "numbers = [1, 2, 3]\n",
    "pairs = [\n",
    "    (letter, number) for letter in letters for number in numbers\n",
    "]\n",
    "print(pairs)"
   ]
  },
  {
   "cell_type": "code",
   "execution_count": null,
   "id": "b54d6dca-f19b-48d1-87ad-d5ba5022bd8e",
   "metadata": {},
   "outputs": [],
   "source": [
    "adj = ['red', 'big', 'tasty']\n",
    "fruits = ['apple', 'banana', 'cherry']\n",
    "\n",
    "# for a in adj:\n",
    "#     for f in fruits:\n",
    "#         print(a, f)\n",
    "result = [ (a,f) for a in adj for f in fruits ]\n",
    "print(result)"
   ]
  },
  {
   "cell_type": "markdown",
   "id": "ed7474cc",
   "metadata": {},
   "source": [
    "In this example, the list comprehension uses two `for` loops to create pairs of letters and numbers. The resulting `pairs` list contains all possible combinations of letters and numbers."
   ]
  },
  {
   "cell_type": "code",
   "execution_count": null,
   "id": "1b20de57",
   "metadata": {},
   "outputs": [],
   "source": []
  },
  {
   "cell_type": "markdown",
   "id": "70c4cbd6",
   "metadata": {},
   "source": [
    " # list comprehension\n",
    "Find Length of each word in words = ['data', 'science', 'machine', 'learning']\n"
   ]
  },
  {
   "cell_type": "code",
   "execution_count": null,
   "id": "258a8474-5085-4aba-812d-2163f88afb1c",
   "metadata": {},
   "outputs": [],
   "source": [
    "words = ['data', 'science', 'machine', 'learning']\n",
    "\n",
    "result = []\n",
    "for word in words:\n",
    "    result.append(len(word)))\n",
    "\n",
    "print(result)"
   ]
  },
  {
   "cell_type": "code",
   "execution_count": null,
   "id": "958eedba-4d0c-4484-8604-ebcb62653e86",
   "metadata": {},
   "outputs": [],
   "source": [
    "words = ['data', 'science', 'machine', 'learning']\n",
    "\n",
    "length = [ len(word) for word in words ]\n",
    "print(length)"
   ]
  },
  {
   "cell_type": "markdown",
   "id": "1cb3a245",
   "metadata": {},
   "source": [
    "### Question: Positive Numbers Doubled\n",
    "\n",
    "Write a Python program that uses list comprehension to create a list containing the double of all positive numbers from the following list: [-2, -1, 0, 1, 2, 3, 4]. Print the final list."
   ]
  },
  {
   "cell_type": "code",
   "execution_count": null,
   "id": "31dbed1b-e04e-4541-8a4e-84f1a703a507",
   "metadata": {},
   "outputs": [],
   "source": [
    "input_list = [-2, -1, 0, 1, 3, 2, 3, 4]\n",
    "\n",
    "result = { each * 2 for each in input_list if each > 0}\n",
    "\n",
    "print(result)"
   ]
  },
  {
   "cell_type": "markdown",
   "id": "377d836f",
   "metadata": {},
   "source": [
    "## 2. Dictionary Comprehension\n",
    "\n",
    "In Python, dictionary comprehension is a concise way to create a new dictionary by transforming an existing iterable (such as a list or tuple) into key-value pairs. It provides a compact syntax for mapping a given iterable to a new dictionary by applying a specific expression to each element in the iterable.\n",
    "\n"
   ]
  },
  {
   "cell_type": "markdown",
   "id": "cb919c4d",
   "metadata": {},
   "source": [
    "The basic syntax of a dictionary comprehension is as follows:\n",
    "\n",
    "```python\n",
    "new_dict = {key_expression: value_expression for item in iterable if condition}\n",
    "```\n",
    "\n"
   ]
  },
  {
   "cell_type": "code",
   "execution_count": null,
   "id": "35fa3293-8fb5-4e1a-9b84-727979f31724",
   "metadata": {},
   "outputs": [],
   "source": [
    "dict = { key:value for each in sequence if condition }"
   ]
  },
  {
   "cell_type": "markdown",
   "id": "c9d5390f",
   "metadata": {},
   "source": [
    "In this syntax, `key_expression` is the expression that generates the key for the dictionary, `value_expression` is the expression that generates the value for the dictionary, `item` is the variable that represents each element in the iterable, and `condition` is an optional filter that can be applied to select only certain elements from the iterable.\n",
    "\n",
    "Here is an example that creates a new dictionary of squared numbers from an existing list:"
   ]
  },
  {
   "cell_type": "code",
   "execution_count": null,
   "id": "d6e6bb15",
   "metadata": {},
   "outputs": [],
   "source": [
    "numbers = [1, 2, 3, 4, 5]\n",
    "\n",
    "odds_dict = {}\n",
    "for num in range(1,6):\n",
    "    if num % 2 == 0:\n",
    "        odds_dict[num] = num ** 2\n",
    "\n",
    "print(odds_dict)"
   ]
  },
  {
   "cell_type": "code",
   "execution_count": null,
   "id": "1dc47e0e-3930-4190-afe5-93a2cd2778f1",
   "metadata": {},
   "outputs": [],
   "source": []
  },
  {
   "cell_type": "code",
   "execution_count": 1,
   "id": "5323f7d2",
   "metadata": {},
   "outputs": [
    {
     "name": "stdout",
     "output_type": "stream",
     "text": [
      "{1: 1, 3: 9, 5: 25}\n"
     ]
    }
   ],
   "source": [
    "numbers = [1, 2, 3, 4, 5]\n",
    "\n",
    "odds_dict = {num: num ** 2 for num in numbers if num % 2 != 0}\n",
    "\n",
    "print(odds_dict)"
   ]
  },
  {
   "cell_type": "markdown",
   "id": "3393efe7",
   "metadata": {},
   "source": [
    "In this example, the key expression `num` generates the key for each item in the new dictionary, the value expression `num ** 2` generates the corresponding value for each key and the condition `if num % 2 != 0` filters out the even numbers from the original `numbers` list, and the remaining odd numbers are stored in the new dictionary.\n",
    "\n",
    "Dictionary comprehensions can also be nested, allowing you to create more complex dictionaries. Here is an example that creates a dictionary of letter-counts:"
   ]
  },
  {
   "cell_type": "code",
   "execution_count": null,
   "id": "cc1680b6",
   "metadata": {},
   "outputs": [],
   "source": [
    "word = 'hello'\n",
    "letter_counts = {letter: word.count(letter) for letter in set(word)}\n",
    "print(letter_counts)"
   ]
  },
  {
   "cell_type": "markdown",
   "id": "928f854a",
   "metadata": {},
   "source": [
    "In this example, the list comprehension uses a set of unique letters from the `word` string to create the keys of the new dictionary, and the `count()` method is used to generate the corresponding values for each key."
   ]
  },
  {
   "cell_type": "code",
   "execution_count": null,
   "id": "16fe4a48",
   "metadata": {},
   "outputs": [],
   "source": []
  },
  {
   "cell_type": "markdown",
   "id": "1294668f-c37d-42eb-bc50-1f75fd2f44ce",
   "metadata": {},
   "source": [
    "### Dict Comph\n",
    "1. Find Length of each word in words = ['data', 'science', 'machine', 'learning', 'Deep', 'Python', 'dict'] and store as {word:length .... }.\n",
    "2. Also, add a condition to show words that have length 5 or greater."
   ]
  },
  {
   "cell_type": "code",
   "execution_count": null,
   "id": "677fa26c",
   "metadata": {},
   "outputs": [],
   "source": [
    "# 1\n",
    "\n",
    "word=['data','science','machine','learning']\n",
    "\n",
    "word_detail={ data: len(data) for data in word }\n",
    "\n",
    "print(word_detail)\n"
   ]
  },
  {
   "cell_type": "code",
   "execution_count": null,
   "id": "b0acb3d0-5ffe-4b00-a639-bd7de9743779",
   "metadata": {},
   "outputs": [],
   "source": [
    "# 2\n",
    "\n",
    "word=['data', 'science', 'machine', 'learning', 'Deep', 'Python', 'dict']\n",
    "\n",
    "word_detail={ data: len(data) for data in word if len(data) >= 5}\n",
    "\n",
    "print(word_detail)"
   ]
  },
  {
   "cell_type": "code",
   "execution_count": null,
   "id": "ab2c92be-6734-4b36-94c9-a4b2b089ef17",
   "metadata": {},
   "outputs": [],
   "source": []
  },
  {
   "cell_type": "code",
   "execution_count": null,
   "id": "7f16cd60-bbe8-4561-8bb7-bfa8d1610005",
   "metadata": {},
   "outputs": [],
   "source": []
  },
  {
   "cell_type": "markdown",
   "id": "cf19adea",
   "metadata": {},
   "source": [
    "## 3. Set Comprehension\n",
    "\n",
    "Set comprehension is a concise way to create a new set by transforming an existing iterable (such as a list or tuple). It provides a compact syntax for mapping a given iterable to a new set by applying a specific expression to each element in the iterable.\n",
    "\n"
   ]
  },
  {
   "cell_type": "markdown",
   "id": "659b5ff3",
   "metadata": {},
   "source": [
    "The basic syntax of a set comprehension is as follows:\n",
    "\n",
    "```python\n",
    "new_set = {expression for item in iterable if condition}\n",
    "```\n"
   ]
  },
  {
   "cell_type": "code",
   "execution_count": null,
   "id": "8792cba1-f9e5-41f8-8c07-e60ec1ee665f",
   "metadata": {},
   "outputs": [],
   "source": [
    "res = { expression for if }"
   ]
  },
  {
   "cell_type": "markdown",
   "id": "1527e7e9",
   "metadata": {},
   "source": [
    "\n",
    "In this syntax, `expression` is the operation to be performed on each item in the iterable, `item` is the variable that represents each element in the iterable, and `condition` is an optional filter that can be applied to select only certain elements from the iterable.\n",
    "\n",
    "Here is an example that creates a new set of squared numbers from an existing list:"
   ]
  },
  {
   "cell_type": "code",
   "execution_count": 2,
   "id": "9858bcde",
   "metadata": {},
   "outputs": [
    {
     "name": "stdout",
     "output_type": "stream",
     "text": [
      "{1, 9, 25}\n"
     ]
    }
   ],
   "source": [
    "numbers = [1, 2, 3, 4, 5]\n",
    "odds_set = {num ** 2 for num in numbers if num % 2 != 0}\n",
    "print(odds_set)"
   ]
  },
  {
   "cell_type": "markdown",
   "id": "a96b45e2",
   "metadata": {},
   "source": [
    "In this example, the expression `num ** 2` is applied to each element in the `numbers` list, and the results are stored in a new set called `squares_set`, and  the condition `if num % 2 != 0` filters out the even numbers from the original `numbers` list, and the remaining odd numbers are stored in the new `odds_set`.\n",
    "\n",
    "Set comprehensions can also be nested, allowing you to create more complex sets. Here is an example that creates a set of all possible combinations of two letters:"
   ]
  },
  {
   "cell_type": "code",
   "execution_count": 3,
   "id": "380bb974",
   "metadata": {},
   "outputs": [
    {
     "name": "stdout",
     "output_type": "stream",
     "text": [
      "{'ac', 'ca', 'aa', 'cb', 'cc', 'bc', 'ba', 'ab', 'bb'}\n"
     ]
    }
   ],
   "source": [
    "letters = {'a', 'b', 'c'}\n",
    "pairs = {letter1 + letter2 for letter1 in letters for letter2 in letters}\n",
    "print(pairs)"
   ]
  },
  {
   "cell_type": "markdown",
   "id": "0f21400b",
   "metadata": {},
   "source": [
    "In this example, the set comprehension uses two `for` loops to create pairs of letters. The resulting `pairs` set contains all possible combinations of two letters."
   ]
  },
  {
   "cell_type": "code",
   "execution_count": null,
   "id": "6e364a30",
   "metadata": {},
   "outputs": [],
   "source": []
  },
  {
   "cell_type": "markdown",
   "id": "4bf4344e",
   "metadata": {},
   "source": [
    "### Question 3: Unique Vowels in a String\n",
    "\n",
    "Write a Python program that uses set comprehension to create a set of all unique vowels found in the following string: \"Hello, world!\". Print the set."
   ]
  },
  {
   "cell_type": "markdown",
   "id": "55c16f39",
   "metadata": {},
   "source": [
    "Possible Output: {'o', 'e'}"
   ]
  },
  {
   "cell_type": "code",
   "execution_count": 4,
   "id": "bb184e47-4a56-4699-8a9b-dd586503ba81",
   "metadata": {},
   "outputs": [],
   "source": [
    "sent = set(\"The quick brown fox jump over a lazy dog\")\n",
    "vowels = set(\"aeiou\")\n"
   ]
  },
  {
   "cell_type": "code",
   "execution_count": null,
   "id": "d672788c-d301-4252-98fd-947d4896d4b1",
   "metadata": {},
   "outputs": [],
   "source": [
    "output = {\n",
    "    char for char in sent if char in vowels\n",
    "}"
   ]
  },
  {
   "cell_type": "code",
   "execution_count": null,
   "id": "fe09caf0-474b-4949-a4b6-955df3321302",
   "metadata": {},
   "outputs": [],
   "source": [
    "output"
   ]
  },
  {
   "cell_type": "code",
   "execution_count": null,
   "id": "02ab019a-ff30-4d7b-8434-87f8376fc6ef",
   "metadata": {},
   "outputs": [],
   "source": [
    "print(sent)"
   ]
  },
  {
   "cell_type": "code",
   "execution_count": null,
   "id": "146e21f6-4c23-4f63-8d91-754719da2a4a",
   "metadata": {},
   "outputs": [],
   "source": []
  }
 ],
 "metadata": {
  "kernelspec": {
   "display_name": "Python 3 (ipykernel)",
   "language": "python",
   "name": "python3"
  },
  "language_info": {
   "codemirror_mode": {
    "name": "ipython",
    "version": 3
   },
   "file_extension": ".py",
   "mimetype": "text/x-python",
   "name": "python",
   "nbconvert_exporter": "python",
   "pygments_lexer": "ipython3",
   "version": "3.10.12"
  }
 },
 "nbformat": 4,
 "nbformat_minor": 5
}
