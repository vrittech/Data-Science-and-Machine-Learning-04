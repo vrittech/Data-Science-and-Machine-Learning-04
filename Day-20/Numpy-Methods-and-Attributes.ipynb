{
 "cells": [
  {
   "cell_type": "code",
   "execution_count": 1,
   "id": "060c7c79-a539-4e50-af84-0c17763ed69f",
   "metadata": {},
   "outputs": [],
   "source": [
    "import numpy as np"
   ]
  },
  {
   "cell_type": "code",
   "execution_count": 66,
   "id": "a9657f3e-eed0-4917-861d-ad529097e371",
   "metadata": {},
   "outputs": [
    {
     "name": "stdout",
     "output_type": "stream",
     "text": [
      "[[10 18 24 36 47 29]\n",
      " [40 47 10 43 46 41]\n",
      " [49 32 32 40 33 49]]\n",
      "\n",
      "[[34 28 13 35 29 16]\n",
      " [19 26 24 16 41 35]\n",
      " [11 17 44 39 40 49]\n",
      " [16 36 40 29 11 10]]\n"
     ]
    }
   ],
   "source": [
    "random_array = np.random.randint(low = 10, high = 50, size = (3,6))\n",
    "random_array1 = np.random.randint(low = 10, high = 50, size = (4,6))\n",
    "print(random_array)\n",
    "print()\n",
    "print(random_array1)"
   ]
  },
  {
   "cell_type": "markdown",
   "id": "037d84ba-2f5d-4f9d-bb59-cde54477ffef",
   "metadata": {
    "jp-MarkdownHeadingCollapsed": true
   },
   "source": [
    "## Attributes"
   ]
  },
  {
   "cell_type": "code",
   "execution_count": 3,
   "id": "29dbac7e-c29d-494e-b331-e237ff1275e9",
   "metadata": {},
   "outputs": [
    {
     "data": {
      "text/plain": [
       "(2, 3, 2)"
      ]
     },
     "execution_count": 3,
     "metadata": {},
     "output_type": "execute_result"
    }
   ],
   "source": [
    "random_array.shape"
   ]
  },
  {
   "cell_type": "code",
   "execution_count": 4,
   "id": "f65ba188-5532-464a-94dc-0439268dec44",
   "metadata": {},
   "outputs": [
    {
     "data": {
      "text/plain": [
       "dtype('int64')"
      ]
     },
     "execution_count": 4,
     "metadata": {},
     "output_type": "execute_result"
    }
   ],
   "source": [
    "random_array.dtype"
   ]
  },
  {
   "cell_type": "code",
   "execution_count": 5,
   "id": "1d7c8f74-632f-430a-9923-cde6f4df8667",
   "metadata": {},
   "outputs": [
    {
     "data": {
      "text/plain": [
       "3"
      ]
     },
     "execution_count": 5,
     "metadata": {},
     "output_type": "execute_result"
    }
   ],
   "source": [
    "random_array.ndim"
   ]
  },
  {
   "cell_type": "code",
   "execution_count": 7,
   "id": "2e71865d-7766-4bbc-baa1-0eee49ba7c39",
   "metadata": {},
   "outputs": [
    {
     "data": {
      "text/plain": [
       "12"
      ]
     },
     "execution_count": 7,
     "metadata": {},
     "output_type": "execute_result"
    }
   ],
   "source": [
    "random_array.size"
   ]
  },
  {
   "cell_type": "code",
   "execution_count": 9,
   "id": "fee848af-b955-4e9d-8b6d-e21e789fdcdb",
   "metadata": {},
   "outputs": [
    {
     "data": {
      "text/plain": [
       "array([[36, 39, 43],\n",
       "       [45, 43, 20]])"
      ]
     },
     "execution_count": 9,
     "metadata": {},
     "output_type": "execute_result"
    }
   ],
   "source": [
    "random_array.T"
   ]
  },
  {
   "cell_type": "code",
   "execution_count": null,
   "id": "d4597da4-d95e-44e4-a502-c625477c4f0c",
   "metadata": {},
   "outputs": [],
   "source": []
  },
  {
   "cell_type": "markdown",
   "id": "46f83934-2557-4bea-a4d9-6da896169feb",
   "metadata": {
    "jp-MarkdownHeadingCollapsed": true
   },
   "source": [
    "## Array Methods / Operations"
   ]
  },
  {
   "cell_type": "code",
   "execution_count": 12,
   "id": "ea231aeb-f4d2-445f-914b-6f232309437d",
   "metadata": {},
   "outputs": [
    {
     "data": {
      "text/plain": [
       "array([81, 82, 63])"
      ]
     },
     "execution_count": 12,
     "metadata": {},
     "output_type": "execute_result"
    }
   ],
   "source": [
    "random_array.sum(axis = 1)"
   ]
  },
  {
   "cell_type": "code",
   "execution_count": 16,
   "id": "be0a70ba-fa61-45b0-922e-0ae6cdc85dbb",
   "metadata": {},
   "outputs": [
    {
     "data": {
      "text/plain": [
       "array([40, 41, 28])"
      ]
     },
     "execution_count": 16,
     "metadata": {},
     "output_type": "execute_result"
    }
   ],
   "source": [
    "random_array.max(axis = 1)"
   ]
  },
  {
   "cell_type": "code",
   "execution_count": 22,
   "id": "d9ea80b1-c6e1-4ae2-bff0-30771fc66fd7",
   "metadata": {},
   "outputs": [
    {
     "data": {
      "text/plain": [
       "array([4, 4, 5])"
      ]
     },
     "execution_count": 22,
     "metadata": {},
     "output_type": "execute_result"
    }
   ],
   "source": [
    "random_array.argmax(axis =1)"
   ]
  },
  {
   "cell_type": "code",
   "execution_count": 27,
   "id": "a2f4de28-0b9b-4a86-9e23-88dd7158ed37",
   "metadata": {},
   "outputs": [
    {
     "data": {
      "text/plain": [
       "array([28, 10, 47, 28, 16, 30, 10, 31, 20, 37, 41, 38, 21, 32, 42, 47, 16,\n",
       "       36, 22, 32, 14, 46, 28, 21, 47, 23, 47, 42, 47, 14, 22, 35, 46, 47,\n",
       "       30, 14])"
      ]
     },
     "execution_count": 27,
     "metadata": {},
     "output_type": "execute_result"
    }
   ],
   "source": [
    "random_array.flatten()"
   ]
  },
  {
   "cell_type": "code",
   "execution_count": 35,
   "id": "d8527693-b86c-40f8-97f1-b9e94b556ec8",
   "metadata": {},
   "outputs": [
    {
     "data": {
      "text/plain": [
       "(3, 6)"
      ]
     },
     "execution_count": 35,
     "metadata": {},
     "output_type": "execute_result"
    }
   ],
   "source": [
    "random_array.shape"
   ]
  },
  {
   "cell_type": "code",
   "execution_count": 33,
   "id": "98dbc95c-7aa3-4b73-ac5a-34342edc296b",
   "metadata": {},
   "outputs": [
    {
     "name": "stdout",
     "output_type": "stream",
     "text": [
      "[[21 37 13 10 43 43]\n",
      " [16 48 35 43 14 46]\n",
      " [49 44 22 26 10 15]]\n"
     ]
    }
   ],
   "source": [
    "print(random_array)"
   ]
  },
  {
   "cell_type": "code",
   "execution_count": 32,
   "id": "27475a10-8cce-4dd4-a8bf-0144eaa49a20",
   "metadata": {},
   "outputs": [
    {
     "data": {
      "text/plain": [
       "array([[21, 37, 13, 10, 43, 43, 16, 48, 35],\n",
       "       [43, 14, 46, 49, 44, 22, 26, 10, 15]])"
      ]
     },
     "execution_count": 32,
     "metadata": {},
     "output_type": "execute_result"
    }
   ],
   "source": [
    "random_array.reshape((2,9))"
   ]
  },
  {
   "cell_type": "code",
   "execution_count": 36,
   "id": "f2cd1d62-c709-4606-b660-4997e85e30f2",
   "metadata": {},
   "outputs": [
    {
     "data": {
      "text/plain": [
       "array([[[21, 37, 13],\n",
       "        [10, 43, 43],\n",
       "        [16, 48, 35]],\n",
       "\n",
       "       [[43, 14, 46],\n",
       "        [49, 44, 22],\n",
       "        [26, 10, 15]]])"
      ]
     },
     "execution_count": 36,
     "metadata": {},
     "output_type": "execute_result"
    }
   ],
   "source": [
    "random_array.reshape((2,3,3))"
   ]
  },
  {
   "cell_type": "code",
   "execution_count": 49,
   "id": "dcc49f06-9f6c-45a6-9241-1838fd9135bb",
   "metadata": {},
   "outputs": [
    {
     "name": "stdout",
     "output_type": "stream",
     "text": [
      "[[1 2]\n",
      " [3 4]]\n",
      "====================\n",
      "[[5 6]\n",
      " [7 8]]\n"
     ]
    }
   ],
   "source": [
    "# Concatenate\n",
    "m = np.array([[1, 2], [3, 4]])\n",
    "n = np.array([[5, 6], [7, 8]])\n",
    "\n",
    "print(m)\n",
    "print(\"=\"*20)\n",
    "print(n)"
   ]
  },
  {
   "cell_type": "code",
   "execution_count": 50,
   "id": "d596f8f6-f92e-4abc-a658-421f8abcc554",
   "metadata": {},
   "outputs": [
    {
     "data": {
      "text/plain": [
       "array([[1, 2],\n",
       "       [3, 4],\n",
       "       [5, 6],\n",
       "       [7, 8]])"
      ]
     },
     "execution_count": 50,
     "metadata": {},
     "output_type": "execute_result"
    }
   ],
   "source": [
    "np.concatenate((m,n), axis = 0)"
   ]
  },
  {
   "cell_type": "code",
   "execution_count": 51,
   "id": "cb78fdc1-78e4-4d9c-9ba6-2481b61acd75",
   "metadata": {},
   "outputs": [],
   "source": [
    "string = 'hello how are you'"
   ]
  },
  {
   "cell_type": "code",
   "execution_count": 52,
   "id": "8666aae4-8577-49b9-a50f-1b9af43ed609",
   "metadata": {},
   "outputs": [
    {
     "data": {
      "text/plain": [
       "['hello', 'how', 'are', 'you']"
      ]
     },
     "execution_count": 52,
     "metadata": {},
     "output_type": "execute_result"
    }
   ],
   "source": [
    "string.split(\" \")"
   ]
  },
  {
   "cell_type": "code",
   "execution_count": 67,
   "id": "785afd90-12d6-439e-a342-7e218bd452b4",
   "metadata": {},
   "outputs": [],
   "source": [
    "random_array = random_array.flatten()"
   ]
  },
  {
   "cell_type": "code",
   "execution_count": 68,
   "id": "a506f01b-e831-4241-aa1d-c53c9534972c",
   "metadata": {},
   "outputs": [
    {
     "data": {
      "text/plain": [
       "array([10, 18, 24, 36, 47, 29, 40, 47, 10, 43, 46, 41, 49, 32, 32, 40, 33,\n",
       "       49])"
      ]
     },
     "execution_count": 68,
     "metadata": {},
     "output_type": "execute_result"
    }
   ],
   "source": [
    "random_array"
   ]
  },
  {
   "cell_type": "code",
   "execution_count": 71,
   "id": "ea546828-2c21-4b1c-8f15-a8002f2de377",
   "metadata": {},
   "outputs": [
    {
     "data": {
      "text/plain": [
       "[array([10, 18]),\n",
       " array([24, 36]),\n",
       " array([47, 29]),\n",
       " array([40, 47]),\n",
       " array([10, 43]),\n",
       " array([46, 41]),\n",
       " array([49, 32]),\n",
       " array([32, 40]),\n",
       " array([33, 49])]"
      ]
     },
     "execution_count": 71,
     "metadata": {},
     "output_type": "execute_result"
    }
   ],
   "source": [
    "np.split(random_array,9)"
   ]
  },
  {
   "cell_type": "code",
   "execution_count": 75,
   "id": "5e640271-3b5e-441c-8eda-127e97b078a2",
   "metadata": {},
   "outputs": [
    {
     "data": {
      "text/plain": [
       "[array([10, 18]),\n",
       " array([24]),\n",
       " array([36, 47, 29, 40, 47, 10, 43]),\n",
       " array([46, 41]),\n",
       " array([49, 32, 32, 40, 33, 49])]"
      ]
     },
     "execution_count": 75,
     "metadata": {},
     "output_type": "execute_result"
    }
   ],
   "source": [
    "np.split(random_array, [2,3,10, 12])"
   ]
  },
  {
   "cell_type": "code",
   "execution_count": null,
   "id": "59a4d795-2851-415c-80df-07c999fb07d7",
   "metadata": {},
   "outputs": [],
   "source": []
  }
 ],
 "metadata": {
  "kernelspec": {
   "display_name": "Python 3 (ipykernel)",
   "language": "python",
   "name": "python3"
  },
  "language_info": {
   "codemirror_mode": {
    "name": "ipython",
    "version": 3
   },
   "file_extension": ".py",
   "mimetype": "text/x-python",
   "name": "python",
   "nbconvert_exporter": "python",
   "pygments_lexer": "ipython3",
   "version": "3.10.12"
  }
 },
 "nbformat": 4,
 "nbformat_minor": 5
}
