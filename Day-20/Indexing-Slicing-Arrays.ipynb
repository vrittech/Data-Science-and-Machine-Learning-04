{
 "cells": [
  {
   "cell_type": "markdown",
   "id": "4af4e9e7-bfc5-40b7-b933-6043a1bd9c60",
   "metadata": {},
   "source": [
    "1D Array: `array_name[idx]` (Similar to Python list)\n",
    "\n",
    "2D Array: `array_name[row_idx, col_idx]` (Similar to Matrix)\n",
    "\n",
    "ND Array: `array_name[dim1_idx, dim2_idx, ..., dimN_idx]`"
   ]
  },
  {
   "cell_type": "markdown",
   "id": "53d56c38-6631-4cf2-8adf-2f235416b0ab",
   "metadata": {
    "jp-MarkdownHeadingCollapsed": true
   },
   "source": [
    "## Indexing Numpy Array"
   ]
  },
  {
   "cell_type": "markdown",
   "id": "9ac669fb-058d-4c50-9324-6a5b3bf83838",
   "metadata": {},
   "source": [
    "### One Dimension"
   ]
  },
  {
   "cell_type": "code",
   "execution_count": 8,
   "id": "55d20d02-de60-4807-a725-325665239b77",
   "metadata": {},
   "outputs": [
    {
     "name": "stdout",
     "output_type": "stream",
     "text": [
      "[23, -7, 9, 6, 4]\n"
     ]
    }
   ],
   "source": [
    "list1 = [23,-7,9,6, 4]\n",
    "print(list1)"
   ]
  },
  {
   "cell_type": "code",
   "execution_count": 4,
   "id": "06efb297-cd2e-46e6-9963-6393386ce01d",
   "metadata": {},
   "outputs": [
    {
     "data": {
      "text/plain": [
       "4"
      ]
     },
     "execution_count": 4,
     "metadata": {},
     "output_type": "execute_result"
    }
   ],
   "source": [
    "list1[4]"
   ]
  },
  {
   "cell_type": "code",
   "execution_count": 5,
   "id": "b1c677a7-42cc-41fc-8f03-c3f414c2d0f2",
   "metadata": {},
   "outputs": [],
   "source": [
    "import numpy as np "
   ]
  },
  {
   "cell_type": "code",
   "execution_count": 7,
   "id": "567a375d-32a6-4add-9036-f749b38a524b",
   "metadata": {},
   "outputs": [
    {
     "name": "stdout",
     "output_type": "stream",
     "text": [
      "[23 -7  9  6  4]\n"
     ]
    }
   ],
   "source": [
    "array1 = np.array(list1)\n",
    "print(array1)"
   ]
  },
  {
   "cell_type": "code",
   "execution_count": 9,
   "id": "c7459e73-7132-4ecd-891b-850774101f28",
   "metadata": {},
   "outputs": [
    {
     "data": {
      "text/plain": [
       "4"
      ]
     },
     "execution_count": 9,
     "metadata": {},
     "output_type": "execute_result"
    }
   ],
   "source": [
    "array1[4]"
   ]
  },
  {
   "cell_type": "code",
   "execution_count": null,
   "id": "a992ddec-e828-4ab7-b925-4ae7636729c2",
   "metadata": {},
   "outputs": [],
   "source": []
  },
  {
   "cell_type": "markdown",
   "id": "c5b18740-03b8-432b-8baf-b7ca0b3830c0",
   "metadata": {},
   "source": [
    "### Multi Dimension"
   ]
  },
  {
   "cell_type": "code",
   "execution_count": 12,
   "id": "ef04bbcc-2a25-4021-bf3d-a4d4294a44db",
   "metadata": {},
   "outputs": [],
   "source": [
    "# 2D Array > Similar to Matrix\n",
    "\n",
    "list2 = [[2,5,7,],[4, 9,11]]\n",
    "array2 = np.array(list2)"
   ]
  },
  {
   "cell_type": "code",
   "execution_count": 13,
   "id": "b2b8bb54-721c-4883-881c-025cf0f25fad",
   "metadata": {},
   "outputs": [
    {
     "name": "stdout",
     "output_type": "stream",
     "text": [
      "[[ 2  5  7]\n",
      " [ 4  9 11]]\n"
     ]
    }
   ],
   "source": [
    "print(array2)"
   ]
  },
  {
   "cell_type": "code",
   "execution_count": 16,
   "id": "508066ee-7d6f-4ee9-9fac-0679659c7b85",
   "metadata": {},
   "outputs": [
    {
     "data": {
      "text/plain": [
       "(2, 3)"
      ]
     },
     "execution_count": 16,
     "metadata": {},
     "output_type": "execute_result"
    }
   ],
   "source": [
    "array2.shape"
   ]
  },
  {
   "cell_type": "code",
   "execution_count": 19,
   "id": "997849d7-6812-4208-ab53-007c09846711",
   "metadata": {},
   "outputs": [
    {
     "data": {
      "text/plain": [
       "11"
      ]
     },
     "execution_count": 19,
     "metadata": {},
     "output_type": "execute_result"
    }
   ],
   "source": [
    "array2[1][2]"
   ]
  },
  {
   "cell_type": "code",
   "execution_count": 20,
   "id": "40ab1d94-716c-4f48-ad44-4b89b3f7845f",
   "metadata": {},
   "outputs": [
    {
     "data": {
      "text/plain": [
       "11"
      ]
     },
     "execution_count": 20,
     "metadata": {},
     "output_type": "execute_result"
    }
   ],
   "source": [
    "array2[1, 2]"
   ]
  },
  {
   "cell_type": "code",
   "execution_count": 21,
   "id": "fea980b6-5c47-4856-8d95-6e3d85398d1d",
   "metadata": {},
   "outputs": [
    {
     "name": "stdout",
     "output_type": "stream",
     "text": [
      "[[[16 12 49 10]\n",
      "  [45 19 44 42]\n",
      "  [32 37 25 32]]\n",
      "\n",
      " [[42 23 48 18]\n",
      "  [20 39 28 40]\n",
      "  [29 39 17 34]]]\n"
     ]
    }
   ],
   "source": [
    "# ND \n",
    "random_array = np.random.randint(low = 10, high = 50, size = (2,3,4))\n",
    "print(random_array)"
   ]
  },
  {
   "cell_type": "code",
   "execution_count": 22,
   "id": "cd271c3c-cd85-49bb-8eeb-5086124b1d7b",
   "metadata": {},
   "outputs": [
    {
     "data": {
      "text/plain": [
       "3"
      ]
     },
     "execution_count": 22,
     "metadata": {},
     "output_type": "execute_result"
    }
   ],
   "source": [
    "random_array.ndim"
   ]
  },
  {
   "cell_type": "code",
   "execution_count": 23,
   "id": "8d3d5e90-ff1c-48d4-a2f1-d9f4c66d20d7",
   "metadata": {},
   "outputs": [
    {
     "data": {
      "text/plain": [
       "(2, 3, 4)"
      ]
     },
     "execution_count": 23,
     "metadata": {},
     "output_type": "execute_result"
    }
   ],
   "source": [
    "random_array.shape"
   ]
  },
  {
   "cell_type": "code",
   "execution_count": 28,
   "id": "5647a2fa-0a2d-48ce-aca1-f0c03bc37f93",
   "metadata": {},
   "outputs": [
    {
     "data": {
      "text/plain": [
       "25"
      ]
     },
     "execution_count": 28,
     "metadata": {},
     "output_type": "execute_result"
    }
   ],
   "source": [
    "random_array[0, 2, 2] # similar to random_array[0][2][2]"
   ]
  },
  {
   "cell_type": "code",
   "execution_count": 42,
   "id": "438c572b-7d01-4f5f-a733-4cfd51a54751",
   "metadata": {},
   "outputs": [
    {
     "name": "stdout",
     "output_type": "stream",
     "text": [
      "[[[17 31]\n",
      "  [36 13]]\n",
      "\n",
      " [[37 44]\n",
      "  [14 27]]\n",
      "\n",
      " [[30 34]\n",
      "  [33 11]]\n",
      "\n",
      " [[29 49]\n",
      "  [44 39]]\n",
      "\n",
      " [[15 12]\n",
      "  [15 30]]\n",
      "\n",
      " [[11 38]\n",
      "  [47 26]]\n",
      "\n",
      " [[33 20]\n",
      "  [44 36]]\n",
      "\n",
      " [[11 18]\n",
      "  [33 11]]\n",
      "\n",
      " [[40 40]\n",
      "  [32 27]]\n",
      "\n",
      " [[18 33]\n",
      "  [38 25]]]\n"
     ]
    }
   ],
   "source": [
    "random_array = np.random.randint(low = 10, high = 50, size = (10,2,2))\n",
    "print(random_array)"
   ]
  },
  {
   "cell_type": "code",
   "execution_count": 43,
   "id": "5df01a31-760c-4401-a226-4d8245344dee",
   "metadata": {},
   "outputs": [
    {
     "data": {
      "text/plain": [
       "(10, 2, 2)"
      ]
     },
     "execution_count": 43,
     "metadata": {},
     "output_type": "execute_result"
    }
   ],
   "source": [
    "random_array.shape"
   ]
  },
  {
   "cell_type": "code",
   "execution_count": 46,
   "id": "bff79b1f-a0e3-494c-9d09-a4d739ab01ce",
   "metadata": {},
   "outputs": [
    {
     "data": {
      "text/plain": [
       "33"
      ]
     },
     "execution_count": 46,
     "metadata": {},
     "output_type": "execute_result"
    }
   ],
   "source": [
    "random_array[-1, -2, 1]"
   ]
  },
  {
   "cell_type": "code",
   "execution_count": null,
   "id": "16e859ad-82d4-4fb1-93a5-dfa1267d22a2",
   "metadata": {},
   "outputs": [],
   "source": []
  },
  {
   "cell_type": "markdown",
   "id": "28717a07-bfba-4f0b-b62b-e67583bf7873",
   "metadata": {},
   "source": [
    "## Slicing Numpy array"
   ]
  },
  {
   "cell_type": "markdown",
   "id": "35632a53-4ba0-4ab7-801b-1dd3ea4537c2",
   "metadata": {
    "jp-MarkdownHeadingCollapsed": true
   },
   "source": [
    "### 1D"
   ]
  },
  {
   "cell_type": "code",
   "execution_count": 59,
   "id": "3ef90938-0a41-4c8c-b1c3-f88bffd25a36",
   "metadata": {},
   "outputs": [],
   "source": [
    "list2 = [4,7,0,45,67,8, 66.2]"
   ]
  },
  {
   "cell_type": "code",
   "execution_count": 60,
   "id": "836eb1f6-ba36-433f-ac03-446d712e075e",
   "metadata": {},
   "outputs": [
    {
     "data": {
      "text/plain": [
       "[4, 7, 0, 45, 67, 8]"
      ]
     },
     "execution_count": 60,
     "metadata": {},
     "output_type": "execute_result"
    }
   ],
   "source": [
    "list2[:-1] #list2[start index : stop index : step ]"
   ]
  },
  {
   "cell_type": "code",
   "execution_count": 61,
   "id": "1a135623-4286-4c24-b17f-420b2f53f5f5",
   "metadata": {},
   "outputs": [
    {
     "name": "stdout",
     "output_type": "stream",
     "text": [
      "[ 4.   7.   0.  45.  67.   8.  66.2]\n"
     ]
    }
   ],
   "source": [
    "slice_array = np.array(list2)\n",
    "print(slice_array)"
   ]
  },
  {
   "cell_type": "code",
   "execution_count": 63,
   "id": "04e3a3ba-43ce-42ec-862a-4c20a1884deb",
   "metadata": {},
   "outputs": [
    {
     "data": {
      "text/plain": [
       "array([ 4.,  0., 67.])"
      ]
     },
     "execution_count": 63,
     "metadata": {},
     "output_type": "execute_result"
    }
   ],
   "source": [
    "slice_array[ :-2 : 2]"
   ]
  },
  {
   "cell_type": "markdown",
   "id": "fb3976a8-c830-4998-abf1-d72b494c3ff6",
   "metadata": {
    "jp-MarkdownHeadingCollapsed": true
   },
   "source": [
    "### 2D"
   ]
  },
  {
   "cell_type": "code",
   "execution_count": 64,
   "id": "ae14c13d-bcd1-4e65-b723-4f9e1c996a93",
   "metadata": {},
   "outputs": [
    {
     "name": "stdout",
     "output_type": "stream",
     "text": [
      "[[ 1  2  3  4  5  6  7  8]\n",
      " [ 1  3  5  7  9 11 13 15]]\n"
     ]
    }
   ],
   "source": [
    "list2d = [[1, 2, 3, 4, 5, 6, 7, 8], [1, 3, 5, 7, 9, 11, 13, 15]]\n",
    "slice2d_array = np.array(list2d)\n",
    "print(slice2d_array)"
   ]
  },
  {
   "cell_type": "code",
   "execution_count": 65,
   "id": "c4e99d88-5ddb-46b5-b016-b4d1b918de43",
   "metadata": {},
   "outputs": [
    {
     "data": {
      "text/plain": [
       "(2, 8)"
      ]
     },
     "execution_count": 65,
     "metadata": {},
     "output_type": "execute_result"
    }
   ],
   "source": [
    "slice2d_array.shape"
   ]
  },
  {
   "cell_type": "code",
   "execution_count": 71,
   "id": "159c981a-3906-4408-82bd-17ccb5fe86fb",
   "metadata": {},
   "outputs": [
    {
     "data": {
      "text/plain": [
       "array([3, 4, 5, 6, 7, 8])"
      ]
     },
     "execution_count": 71,
     "metadata": {},
     "output_type": "execute_result"
    }
   ],
   "source": [
    "slice2d_array[0, 2:]"
   ]
  },
  {
   "cell_type": "code",
   "execution_count": null,
   "id": "4ef4d042-6f0b-418d-afe0-cf109241c345",
   "metadata": {},
   "outputs": [],
   "source": []
  },
  {
   "cell_type": "code",
   "execution_count": 72,
   "id": "3c98f645-2947-4283-abcc-74617b10d074",
   "metadata": {},
   "outputs": [
    {
     "name": "stdout",
     "output_type": "stream",
     "text": [
      "[[   1    2    3    4    5    6    7    8]\n",
      " [   1    3    5    7    9   11   13   15]\n",
      " [  15   25 9999  376   19  420  786  555]]\n"
     ]
    }
   ],
   "source": [
    "list2d = [[1, 2, 3, 4, 5, 6, 7, 8], [1, 3, 5, 7, 9, 11, 13, 15], [15, 25, 9999, 376, 19, 420, 786, 555]]\n",
    "slice2d_array = np.array(list2d)\n",
    "print(slice2d_array)"
   ]
  },
  {
   "cell_type": "code",
   "execution_count": 73,
   "id": "f6cbc7c4-a49b-46b7-9fb6-2fe2d3eba6ae",
   "metadata": {},
   "outputs": [
    {
     "data": {
      "text/plain": [
       "(3, 8)"
      ]
     },
     "execution_count": 73,
     "metadata": {},
     "output_type": "execute_result"
    }
   ],
   "source": [
    "slice2d_array.shape"
   ]
  },
  {
   "cell_type": "code",
   "execution_count": 79,
   "id": "6cd60a50-60a2-4952-986e-d31900b8bc4f",
   "metadata": {},
   "outputs": [
    {
     "data": {
      "text/plain": [
       "array([[  9,  11,  13],\n",
       "       [ 19, 420, 786]])"
      ]
     },
     "execution_count": 79,
     "metadata": {},
     "output_type": "execute_result"
    }
   ],
   "source": [
    "slice2d_array[1:,4:7]"
   ]
  },
  {
   "cell_type": "code",
   "execution_count": null,
   "id": "4de8e558-7dee-4636-8c1c-932cb615e163",
   "metadata": {},
   "outputs": [],
   "source": []
  },
  {
   "cell_type": "markdown",
   "id": "f1ede1aa-9f0c-427e-aead-a69ebdedcfe5",
   "metadata": {
    "jp-MarkdownHeadingCollapsed": true
   },
   "source": [
    "### 3D"
   ]
  },
  {
   "cell_type": "code",
   "execution_count": 81,
   "id": "41cffbba-e7fb-4635-bb72-aec7c6dcac49",
   "metadata": {},
   "outputs": [
    {
     "name": "stdout",
     "output_type": "stream",
     "text": [
      "[[[38 41 49 14]\n",
      "  [32 38 39 17]\n",
      "  [35 11 28 19]]\n",
      "\n",
      " [[16 42 25 36]\n",
      "  [23 10 45 35]\n",
      "  [17 19 12 17]]\n",
      "\n",
      " [[43 10 13 20]\n",
      "  [11 14 21 25]\n",
      "  [27 47 15 20]]\n",
      "\n",
      " [[23 34 36 37]\n",
      "  [20 16 26 35]\n",
      "  [18 41 20 23]]]\n"
     ]
    }
   ],
   "source": [
    "random_array = np.random.randint(low = 10, high = 50, size = (4,3,4))\n",
    "print(random_array)"
   ]
  },
  {
   "cell_type": "code",
   "execution_count": 92,
   "id": "93329902-c9f0-4fc4-aa06-bf2c0a48d99f",
   "metadata": {},
   "outputs": [
    {
     "data": {
      "text/plain": [
       "array([[[43, 10],\n",
       "        [11, 14]],\n",
       "\n",
       "       [[23, 34],\n",
       "        [20, 16]]])"
      ]
     },
     "execution_count": 92,
     "metadata": {},
     "output_type": "execute_result"
    }
   ],
   "source": [
    "random_array[-2:,:2,:2]"
   ]
  },
  {
   "cell_type": "code",
   "execution_count": 102,
   "id": "1097ddf3-55e9-48cd-b131-2233ebc30542",
   "metadata": {},
   "outputs": [
    {
     "data": {
      "text/plain": [
       "array([[[43, 13],\n",
       "        [11, 21]],\n",
       "\n",
       "       [[23, 36],\n",
       "        [20, 26]]])"
      ]
     },
     "execution_count": 102,
     "metadata": {},
     "output_type": "execute_result"
    }
   ],
   "source": [
    "random_array[-2:,:2,::2]"
   ]
  },
  {
   "cell_type": "code",
   "execution_count": null,
   "id": "163e0fc8-afda-4600-b547-8047a92cc04c",
   "metadata": {},
   "outputs": [],
   "source": []
  },
  {
   "cell_type": "markdown",
   "id": "5d7f52b9-a81c-4a32-ac0d-cfecb3acf094",
   "metadata": {
    "jp-MarkdownHeadingCollapsed": true
   },
   "source": [
    "### ND"
   ]
  },
  {
   "cell_type": "code",
   "execution_count": 104,
   "id": "da021511-dda1-48a3-a5be-be312336d334",
   "metadata": {},
   "outputs": [
    {
     "name": "stdout",
     "output_type": "stream",
     "text": [
      "[[[[27 15 13]\n",
      "   [14 23 43]\n",
      "   [19 38 12]\n",
      "   [24 49 19]]\n",
      "\n",
      "  [[41 44 39]\n",
      "   [46 14 29]\n",
      "   [30 48 10]\n",
      "   [25 14 29]]]\n",
      "\n",
      "\n",
      " [[[40 43 44]\n",
      "   [24 44 46]\n",
      "   [18 12 46]\n",
      "   [34 18 40]]\n",
      "\n",
      "  [[11 49 31]\n",
      "   [10 18 26]\n",
      "   [41 27 22]\n",
      "   [40 20 23]]]\n",
      "\n",
      "\n",
      " [[[43 12 32]\n",
      "   [21 31 24]\n",
      "   [43 40 25]\n",
      "   [48 27 19]]\n",
      "\n",
      "  [[18 33 33]\n",
      "   [32 13 21]\n",
      "   [10 24 11]\n",
      "   [42 31 40]]]]\n"
     ]
    }
   ],
   "source": [
    "random_array = np.random.randint(low = 10, high = 50, size = (3,2,4,3))\n",
    "print(random_array)"
   ]
  },
  {
   "cell_type": "code",
   "execution_count": 110,
   "id": "4d859224-8513-4da2-8f7f-f6bca864f5f0",
   "metadata": {},
   "outputs": [
    {
     "data": {
      "text/plain": [
       "array([[[[27, 15],\n",
       "         [14, 23]],\n",
       "\n",
       "        [[41, 44],\n",
       "         [46, 14]]],\n",
       "\n",
       "\n",
       "       [[[40, 43],\n",
       "         [24, 44]],\n",
       "\n",
       "        [[11, 49],\n",
       "         [10, 18]]]])"
      ]
     },
     "execution_count": 110,
     "metadata": {},
     "output_type": "execute_result"
    }
   ],
   "source": [
    "random_array[:2,:2,:2,:2]"
   ]
  },
  {
   "cell_type": "code",
   "execution_count": null,
   "id": "01dc438a-3eeb-4d51-8194-73a42729ac65",
   "metadata": {},
   "outputs": [],
   "source": []
  }
 ],
 "metadata": {
  "kernelspec": {
   "display_name": "Python 3 (ipykernel)",
   "language": "python",
   "name": "python3"
  },
  "language_info": {
   "codemirror_mode": {
    "name": "ipython",
    "version": 3
   },
   "file_extension": ".py",
   "mimetype": "text/x-python",
   "name": "python",
   "nbconvert_exporter": "python",
   "pygments_lexer": "ipython3",
   "version": "3.10.12"
  }
 },
 "nbformat": 4,
 "nbformat_minor": 5
}
