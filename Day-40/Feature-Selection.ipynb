{
 "cells": [
  {
   "cell_type": "code",
   "execution_count": 1,
   "id": "9e85495f-7977-4ccd-88f3-da408fc88180",
   "metadata": {},
   "outputs": [],
   "source": [
    "from sklearn.datasets import make_classification\n",
    "from sklearn.model_selection import train_test_split\n",
    "\n",
    "from sklearn.linear_model import LogisticRegression"
   ]
  },
  {
   "cell_type": "markdown",
   "id": "abc687bb-9d6d-42f3-bf7b-cb8d3969c2d5",
   "metadata": {},
   "source": [
    "## Feature Selection"
   ]
  },
  {
   "cell_type": "markdown",
   "id": "1bd31938-4a90-4eea-966a-dcb9bca8a645",
   "metadata": {},
   "source": [
    "Feature selection is the process of selecting a subset of relevant and informative features from a larger set of available features for use in machine learning algorithms. The aim is to reduce the dimensionality of the data and improve the accuracy and efficiency of the model.\n",
    "\n",
    "There are several techniques of feature selection. Let's take a look into a two most popular techniques."
   ]
  },
  {
   "cell_type": "markdown",
   "id": "bcbc17bf-be07-4a90-aca4-fe75b5f54cea",
   "metadata": {},
   "source": [
    "### Forward Feature Selection"
   ]
  },
  {
   "cell_type": "markdown",
   "id": "dadab169-b2a1-4d14-8361-fe4373dd6f99",
   "metadata": {},
   "source": [
    "Forward feature selection involves starting with an empty set of features and iteratively adding one feature at a time based on their individual performance in predicting the outcome variable. This process continues until a stopping criterion is met, such as reaching a predefined number of features or a specific level of accuracy."
   ]
  },
  {
   "cell_type": "code",
   "execution_count": 22,
   "id": "f59b52ec-984f-4f36-aefc-313f283301a2",
   "metadata": {},
   "outputs": [],
   "source": [
    "# Creating custom dataset for testing\n",
    "X, y = make_classification(\n",
    "    n_samples=800, # total rows\n",
    "    n_features=10, # totoal columns\n",
    "    n_informative=5, # informative features\n",
    "    n_redundant=0,\n",
    "    random_state = 42\n",
    ")"
   ]
  },
  {
   "cell_type": "code",
   "execution_count": 23,
   "id": "8b68b219-93ad-4abd-b122-a6c142d63b2f",
   "metadata": {},
   "outputs": [],
   "source": [
    "X_train, X_test, y_train, y_test = train_test_split(\n",
    "    X, y, test_size = 0.2, stratify=y, random_state = 42\n",
    ")"
   ]
  },
  {
   "cell_type": "code",
   "execution_count": 24,
   "id": "8432daa7-fa58-4f52-8989-e7aaeec9fe4f",
   "metadata": {},
   "outputs": [
    {
     "name": "stdout",
     "output_type": "stream",
     "text": [
      "Selected Feature (forward):  [9]  Score:  0.66875\n",
      "Selected Feature (forward):  [9, 0]  Score:  0.6125\n",
      "Selected Feature (forward):  [9, 0, 5]  Score:  0.7375\n",
      "Selected Feature (forward):  [9, 0, 5, 8]  Score:  0.7875\n",
      "Selected Feature (forward):  [9, 0, 5, 8, 1]  Score:  0.775\n",
      "Selected Feature (forward):  [9, 0, 5, 8, 1, 2]  Score:  0.775\n",
      "Selected Feature (forward):  [9, 0, 5, 8, 1, 2, 3]  Score:  0.76875\n",
      "Selected Feature (forward):  [9, 0, 5, 8, 1, 2, 3, 4]  Score:  0.775\n",
      "Selected Feature (forward):  [9, 0, 5, 8, 1, 2, 3, 4, 6]  Score:  0.775\n",
      "Selected Feature (forward):  [9, 0, 5, 8, 1, 2, 3, 4, 6, 7]  Score:  0.78125\n"
     ]
    }
   ],
   "source": [
    "selected_feature = []\n",
    "\n",
    "for i in range(X_train.shape[1]):\n",
    "    best_acc = 0\n",
    "    best_feature = None\n",
    "    \n",
    "    for j in range(X_train.shape[1]):\n",
    "        \n",
    "        if j not in selected_feature:\n",
    "            \n",
    "            features = selected_feature + [j]\n",
    "            \n",
    "            model = LogisticRegression()\n",
    "            model.fit(X_train[:, features] , y_train)\n",
    "            accuracy = model.score(X_test[:, features], y_test)\n",
    "\n",
    "            if accuracy > best_acc:\n",
    "                best_acc = accuracy\n",
    "                best_feature = j\n",
    "                \n",
    "    selected_feature.append(best_feature)\n",
    "\n",
    "    print(\"Selected Feature (forward): \", selected_feature, \" Score: \",  accuracy)"
   ]
  },
  {
   "cell_type": "code",
   "execution_count": 30,
   "id": "d1ce0e9b-aa0d-45c9-bbc6-7de05ca80742",
   "metadata": {},
   "outputs": [],
   "source": []
  },
  {
   "cell_type": "markdown",
   "id": "eec3d83d-5fb5-408c-aeae-d956e0edfc40",
   "metadata": {},
   "source": [
    "### Backward Feature selection"
   ]
  },
  {
   "cell_type": "markdown",
   "id": "327b16ce-8211-450b-b9b4-bdc308d362ac",
   "metadata": {},
   "source": [
    "Backward feature selection, on the other hand, starts with all available features and iteratively removes one feature at a time based on their individual performance in predicting the outcome variable. This process continues until a stopping criterion is met, such as reaching a predefined number of features or a specific level of accuracy."
   ]
  },
  {
   "cell_type": "code",
   "execution_count": 25,
   "id": "0d634d44-54e6-435c-989c-d0a91c768077",
   "metadata": {},
   "outputs": [
    {
     "name": "stdout",
     "output_type": "stream",
     "text": [
      "Selected Features (Backward): [0, 1, 2, 3, 4, 5, 6, 7, 8] Score: 0.675\n",
      "Selected Features (Backward): [0, 1, 2, 3, 4, 6, 7, 8] Score: 0.65625\n",
      "Selected Features (Backward): [0, 1, 2, 3, 4, 6, 7] Score: 0.51875\n",
      "Selected Features (Backward): [0, 1, 3, 4, 6, 7] Score: 0.51875\n",
      "Selected Features (Backward): [0, 1, 4, 6, 7] Score: 0.51875\n",
      "Selected Features (Backward): [1, 4, 6, 7] Score: 0.53125\n",
      "Selected Features (Backward): [1, 4, 7] Score: 0.475\n",
      "Selected Features (Backward): [1, 4] Score: 0.475\n",
      "Selected Features (Backward): [1] Score: 0.43125\n"
     ]
    }
   ],
   "source": [
    "# Implement backward feature elimination\n",
    "selected_features = list(range(X_train.shape[1]))\n",
    "\n",
    "for i in range(X_train.shape[1] - 1):\n",
    "    \n",
    "    worst_accuracy = 1\n",
    "    worst_feature = None\n",
    "    \n",
    "    for j in selected_features:\n",
    "        \n",
    "        features = selected_features.copy()\n",
    "        features.remove(j)\n",
    "        \n",
    "        model = LogisticRegression()\n",
    "        model.fit(X_train[:, features], y_train)\n",
    "        accuracy = model.score(X_test[:, features], y_test)\n",
    "        \n",
    "        if accuracy < worst_accuracy:\n",
    "            worst_accuracy = accuracy\n",
    "            worst_feature = j\n",
    "            \n",
    "    selected_features.remove(worst_feature)\n",
    "    print(\"Selected Features (Backward):\", selected_features, \"Score:\", accuracy)"
   ]
  },
  {
   "cell_type": "code",
   "execution_count": null,
   "id": "d125659a-a39d-4b53-9811-4879cb9b172f",
   "metadata": {},
   "outputs": [],
   "source": []
  },
  {
   "cell_type": "markdown",
   "id": "99e29cb2-5aa8-445d-bce3-2632d616a819",
   "metadata": {},
   "source": [
    "Both forward and backward feature selection have their own advantages and limitations. Forward feature selection tends to be more computationally efficient and is more likely to identify relevant features that may be missed in backward selection. However, it may also include irrelevant features that may not contribute to the overall accuracy of the model.\n",
    "\n",
    "In contrast, backward feature selection tends to produce more parsimonious models that may be easier to interpret and have better generalizability. However, it may also remove important features that may have a significant impact on the model's accuracy.\n",
    "\n",
    "Ultimately, the choice between forward and backward feature selection depends on the specific needs and characteristics of the dataset and the goals of the analysis."
   ]
  },
  {
   "cell_type": "code",
   "execution_count": null,
   "id": "75e3f7a4-728d-4669-9e27-3bea32cff839",
   "metadata": {},
   "outputs": [],
   "source": []
  },
  {
   "cell_type": "code",
   "execution_count": null,
   "id": "44a9b648-f2d4-40eb-a396-e0de7c8f763d",
   "metadata": {},
   "outputs": [],
   "source": []
  }
 ],
 "metadata": {
  "kernelspec": {
   "display_name": "Python 3 (ipykernel)",
   "language": "python",
   "name": "python3"
  },
  "language_info": {
   "codemirror_mode": {
    "name": "ipython",
    "version": 3
   },
   "file_extension": ".py",
   "mimetype": "text/x-python",
   "name": "python",
   "nbconvert_exporter": "python",
   "pygments_lexer": "ipython3",
   "version": "3.10.12"
  }
 },
 "nbformat": 4,
 "nbformat_minor": 5
}
