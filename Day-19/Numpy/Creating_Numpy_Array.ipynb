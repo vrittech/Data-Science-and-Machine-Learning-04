{
 "cells": [
  {
   "cell_type": "code",
   "execution_count": 1,
   "id": "a9f7e6ee-0279-4562-ad10-179fdf2118c2",
   "metadata": {},
   "outputs": [
    {
     "name": "stdout",
     "output_type": "stream",
     "text": [
      "Requirement already satisfied: numpy in /home/shailesh/Desktop/VritEducation/vritvenv/lib/python3.10/site-packages (1.26.4)\n"
     ]
    }
   ],
   "source": [
    "!pip install numpy"
   ]
  },
  {
   "cell_type": "code",
   "execution_count": 2,
   "id": "dd9c4914-ea1b-44a3-90b1-dd944fbe618b",
   "metadata": {},
   "outputs": [],
   "source": [
    "import numpy as np"
   ]
  },
  {
   "cell_type": "markdown",
   "id": "30763c76-9c0b-4006-aaee-0c86dc185dc8",
   "metadata": {},
   "source": [
    "## Creating Numpy array"
   ]
  },
  {
   "cell_type": "code",
   "execution_count": 16,
   "id": "4710af3b-f7f4-4efd-805f-4ad370cab03a",
   "metadata": {},
   "outputs": [
    {
     "name": "stdout",
     "output_type": "stream",
     "text": [
      "[11  2  4]\n",
      "<class 'numpy.ndarray'>\n",
      "1\n"
     ]
    }
   ],
   "source": [
    "# np.array()\n",
    "\n",
    "# 1D\n",
    "list1 = [11,2,4]\n",
    "\n",
    "array1 = np.array(list1)\n",
    "\n",
    "print(array1)\n",
    "print(type(array1))\n",
    "print(array1.ndim)"
   ]
  },
  {
   "cell_type": "code",
   "execution_count": 20,
   "id": "28a2798f-57f1-460e-8ff9-3d6b2cfe0942",
   "metadata": {},
   "outputs": [
    {
     "name": "stdout",
     "output_type": "stream",
     "text": [
      "[[1 4 6]\n",
      " [7 8 2]]\n",
      "<class 'numpy.ndarray'>\n",
      "2\n"
     ]
    }
   ],
   "source": [
    "# np.array()\n",
    "\n",
    "# 2D\n",
    "\n",
    "list2 = [\n",
    "            [ 1,4,6 ],\n",
    "            [ 7,8,2 ]\n",
    "        ]\n",
    "\n",
    "array2 = np.array(list2)\n",
    "\n",
    "print(array2)\n",
    "print(type(array2))\n",
    "print(array2.ndim)"
   ]
  },
  {
   "cell_type": "code",
   "execution_count": null,
   "id": "0ba22819-fa2c-4c22-81a3-ac5de33decff",
   "metadata": {},
   "outputs": [],
   "source": []
  },
  {
   "cell_type": "code",
   "execution_count": 25,
   "id": "e776ee2f-75c5-4973-82b7-c9bbe3a1ba87",
   "metadata": {},
   "outputs": [
    {
     "name": "stdout",
     "output_type": "stream",
     "text": [
      "[0. 0. 0. 0. 0.]\n"
     ]
    }
   ],
   "source": [
    "# np.zeros() \n",
    "# 1D\n",
    "\n",
    "array_zero = np.zeros(5)\n",
    "print(array_zero)"
   ]
  },
  {
   "cell_type": "code",
   "execution_count": 26,
   "id": "4c796ef1-ace1-47f6-b728-feb3603512cb",
   "metadata": {},
   "outputs": [
    {
     "name": "stdout",
     "output_type": "stream",
     "text": [
      "[[0. 0. 0.]\n",
      " [0. 0. 0.]]\n"
     ]
    }
   ],
   "source": [
    "# np.zeros() \n",
    "\n",
    "array_zero = np.zeros((2,3))\n",
    "print(array_zero)"
   ]
  },
  {
   "cell_type": "code",
   "execution_count": 27,
   "id": "bd0976c8-9628-412f-9617-518c3b68b243",
   "metadata": {},
   "outputs": [
    {
     "name": "stdout",
     "output_type": "stream",
     "text": [
      "[1. 1. 1. 1. 1.]\n"
     ]
    }
   ],
   "source": [
    "# np.ones()\n",
    "# 1D\n",
    "array_ones = np.ones(5)\n",
    "print(array_ones)"
   ]
  },
  {
   "cell_type": "code",
   "execution_count": 28,
   "id": "d7b15ddd-0413-42df-8d4c-302a56a100f1",
   "metadata": {},
   "outputs": [
    {
     "name": "stdout",
     "output_type": "stream",
     "text": [
      "[[1. 1. 1.]\n",
      " [1. 1. 1.]]\n"
     ]
    }
   ],
   "source": [
    "# np.ones()\n",
    "# 1D\n",
    "array_ones = np.ones((2,3))\n",
    "print(array_ones)"
   ]
  },
  {
   "cell_type": "code",
   "execution_count": 32,
   "id": "ae2417da-80d1-479b-af24-2472c6a4e092",
   "metadata": {},
   "outputs": [
    {
     "name": "stdout",
     "output_type": "stream",
     "text": [
      "[3.2 3.2 3.2 3.2 3.2]\n",
      "float64\n"
     ]
    }
   ],
   "source": [
    "# np.full()\n",
    "# 1D\n",
    "array_full = np.full(shape = 5, fill_value = 3.2 )\n",
    "print(array_full)\n",
    "\n",
    "print(array_full.dtype)"
   ]
  },
  {
   "cell_type": "code",
   "execution_count": 40,
   "id": "e7a68f82-9b4d-4341-b9ef-c3d82267763f",
   "metadata": {},
   "outputs": [
    {
     "name": "stdout",
     "output_type": "stream",
     "text": [
      "[[5 5 5]\n",
      " [5 5 5]]\n",
      "int64\n",
      "(2, 3)\n"
     ]
    }
   ],
   "source": [
    "# np.full()\n",
    "\n",
    "array_full = np.full(shape = (2,3), fill_value = 5 )\n",
    "print(array_full)\n",
    "\n",
    "print(array_full.dtype)\n",
    "\n",
    "print(array_full.shape)"
   ]
  },
  {
   "cell_type": "code",
   "execution_count": 42,
   "id": "130a0eec-db6c-4c35-90fd-e011e328e8e1",
   "metadata": {},
   "outputs": [
    {
     "data": {
      "text/plain": [
       "[1, 3, 5, 7, 9]"
      ]
     },
     "execution_count": 42,
     "metadata": {},
     "output_type": "execute_result"
    }
   ],
   "source": [
    "# range(<start>, <end>, <step>)\n",
    "list(range(1,10, 2))"
   ]
  },
  {
   "cell_type": "code",
   "execution_count": 44,
   "id": "3e58ea9b-eb27-4376-83cd-a454ff9c1c8b",
   "metadata": {},
   "outputs": [
    {
     "name": "stdout",
     "output_type": "stream",
     "text": [
      "[1 2 3 4 5 6 7 8 9]\n"
     ]
    }
   ],
   "source": [
    "# np.arange(start, stop, step)\n",
    "# Can only define array of 1D\n",
    "\n",
    "array_range1 = np.arange(1,10)\n",
    "print(array_range1)"
   ]
  },
  {
   "cell_type": "code",
   "execution_count": 45,
   "id": "c921df23-f366-41f4-b338-a01ccd19d1bb",
   "metadata": {},
   "outputs": [
    {
     "name": "stdout",
     "output_type": "stream",
     "text": [
      "[-6.3  -3.63 -0.96  1.71  4.38  7.05  9.72 12.39]\n"
     ]
    }
   ],
   "source": [
    "array_range1 = np.arange(-6.3,13.6, 2.67)\n",
    "print(array_range1)"
   ]
  },
  {
   "cell_type": "code",
   "execution_count": 49,
   "id": "2c09757d-b8c6-4586-81d8-ec8a09c193be",
   "metadata": {},
   "outputs": [
    {
     "name": "stdout",
     "output_type": "stream",
     "text": [
      "[ 0.   2.5  5.   7.5 10. ]\n"
     ]
    }
   ],
   "source": [
    "# np.linspace(start, stop, element) > linear space\n",
    "\n",
    "array_linspace1 = np.linspace(start=0, stop=10, num=5)\n",
    "print(array_linspace1)"
   ]
  },
  {
   "cell_type": "code",
   "execution_count": 57,
   "id": "b06bbc81-e990-47f2-819a-abc30faaf8d9",
   "metadata": {},
   "outputs": [
    {
     "name": "stdout",
     "output_type": "stream",
     "text": [
      "[[ 0.   2.5  5.   7.5 10. ]\n",
      " [ 0.   5.  10.  15.  20. ]\n",
      " [ 0.   7.5 15.  22.5 30. ]]\n"
     ]
    }
   ],
   "source": [
    "array_linspace2 = np.linspace(start= (0,0,0), stop= (10,20,30), num=5, axis =1)\n",
    "print(array_linspace2)"
   ]
  },
  {
   "cell_type": "code",
   "execution_count": null,
   "id": "82987450-69cc-4d65-a139-5a95576aa896",
   "metadata": {},
   "outputs": [],
   "source": []
  },
  {
   "cell_type": "code",
   "execution_count": 58,
   "id": "b26bf1b5-8bae-4557-b7a2-be25cb1d3d57",
   "metadata": {},
   "outputs": [
    {
     "name": "stdout",
     "output_type": "stream",
     "text": [
      "[[1 0 0]\n",
      " [0 2 0]\n",
      " [0 0 3]]\n"
     ]
    }
   ],
   "source": [
    "# np.diag() > Square matrix\n",
    "\n",
    "diag_array1= np.diag([1,2,3])\n",
    "print(diag_array1)"
   ]
  },
  {
   "cell_type": "code",
   "execution_count": 63,
   "id": "8f43cef6-ab7f-4d92-9e95-ed0239763117",
   "metadata": {},
   "outputs": [
    {
     "name": "stdout",
     "output_type": "stream",
     "text": [
      "[[0 0 0 0 0]\n",
      " [4 0 0 0 0]\n",
      " [0 5 0 0 0]\n",
      " [0 0 6 0 0]\n",
      " [0 0 0 7 0]]\n",
      "int64\n"
     ]
    }
   ],
   "source": [
    "diag_array1= np.diag([4,5,6,7], k =-1)\n",
    "print(diag_array1)\n",
    "\n",
    "print(diag_array1.dtype)"
   ]
  },
  {
   "cell_type": "code",
   "execution_count": 72,
   "id": "a2cd14b2-329d-4033-80a8-7ec4cfba85d9",
   "metadata": {},
   "outputs": [
    {
     "name": "stdout",
     "output_type": "stream",
     "text": [
      "[[1. 0. 0. 0.]\n",
      " [0. 1. 0. 0.]\n",
      " [0. 0. 1. 0.]\n",
      " [0. 0. 0. 1.]\n",
      " [0. 0. 0. 0.]]\n"
     ]
    }
   ],
   "source": [
    "# np.eye() diagonal matix with 1\n",
    "eye_array1 = np.eye(N = 5, M=4)\n",
    "print(eye_array1)\n"
   ]
  },
  {
   "cell_type": "code",
   "execution_count": 73,
   "id": "5cae5639-ac58-40f4-997b-eadb5630d4e7",
   "metadata": {},
   "outputs": [
    {
     "name": "stdout",
     "output_type": "stream",
     "text": [
      "[[1. 0. 0. 0. 0.]\n",
      " [0. 1. 0. 0. 0.]\n",
      " [0. 0. 1. 0. 0.]\n",
      " [0. 0. 0. 1. 0.]\n",
      " [0. 0. 0. 0. 1.]]\n"
     ]
    }
   ],
   "source": [
    "# np.identity()\n",
    "# diagonal matrix with 1  > identity matrix\n",
    "# less used in industry\n",
    "identity_array = np.identity(5)\n",
    "print(identity_array)"
   ]
  },
  {
   "cell_type": "code",
   "execution_count": 88,
   "id": "ccf81505-344d-4772-a035-fddda399ff93",
   "metadata": {},
   "outputs": [
    {
     "name": "stdout",
     "output_type": "stream",
     "text": [
      "[[[0.90503404 0.96546354 0.86516598 0.95315999 0.64554532]\n",
      "  [0.10528681 0.2146232  0.87946565 0.22310857 0.94911542]]]\n",
      "3\n"
     ]
    }
   ],
   "source": [
    "# np.random\n",
    "random_array = np.random.rand(1,2,5)\n",
    "print(random_array)\n",
    "print(random_array.ndim)"
   ]
  },
  {
   "cell_type": "code",
   "execution_count": 89,
   "id": "318a0dd4-4c7c-498f-bc9d-63e7fe85c555",
   "metadata": {},
   "outputs": [
    {
     "name": "stdout",
     "output_type": "stream",
     "text": [
      "DImension of 3\n"
     ]
    }
   ],
   "source": [
    "def dimension(*args):\n",
    "    print(f\"DImension of {len(args)}\")\n",
    "dimension(1,5,6)"
   ]
  },
  {
   "cell_type": "code",
   "execution_count": 96,
   "id": "11390407-15e7-48a7-ba58-fabb8e219918",
   "metadata": {},
   "outputs": [
    {
     "name": "stdout",
     "output_type": "stream",
     "text": [
      "[[[48 27 17 44]\n",
      "  [43 18 13 42]\n",
      "  [23 30 29 19]]\n",
      "\n",
      " [[39 46 43 26]\n",
      "  [16 33 46 38]\n",
      "  [36 32 20 42]]]\n",
      "3\n"
     ]
    }
   ],
   "source": [
    "random_array = np.random.randint(low = 10, high = 50, size = (2,3,4))\n",
    "print(random_array)\n",
    "print(random_array.ndim)"
   ]
  },
  {
   "cell_type": "code",
   "execution_count": 94,
   "id": "e8b55eab-df02-4aa7-adc8-c057d8e41007",
   "metadata": {},
   "outputs": [
    {
     "name": "stdout",
     "output_type": "stream",
     "text": [
      "(2, 3, 4)\n"
     ]
    }
   ],
   "source": [
    "print(random_array.shape)"
   ]
  },
  {
   "cell_type": "code",
   "execution_count": null,
   "id": "9a7538ba-c9ac-4758-ba50-525c398958ed",
   "metadata": {},
   "outputs": [],
   "source": []
  }
 ],
 "metadata": {
  "kernelspec": {
   "display_name": "Python 3 (ipykernel)",
   "language": "python",
   "name": "python3"
  },
  "language_info": {
   "codemirror_mode": {
    "name": "ipython",
    "version": 3
   },
   "file_extension": ".py",
   "mimetype": "text/x-python",
   "name": "python",
   "nbconvert_exporter": "python",
   "pygments_lexer": "ipython3",
   "version": "3.10.12"
  }
 },
 "nbformat": 4,
 "nbformat_minor": 5
}
