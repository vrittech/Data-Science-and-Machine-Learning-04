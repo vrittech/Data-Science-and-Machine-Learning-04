{
 "cells": [
  {
   "cell_type": "code",
   "execution_count": 1,
   "id": "ec0e091c-0297-4610-8a0c-ac9d00f116c1",
   "metadata": {},
   "outputs": [],
   "source": [
    "import pandas as pd\n",
    "import numpy as np\n",
    "from sklearn.preprocessing import MinMaxScaler, StandardScaler"
   ]
  },
  {
   "cell_type": "code",
   "execution_count": 2,
   "id": "0d168a62-1a15-4a2c-b326-9a9cf52b3f58",
   "metadata": {},
   "outputs": [
    {
     "data": {
      "text/html": [
       "<div>\n",
       "<style scoped>\n",
       "    .dataframe tbody tr th:only-of-type {\n",
       "        vertical-align: middle;\n",
       "    }\n",
       "\n",
       "    .dataframe tbody tr th {\n",
       "        vertical-align: top;\n",
       "    }\n",
       "\n",
       "    .dataframe thead th {\n",
       "        text-align: right;\n",
       "    }\n",
       "</style>\n",
       "<table border=\"1\" class=\"dataframe\">\n",
       "  <thead>\n",
       "    <tr style=\"text-align: right;\">\n",
       "      <th></th>\n",
       "      <th>year</th>\n",
       "      <th>month</th>\n",
       "      <th>stateDescription</th>\n",
       "      <th>sectorName</th>\n",
       "      <th>customers</th>\n",
       "      <th>price</th>\n",
       "      <th>revenue</th>\n",
       "      <th>sales</th>\n",
       "    </tr>\n",
       "  </thead>\n",
       "  <tbody>\n",
       "    <tr>\n",
       "      <th>0</th>\n",
       "      <td>2001</td>\n",
       "      <td>1</td>\n",
       "      <td>Wyoming</td>\n",
       "      <td>all sectors</td>\n",
       "      <td>NaN</td>\n",
       "      <td>4.31</td>\n",
       "      <td>48.12840</td>\n",
       "      <td>1116.17208</td>\n",
       "    </tr>\n",
       "    <tr>\n",
       "      <th>1</th>\n",
       "      <td>2001</td>\n",
       "      <td>1</td>\n",
       "      <td>Wyoming</td>\n",
       "      <td>commercial</td>\n",
       "      <td>NaN</td>\n",
       "      <td>5.13</td>\n",
       "      <td>12.67978</td>\n",
       "      <td>247.08691</td>\n",
       "    </tr>\n",
       "    <tr>\n",
       "      <th>2</th>\n",
       "      <td>2001</td>\n",
       "      <td>1</td>\n",
       "      <td>Wyoming</td>\n",
       "      <td>industrial</td>\n",
       "      <td>NaN</td>\n",
       "      <td>3.26</td>\n",
       "      <td>19.60858</td>\n",
       "      <td>602.30484</td>\n",
       "    </tr>\n",
       "    <tr>\n",
       "      <th>3</th>\n",
       "      <td>2001</td>\n",
       "      <td>1</td>\n",
       "      <td>Wyoming</td>\n",
       "      <td>other</td>\n",
       "      <td>NaN</td>\n",
       "      <td>4.75</td>\n",
       "      <td>0.76868</td>\n",
       "      <td>16.17442</td>\n",
       "    </tr>\n",
       "    <tr>\n",
       "      <th>4</th>\n",
       "      <td>2001</td>\n",
       "      <td>1</td>\n",
       "      <td>Wyoming</td>\n",
       "      <td>residential</td>\n",
       "      <td>NaN</td>\n",
       "      <td>6.01</td>\n",
       "      <td>15.07136</td>\n",
       "      <td>250.60591</td>\n",
       "    </tr>\n",
       "  </tbody>\n",
       "</table>\n",
       "</div>"
      ],
      "text/plain": [
       "   year  month stateDescription   sectorName  customers  price   revenue  \\\n",
       "0  2001      1          Wyoming  all sectors        NaN   4.31  48.12840   \n",
       "1  2001      1          Wyoming   commercial        NaN   5.13  12.67978   \n",
       "2  2001      1          Wyoming   industrial        NaN   3.26  19.60858   \n",
       "3  2001      1          Wyoming        other        NaN   4.75   0.76868   \n",
       "4  2001      1          Wyoming  residential        NaN   6.01  15.07136   \n",
       "\n",
       "        sales  \n",
       "0  1116.17208  \n",
       "1   247.08691  \n",
       "2   602.30484  \n",
       "3    16.17442  \n",
       "4   250.60591  "
      ]
     },
     "execution_count": 2,
     "metadata": {},
     "output_type": "execute_result"
    }
   ],
   "source": [
    "dataframe = pd.read_csv(\"clean_data.csv\")\n",
    "dataframe.head()"
   ]
  },
  {
   "cell_type": "markdown",
   "id": "8b82c26e-d854-4cc8-a0f3-558ccaa2242c",
   "metadata": {},
   "source": [
    "**ETL (extract, transform, load) integration:** This involves extracting data from different sources, transforming it to meet the needs of the target system, and loading it into a target database or data warehouse. ETL tools are commonly used to automate this process, making it more efficient and less error-prone. Python has several powerful ETL tools like `Apache Nifi`, `Apache Airflow`, and `Apache Beam`. These tools allow developers to extract data from various sources, perform transformations, and load it into a target database or data warehouse."
   ]
  },
  {
   "cell_type": "markdown",
   "id": "75785477-420b-45d7-8798-ee6df6559de1",
   "metadata": {},
   "source": [
    "## Handling data normalization"
   ]
  },
  {
   "cell_type": "markdown",
   "id": "841b68fc-d624-4692-bec1-1f1cb2f4cf3b",
   "metadata": {},
   "source": [
    "Data normalization is the process of transforming data into a common scale or range, to eliminate differences in magnitude and make the data more comparable and interpretable. Normalization is an important step in data preprocessing, as it can improve the accuracy and performance of machine learning models and other data analysis techniques."
   ]
  },
  {
   "cell_type": "markdown",
   "id": "7a5a6513-2ac3-40bf-be79-bf4faae93a9a",
   "metadata": {},
   "source": [
    "1. **Min-Max Normalization**\n",
    "\n",
    "This method scales the data to a fixed range, typically between 0 and 1. The formula for min-max normalization is:\n",
    "\n",
    "```python\n",
    "x_norm = (x - x_min) / (x_max - x_min)\n",
    "```"
   ]
  },
  {
   "cell_type": "code",
   "execution_count": 3,
   "id": "a5c1829c-65af-4bfa-a337-8c9512565b45",
   "metadata": {},
   "outputs": [
    {
     "data": {
      "text/plain": [
       "count    85870.000000\n",
       "mean         0.015259\n",
       "std          0.054357\n",
       "min          0.000000\n",
       "25%          0.000738\n",
       "50%          0.003694\n",
       "75%          0.011074\n",
       "max          1.000000\n",
       "Name: sales, dtype: float64"
      ]
     },
     "execution_count": 3,
     "metadata": {},
     "output_type": "execute_result"
    }
   ],
   "source": [
    "sales_min = dataframe['sales'].min()\n",
    "sales_max= dataframe['sales'].max()\n",
    "\n",
    "sales_norm = (dataframe['sales'] - sales_min) / (sales_max -sales_min)\n",
    "sales_norm.describe()"
   ]
  },
  {
   "cell_type": "code",
   "execution_count": 4,
   "id": "5585dc4e-6a10-4090-b674-d8ee201eb32f",
   "metadata": {},
   "outputs": [
    {
     "name": "stdout",
     "output_type": "stream",
     "text": [
      "0.0\n",
      "1.0\n"
     ]
    }
   ],
   "source": [
    "# Using sklearn\n",
    "scaler = MinMaxScaler() #<- Object Creation\n",
    "\n",
    "# scaler.fit(dataframe['sales']) #<- Calculate necessary numbers\n",
    "# norm = scaler.transform(dataframe['sales']) #<- Scale given input data\n",
    "\n",
    "norm = scaler.fit_transform(dataframe['sales'].values.reshape(-1,1))\n",
    "print(norm.min())\n",
    "print(norm.max())"
   ]
  },
  {
   "cell_type": "markdown",
   "id": "1824b988-4120-4e5d-9858-bea4b0538e4f",
   "metadata": {},
   "source": [
    "2. **Z-score Normalization / StandardScaler**\n",
    "\n",
    "   This method scales the data to have zero mean and unit variance. The formula for z-score normalization is:\n",
    "\n",
    "```python\n",
    "x_norm = (x - mean) / std\n",
    "```\n",
    "\n",
    "where `x` is the original value, `mean` and `std` are the mean and standard deviation of the data, respectively, and `x_norm` is the normalized value."
   ]
  },
  {
   "cell_type": "code",
   "execution_count": 5,
   "id": "f6173864-e2b1-438c-8817-b9717fd6b55d",
   "metadata": {},
   "outputs": [
    {
     "data": {
      "text/plain": [
       "count    8.587000e+04\n",
       "mean    -9.681321e-18\n",
       "std      1.000000e+00\n",
       "min     -2.807211e-01\n",
       "25%     -2.671478e-01\n",
       "50%     -2.127704e-01\n",
       "75%     -7.699104e-02\n",
       "max      1.811622e+01\n",
       "Name: sales, dtype: float64"
      ]
     },
     "execution_count": 5,
     "metadata": {},
     "output_type": "execute_result"
    }
   ],
   "source": [
    "x_mean = dataframe['sales'].mean()\n",
    "x_std= dataframe['sales'].std()\n",
    "\n",
    "sales_norm = (dataframe['sales'] - x_mean) / x_std\n",
    "sales_norm.describe()"
   ]
  },
  {
   "cell_type": "code",
   "execution_count": 15,
   "id": "b2072596-d17b-47d1-aa38-2b4aeb177da0",
   "metadata": {},
   "outputs": [
    {
     "name": "stdout",
     "output_type": "stream",
     "text": [
      "-0.0000\n",
      "1.0000\n"
     ]
    }
   ],
   "source": [
    "# Using sklearn\n",
    "scaler = StandardScaler() #<- Object Creation\n",
    "\n",
    "# scaler.fit(dataframe['sales']) #<- Calculate necessary numbers\n",
    "# norm = scaler.transform(dataframe['sales']) #<- Scale given input data\n",
    "\n",
    "norm = scaler.fit_transform(dataframe['sales'].values.reshape(-1,1))\n",
    "print(f\"{norm.mean():.4f}\")\n",
    "print(f\"{norm.std():.4f}\")"
   ]
  },
  {
   "cell_type": "markdown",
   "id": "82c6b4b5-048f-47ac-afa2-abe091481557",
   "metadata": {},
   "source": [
    "3. **Log transformation:**\n",
    "\n",
    "   This method applies a logarithmic function to the data, to reduce the range of values and make the data more symmetric and normally distributed. The formula for log normalization is:\n",
    "\n",
    "```python\n",
    "x_norm = log(x)\n",
    "```\n",
    "\n",
    "where `x` is the original value, and `x_norm` is the normalized value."
   ]
  },
  {
   "cell_type": "code",
   "execution_count": 13,
   "id": "37e6fdfa-bcb6-4a16-ba45-fd6522e255ab",
   "metadata": {},
   "outputs": [
    {
     "name": "stderr",
     "output_type": "stream",
     "text": [
      "/home/shailesh/Desktop/VritEducation/vritvenv/lib/python3.10/site-packages/pandas/core/arraylike.py:399: RuntimeWarning: divide by zero encountered in log\n",
      "  result = getattr(ufunc, method)(*inputs, **kwargs)\n"
     ]
    },
    {
     "data": {
      "text/plain": [
       "0    7.017660\n",
       "1    5.509740\n",
       "2    6.400764\n",
       "3    2.783431\n",
       "4    5.523882\n",
       "Name: sales, dtype: float64"
      ]
     },
     "execution_count": 13,
     "metadata": {},
     "output_type": "execute_result"
    }
   ],
   "source": [
    "norm = np.log(dataframe['sales'])\n",
    "norm.head()"
   ]
  },
  {
   "cell_type": "markdown",
   "id": "12a9b043-9c96-43fa-b611-629d43cbbc3f",
   "metadata": {},
   "source": [
    "4. **Power Transformation:**\n",
    "\n",
    "   This method applies a power function to the data, to adjust the skewness and kurtosis of the distribution and make the data more symmetric and normally distributed. The formula for power normalization is:\n",
    "\n",
    "```python\n",
    "x_norm = sign(x) * abs(x) ** a\n",
    "```\n",
    "\n",
    "where `x` is the original value, `a` is the power parameter (typically between 0 and 1), `sign` is the sign function that returns the sign of x (+1 or -1), and `abs` is the absolute value function. The normalized value `x_norm` is obtained by raising the absolute value of `x` to the power of `a`, and then multiplying it by the sign of `x` to preserve the direction of the data."
   ]
  },
  {
   "cell_type": "code",
   "execution_count": 11,
   "id": "e36ace14-be0a-4851-98fa-9d8ba0d3b9de",
   "metadata": {},
   "outputs": [
    {
     "data": {
      "text/plain": [
       "0    33.409162\n",
       "1    15.718998\n",
       "2    24.541900\n",
       "3     4.021743\n",
       "4    15.830537\n",
       "Name: sales, dtype: float64"
      ]
     },
     "execution_count": 11,
     "metadata": {},
     "output_type": "execute_result"
    }
   ],
   "source": [
    "power_factor = 0.5\n",
    "norm = np.sign(dataframe['sales']) * np.power(np.abs(dataframe['sales']), power_factor)\n",
    "norm.head()"
   ]
  },
  {
   "cell_type": "code",
   "execution_count": null,
   "id": "2a5209ae",
   "metadata": {},
   "outputs": [],
   "source": []
  }
 ],
 "metadata": {
  "kernelspec": {
   "display_name": "Python 3 (ipykernel)",
   "language": "python",
   "name": "python3"
  },
  "language_info": {
   "codemirror_mode": {
    "name": "ipython",
    "version": 3
   },
   "file_extension": ".py",
   "mimetype": "text/x-python",
   "name": "python",
   "nbconvert_exporter": "python",
   "pygments_lexer": "ipython3",
   "version": "3.10.12"
  }
 },
 "nbformat": 4,
 "nbformat_minor": 5
}
