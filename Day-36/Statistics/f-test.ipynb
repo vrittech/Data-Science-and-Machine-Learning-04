{
 "cells": [
  {
   "cell_type": "markdown",
   "id": "d89726bd-0120-471c-9da8-896c522176b2",
   "metadata": {},
   "source": [
    "## F- Test"
   ]
  },
  {
   "cell_type": "markdown",
   "id": "ecb6dafb-9a9a-4abd-a9a6-5ae91ccf0183",
   "metadata": {},
   "source": [
    "The F-test is a statistical test used to compare the variances of two populations or the overall variance across multiple populations. It assesses whether the variances are significantly different or if they can be considered equal.\n",
    "\n",
    "The F-test calculates the test statistic, known as the F-statistic, using the formula:\n",
    "\n",
    "\\begin{equation}\n",
    "F = \\frac{Variance\\ within\\ groups}{Variance\\ between\\ groups}\n",
    "​\\end{equation}"
   ]
  },
  {
   "cell_type": "markdown",
   "id": "4fbc6e62-509a-496e-9ba0-801fb675ff83",
   "metadata": {},
   "source": [
    " \n",
    "The F-statistic is the ratio of the mean square between groups to the mean square within groups. It follows an F-distribution, which depends on the degrees of freedom associated with the numerator and denominator of the F-statistic.\n",
    "\n",
    "There are several types of F-tests that are commonly used in statistics. Here are some of the main types:\n",
    "\n",
    "- **ANOVA F-test:** The ANOVA F-test is used to compare the means of three or more groups or factors to determine if there are significant differences among them. It assesses whether there is evidence to reject the null hypothesis that all group means are equal. The ANOVA F-test can be applied in both one-way ANOVA (with a single factor) and two-way ANOVA (with two factors).\n",
    "\n",
    "- **Regression F-test:** In regression analysis, the F-test is used to determine the overall significance of a regression model. It tests whether there is a linear relationship between the independent variables and the dependent variable. It compares the variation explained by the regression model to the unexplained residual variation.\n",
    "\n",
    "- **Lack-of-Fit F-test:** This F-test is used in regression analysis to assess whether a chosen regression model adequately fits the data. It compares the variation explained by the chosen model to the unexplained variation within the model. If the test is significant, it suggests that the chosen model does not adequately capture the underlying relationship.\n",
    "\n",
    "- **Homogeneity of Variance F-test:** This F-test is used to compare the variances of two or more populations or groups. It tests the null hypothesis that the variances are equal across the populations. It is commonly used before performing"
   ]
  },
  {
   "cell_type": "markdown",
   "id": "0df7689c-0978-4b64-ad25-9b8779fb53e2",
   "metadata": {},
   "source": [
    "### ANOVA"
   ]
  },
  {
   "cell_type": "markdown",
   "id": "cfc963e8-69ad-447a-9ebd-312e2af8ac8a",
   "metadata": {},
   "source": [
    "ANOVA is a statistical test used to compare the means of three or more groups. It determines whether there are any statistically significant differences between the means and helps identify which groups are significantly different from each other.\n",
    "\n",
    "ANOVA partitions the total variation in the data into two components: the variation between groups and the variation within groups. The test statistic, known as the F-statistic, is calculated by comparing the ratio of the between-group variation to the within-group variation.\n",
    "\n",
    "The F-statistic is calculated using the formula:\n",
    "\n",
    "\\begin{equation}\n",
    "F = \\frac{Mean Square Within}{Mean Square Between}\n",
    "\\end{equation}\n",
    "​\n",
    "where:\n",
    "\n",
    "- $Mean Square Between$ is the sum of squares between groups divided by the degrees of freedom between groups\n",
    "- $Mean Square Within$ is the sum of squares within groups divided by the degrees of freedom within groups\n"
   ]
  },
  {
   "cell_type": "markdown",
   "id": "53a6f835-6bb5-4642-b7db-a4d8c177f9f4",
   "metadata": {},
   "source": [
    "ANOVA can be used for various designs, such as one-way ANOVA for a single factor, two-way ANOVA for two factors, and so on.\n",
    "\n",
    "1. **One-Way ANOVA F-test:** This F-test is used to compare the means of three or more groups to determine if there are significant differences among them. It assesses whether there is evidence to reject the null hypothesis that all group means are equal.\n",
    "\n",
    "2. **Two-Way ANOVA F-test:** This F-test is used in the context of a two-way ANOVA, which involves two independent categorical factors. It examines the main effects of each factor as well as the interaction effect between the two factors."
   ]
  },
  {
   "cell_type": "code",
   "execution_count": 3,
   "id": "851b9cac-f194-4f1d-a4ed-ec318efef81f",
   "metadata": {},
   "outputs": [],
   "source": [
    "import numpy as np\n",
    "import scipy.stats as stats"
   ]
  },
  {
   "cell_type": "code",
   "execution_count": 36,
   "id": "8b5238e8-16d2-4764-bdf5-97efc311ca79",
   "metadata": {},
   "outputs": [],
   "source": [
    "g1 =  np.random.randint(5,10,5) \n",
    "g2 =  np.random.randint(5,10,5) \n",
    "g3 =  np.random.randint(5,10,5)"
   ]
  },
  {
   "cell_type": "code",
   "execution_count": 37,
   "id": "9236ec55-bb32-4b1a-95f2-7b14cebbe609",
   "metadata": {},
   "outputs": [
    {
     "name": "stdout",
     "output_type": "stream",
     "text": [
      "[9 7 5 7 6]\n",
      "[7 8 5 5 8]\n",
      "[8 5 5 7 5]\n"
     ]
    }
   ],
   "source": [
    "print(g1)\n",
    "print(g2)\n",
    "print(g3)"
   ]
  },
  {
   "cell_type": "code",
   "execution_count": 38,
   "id": "41e5b77e-8ebd-4491-88fd-5cbd7f51fafa",
   "metadata": {},
   "outputs": [
    {
     "name": "stdout",
     "output_type": "stream",
     "text": [
      "F-statistic = 0.40\n",
      "P-value = 0.6789\n"
     ]
    }
   ],
   "source": [
    "f_stas, p_value = stats.f_oneway(g1,g2,g3)\n",
    "\n",
    "print(f\"F-statistic = {f_stas:.2f}\")\n",
    "print(f\"P-value = {p_value:.4f}\")"
   ]
  },
  {
   "cell_type": "markdown",
   "id": "8df2f640-a923-434a-bb0e-914702126950",
   "metadata": {},
   "source": [
    "**Interpreting f-test**\n",
    "\n",
    "- The F-statistic measures the ratio of the variation between groups to the variation within groups. A larger F-statistic indicates greater differences between the group means.\n",
    "- The p-value represents the probability of observing an F-statistic as extreme as the one calculated, assuming the null hypothesis is true. A small p-value (typically below a significance level such as 0.05) suggests rejecting the null hypothesis in favor of the alternative hypothesis.\n"
   ]
  },
  {
   "cell_type": "markdown",
   "id": "96969061-f858-4662-bcdb-1477f0bda545",
   "metadata": {},
   "source": [
    "### Visualizing ANOVA"
   ]
  },
  {
   "cell_type": "code",
   "execution_count": 39,
   "id": "4a950f0e-5bd9-446b-ac97-0d665fa2987e",
   "metadata": {},
   "outputs": [
    {
     "data": {
      "image/png": "[encoded data removed]",
      "text/plain": [
       "<Figure size 800x600 with 1 Axes>"
      ]
     },
     "metadata": {},
     "output_type": "display_data"
    }
   ],
   "source": [
    "import matplotlib.pyplot as plt\n",
    "\n",
    "# Combine the data into a single list\n",
    "data = [g1, g2, g3]\n",
    "\n",
    "# Create box plot\n",
    "plt.figure(figsize=(8, 6))\n",
    "plt.boxplot(data, labels=['Group 1', 'Group 2', 'Group 3'])\n",
    "plt.xlabel('Groups')\n",
    "plt.ylabel('Values')\n",
    "plt.title('Box Plot of Data')\n",
    "\n",
    "plt.show()"
   ]
  },
  {
   "cell_type": "code",
   "execution_count": null,
   "id": "05951d3e-1ef0-449b-9236-0228c3166635",
   "metadata": {},
   "outputs": [],
   "source": []
  }
 ],
 "metadata": {
  "kernelspec": {
   "display_name": "Python 3 (ipykernel)",
   "language": "python",
   "name": "python3"
  },
  "language_info": {
   "codemirror_mode": {
    "name": "ipython",
    "version": 3
   },
   "file_extension": ".py",
   "mimetype": "text/x-python",
   "name": "python",
   "nbconvert_exporter": "python",
   "pygments_lexer": "ipython3",
   "version": "3.10.12"
  }
 },
 "nbformat": 4,
 "nbformat_minor": 5
}
