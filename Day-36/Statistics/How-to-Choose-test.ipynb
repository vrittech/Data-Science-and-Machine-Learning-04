{
 "cells": [
  {
   "cell_type": "markdown",
   "metadata": {},
   "source": [
    "## How to choose the correct test statistic?\n",
    "\n",
    "Choosing the correct test statistic depends on the nature of the hypothesis being tested and the characteristics of the population distribution. Here are some guidelines to help you choose the appropriate test statistic for common hypothesis testing scenarios:\n",
    "\n",
    "### 1. Testing the mean of a single population:\n",
    "\n",
    "- If the population standard deviation is known, use the z-test statistic. Here, $\\bar{X}$ is the sample mean, $\\mu$ is the hypothesized population mean, $\\sigma$ is the population standard deviation, and $n$ is the sample size.\n",
    "\n",
    "\\begin{equation}\n",
    "z = \\frac{{\\bar{X} - \\mu}}{{\\sigma / \\sqrt{n}}}\n",
    "\\end{equation}\n",
    "\n",
    "- If the population standard deviation is unknown and needs to be estimated from the sample, use the t-test statistic. Here, $s$ is the sample standard deviation.\n",
    "\n",
    "\\begin{equation}\n",
    "t = \\frac{{\\bar{X} - \\mu}}{{s / \\sqrt{n}}}\n",
    "\\end{equation}\n",
    "\n",
    "### 2. Testing the difference between means of two populations:\n",
    "\n",
    "- If both population standard deviations are known, use the z-test statistic. Here, $\\bar{X}_1$ and $\\bar{X}_2$ are the sample means, $\\sigma_1$ and $\\sigma_2$ are the population standard deviations, $n_1$ and $n_2$ are the sample sizes.\n",
    "\n",
    "\\begin{equation}\n",
    "z = \\frac{{\\bar{X}_1 - \\bar{X}_2}}{{\\sqrt{\\frac{{\\sigma_1^2}}{{n_1}} + \\frac{{\\sigma_2^2}}{{n_2}}}}}\n",
    "\\end{equation}\n",
    "\n",
    "- If the population standard deviations are unknown and assumed to be equal, use the pooled t-test statistic. Here, $s_p$ is the pooled sample standard deviation.\n",
    "\n",
    "\\begin{equation}\n",
    "t = \\frac{{\\bar{X}_1 - \\bar{X}_2}}{{s_p \\sqrt{\\frac{1}{{n_1}} + \\frac{1}{{n_2}}}}}\n",
    "\\end{equation}\n",
    "\n",
    "### 3. Testing the association between categorical variables:\n",
    "\n",
    "- For 2x2 contingency tables, use the chi-square test statistic. Here, $O$ is the observed frequency and $E$ is the expected frequency under the null hypothesis.\n",
    "\n",
    "\\begin{equation}\n",
    "\\chi^2 = \\sum{\\frac{{(O - E)^2}}{{E}}}\n",
    "\\end{equation}\n",
    "\n",
    "- For larger contingency tables, consider using the chi-square test of independence or Fisher's exact test.\n",
    "\n",
    "### 4. Testing the relationship between categorical and continuous variables:\n",
    "\n",
    "- Use analysis of variance (ANOVA) or its non-parametric equivalent, Kruskal-Wallis test, when comparing means across multiple groups."
   ]
  },
  {
   "cell_type": "markdown",
   "metadata": {},
   "source": []
  }
 ],
 "metadata": {
  "kernelspec": {
   "display_name": "Python 3 (ipykernel)",
   "language": "python",
   "name": "python3"
  },
  "language_info": {
   "codemirror_mode": {
    "name": "ipython",
    "version": 3
   },
   "file_extension": ".py",
   "mimetype": "text/x-python",
   "name": "python",
   "nbconvert_exporter": "python",
   "pygments_lexer": "ipython3",
   "version": "3.10.12"
  }
 },
 "nbformat": 4,
 "nbformat_minor": 4
}
