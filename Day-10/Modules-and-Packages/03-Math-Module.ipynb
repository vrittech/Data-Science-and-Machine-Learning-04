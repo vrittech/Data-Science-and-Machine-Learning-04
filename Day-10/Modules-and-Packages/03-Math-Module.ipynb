{
 "cells": [
  {
   "cell_type": "markdown",
   "id": "8dccb954",
   "metadata": {},
   "source": [
    "# Python Math Module\n",
    "\n",
    "The Python `math` module provides a set of mathematical functions for performing various mathematical operations. Here is a brief tutorial on some of the most commonly used functions and properties in the math module:\n",
    "\n",
    "## Arithmetic Functions\n",
    "\n",
    "These are functions that perform basic arithmetic operations such as addition, subtraction, multiplication, and division.\n",
    "\n",
    "- `math.pow(x, y)`: Returns the yth power of x\n",
    "- `math.sqrt(x)`: Returns the square root of x\n",
    "- `math.ceil(x)`: Returns the smallest integer greater than or equal to x\n",
    "- `math.floor(x)`: Returns the intger after rounding it down towards negative infinity\n",
    "- `math.trunc(x)`: Returns the integer part of x after rounding it down towards zero\n",
    "- `math.fabs(x)`: Returns the absolute value of x"
   ]
  },
  {
   "cell_type": "code",
   "execution_count": 1,
   "id": "9d85e227",
   "metadata": {},
   "outputs": [
    {
     "name": "stdout",
     "output_type": "stream",
     "text": [
      "8.0\n",
      "7.0\n",
      "5\n",
      "-5\n",
      "-4\n",
      "4.9\n"
     ]
    }
   ],
   "source": [
    "import math\n",
    "\n",
    "print(math.pow(2, 3))\n",
    "print(math.sqrt(49))\n",
    "print(math.ceil(4.1))\n",
    "print(math.floor(-4.9))\n",
    "print(math.trunc(-4.9))\n",
    "print(math.fabs(-4.9))"
   ]
  },
  {
   "cell_type": "markdown",
   "id": "ab453793",
   "metadata": {},
   "source": [
    "## Trigonometric Functions:\n",
    "\n",
    "These are functions that deal with angles and their relationships to each other.\n",
    "\n",
    "- `math.sin(x)`: Returns the sine of x (in radians)\n",
    "- `math.cos(x)`: Returns the cosine of x (in radians)\n",
    "- `math.tan(x)`: Returns the tan of x (in radians)\n",
    "- `math.radians(x)`: Converts x from degrees to radians\n",
    "- `math.degrees(x)`: Converts x from radians to degrees\n",
    "- `math.hypot(x, y)`: Returns the length of the hypotenuse of a right triangle with sides x and y"
   ]
  },
  {
   "cell_type": "code",
   "execution_count": 2,
   "id": "f790404e",
   "metadata": {},
   "outputs": [
    {
     "name": "stdout",
     "output_type": "stream",
     "text": [
      "1.0\n",
      "6.123233995736766e-17\n",
      "1.633123935319537e+16\n",
      "3.141592653589793\n",
      "90.0\n",
      "5.0\n"
     ]
    }
   ],
   "source": [
    "import math\n",
    "\n",
    "print(math.sin(math.pi/2))\n",
    "print(math.cos(math.pi/2))\n",
    "print(math.tan(math.pi/2))\n",
    "print(math.radians(180))\n",
    "print(math.degrees(math.pi/2))\n",
    "print(math.hypot(3, 4))"
   ]
  },
  {
   "cell_type": "markdown",
   "id": "28c5dde6",
   "metadata": {},
   "source": [
    "## Exponential and Logarithmic Functions:\n",
    "\n",
    "These are functions that deal with the exponential growth and decay of values over time.\n",
    "\n",
    "- `math.exp(x)`: Returns the exponential of x\n",
    "- `math.log(x)`: Returns the natural logarithm of x\n",
    "- `math.log10(x)`: Returns the base 10 logarithm of x"
   ]
  },
  {
   "cell_type": "code",
   "execution_count": 3,
   "id": "093f5ae6",
   "metadata": {},
   "outputs": [
    {
     "name": "stdout",
     "output_type": "stream",
     "text": [
      "7.38905609893065\n",
      "2.302585092994046\n",
      "1.0\n"
     ]
    }
   ],
   "source": [
    "import math\n",
    "\n",
    "print(math.exp(2))\n",
    "print(math.log(10))\n",
    "print(math.log10(10))"
   ]
  },
  {
   "cell_type": "markdown",
   "id": "6adb1d12",
   "metadata": {},
   "source": [
    "## Constants:\n",
    "\n",
    "The math module also includes several mathematical constants that are popular among the mathematicians. You may be familiar with most of them.\n",
    "\n",
    "- `math.pi`: Returns the mathematical constant pi (3.141592...)\n",
    "- `math.e`: Returns the mathematical constant e (2.718281...)\n",
    "- `math.inf`: Returns a floating-point positive infinity value\n",
    "- `math.tau`: Returns the mathematical constant tau (2*pi)\n",
    "- `math.nan`: Returns a floating-point not-a-number (NaN) value"
   ]
  },
  {
   "cell_type": "code",
   "execution_count": 4,
   "id": "c2843f90",
   "metadata": {},
   "outputs": [
    {
     "name": "stdout",
     "output_type": "stream",
     "text": [
      "3.141592653589793\n",
      "2.718281828459045\n",
      "inf\n",
      "6.283185307179586\n",
      "nan\n"
     ]
    }
   ],
   "source": [
    "import math\n",
    "\n",
    "print(math.pi)\n",
    "print(math.e)\n",
    "print(math.inf)\n",
    "print(math.tau)\n",
    "print(math.nan)"
   ]
  },
  {
   "cell_type": "markdown",
   "id": "dbe8c736",
   "metadata": {},
   "source": [
    "## Special Functions:\n",
    "\n",
    "These are functions that deal with special and more complex mathematical concepts.\n",
    "\n",
    "- `math.factorial(x)`: Returns the factorial of x (x!)\n",
    "- `math.comb(n, k)`: Returns the number of ways to choose k items from a set of n items\n",
    "- `math.isclose(a, b, rel_tol=1e-9, abs_tol=0.0)`: Returns True if the absolute difference between a and b is less than or equal to either the relative tolerance `rel_tol` or the absolute tolerance `abs_tol`\n",
    "- `math.isqrt(n)`: Returns the integer square root of n\n",
    "- `math.dist(p, q)`: Returns the Euclidean distance between two points p and q in n-dimensional space\n",
    "- `math.erf(x)`: Returns the error function of x\n",
    "- `math.gamma(x)`: Returns the gamma function of x\n",
    "- `math.perm(n, k)`: Returns the number of possible permutations of selecting k items from a group of n items without replacement and where the order of selection matters"
   ]
  },
  {
   "cell_type": "code",
   "execution_count": 5,
   "id": "a8cd03f0",
   "metadata": {},
   "outputs": [
    {
     "name": "stdout",
     "output_type": "stream",
     "text": [
      "120\n",
      "10\n",
      "True\n",
      "4\n",
      "5.196152422706632\n",
      "0.5204998778130465\n",
      "24.0\n",
      "60\n"
     ]
    }
   ],
   "source": [
    "import math\n",
    "\n",
    "print(math.factorial(5))\n",
    "print(math.comb(5, 2))\n",
    "print(math.isclose(0.1 + 0.2, 0.3))\n",
    "print(math.isqrt(16))\n",
    "p = (1, 2, 3)\n",
    "q = (4, 5, 6)\n",
    "print(math.dist(p, q))\n",
    "print(math.erf(0.5))\n",
    "print(math.gamma(5))\n",
    "print(math.perm(5, 3))"
   ]
  }
 ],
 "metadata": {
  "kernelspec": {
   "display_name": "Python 3 (ipykernel)",
   "language": "python",
   "name": "python3"
  },
  "language_info": {
   "codemirror_mode": {
    "name": "ipython",
    "version": 3
   },
   "file_extension": ".py",
   "mimetype": "text/x-python",
   "name": "python",
   "nbconvert_exporter": "python",
   "pygments_lexer": "ipython3",
   "version": "3.10.12"
  }
 },
 "nbformat": 4,
 "nbformat_minor": 5
}
