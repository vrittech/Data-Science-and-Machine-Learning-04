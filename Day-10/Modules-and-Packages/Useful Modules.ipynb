{
 "cells": [
  {
   "cell_type": "markdown",
   "metadata": {},
   "source": [
    "# Permutations and Combinations"
   ]
  },
  {
   "cell_type": "markdown",
   "metadata": {},
   "source": [
    "nPr = $\\frac{N!}{(N - R)!}$\n",
    "\n",
    "\n",
    "nCr = $\\frac{N!}{(N - R)! \\times R!}$"
   ]
  },
  {
   "cell_type": "code",
   "execution_count": 3,
   "metadata": {},
   "outputs": [],
   "source": [
    "from itertools import permutations, combinations"
   ]
  },
  {
   "cell_type": "code",
   "execution_count": 4,
   "metadata": {},
   "outputs": [],
   "source": [
    "names = ['Jerry', 'John', 'Larry', 'austin']"
   ]
  },
  {
   "cell_type": "code",
   "execution_count": 5,
   "metadata": {},
   "outputs": [],
   "source": [
    "permut_list = permutations(names, r=3)"
   ]
  },
  {
   "cell_type": "code",
   "execution_count": 6,
   "metadata": {},
   "outputs": [],
   "source": [
    "permut_list = list(permut_list)"
   ]
  },
  {
   "cell_type": "code",
   "execution_count": 8,
   "metadata": {},
   "outputs": [
    {
     "data": {
      "text/plain": [
       "24"
      ]
     },
     "execution_count": 8,
     "metadata": {},
     "output_type": "execute_result"
    }
   ],
   "source": [
    "len(permut_list)"
   ]
  },
  {
   "cell_type": "code",
   "execution_count": 7,
   "metadata": {},
   "outputs": [
    {
     "data": {
      "text/plain": [
       "[('Jerry', 'John', 'Larry'),\n",
       " ('Jerry', 'John', 'austin'),\n",
       " ('Jerry', 'Larry', 'John'),\n",
       " ('Jerry', 'Larry', 'austin'),\n",
       " ('Jerry', 'austin', 'John'),\n",
       " ('Jerry', 'austin', 'Larry'),\n",
       " ('John', 'Jerry', 'Larry'),\n",
       " ('John', 'Jerry', 'austin'),\n",
       " ('John', 'Larry', 'Jerry'),\n",
       " ('John', 'Larry', 'austin'),\n",
       " ('John', 'austin', 'Jerry'),\n",
       " ('John', 'austin', 'Larry'),\n",
       " ('Larry', 'Jerry', 'John'),\n",
       " ('Larry', 'Jerry', 'austin'),\n",
       " ('Larry', 'John', 'Jerry'),\n",
       " ('Larry', 'John', 'austin'),\n",
       " ('Larry', 'austin', 'Jerry'),\n",
       " ('Larry', 'austin', 'John'),\n",
       " ('austin', 'Jerry', 'John'),\n",
       " ('austin', 'Jerry', 'Larry'),\n",
       " ('austin', 'John', 'Jerry'),\n",
       " ('austin', 'John', 'Larry'),\n",
       " ('austin', 'Larry', 'Jerry'),\n",
       " ('austin', 'Larry', 'John')]"
      ]
     },
     "execution_count": 7,
     "metadata": {},
     "output_type": "execute_result"
    }
   ],
   "source": [
    "permut_list"
   ]
  },
  {
   "cell_type": "code",
   "execution_count": 9,
   "metadata": {},
   "outputs": [],
   "source": [
    "comb_list = combinations(names, 3)\n",
    "comb_list = list(comb_list)"
   ]
  },
  {
   "cell_type": "code",
   "execution_count": 10,
   "metadata": {},
   "outputs": [
    {
     "data": {
      "text/plain": [
       "4"
      ]
     },
     "execution_count": 10,
     "metadata": {},
     "output_type": "execute_result"
    }
   ],
   "source": [
    "len(comb_list)"
   ]
  },
  {
   "cell_type": "code",
   "execution_count": 11,
   "metadata": {},
   "outputs": [
    {
     "data": {
      "text/plain": [
       "[('Jerry', 'John', 'Larry'),\n",
       " ('Jerry', 'John', 'austin'),\n",
       " ('Jerry', 'Larry', 'austin'),\n",
       " ('John', 'Larry', 'austin')]"
      ]
     },
     "execution_count": 11,
     "metadata": {},
     "output_type": "execute_result"
    }
   ],
   "source": [
    "comb_list"
   ]
  },
  {
   "cell_type": "code",
   "execution_count": null,
   "metadata": {},
   "outputs": [],
   "source": []
  },
  {
   "cell_type": "code",
   "execution_count": null,
   "metadata": {},
   "outputs": [],
   "source": []
  },
  {
   "cell_type": "code",
   "execution_count": null,
   "metadata": {},
   "outputs": [],
   "source": []
  }
 ],
 "metadata": {
  "kernelspec": {
   "display_name": "Python 3 (ipykernel)",
   "language": "python",
   "name": "python3"
  },
  "language_info": {
   "codemirror_mode": {
    "name": "ipython",
    "version": 3
   },
   "file_extension": ".py",
   "mimetype": "text/x-python",
   "name": "python",
   "nbconvert_exporter": "python",
   "pygments_lexer": "ipython3",
   "version": "3.10.12"
  }
 },
 "nbformat": 4,
 "nbformat_minor": 4
}
