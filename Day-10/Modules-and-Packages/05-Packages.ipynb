{
 "cells": [
  {
   "cell_type": "markdown",
   "id": "6be32fc3",
   "metadata": {},
   "source": [
    "# Packages in Python\n",
    "\n",
    "Packages are a way of grouping related modules together. A package is essentially a directory containing Python modules, with an additional `__init__.py` file in the directory to specify that it is a package. For example, consider a package named `mypackage` that contains two modules module1 and module2. The directory structure would be:\n",
    "\n",
    "```markdown\n",
    "mypackage/\n",
    "    __init__.py\n",
    "    module1.py\n",
    "    module2.py\n",
    "\n",
    "```\n",
    "\n",
    "To import modules from a package, you use `dot` notation with the package name and module name. For example, to import `module1` from `mypackage`:\n",
    "\n",
    "```python\n",
    "import mypackage.module1\n",
    "\n",
    "mypackage.module1.my_function()\n",
    "```\n",
    "\n",
    "You can also use the `from` statement to import specific functions or variables from a module or a package.\n",
    "\n",
    "```python\n",
    "from mypackage.module1 import my_function\n",
    "\n",
    "my_function()\n",
    "```\n",
    "\n",
    "In addition to this, if you encounter two or more functions or variables with same name from different packages you can assign a different recognizable name to each functions or variables using `as` keyword.\n",
    "\n",
    "```python\n",
    "from package1.module3 import myfunction as mf1\n",
    "from package2 import myfunction as mf2\n",
    "\n",
    "mf1()\n",
    "mf2()\n",
    "```\n",
    "\n",
    "Overall, modules and packages are essential in organizing and reusing code in Python, and understanding how to work with them is important for any Python developer."
   ]
  }
 ],
 "metadata": {
  "kernelspec": {
   "display_name": "Python 3 (ipykernel)",
   "language": "python",
   "name": "python3"
  },
  "language_info": {
   "codemirror_mode": {
    "name": "ipython",
    "version": 3
   },
   "file_extension": ".py",
   "mimetype": "text/x-python",
   "name": "python",
   "nbconvert_exporter": "python",
   "pygments_lexer": "ipython3",
   "version": "3.10.12"
  }
 },
 "nbformat": 4,
 "nbformat_minor": 5
}
