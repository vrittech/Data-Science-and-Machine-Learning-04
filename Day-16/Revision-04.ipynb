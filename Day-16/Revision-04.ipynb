{
 "cells": [
  {
   "cell_type": "code",
   "execution_count": 1,
   "id": "80eb7f3e-278c-4c40-828a-98fb924df394",
   "metadata": {},
   "outputs": [],
   "source": [
    "class Account:\n",
    "    def __init__(self, owner, balance=0):\n",
    "        self.owner = owner\n",
    "        self.__balance = balance  # private attribute\n",
    "\n",
    "    def deposit(self, amount):\n",
    "        if amount > 0:\n",
    "            self.__balance += amount\n",
    "            print(\"Deposit successful.\")\n",
    "        else:\n",
    "            print(\"Deposit amount must be positive.\")\n",
    "\n",
    "    def withdraw(self, amount):\n",
    "        if 0 < amount <= self.__balance:\n",
    "            self.__balance -= amount\n",
    "            print(\"Withdrawal successful.\")\n",
    "        else:\n",
    "            print(\"Insufficient funds or invalid amount.\")\n",
    "\n",
    "    def get_balance(self):\n",
    "        return self.__balance\n"
   ]
  },
  {
   "cell_type": "code",
   "execution_count": 3,
   "id": "591f724d-d5d1-44d5-a0e3-d8b7e9e22081",
   "metadata": {},
   "outputs": [],
   "source": [
    "# Creating an Account object\n",
    "acc = Account(\"Sagar\")"
   ]
  },
  {
   "cell_type": "code",
   "execution_count": 4,
   "id": "b70b15c0-57ee-4761-80c0-0ad990f03183",
   "metadata": {},
   "outputs": [
    {
     "name": "stdout",
     "output_type": "stream",
     "text": [
      "Deposit successful.\n"
     ]
    }
   ],
   "source": [
    "acc.deposit(100)"
   ]
  },
  {
   "cell_type": "code",
   "execution_count": 5,
   "id": "2dc8448d-25c9-46f0-8f6b-f6df608754c1",
   "metadata": {},
   "outputs": [
    {
     "ename": "AttributeError",
     "evalue": "'Account' object has no attribute '__balance'",
     "output_type": "error",
     "traceback": [
      "\u001b[0;31m---------------------------------------------------------------------------\u001b[0m",
      "\u001b[0;31mAttributeError\u001b[0m                            Traceback (most recent call last)",
      "Cell \u001b[0;32mIn[5], line 1\u001b[0m\n\u001b[0;32m----> 1\u001b[0m \u001b[43macc\u001b[49m\u001b[38;5;241;43m.\u001b[39;49m\u001b[43m__balance\u001b[49m\n",
      "\u001b[0;31mAttributeError\u001b[0m: 'Account' object has no attribute '__balance'"
     ]
    }
   ],
   "source": [
    "acc.__balance"
   ]
  },
  {
   "cell_type": "code",
   "execution_count": 6,
   "id": "96c6ad85-968c-4b78-8fa0-c1c7c958860c",
   "metadata": {},
   "outputs": [
    {
     "name": "stdout",
     "output_type": "stream",
     "text": [
      "100\n"
     ]
    }
   ],
   "source": [
    "print(acc.get_balance())  # Accessing the balance through a method"
   ]
  },
  {
   "cell_type": "code",
   "execution_count": 7,
   "id": "6c4e72ac-a16c-489e-9d5e-093f169738f0",
   "metadata": {},
   "outputs": [
    {
     "name": "stdout",
     "output_type": "stream",
     "text": [
      "Withdrawal successful.\n"
     ]
    }
   ],
   "source": [
    "acc.withdraw(50)\n"
   ]
  },
  {
   "cell_type": "code",
   "execution_count": 8,
   "id": "24ed2850-e162-41e9-bc94-a9118a9d9675",
   "metadata": {},
   "outputs": [
    {
     "name": "stdout",
     "output_type": "stream",
     "text": [
      "50\n"
     ]
    }
   ],
   "source": [
    "print(acc.get_balance())"
   ]
  },
  {
   "cell_type": "code",
   "execution_count": null,
   "id": "caa5923e-60f5-4bde-82c0-67e93779db2d",
   "metadata": {},
   "outputs": [],
   "source": []
  },
  {
   "cell_type": "code",
   "execution_count": null,
   "id": "0ab4b72f-420a-4992-b47c-455ce5b92a3e",
   "metadata": {},
   "outputs": [],
   "source": []
  },
  {
   "cell_type": "code",
   "execution_count": 9,
   "id": "7af296cd-8dd0-4df8-964a-7ec63bb40bc1",
   "metadata": {},
   "outputs": [],
   "source": [
    "class Animal:\n",
    "    def speak(self):\n",
    "        raise NotImplementedError(\"Subclass must implement abstract method\")\n",
    "\n",
    "class Dog(Animal):\n",
    "    def speak(self):\n",
    "        return 'Woof!'\n",
    "\n",
    "class Cat(Animal):\n",
    "    def speak(self):\n",
    "        return 'Meow!'"
   ]
  },
  {
   "cell_type": "code",
   "execution_count": 11,
   "id": "7ace91d2-ebfc-406f-a7d1-ffdbdca1a558",
   "metadata": {},
   "outputs": [
    {
     "name": "stdout",
     "output_type": "stream",
     "text": [
      "Woof!\n",
      "Meow!\n"
     ]
    }
   ],
   "source": [
    "dog = Dog()\n",
    "cat = Cat()\n",
    "\n",
    "print(dog.speak())\n",
    "print(cat.speak())"
   ]
  },
  {
   "cell_type": "code",
   "execution_count": null,
   "id": "e852bac3-4cef-41d6-91ba-e713b53b71ee",
   "metadata": {},
   "outputs": [],
   "source": []
  },
  {
   "cell_type": "code",
   "execution_count": null,
   "id": "e65a0d39-b6d7-41d1-be29-9670bab05795",
   "metadata": {},
   "outputs": [],
   "source": []
  },
  {
   "cell_type": "code",
   "execution_count": 14,
   "id": "c2dd6827-039c-4c8b-aee0-0778e8b73a0c",
   "metadata": {},
   "outputs": [],
   "source": [
    "class Calc:\n",
    "    def __init__(self, a,b):\n",
    "        self.a = a\n",
    "        self.b = b\n",
    "\n",
    "    def __add__(self, c):\n",
    "        return self.a * c"
   ]
  },
  {
   "cell_type": "code",
   "execution_count": 15,
   "id": "13635bf7-8870-4400-bfbe-560494ec97d6",
   "metadata": {},
   "outputs": [],
   "source": [
    "obj = Calc(3,5)"
   ]
  },
  {
   "cell_type": "code",
   "execution_count": 16,
   "id": "6209621b-4c7b-4844-94b2-77562fb4c19c",
   "metadata": {},
   "outputs": [
    {
     "data": {
      "text/plain": [
       "12"
      ]
     },
     "execution_count": 16,
     "metadata": {},
     "output_type": "execute_result"
    }
   ],
   "source": [
    "obj + 4"
   ]
  },
  {
   "cell_type": "code",
   "execution_count": 26,
   "id": "b1be22e2-2c33-45fb-abc2-4b4b903a6717",
   "metadata": {},
   "outputs": [],
   "source": [
    "class Point:\n",
    "    def __init__(self, x, y):\n",
    "        self.x = x\n",
    "        self.y = y\n",
    "    \n",
    "    def __add__(self, other):\n",
    "        x = self.x + other.x\n",
    "        y = self.y + other.y\n",
    "        return Point(x, y)\n",
    "    \n",
    "    def __sub__(self, other):\n",
    "        x = self.x - other.x\n",
    "        y = self.y - other.y\n",
    "        return Point(x, y)\n",
    "    \n",
    "    def __mul__(self, other):\n",
    "        x = self.x * other.x\n",
    "        y = self.y * other.y\n",
    "        return Point(x, y)\n",
    "\n",
    "    def __str__(self):\n",
    "        return f\"({self.x},{self.y})\"\n",
    "\n",
    "    def __call__(self):\n",
    "        return f\"({self.x},{self.y}) is being called\"\n",
    "\n",
    "\n",
    "p1 = Point(2, 4)\n",
    "p2 = Point(4, 6)"
   ]
  },
  {
   "cell_type": "code",
   "execution_count": 24,
   "id": "99d9a796-5796-4dc5-b397-ce035951f5fd",
   "metadata": {},
   "outputs": [
    {
     "name": "stdout",
     "output_type": "stream",
     "text": [
      "(6,10)\n"
     ]
    }
   ],
   "source": [
    "add = p1 + p2\n",
    "print(add)"
   ]
  },
  {
   "cell_type": "code",
   "execution_count": 25,
   "id": "f9e601ba-a889-4ff4-a33b-f55ecbcd4625",
   "metadata": {},
   "outputs": [
    {
     "name": "stdout",
     "output_type": "stream",
     "text": [
      "(8,24)\n"
     ]
    }
   ],
   "source": [
    "print(p1*p2)"
   ]
  },
  {
   "cell_type": "code",
   "execution_count": 17,
   "id": "95c1046b-b5a7-4b1e-a16e-1e55dac6473f",
   "metadata": {},
   "outputs": [
    {
     "data": {
      "text/plain": [
       "(2, 4, 4, 6)"
      ]
     },
     "execution_count": 17,
     "metadata": {},
     "output_type": "execute_result"
    }
   ],
   "source": [
    "(2,4) + (4,6)"
   ]
  },
  {
   "cell_type": "code",
   "execution_count": 27,
   "id": "89400378-76a5-48b5-b361-aa011bb2336c",
   "metadata": {},
   "outputs": [
    {
     "data": {
      "text/plain": [
       "'(2,4) is being called'"
      ]
     },
     "execution_count": 27,
     "metadata": {},
     "output_type": "execute_result"
    }
   ],
   "source": [
    "p1()"
   ]
  },
  {
   "cell_type": "code",
   "execution_count": null,
   "id": "843b2b38-f8db-4267-91f4-aaf572463474",
   "metadata": {},
   "outputs": [],
   "source": []
  },
  {
   "cell_type": "code",
   "execution_count": null,
   "id": "39d7858c-25a3-4ee3-aa4c-5576a4c6ebcd",
   "metadata": {},
   "outputs": [],
   "source": []
  },
  {
   "cell_type": "code",
   "execution_count": 2,
   "id": "4f0d66d5-9f3d-453d-a884-666f4ed1513e",
   "metadata": {},
   "outputs": [
    {
     "name": "stdout",
     "output_type": "stream",
     "text": [
      "1709786343.7156172\n"
     ]
    }
   ],
   "source": [
    "import time\n",
    "\n",
    "# Get current time in seconds since the Epoch\n",
    "current_time = time.time()\n",
    "print(current_time)"
   ]
  },
  {
   "cell_type": "code",
   "execution_count": 35,
   "id": "59b650e2-c50f-483f-9869-d15d08acccdd",
   "metadata": {},
   "outputs": [
    {
     "data": {
      "text/plain": [
       "'Thu Mar  7 10:17:33 2024'"
      ]
     },
     "execution_count": 35,
     "metadata": {},
     "output_type": "execute_result"
    }
   ],
   "source": [
    "time.ctime()\n",
    "10000000"
   ]
  },
  {
   "cell_type": "code",
   "execution_count": 3,
   "id": "ada159a9-ad91-4e97-92c9-9072a1b924e3",
   "metadata": {},
   "outputs": [
    {
     "name": "stdout",
     "output_type": "stream",
     "text": [
      "4999999950000000\n"
     ]
    }
   ],
   "source": [
    "start = time.time()\n",
    "\n",
    "res = 0\n",
    "for i in range(1,100000000):\n",
    "    res += i\n",
    "print(res)\n",
    "\n",
    "end = time.time()\n",
    "end - start"
   ]
  },
  {
   "cell_type": "code",
   "execution_count": 5,
   "id": "60a8f06e-949a-44e9-9dc1-a29da44c349c",
   "metadata": {},
   "outputs": [
    {
     "name": "stdout",
     "output_type": "stream",
     "text": [
      "4999999950000000\n"
     ]
    },
    {
     "data": {
      "text/plain": [
       "0.7084009647369385"
      ]
     },
     "execution_count": 5,
     "metadata": {},
     "output_type": "execute_result"
    }
   ],
   "source": [
    "start = time.time()\n",
    "\n",
    "res = sum(range(1,100000000))\n",
    "print(res)\n",
    "\n",
    "end = time.time()\n",
    "\n",
    "end - start"
   ]
  },
  {
   "cell_type": "code",
   "execution_count": 5,
   "id": "cd4d4694-3c52-4b95-8f05-5caf0605646d",
   "metadata": {},
   "outputs": [
    {
     "data": {
      "text/plain": [
       "5.9604644775390625e-05"
      ]
     },
     "execution_count": 5,
     "metadata": {},
     "output_type": "execute_result"
    }
   ],
   "source": [
    "import time\n",
    "start = time.time()\n",
    "sum = 0\n",
    "sum = [sum + i for i in range(1, 10)]\n",
    "\n",
    "end = time.time()\n",
    "end - start"
   ]
  },
  {
   "cell_type": "code",
   "execution_count": 2,
   "id": "8aea1c9d-e280-487c-b970-e822348b92cc",
   "metadata": {},
   "outputs": [
    {
     "name": "stdout",
     "output_type": "stream",
     "text": [
      "5000000050000000\n"
     ]
    },
    {
     "data": {
      "text/plain": [
       "0.000240325927734375"
      ]
     },
     "execution_count": 2,
     "metadata": {},
     "output_type": "execute_result"
    }
   ],
   "source": [
    "start = time.time()\n",
    "\n",
    "N = 100000000\n",
    "sum_using_formula = N * (N + 1) // 2\n",
    "print(sum_using_formula)\n",
    "\n",
    "end = time.time()\n",
    "\n",
    "end - start\n"
   ]
  },
  {
   "cell_type": "code",
   "execution_count": null,
   "id": "e606d974-54f9-4032-be15-6d4b7153e66b",
   "metadata": {},
   "outputs": [],
   "source": []
  },
  {
   "cell_type": "code",
   "execution_count": null,
   "id": "a217c7db-6b4c-4224-bf87-e7afb62ffeb7",
   "metadata": {},
   "outputs": [],
   "source": []
  },
  {
   "cell_type": "code",
   "execution_count": 6,
   "id": "655340f7-0224-4811-b9d1-4001e8208def",
   "metadata": {},
   "outputs": [],
   "source": [
    "import os"
   ]
  },
  {
   "cell_type": "code",
   "execution_count": 7,
   "id": "b41386be-7bf7-47e1-b64d-14767731ed70",
   "metadata": {},
   "outputs": [
    {
     "data": {
      "text/plain": [
       "True"
      ]
     },
     "execution_count": 7,
     "metadata": {},
     "output_type": "execute_result"
    }
   ],
   "source": [
    "os.path.exists(\"/home\")"
   ]
  },
  {
   "cell_type": "code",
   "execution_count": 9,
   "id": "236a8741-b534-47a5-ad93-376bc3821212",
   "metadata": {},
   "outputs": [
    {
     "name": "stdout",
     "output_type": "stream",
     "text": [
      "hello\n"
     ]
    }
   ],
   "source": [
    "print(\"hello\")"
   ]
  },
  {
   "cell_type": "code",
   "execution_count": null,
   "id": "dd7c7144-9c6d-45a4-ab2c-57056ff7bf04",
   "metadata": {},
   "outputs": [],
   "source": []
  }
 ],
 "metadata": {
  "kernelspec": {
   "display_name": "Python 3 (ipykernel)",
   "language": "python",
   "name": "python3"
  },
  "language_info": {
   "codemirror_mode": {
    "name": "ipython",
    "version": 3
   },
   "file_extension": ".py",
   "mimetype": "text/x-python",
   "name": "python",
   "nbconvert_exporter": "python",
   "pygments_lexer": "ipython3",
   "version": "3.10.12"
  }
 },
 "nbformat": 4,
 "nbformat_minor": 5
}
