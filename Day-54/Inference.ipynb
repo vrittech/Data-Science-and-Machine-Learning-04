{
 "cells": [
  {
   "cell_type": "code",
   "execution_count": 39,
   "id": "e6862442-ba8c-49cb-8405-9ebd0a26f399",
   "metadata": {},
   "outputs": [],
   "source": [
    "import numpy as np\n",
    "import tensorflow as tf\n",
    "from tensorflow.keras.preprocessing import image\n",
    "from tensorflow.keras.models import load_model"
   ]
  },
  {
   "cell_type": "code",
   "execution_count": 49,
   "id": "f51b2a42-1470-4019-90bf-1371b9322a66",
   "metadata": {},
   "outputs": [],
   "source": [
    "def inference(image_path, model_path):\n",
    "    # Load model\n",
    "    model = load_model(model_path)\n",
    "    \n",
    "    # Image Preprocessing\n",
    "    new_image = image.load_img(image_path, target_size=(28, 28))\n",
    "    new_image = image.img_to_array(new_image)\n",
    "    # RGB to Grayscale\n",
    "    new_image = tf.image.rgb_to_grayscale(new_image, name=None).numpy()  \n",
    "    \n",
    "    new_image = np.expand_dims(new_image, axis=0)\n",
    "    # Normalization\n",
    "    new_image = new_image / 255.0\n",
    "\n",
    "    # predict\n",
    "    output = model(new_image)\n",
    "\n",
    "    return np.argmax(output)\n"
   ]
  },
  {
   "cell_type": "code",
   "execution_count": 52,
   "id": "07d6c66a-b656-4cd7-80a1-b798e9ab2083",
   "metadata": {},
   "outputs": [],
   "source": [
    "result = inference(\n",
    "    'test_4.png',\n",
    "    'mnist-model.keras'\n",
    ")"
   ]
  },
  {
   "cell_type": "code",
   "execution_count": 53,
   "id": "7854685f-fa91-4b7a-8b39-d9cf276b4a1d",
   "metadata": {},
   "outputs": [
    {
     "data": {
      "text/plain": [
       "4"
      ]
     },
     "execution_count": 53,
     "metadata": {},
     "output_type": "execute_result"
    }
   ],
   "source": [
    "result"
   ]
  },
  {
   "cell_type": "code",
   "execution_count": null,
   "id": "f9ae836e-73bd-4e27-a762-da70a79d7d79",
   "metadata": {},
   "outputs": [],
   "source": []
  }
 ],
 "metadata": {
  "kernelspec": {
   "display_name": "Python 3 (ipykernel)",
   "language": "python",
   "name": "python3"
  },
  "language_info": {
   "codemirror_mode": {
    "name": "ipython",
    "version": 3
   },
   "file_extension": ".py",
   "mimetype": "text/x-python",
   "name": "python",
   "nbconvert_exporter": "python",
   "pygments_lexer": "ipython3",
   "version": "3.10.12"
  }
 },
 "nbformat": 4,
 "nbformat_minor": 5
}
