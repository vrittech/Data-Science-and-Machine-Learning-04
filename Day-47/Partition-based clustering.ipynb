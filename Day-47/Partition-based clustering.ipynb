{
 "cells": [
  {
   "cell_type": "markdown",
   "id": "67a646a8-e4d7-4373-80b2-45bb152f3d31",
   "metadata": {},
   "source": [
    "# Partition-based clustering"
   ]
  },
  {
   "cell_type": "markdown",
   "id": "73939ab6-d933-4bee-971b-a56bd410d2ca",
   "metadata": {},
   "source": [
    "## _K_-Means Algorithm\n",
    "_K_-Means is an iterative algorithm that tries to separate a given dataset into _K_ number of clusters and minimize the distance between data points and their respective cluster centroid. It is one of the simplest and popular clustering algorithms."
   ]
  },
  {
   "cell_type": "markdown",
   "id": "d7f0c013-1fe4-4843-934d-3234e4b3a17a",
   "metadata": {},
   "source": [
    "The whole process of _K_-Means is summarized in the following few steps:\n",
    "\n",
    "__Input:__ $$ \\mathbf x_1, \\mathbf x_2, \\dots , \\mathbf x_N $$\n",
    "\n",
    "where,\n",
    "\n",
    "- $N$ = total number of samples\n",
    "- $\\mathbf x_i$ = $i^{th}$ sample from the dataset $X$ where $\\mathbf x_i \\in \\mathbb R^Z$\n",
    "- $Z$ = total number of features/attributes\n",
    "\n",
    "__Output:__ Vector $\\mathbf{c}_N$ of cluster assignments in $\\mathbb R^N$, and $K$ number of mean vectors $\\boldsymbol \\mu_k$ where matrix of all $K$ means is in $\\mathbb R^{K \\times Z}$\n",
    "\n",
    "__Steps:__\n",
    "\n",
    "1. Specify the number of clusters $K$.\n",
    "2. Initialize the cluster centroids with any initialization methods.\n",
    "\n",
    "3. Compute the distance between each point and each cluster centroids(Euclidean distance metric is a popular choice) Where distance is a vector in $\\mathbb R^{N} $ for all data points and for all $K$ centroids, distances will be a matrix in $\\mathbb R^{K \\times N} $.\n",
    "\n",
    "$$ distance = \\|\\mathbf{x}_i - \\boldsymbol\\mu_k \\|_2^2$$\n",
    "\n",
    "\n",
    "4. Assign each point to the closest cluster centroid (minimum distance).\n",
    "\n",
    "5. Compute the new cluster centroid for each cluster by taking the mean of all the data points in that cluster.\n",
    "6. Repeat steps 3-5 until there is no change in the cluster centroids.\n",
    "\n",
    "**Note**: *Initialization (Step 2) can be done by randomly sampling the centroids from the range of the data or by using methods like K-Means++. We will discuss more on the initialization later in this chapter.*\n"
   ]
  },
  {
   "cell_type": "code",
   "execution_count": null,
   "id": "d349f569-0253-4a60-bb4a-2a4a86e20578",
   "metadata": {},
   "outputs": [],
   "source": []
  },
  {
   "cell_type": "code",
   "execution_count": 1,
   "id": "28ced957-0d0e-437e-b6d4-39bc616740da",
   "metadata": {},
   "outputs": [
    {
     "data": {
      "text/html": [
       "\n",
       "        <iframe\n",
       "            width=\"100%\"\n",
       "            height=\"450\"\n",
       "            src=\"https://kmeans.netlify.app\"\n",
       "            frameborder=\"0\"\n",
       "            allowfullscreen\n",
       "            \n",
       "        ></iframe>\n",
       "        "
      ],
      "text/plain": [
       "<IPython.lib.display.IFrame at 0x7a500b797850>"
      ]
     },
     "metadata": {},
     "output_type": "display_data"
    }
   ],
   "source": [
    "#@title **Experimental Cell: KMeans Clustering**\n",
    "\n",
    "from IPython.display import display\n",
    "from IPython.display import IFrame\n",
    "\n",
    "display(IFrame('https://kmeans.netlify.app', height=450, width='100%'))"
   ]
  },
  {
   "cell_type": "code",
   "execution_count": null,
   "id": "233ec4b6-afdb-4fd9-ae5a-d21c07632c69",
   "metadata": {},
   "outputs": [],
   "source": []
  },
  {
   "cell_type": "code",
   "execution_count": null,
   "id": "0d6144a9-c593-443e-8e5f-d68e5a3709c2",
   "metadata": {},
   "outputs": [],
   "source": []
  }
 ],
 "metadata": {
  "kernelspec": {
   "display_name": "Python 3 (ipykernel)",
   "language": "python",
   "name": "python3"
  },
  "language_info": {
   "codemirror_mode": {
    "name": "ipython",
    "version": 3
   },
   "file_extension": ".py",
   "mimetype": "text/x-python",
   "name": "python",
   "nbconvert_exporter": "python",
   "pygments_lexer": "ipython3",
   "version": "3.10.12"
  }
 },
 "nbformat": 4,
 "nbformat_minor": 5
}
