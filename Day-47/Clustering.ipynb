{
 "cells": [
  {
   "cell_type": "markdown",
   "id": "f793f6d8-101b-4be2-814f-32b359b14fe1",
   "metadata": {},
   "source": [
    "## Unsupervised Learning"
   ]
  },
  {
   "cell_type": "markdown",
   "id": "8a6bbb72-5f86-4ddf-801d-714f777313b1",
   "metadata": {},
   "source": [
    "## Introduction to Clustering\n"
   ]
  },
  {
   "attachments": {},
   "cell_type": "markdown",
   "id": "0c03a7bc-5734-4299-83a1-aa139f444134",
   "metadata": {},
   "source": [
    "Suppose that Shila is visiting a zoo for the first time, and she does not know much about animals. While observing various animals, she sees some living in water, some with wings, some living in trees, and some underground. Although she does not precisely know what animals they are, she has observed some similarities and differences. With the similarity she noted, she was able to group various animals, as shown in the figure below.\n",
    "\n",
    "<div align=\"center\">\n",
    "    <figure>\n",
    "<p><img src=\"images/f1.png\" width=\"300px\"  ></p>\n",
    "     <figcaption>Figure 1: Grouping of animals in zoo</figcaption>\n",
    "    </figure>\n",
    "</div>\n",
    "\n",
    "The task that Shila performed is known as clustering. To formally put it, clustering is the process of partitioning the observations into groups or clusters such that observations in the same cluster tend to be similar, and those in the different clusters tend to be dissimilar."
   ]
  },
  {
   "cell_type": "code",
   "execution_count": null,
   "id": "d89e6a07-dfff-4749-b1c5-3e9a1fd8c90a",
   "metadata": {},
   "outputs": [],
   "source": []
  },
  {
   "cell_type": "markdown",
   "id": "8b9d3681-f559-404f-a8d5-474964024c3f",
   "metadata": {},
   "source": [
    "### Clustering is an Unsupervised Learning\n",
    "\n",
    "Clustering seems similar to classification. In both classification and clustering, we categorize a given data point as belonging to some group/class. But unlike classification where we have the true label to guide the model training process, in clustering we do not have the true label to guide or supervise the training. Therefore, clustering is an unsupervised machine learning method."
   ]
  },
  {
   "cell_type": "markdown",
   "id": "4a3d4238-000c-45d4-b611-504497b6ce91",
   "metadata": {},
   "source": [
    "### Clustering in Machine Learning\n",
    "\n",
    "<div align=\"center\">\n",
    "    <figure>\n",
    "<p><img src=\"images/f2.png\" width=500px  ></p>\n",
    "     <figcaption>Figure 2: Clustering on a dataset. (a) dataset to apply clustering algorithm. (b) dataset with clusters assigned to each data points.</figcaption>\n",
    "    </figure>\n",
    "</div>\n",
    "\n",
    "The above Figure 2(a) shows how our data looks like before applying any clustering algorithm. Figure 2(b) on the right shows our desired outcome after applying a clustering algorithm. In the next chapter, you will learn to synthesize a dataset, as shown in Figure 2(a), and apply a clustering algorithm on it so that data can be grouped as shown in Figure 2(b).\n",
    "\n",
    "In real-world applications, most of the observations involve a large number of features $(x_1, x_2, \\dots , x_n)$. So it is difficult to plot and visualize the dataset, but the underlying intuition is the same.\n"
   ]
  },
  {
   "cell_type": "markdown",
   "id": "16704cdc-b917-466b-857e-8fb7e918c653",
   "metadata": {},
   "source": [
    "### Types of Clustering Algorithms\n",
    "\n",
    "Clustering algorithm based on their clustering approaches can be divided into following categories:\n",
    "\n",
    "1. **Partitioning-Based Clustering:**  \n",
    "Partitioning based clustering algorithms work by subdividing the data sets into some number of clusters (_K_). The clusters are generally identified by the centroid points such as the mean. A data point belongs to a cluster whose centroid is closest to it, i.e. centroid with minimum distance. With partition based clustering, the data shown in the Figure 2(a) can be partitioned as,\n",
    "\n",
    "<div align=\"center\">\n",
    "    <figure>\n",
    "\n",
    "\n",
    "<p><img src=\"images/f3.png\"  ></p>\n",
    "     <figcaption>Figure 3: Partition based clustering. Elliptical boundary shows partition of data points into different clusters which is also highlighted with color.</figcaption>\n",
    "    </figure>\n",
    "</div>\n",
    "\n",
    "2. **Hierarchical Clustering:**   \n",
    "Hierarchical clustering is a connectivity-based clustering algorithm where either a bigger cluster is formed by connecting two similar smaller clusters, or two smaller clusters are formed by breaking a bigger cluster. This type of clustering creates a hierarchy of connectivity, hence called hierarchical clustering. Figure below shows a simple dataset where hierarchical clustering is applied.\n",
    "\n",
    "<div align=\"center\">\n",
    "    <figure>\n",
    "\n",
    "\n",
    "<p><img src='images/f4.png' width='700px' ></p>\n",
    "     <figcaption>Figure 4: Hierarchical clustering. (a) dataset to apply clustering. (b) hierarchy of clusters. Clusters near to each other are combined to form a bigger cluster, process shown from bottom to top.</figcaption>\n",
    "    </figure>\n",
    "</div>\n",
    "\n",
    "3. **Density-Based Clustering:**   \n",
    "In density-based clustering, a region of densely connected data points creates clusters. If there is more than one densely connected region, then there is more than one cluster. Density-based clustering does not assume the shape of the clusters. Hence, they can be of any form but separated by a sparse region.\n",
    "\n",
    "<div align=\"center\">\n",
    "    <figure>\n",
    "\n",
    "\n",
    "<p><img src=\"images/f5.png\"  width='700px'></p>\n",
    "     <figcaption>Figure 5: Density based clustering. (a) dataset to apply clustering. (b) cluster assignment with density based clustering alsogithm. Different colors indicates different clusters.</figcaption>\n",
    "    </figure>\n",
    "</div>\n",
    "\n",
    "\n",
    "4. **Distribution-Based Clustering:**   \n",
    "The goal of distribution based clustering is to assign the probability to the data points belonging to some probability distribution.\n",
    "\n",
    "<div align=\"center\">\n",
    "    <figure>\n",
    "\n",
    "\n",
    "<p><img src=\"images/f6.png\"  width='700px'></p>\n",
    "     <figcaption>Figure 6: Distribution based clustering. (a) dataset to apply clustering. (b) fitted two normal distribution on the data.</figcaption>\n",
    "    </figure>\n",
    "</div>\n",
    "\n",
    "Above Figure 6(a) shows one-dimensional data points concentrated at two locations. In Figure 6(b), we have fitted two Gaussian distribution (one for each concentrated region) to represent the data. In density-based clustering, we use these two probability distributions as clusters.\n",
    "\n",
    "5. **Grid-Based Clustering:**   \n",
    "Grid-based clustering divides the data space into a discrete space called grids. Then, the density of the data in each grid is used to classify it as noise or cluster. The clusters are then grouped based on neighboring locations to form the region of clusters and empty regions.\n",
    "\n",
    "<div align=\"center\">\n",
    "    <figure>\n",
    "\n",
    "\n",
    "<p><img src=\"images/f7.png\" width='700px' ></p>\n",
    "     <figcaption>Figure 7: Grid based clustering. (a) data space divided into discrete grids (b) cluster assignment by combining grids with relatively dense data-points</figcaption>\n",
    "    </figure>\n",
    "</div>\n",
    "\n",
    "The above Figure 7(a) shows the dataset divided into grids. After that, highly dense grids are combined to form clusters as shown in Figure 7(b).\n",
    "\n",
    "There are many more clustering algorithms that have been developed until now.\n"
   ]
  },
  {
   "cell_type": "code",
   "execution_count": null,
   "id": "cc85834e-907d-4014-a05c-2511c54b0725",
   "metadata": {},
   "outputs": [],
   "source": []
  }
 ],
 "metadata": {
  "kernelspec": {
   "display_name": "Python 3 (ipykernel)",
   "language": "python",
   "name": "python3"
  },
  "language_info": {
   "codemirror_mode": {
    "name": "ipython",
    "version": 3
   },
   "file_extension": ".py",
   "mimetype": "text/x-python",
   "name": "python",
   "nbconvert_exporter": "python",
   "pygments_lexer": "ipython3",
   "version": "3.10.12"
  }
 },
 "nbformat": 4,
 "nbformat_minor": 5
}
