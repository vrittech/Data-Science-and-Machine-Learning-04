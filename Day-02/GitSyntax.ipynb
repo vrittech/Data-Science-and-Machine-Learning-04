{
 "cells": [
  {
   "cell_type": "markdown",
   "id": "eebedb0a",
   "metadata": {},
   "source": [
    "# Git\n",
    "\n",
    "Git is a distributed version control system that is used to track changes in files and directories over time. It was created by Linus Torvalds in 2005 for the development of the Linux kernel. Git is a free and open-source tool that provides a way to collaborate on code changes and manage multiple versions of the same codebase.\n",
    "\n",
    "## Installing Git\n",
    "\n",
    "To install Git on your computer, follow these steps:\n",
    "- Go to the Git website: https://git-scm.com/\n",
    "- Click the \"Download\" button.\n",
    "- Follow the installation instructions for your operating system.\n",
    "\n",
    "## Setting up Git\n",
    "\n",
    "Once Git is installed on your computer, you need to set up your user name and email address. This information is used to identify the author of each commit. To set up Git, open the command prompt or terminal and enter the following commands:"
   ]
  },
  {
   "cell_type": "code",
   "execution_count": null,
   "id": "d862daf4",
   "metadata": {},
   "outputs": [],
   "source": [
    "git config --global user.name \"Your Name\"\n",
    "git config --global user.email \"youremail@example.com\""
   ]
  },
  {
   "cell_type": "markdown",
   "id": "52b79391",
   "metadata": {},
   "source": [
    "## Creating a Repository\n",
    "\n",
    "To create a Git repository, follow these steps:\n",
    "\n",
    "- Open the command prompt or terminal.\n",
    "- Navigate to the directory where you want to create the repository.\n",
    "- Enter the following command:"
   ]
  },
  {
   "cell_type": "code",
   "execution_count": null,
   "id": "1bcaa775",
   "metadata": {},
   "outputs": [],
   "source": [
    "git init"
   ]
  },
  {
   "cell_type": "markdown",
   "id": "b34f5669",
   "metadata": {},
   "source": [
    "This will create a new Git repository in the current directory.\n",
    "\n",
    "## Git Workflow\n",
    "\n",
    "The basic Git workflow involves three stages:\n",
    "\n",
    "- Working Directory: This is the directory where you are currently working on your project.\n",
    "- Staging Area: This is where you can add files that you want to commit.\n",
    "- Repository: This is where Git stores the history of your changes.\n",
    "\n",
    "To add changes to the staging area, use the following command:"
   ]
  },
  {
   "cell_type": "code",
   "execution_count": null,
   "id": "b37e79db",
   "metadata": {},
   "outputs": [],
   "source": [
    "git add <filename>"
   ]
  },
  {
   "cell_type": "markdown",
   "id": "3df993e4",
   "metadata": {},
   "source": [
    "To commit changes to the repository, use the following command:"
   ]
  },
  {
   "cell_type": "code",
   "execution_count": null,
   "id": "dc26b286",
   "metadata": {},
   "outputs": [],
   "source": [
    "git commit -m \"Commit message\""
   ]
  },
  {
   "cell_type": "markdown",
   "id": "b3ec6b22",
   "metadata": {},
   "source": [
    "## Branching\n",
    "\n",
    "Branching allows you to create a new branch of your codebase, without affecting the main branch. This is useful for working on new features or experimenting with changes.\n",
    "\n",
    "To create a new branch, use the following command:"
   ]
  },
  {
   "cell_type": "code",
   "execution_count": null,
   "id": "9acfafa3",
   "metadata": {},
   "outputs": [],
   "source": [
    "git checkout -b <branch-name>"
   ]
  },
  {
   "cell_type": "markdown",
   "id": "4ddfa05c",
   "metadata": {},
   "source": [
    "To check the current branch you are in and all the other branches, use the following commands:"
   ]
  },
  {
   "cell_type": "code",
   "execution_count": null,
   "id": "6af79a9e",
   "metadata": {},
   "outputs": [],
   "source": [
    "git branch"
   ]
  },
  {
   "cell_type": "markdown",
   "id": "892c6279",
   "metadata": {},
   "source": [
    "To switch to a different branch, use the following command:"
   ]
  },
  {
   "cell_type": "code",
   "execution_count": null,
   "id": "938dbd81",
   "metadata": {},
   "outputs": [],
   "source": [
    "git checkout <branch-name>"
   ]
  },
  {
   "cell_type": "markdown",
   "id": "c9a07cce",
   "metadata": {},
   "source": [
    "## Merging\n",
    "\n",
    "Merging allows you to combine changes from one branch into another. To merge a branch, follow these steps:\n",
    "\n",
    "- Switch to the branch you want to merge into: `git checkout <target-branch>`\n",
    "- Merge the other branch into the target branch: `git merge <source-branch>`\n",
    "\n",
    "## Resolving Merge Conflicts\n",
    "\n",
    "If Git detects a conflict when merging two branches, you will need to resolve the conflict manually. Git will mark the conflicting lines in the file with special markers. To resolve the conflict, edit the file to remove the markers and choose which version of the code to keep. Once you have resolved the conflict, add and commit the changes.\n",
    "\n",
    "## Git Collaboration\n",
    "\n",
    "Git allows multiple developers to work on the same codebase at the same time. To collaborate on a Git project, follow these steps:\n",
    "\n",
    "- Clone the repository: `git clone <repository-url>`\n",
    "- Create a new branch: `git checkout -b <branch-name>`\n",
    "- Make changes to the code.\n",
    "- Add changes to the staging area: `git add <filename>`\n",
    "- Commit changes to the repository: `git commit -m \"Commit message\"`\n",
    "- Push changes to the remote repository: `git push origin <branch-name>`\n",
    "- Create a pull request on the remote repository to merge changes into the main branch.\n",
    "\n",
    "## Git Rebase\n",
    "\n",
    "Git rebase is a way to integrate changes from one branch into another by moving all the changes from one branch to another. It is useful when you want to update your branch with changes from another branch while keeping a linear history. To rebase a branch, follow these steps:\n",
    "\n",
    "- Switch to the branch you want to rebase: `git checkout <branch-name>`\n",
    "- Run the rebase command: `git rebase <other-branch>`\n",
    "- Resolve any conflicts that arise during the rebase.\n",
    "- Commit the changes: `git commit -m \"Rebase changes\"`\n",
    "\n",
    "## Git Tags\n",
    "\n",
    "Git tags are used to mark specific points in history, such as releases or milestones. To create a tag, follow these steps:\n",
    "\n",
    "- Switch to the branch you want to tag: `git checkout <branch-name>`\n",
    "- Run the tag command: `git tag <tag-name>`\n",
    "- Push the tag to the remote repository: `git push --tags`\n",
    "\n",
    "## Git Aliases\n",
    "\n",
    "Git aliases allow you to create shortcuts for commonly used commands. To create an alias, use the following command:"
   ]
  },
  {
   "cell_type": "code",
   "execution_count": null,
   "id": "a78952d7",
   "metadata": {},
   "outputs": [],
   "source": [
    "git config --global alias.<alias-name> \"<git-command>\""
   ]
  },
  {
   "cell_type": "markdown",
   "id": "58fe102f",
   "metadata": {},
   "source": [
    "For example, to create an alias for the git status command, use the following command:"
   ]
  },
  {
   "cell_type": "code",
   "execution_count": null,
   "id": "0fef824d",
   "metadata": {
    "scrolled": false
   },
   "outputs": [],
   "source": [
    "git config --global alias.st \"status\""
   ]
  },
  {
   "cell_type": "markdown",
   "id": "72845df0",
   "metadata": {},
   "source": [
    "## Git Hooks\n",
    "\n",
    "Git hooks allow you to run custom scripts before or after certain Git commands. To create a hook, follow these steps:\n",
    "\n",
    "- Navigate to the `.git/hooks` directory in your repository.\n",
    "- Create a new file with the name of the hook you want to create (e.g. `pre-commit`).\n",
    "- Add your custom script to the file.\n",
    "- Make the file executable: `chmod +x <hook-name>`\n",
    "    \n",
    "## Git Stash\n",
    "Git stash allows you to save changes that are not yet ready to be committed. To stash changes, use the following command:"
   ]
  },
  {
   "cell_type": "code",
   "execution_count": null,
   "id": "836cdc6c",
   "metadata": {},
   "outputs": [],
   "source": [
    "git stash save \"Stash message\""
   ]
  },
  {
   "cell_type": "markdown",
   "id": "15567bf3",
   "metadata": {},
   "source": [
    "To apply the stashed changes, use the following command:"
   ]
  },
  {
   "cell_type": "code",
   "execution_count": null,
   "id": "76658a7b",
   "metadata": {},
   "outputs": [],
   "source": [
    "git stash apply"
   ]
  },
  {
   "cell_type": "markdown",
   "id": "db60a4aa",
   "metadata": {},
   "source": [
    "## Git Submodules\n",
    "\n",
    "Git submodules allow you to include another Git repository as a subdirectory of your own repository. To add a submodule, follow these steps:\n",
    "\n",
    "- Add the submodule: `git submodule add <repository-url> <path>`\n",
    "- Commit the changes: `git commit -m \"Add submodule\"`\n",
    "- Initialize and update the submodule: `git submodule init && git submodule update`"
   ]
  }
 ],
 "metadata": {
  "kernelspec": {
   "display_name": "Python 3 (ipykernel)",
   "language": "python",
   "name": "python3"
  },
  "language_info": {
   "codemirror_mode": {
    "name": "ipython",
    "version": 3
   },
   "file_extension": ".py",
   "mimetype": "text/x-python",
   "name": "python",
   "nbconvert_exporter": "python",
   "pygments_lexer": "ipython3",
   "version": "3.8.10"
  }
 },
 "nbformat": 4,
 "nbformat_minor": 5
}
