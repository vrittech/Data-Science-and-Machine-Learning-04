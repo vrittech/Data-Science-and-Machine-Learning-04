{
 "cells": [
  {
   "cell_type": "markdown",
   "id": "4a7e9eba",
   "metadata": {},
   "source": [
    "# Polymorphism in Python\n",
    "\n",
    "Polymorphism is the ability of an object to take on different forms or have multiple behaviors depending on the context in which it is used. In Python, polymorphism can be implemented using four different techniques:\n",
    "\n",
    "1. **Method Overloading:** A class can have multiple methods with the same name but different parameters, and the method to be called is determined based on the number and types of arguments passed during the function call.\n",
    "2. **Method Overriding:** Method overriding occurs when a subclass defines a method with the same name and parameters as a method in its superclass. When this occurs, the method in the subclass overrides the method in the superclass, allowing the subclass to provide its own implementation of the method.\n",
    "3. **Operator Overloading:** Python allows operators to be overloaded, so that they can be used with user-defined classes. For example, the \"+\" operator can be overloaded to perform concatenation on two string objects.\n",
    "4. **Duck Typing:** In Python, an object's suitability for an operation is determined by its behavior (i.e., its methods and attributes) rather than its type. So, if two different objects have the same behavior, they can be used interchangeably.\n",
    "\n",
    "We have discussed `Method Overloading` and `Method Overriding` on previous notebooks and we will be studying about `Operator Overloading` on upcoming notebook titled `Magic Methods`. So we will be focusing on `Duck Typing` method of polymorphism here in this notebook."
   ]
  },
  {
   "cell_type": "code",
   "execution_count": 1,
   "id": "e919b679",
   "metadata": {},
   "outputs": [
    {
     "name": "stdout",
     "output_type": "stream",
     "text": [
      "Driving a car\n",
      "Riding a bike\n"
     ]
    }
   ],
   "source": [
    "\n",
    "class Car:\n",
    "    def drive(self):\n",
    "        print(\"Driving a car\")\n",
    "\n",
    "class Bike:\n",
    "    def drive(self):\n",
    "        print(\"Riding a bike\")\n",
    "\n",
    "def start_driving(vehicle):\n",
    "    vehicle.drive()\n",
    "\n",
    "car = Car()\n",
    "bike = Bike()\n",
    "\n",
    "start_driving(car)\n",
    "start_driving(bike)"
   ]
  },
  {
   "cell_type": "markdown",
   "id": "40af8323",
   "metadata": {},
   "source": [
    "In this example, we have defined two classes: `Car` and `Bike`. Both classes have a method called `drive`. We have defined a function called `start_driving`, which takes a parameter called `vehicle`. The `start_driving` function calls the `drive` method of the `vehicle` object. We create objects of the `Car` and `Bike` classes and pass them to the `start_driving` function. The drive method of the object is called based on its type. This is an example of duck typing, where the type of the object is not checked, but the presence of a specific method is checked."
   ]
  }
 ],
 "metadata": {
  "kernelspec": {
   "display_name": "Python 3 (ipykernel)",
   "language": "python",
   "name": "python3"
  },
  "language_info": {
   "codemirror_mode": {
    "name": "ipython",
    "version": 3
   },
   "file_extension": ".py",
   "mimetype": "text/x-python",
   "name": "python",
   "nbconvert_exporter": "python",
   "pygments_lexer": "ipython3",
   "version": "3.10.12"
  }
 },
 "nbformat": 4,
 "nbformat_minor": 5
}
