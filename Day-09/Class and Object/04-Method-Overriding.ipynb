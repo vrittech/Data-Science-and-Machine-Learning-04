{
 "cells": [
  {
   "cell_type": "markdown",
   "id": "c5d0ab0b",
   "metadata": {},
   "source": [
    "# Method Overriding in Python\n",
    "\n",
    "Method overriding refers to the ability of a subclass to provide its own implementation of a method that is already defined in its parent class. When a method in a subclass has the same name and parameters as a method in its parent class, the subclass method will override the parent class method.\n",
    "\n",
    "To override a method in Python, the subclass method must have the same name and parameters as the parent class method. When an object of the subclass calls the method, it will use the implementation provided in the subclass, rather than the one in the superclass."
   ]
  },
  {
   "cell_type": "code",
   "execution_count": 3,
   "id": "1d22d526",
   "metadata": {},
   "outputs": [],
   "source": [
    "class Animal:\n",
    "    def sound(self):\n",
    "        print(\"Making some sound...\")\n",
    "\n",
    "class Dog(Animal):\n",
    "    def sound(self):\n",
    "        print(\"Barking!\")\n",
    "\n",
    "class Cat(Animal):\n",
    "    def sound(self):\n",
    "        print(\"Meowing...\")\n"
   ]
  },
  {
   "cell_type": "code",
   "execution_count": 4,
   "id": "7600cf87",
   "metadata": {},
   "outputs": [],
   "source": [
    "# Create some objects and call the sound method\n",
    "animal = Animal()\n",
    "dog = Dog()\n",
    "cat = Cat()"
   ]
  },
  {
   "cell_type": "code",
   "execution_count": 5,
   "id": "11f2c33f",
   "metadata": {},
   "outputs": [
    {
     "name": "stdout",
     "output_type": "stream",
     "text": [
      "Making some sound...\n"
     ]
    }
   ],
   "source": [
    "animal.sound()"
   ]
  },
  {
   "cell_type": "code",
   "execution_count": 6,
   "id": "93ca6906",
   "metadata": {},
   "outputs": [
    {
     "name": "stdout",
     "output_type": "stream",
     "text": [
      "Barking!\n"
     ]
    }
   ],
   "source": [
    "dog.sound()"
   ]
  },
  {
   "cell_type": "code",
   "execution_count": 7,
   "id": "3b7dd8c4",
   "metadata": {},
   "outputs": [
    {
     "name": "stdout",
     "output_type": "stream",
     "text": [
      "Meowing...\n"
     ]
    }
   ],
   "source": [
    "cat.sound()"
   ]
  },
  {
   "cell_type": "markdown",
   "id": "ef24d4d3",
   "metadata": {},
   "source": [
    "In this example, we define a superclass `Animal` with a method sound that prints a generic sound. We then define two subclasses, `Dog` and `Cat`, that override the sound method with their own implementation.\n",
    "\n",
    "The `super()` function can be used to call the overridden method in the parent class, so that the parental behaviour is not lost."
   ]
  },
  {
   "cell_type": "code",
   "execution_count": 8,
   "id": "ea63af8a",
   "metadata": {},
   "outputs": [],
   "source": [
    "class Parent:\n",
    "    def say_hello(self):\n",
    "        print(\"Hello from Parent\")\n",
    "\n",
    "class Child(Parent):\n",
    "    def say_hello(self):\n",
    "        print(\"Hello from Child\")\n",
    "        super().say_hello()  # calls the overridden method in the parent class"
   ]
  },
  {
   "cell_type": "code",
   "execution_count": 9,
   "id": "69d76992",
   "metadata": {},
   "outputs": [
    {
     "name": "stdout",
     "output_type": "stream",
     "text": [
      "Hello from Child\n",
      "Hello from Parent\n"
     ]
    }
   ],
   "source": [
    "obj = Child()\n",
    "obj.say_hello()"
   ]
  },
  {
   "cell_type": "markdown",
   "id": "a255181b",
   "metadata": {},
   "source": [
    "In this example, `Child` is a subclass of `Parent`. The `Child` class overrides the `say_hello()` method of its parent class. When the `say_hello()` method is called on an object of the `Child` class, it will execute the overridden method in the `Child` class first, and then call the overridden method in the parent class using the `super()` function."
   ]
  }
 ],
 "metadata": {
  "kernelspec": {
   "display_name": "Python 3 (ipykernel)",
   "language": "python",
   "name": "python3"
  },
  "language_info": {
   "codemirror_mode": {
    "name": "ipython",
    "version": 3
   },
   "file_extension": ".py",
   "mimetype": "text/x-python",
   "name": "python",
   "nbconvert_exporter": "python",
   "pygments_lexer": "ipython3",
   "version": "3.10.12"
  }
 },
 "nbformat": 4,
 "nbformat_minor": 5
}
