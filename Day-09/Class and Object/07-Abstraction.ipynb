{
 "cells": [
  {
   "cell_type": "markdown",
   "id": "338f20b7",
   "metadata": {},
   "source": [
    "# Abstraction in Python\n",
    "\n",
    "Abstraction is the process of hiding complex implementation details and providing a simple interface for the users to interact with the system. In Python, abstraction can be achieved through the use of abstract classes and interfaces.\n",
    "\n",
    "An abstract class is a class that cannot be instantiated, but can be subclassed. It defines a set of abstract methods that must be implemented by its subclasses. These abstract methods define the interface of the class and are used to enforce a contract between the abstract class and its subclasses."
   ]
  },
  {
   "cell_type": "code",
   "execution_count": 1,
   "id": "4641f7b0",
   "metadata": {},
   "outputs": [],
   "source": [
    "from abc import ABC, abstractmethod\n",
    "\n",
    "class Shape(ABC):\n",
    "    @abstractmethod\n",
    "    def area(self):\n",
    "        pass\n",
    "\n",
    "    @abstractmethod\n",
    "    def perimeter(self):\n",
    "        pass\n",
    "        \n",
    "    @abstractmethod\n",
    "    def volume(self):\n",
    "        pass"
   ]
  },
  {
   "cell_type": "markdown",
   "id": "d523b8d4",
   "metadata": {},
   "source": [
    "In this example, we define an abstract class called `Shape`. It has two abstract methods, `area()` and `perimeter()`, which are used to define the interface of the class. Any subclass of `Shape` must implement these methods."
   ]
  },
  {
   "cell_type": "code",
   "execution_count": 4,
   "id": "d277111f",
   "metadata": {},
   "outputs": [],
   "source": [
    "class Rectangle(Shape):\n",
    "    def __init__(self, width, height):\n",
    "        self.width = width\n",
    "        self.height = height\n",
    "\n",
    "    def area(self):\n",
    "        return self.width * self.height\n",
    "\n",
    "    def perimeter(self):\n",
    "        return 2 * (self.width + self.height)\n",
    "\n",
    "    def volume(self):\n",
    "        return \"Not Applicable\"\n"
   ]
  },
  {
   "cell_type": "code",
   "execution_count": 5,
   "id": "6d7b6b41-4db5-4856-9e7c-815581b0f436",
   "metadata": {},
   "outputs": [],
   "source": [
    "rect = Rectangle(12,4)"
   ]
  },
  {
   "cell_type": "code",
   "execution_count": 6,
   "id": "3247015c-af8a-4153-b8ff-323d628f5705",
   "metadata": {},
   "outputs": [],
   "source": [
    "class Square(Shape):\n",
    "    def __init__(self, length):\n",
    "        self.length = length\n",
    "\n",
    "    def area(self):\n",
    "        return self.length ** 2\n",
    "\n",
    "    def perimeter(self):\n",
    "        return 4 *self.length"
   ]
  },
  {
   "cell_type": "code",
   "execution_count": 7,
   "id": "8125f914-f1e0-4ee8-80ef-8397ea81f234",
   "metadata": {},
   "outputs": [],
   "source": [
    "sqr = Square(33)"
   ]
  },
  {
   "cell_type": "markdown",
   "id": "6d65533f",
   "metadata": {},
   "source": [
    "In this example, we define a subclass of `Shape` called `Rectangle`. It implements the `area()` and `perimeter()` methods and provides its own implementation for calculating the area and perimeter of a rectangle.\n",
    "\n",
    "By defining abstract classes and methods, you can ensure that all subclasses of a class have the same interface and behavior, which makes your code more modular and easier to maintain, , while also hiding the implementation details that users don't need to know about."
   ]
  }
 ],
 "metadata": {
  "kernelspec": {
   "display_name": "Python 3 (ipykernel)",
   "language": "python",
   "name": "python3"
  },
  "language_info": {
   "codemirror_mode": {
    "name": "ipython",
    "version": 3
   },
   "file_extension": ".py",
   "mimetype": "text/x-python",
   "name": "python",
   "nbconvert_exporter": "python",
   "pygments_lexer": "ipython3",
   "version": "3.10.12"
  }
 },
 "nbformat": 4,
 "nbformat_minor": 5
}
