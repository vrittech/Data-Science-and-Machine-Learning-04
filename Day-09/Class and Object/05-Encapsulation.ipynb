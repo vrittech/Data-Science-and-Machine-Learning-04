{
 "cells": [
  {
   "cell_type": "markdown",
   "id": "351444e0",
   "metadata": {},
   "source": [
    "# Encapsulation in Python\n",
    "\n",
    "Encapsulation refers to the practice of hiding the implementation details of a class from the outside world and exposing only the necessary interfaces for interacting with the class. This can be achieved through the use of `access modifiers` (such as private, protected, and public). Encapsulation helps to ensure data integrity, prevent unauthorized access and modification of data, and improve code maintainability.\n",
    "\n",
    "In object-oriented programming, `access modifiers` are used to define the scope or visibility of class members (attributes and methods) in a class. These access modifiers determine which members can be accessed and modified by the code outside the class. In Python, there is no strict implementation of access modifiers like in other object-oriented languages such as Java or C++. However, there are naming conventions that are used to indicate the scope of a class member.\n",
    "\n",
    "**1. Private:** Private members are those that are intended to be used only within the class definition. In Python, private members are indicated by prefixing the attribute or method name with two underscores `(__)`.\n",
    "\n",
    "**2. Protected:** Protected members are those that can be accessed within the class definition and its subclasses. In Python, protected members are indicated by prefixing the attribute or method name with a single underscore `(_)`.\n",
    "\n",
    "**3. Public:** Public members are those that can be accessed by any code outside the class definition. In Python, public members do not have any special prefix or notation."
   ]
  },
  {
   "cell_type": "code",
   "execution_count": 1,
   "id": "972cf0c0",
   "metadata": {},
   "outputs": [],
   "source": [
    "class Example:\n",
    "    def __init__(self):\n",
    "        self.public_var = 1\n",
    "        self._protected_var = 2\n",
    "        self.__private_var = 3\n",
    "\n",
    "    def public_method(self):\n",
    "        print(\"This is a public method.\")\n",
    "\n",
    "    def _protected_method(self):\n",
    "        print(\"This is a protected method.\")\n",
    "\n",
    "    def __private_method(self):\n",
    "        print(\"This is a private method.\")"
   ]
  },
  {
   "cell_type": "code",
   "execution_count": 2,
   "id": "510b7fe4-c351-4b08-aafc-127d8a5e77bc",
   "metadata": {},
   "outputs": [],
   "source": [
    "obj = Example()"
   ]
  },
  {
   "cell_type": "code",
   "execution_count": 5,
   "id": "69851a7a-68ba-4cec-9d93-8f1958ae4b81",
   "metadata": {},
   "outputs": [
    {
     "ename": "AttributeError",
     "evalue": "'Example' object has no attribute '__private_var'",
     "output_type": "error",
     "traceback": [
      "\u001b[0;31m---------------------------------------------------------------------------\u001b[0m",
      "\u001b[0;31mAttributeError\u001b[0m                            Traceback (most recent call last)",
      "Cell \u001b[0;32mIn[5], line 1\u001b[0m\n\u001b[0;32m----> 1\u001b[0m \u001b[43mobj\u001b[49m\u001b[38;5;241;43m.\u001b[39;49m\u001b[43m__private_var\u001b[49m()\n",
      "\u001b[0;31mAttributeError\u001b[0m: 'Example' object has no attribute '__private_var'"
     ]
    }
   ],
   "source": [
    "obj.__private_var()"
   ]
  },
  {
   "cell_type": "code",
   "execution_count": 8,
   "id": "e1612c63-20a2-4cad-8274-09d3031ec1e2",
   "metadata": {},
   "outputs": [
    {
     "data": {
      "text/plain": [
       "2"
      ]
     },
     "execution_count": 8,
     "metadata": {},
     "output_type": "execute_result"
    }
   ],
   "source": [
    "obj._protected_var"
   ]
  },
  {
   "cell_type": "code",
   "execution_count": null,
   "id": "bb736695-86c7-497a-a388-6e96fdf5ea90",
   "metadata": {},
   "outputs": [],
   "source": []
  },
  {
   "cell_type": "markdown",
   "id": "333d8e4f",
   "metadata": {},
   "source": [
    "In this example, `public_var` and `public_method` are public members that can be accessed from anywhere. `_protected_var` and `_protected_method` are protected members that can be accessed within the class and its subclasses. `__private_var` and `__private_method` are private members that can only be accessed within the class definition."
   ]
  },
  {
   "cell_type": "code",
   "execution_count": 9,
   "id": "fd63dd91",
   "metadata": {},
   "outputs": [],
   "source": [
    "class SubClass(Example):\n",
    "    def __init__(self):\n",
    "        super().__init__()\n",
    "    \n",
    "    def get_public_member(self):\n",
    "        print(self.public_var)\n",
    "    \n",
    "    def get_protected_member(self):\n",
    "        print(self._protected_var)\n",
    "    \n",
    "    def get_private_member(self):\n",
    "        print(self.__private_var)\n",
    "\n",
    "sub = SubClass()"
   ]
  },
  {
   "cell_type": "code",
   "execution_count": 11,
   "id": "b9f80074-dc56-483e-9191-a1f973715ed5",
   "metadata": {},
   "outputs": [
    {
     "data": {
      "text/plain": [
       "1"
      ]
     },
     "execution_count": 11,
     "metadata": {},
     "output_type": "execute_result"
    }
   ],
   "source": [
    "sub.public_var"
   ]
  },
  {
   "cell_type": "code",
   "execution_count": 10,
   "id": "6ae008c1",
   "metadata": {},
   "outputs": [
    {
     "name": "stdout",
     "output_type": "stream",
     "text": [
      "1\n"
     ]
    }
   ],
   "source": [
    "sub.get_public_member() # Can be accessed"
   ]
  },
  {
   "cell_type": "code",
   "execution_count": 13,
   "id": "38341259",
   "metadata": {},
   "outputs": [
    {
     "name": "stdout",
     "output_type": "stream",
     "text": [
      "2\n"
     ]
    }
   ],
   "source": [
    "sub.get_protected_member() # Can be accessed"
   ]
  },
  {
   "cell_type": "code",
   "execution_count": 12,
   "id": "eca5bd2d",
   "metadata": {},
   "outputs": [
    {
     "ename": "AttributeError",
     "evalue": "'SubClass' object has no attribute '_SubClass__private_var'",
     "output_type": "error",
     "traceback": [
      "\u001b[0;31m---------------------------------------------------------------------------\u001b[0m",
      "\u001b[0;31mAttributeError\u001b[0m                            Traceback (most recent call last)",
      "Cell \u001b[0;32mIn[12], line 1\u001b[0m\n\u001b[0;32m----> 1\u001b[0m \u001b[43msub\u001b[49m\u001b[38;5;241;43m.\u001b[39;49m\u001b[43mget_private_member\u001b[49m\u001b[43m(\u001b[49m\u001b[43m)\u001b[49m \u001b[38;5;66;03m# Raises an AttributeError\u001b[39;00m\n",
      "Cell \u001b[0;32mIn[9], line 12\u001b[0m, in \u001b[0;36mSubClass.get_private_member\u001b[0;34m(self)\u001b[0m\n\u001b[1;32m     11\u001b[0m \u001b[38;5;28;01mdef\u001b[39;00m \u001b[38;5;21mget_private_member\u001b[39m(\u001b[38;5;28mself\u001b[39m):\n\u001b[0;32m---> 12\u001b[0m     \u001b[38;5;28mprint\u001b[39m(\u001b[38;5;28;43mself\u001b[39;49m\u001b[38;5;241;43m.\u001b[39;49m\u001b[43m__private_var\u001b[49m)\n",
      "\u001b[0;31mAttributeError\u001b[0m: 'SubClass' object has no attribute '_SubClass__private_var'"
     ]
    }
   ],
   "source": [
    "sub.get_private_member() # Raises an AttributeError"
   ]
  },
  {
   "cell_type": "markdown",
   "id": "0f91147d",
   "metadata": {},
   "source": [
    "This was an example using subclass. Let's try to access all the members publicly."
   ]
  },
  {
   "cell_type": "code",
   "execution_count": 7,
   "id": "e8ac7c11",
   "metadata": {},
   "outputs": [],
   "source": [
    "ex = Example()"
   ]
  },
  {
   "cell_type": "code",
   "execution_count": 8,
   "id": "c5cf53a5",
   "metadata": {},
   "outputs": [
    {
     "name": "stdout",
     "output_type": "stream",
     "text": [
      "This is a public method.\n"
     ]
    }
   ],
   "source": [
    "ex.public_method() # Can be accessed"
   ]
  },
  {
   "cell_type": "code",
   "execution_count": 9,
   "id": "a49bf0bd",
   "metadata": {},
   "outputs": [
    {
     "name": "stdout",
     "output_type": "stream",
     "text": [
      "This is a protected method.\n"
     ]
    }
   ],
   "source": [
    "ex._protected_method() # Can be accessed"
   ]
  },
  {
   "cell_type": "code",
   "execution_count": 10,
   "id": "953295e4",
   "metadata": {},
   "outputs": [
    {
     "ename": "AttributeError",
     "evalue": "'Example' object has no attribute '__private_method'",
     "output_type": "error",
     "traceback": [
      "\u001b[0;31m---------------------------------------------------------------------------\u001b[0m",
      "\u001b[0;31mAttributeError\u001b[0m                            Traceback (most recent call last)",
      "Cell \u001b[0;32mIn[10], line 1\u001b[0m\n\u001b[0;32m----> 1\u001b[0m \u001b[43mex\u001b[49m\u001b[38;5;241;43m.\u001b[39;49m\u001b[43m__private_method\u001b[49m() \u001b[38;5;66;03m# Raises an AttributeError\u001b[39;00m\n",
      "\u001b[0;31mAttributeError\u001b[0m: 'Example' object has no attribute '__private_method'"
     ]
    }
   ],
   "source": [
    "ex.__private_method() # Raises an AttributeError"
   ]
  },
  {
   "cell_type": "markdown",
   "id": "cc63868b",
   "metadata": {},
   "source": [
    "Although one should not be able to access protected methods publicly, python fails to provide the functionality as done by other object-oriented languages like Java and C++"
   ]
  }
 ],
 "metadata": {
  "kernelspec": {
   "display_name": "Python 3 (ipykernel)",
   "language": "python",
   "name": "python3"
  },
  "language_info": {
   "codemirror_mode": {
    "name": "ipython",
    "version": 3
   },
   "file_extension": ".py",
   "mimetype": "text/x-python",
   "name": "python",
   "nbconvert_exporter": "python",
   "pygments_lexer": "ipython3",
   "version": "3.10.12"
  }
 },
 "nbformat": 4,
 "nbformat_minor": 5
}
