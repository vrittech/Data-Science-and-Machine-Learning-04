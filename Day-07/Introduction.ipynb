{
 "cells": [
  {
   "cell_type": "markdown",
   "metadata": {},
   "source": [
    "# Python Functions\n",
    "\n",
    "A function is a block of code that performs a specific task and can be reused throughout a program. \n",
    "\n",
    "Functions are defined using the `def` keyword in python, followed by the function name and any parameters the function takes. \n",
    "\n",
    "```python\n",
    "def <function_name>(parameters):\n",
    "    do something\n",
    "```"
   ]
  },
  {
   "cell_type": "markdown",
   "metadata": {},
   "source": [
    "A method is a function that is associated with an object. \n",
    "It allows you to perform actions on the object or manipulate its data in some way. \n",
    "Methods can be called on any object of a particular class or data type. \n",
    "While talking about data-types in our previous lecture, we also talked about methods associated with respective data-type.\n"
   ]
  }
 ],
 "metadata": {
  "kernelspec": {
   "display_name": "Python 3 (ipykernel)",
   "language": "python",
   "name": "python3"
  },
  "language_info": {
   "codemirror_mode": {
    "name": "ipython",
    "version": 3
   },
   "file_extension": ".py",
   "mimetype": "text/x-python",
   "name": "python",
   "nbconvert_exporter": "python",
   "pygments_lexer": "ipython3",
   "version": "3.10.12"
  }
 },
 "nbformat": 4,
 "nbformat_minor": 4
}
