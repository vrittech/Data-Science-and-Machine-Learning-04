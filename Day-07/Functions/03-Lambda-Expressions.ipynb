{
 "cells": [
  {
   "cell_type": "markdown",
   "id": "3fcee2f6",
   "metadata": {},
   "source": [
    "# Python Lambda Expressions\n",
    "\n",
    "In Python, a lambda expression is a way to create a small, anonymous function without using the def keyword. Lambda expressions are useful for writing simple functions that can be passed as arguments to other functions. The general syntax for a lambda expression is as follows:\n",
    "\n"
   ]
  },
  {
   "cell_type": "markdown",
   "id": "78d2a0d8",
   "metadata": {},
   "source": [
    "```python\n",
    "lambda arguments: expression\n",
    "```\n",
    "\n",
    "In this syntax, `arguments` is a comma-separated list of input arguments, and `expression` is a single expression that is evaluated and returned as the output of the function. The resulting lambda function can be assigned to a variable, or passed as an argument to another function.\n",
    "\n"
   ]
  },
  {
   "cell_type": "markdown",
   "id": "2e823caf",
   "metadata": {},
   "source": [
    "Here's an example that demonstrates how to define a lambda function that takes two arguments and returns their sum:"
   ]
  },
  {
   "cell_type": "code",
   "execution_count": 1,
   "id": "b8f4732b",
   "metadata": {},
   "outputs": [
    {
     "name": "stdout",
     "output_type": "stream",
     "text": [
      "8\n"
     ]
    }
   ],
   "source": [
    "sum = lambda a, b: a + b\n",
    "\n",
    "result = sum(3, 5)\n",
    "\n",
    "print(result)"
   ]
  },
  {
   "cell_type": "markdown",
   "id": "dde536e8",
   "metadata": {},
   "source": [
    "In this example, we define a `lambda` function called `sum` that takes two arguments `a` and `b`, and returns their sum. We then call the `lambda` function with arguments `3` and `5` and store the result in a variable called `result`. Finally, we print the value of result.\n",
    "\n",
    "Lambda expressions are often used in combination with other built-in functions such as `map()`, `filter()`, and `reduce()`. For example, here's how we can use a `lambda` expression with the `map()` function to compute the square of each element in a list:"
   ]
  },
  {
   "cell_type": "code",
   "execution_count": null,
   "id": "b41ee780",
   "metadata": {},
   "outputs": [
    {
     "name": "stdout",
     "output_type": "stream",
     "text": [
      "[1, 4, 9, 16, 25]\n"
     ]
    }
   ],
   "source": [
    "numbers = [1, 2, 3, 4, 5]\n",
    "squares = list(map(lambda x: x**2, numbers))\n",
    "print(squares)"
   ]
  },
  {
   "cell_type": "markdown",
   "id": "ca3966eb",
   "metadata": {},
   "source": [
    "In this example, we define a list of numbers, and then use the `map()` function to apply a lambda function that computes the square of each element in the list. The resulting map object is then converted to a list using the `list()` function, and the resulting list of squares is printed to the console.\n",
    "\n",
    "Lambda expressions are a powerful tool in Python for writing concise, one-time use functions. However, they should be used judiciously, and more complex functions should be defined using the `def` keyword for readability and maintainability."
   ]
  },
  {
   "cell_type": "markdown",
   "id": "47a7ff06",
   "metadata": {},
   "source": [
    "---"
   ]
  },
  {
   "cell_type": "markdown",
   "id": "99709c18",
   "metadata": {},
   "source": [
    "---"
   ]
  },
  {
   "cell_type": "markdown",
   "id": "40349695",
   "metadata": {},
   "source": [
    "def area(length, breadth, height):\n",
    "\n",
    "    result = 2  * height * (length + breadth)\n",
    "    \n",
    "    return result"
   ]
  },
  {
   "cell_type": "code",
   "execution_count": 2,
   "id": "ea7b35d0",
   "metadata": {},
   "outputs": [],
   "source": [
    "area = lambda l, b, h : 2*h*(l+b)"
   ]
  },
  {
   "cell_type": "code",
   "execution_count": 3,
   "id": "96898d89-14fa-4f45-8c88-583f1277a5ff",
   "metadata": {},
   "outputs": [
    {
     "data": {
      "text/plain": [
       "572"
      ]
     },
     "execution_count": 3,
     "metadata": {},
     "output_type": "execute_result"
    }
   ],
   "source": [
    "area(10,12,13)"
   ]
  },
  {
   "cell_type": "markdown",
   "id": "7cd0279e",
   "metadata": {},
   "source": []
  },
  {
   "cell_type": "code",
   "execution_count": null,
   "id": "46c8227e",
   "metadata": {},
   "outputs": [],
   "source": []
  },
  {
   "cell_type": "markdown",
   "id": "7895bb0c",
   "metadata": {},
   "source": [
    "---"
   ]
  }
 ],
 "metadata": {
  "kernelspec": {
   "display_name": "Python 3 (ipykernel)",
   "language": "python",
   "name": "python3"
  },
  "language_info": {
   "codemirror_mode": {
    "name": "ipython",
    "version": 3
   },
   "file_extension": ".py",
   "mimetype": "text/x-python",
   "name": "python",
   "nbconvert_exporter": "python",
   "pygments_lexer": "ipython3",
   "version": "3.10.12"
  }
 },
 "nbformat": 4,
 "nbformat_minor": 5
}
