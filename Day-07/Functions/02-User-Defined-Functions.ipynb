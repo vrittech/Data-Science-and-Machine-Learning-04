{
 "cells": [
  {
   "cell_type": "markdown",
   "id": "9b240592",
   "metadata": {},
   "source": [
    "# Python Functions\n",
    "\n",
    "A function is a block of reusable code that performs a specific task. A function can take one or more arguments as input, perform some operations on the input, and then return a value as output. Here's the general syntax for defining a function in Python:\n"
   ]
  },
  {
   "cell_type": "markdown",
   "id": "4afb9ee6",
   "metadata": {},
   "source": [
    "```python\n",
    "def function_name(parameter1, parameter2, ...):\n",
    "    # Function body\n",
    "    return output_value\n",
    "```\n",
    "\n",
    "In this syntax, `def` is the keyword used to define a function, `function_name` is the name of the function, and `parameter1`, `parameter2`, etc. are the input parameters of the function. The `return` keyword is used to specify the output value of the function.\n"
   ]
  },
  {
   "cell_type": "markdown",
   "id": "735f89d9",
   "metadata": {},
   "source": [
    "Here's an example that demonstrates how to define a function that computes the sum of two numbers:"
   ]
  },
  {
   "cell_type": "code",
   "execution_count": 7,
   "id": "6d90fa93",
   "metadata": {},
   "outputs": [],
   "source": [
    "a = 5\n",
    "\n",
    "def add_numbers(a, b):\n",
    "    sum = a + b\n",
    "    # print(sum)\n",
    "    return sum\n",
    "    "
   ]
  },
  {
   "cell_type": "code",
   "execution_count": 8,
   "id": "3eb589c7-a86f-4424-a6e9-a7f0108db934",
   "metadata": {},
   "outputs": [
    {
     "name": "stdout",
     "output_type": "stream",
     "text": [
      "8\n",
      "None\n"
     ]
    }
   ],
   "source": [
    "result = add_numbers(a = 3, b = 5)\n",
    "print(result)"
   ]
  },
  {
   "cell_type": "code",
   "execution_count": 6,
   "id": "54493ebe-ebd5-4dfc-a3e9-1945da8a07ac",
   "metadata": {},
   "outputs": [
    {
     "name": "stdout",
     "output_type": "stream",
     "text": [
      "5\n"
     ]
    }
   ],
   "source": [
    "print(a)"
   ]
  },
  {
   "cell_type": "markdown",
   "id": "a55df46b",
   "metadata": {},
   "source": [
    "In this example, we define a function called `add_numbers` that takes two input parameters `a` and `b`, computes their sum, and returns the result. We then call the function with arguments `3` and `5` and store the result in a variable called `result`. Finally, we print the value of result.\n",
    "\n",
    "Functions in Python can also have optional parameters with default values, which allows the caller to omit certain arguments if they are not needed. Here's an example that demonstrates how to define a function with optional parameters:"
   ]
  },
  {
   "cell_type": "code",
   "execution_count": 3,
   "id": "323b3744",
   "metadata": {},
   "outputs": [],
   "source": [
    "def greet(name, greeting='Hello'):\n",
    "    message = f\"{greeting}, {name}!\"\n",
    "    return message\n"
   ]
  },
  {
   "cell_type": "code",
   "execution_count": 4,
   "id": "b67be92c-f693-4cc7-ae24-564ef624a760",
   "metadata": {},
   "outputs": [
    {
     "name": "stdout",
     "output_type": "stream",
     "text": [
      "Hi, Bob!\n"
     ]
    }
   ],
   "source": [
    "# print(greet('Alice'))\n",
    "print(greet('Bob', 'Hi'))"
   ]
  },
  {
   "cell_type": "markdown",
   "id": "1502b6c8",
   "metadata": {},
   "source": [
    "In this example, we define a function called `greet` that takes an input parameter `name` and an optional parameter `greeting` with a default value of `'Hello'`. The function returns a greeting message that includes the `name` and the `greeting`. We then call the function with only the name argument in the first case, and with both name and greeting arguments in the second case.\n",
    "\n",
    "Functions in Python can also have variable-length argument lists. These are called `*args` and `**kwargs`, and they allow the function to accept any number of arguments and keyword arguments, respectively. Here's an example that demonstrates how to define a function with variable-length argument lists:"
   ]
  },
  {
   "cell_type": "code",
   "execution_count": null,
   "id": "cce3abdb-fb4a-482a-a16f-2a97a3ab4507",
   "metadata": {},
   "outputs": [],
   "source": []
  },
  {
   "cell_type": "code",
   "execution_count": 9,
   "id": "c18ac5a0",
   "metadata": {},
   "outputs": [
    {
     "name": "stdout",
     "output_type": "stream",
     "text": [
      "Positional arguments:\n",
      "1\n",
      "hello\n",
      "ram\n",
      "--------------------\n",
      "Keyword arguments:\n",
      "name = Alice\n",
      "age = 30\n"
     ]
    }
   ],
   "source": [
    "def print_arguments(*args, **kwargs):\n",
    "    \n",
    "    print(\"Positional arguments:\")\n",
    "    for arg in args:\n",
    "        print(arg)\n",
    "        \n",
    "    print(\"-\"*20)\n",
    "    \n",
    "    print(\"Keyword arguments:\")\n",
    "    for key, value in kwargs.items():\n",
    "        print(key, \"=\", value)\n",
    "        \n",
    "\n",
    "result = print_arguments(1, 'hello', \"ram\",  name='Alice', age=30)"
   ]
  },
  {
   "cell_type": "markdown",
   "id": "ff5535ad",
   "metadata": {},
   "source": [
    "In this example, we define a function called `print_arguments that accepts a variable number of positional arguments (*args) and keyword arguments (**kwargs). The function then prints the positional and keyword arguments to the console.\n",
    "\n",
    "When we call the function with arguments 1, 'hello', name='Alice', and age=30, the function prints the positional arguments 1 and 'hello', and the keyword arguments name='Alice' and age=30'."
   ]
  },
  {
   "cell_type": "markdown",
   "id": "020cb174",
   "metadata": {},
   "source": [
    "### Documentation in Function\n",
    "\n",
    "Python docstrings are the string literals that appear right after the definition of a function, method, class, or module. Let's take an example.\n",
    "\n",
    "Refer: [Programiz Docs](https://www.programiz.com/python-programming/docstrings)"
   ]
  },
  {
   "cell_type": "code",
   "execution_count": 14,
   "id": "04b444a5",
   "metadata": {},
   "outputs": [],
   "source": [
    "def square(n):\n",
    "    '''\n",
    "    Takes in a number n, returns the square of n\n",
    "\n",
    "    Argument:\n",
    "        n (int) : User input number\n",
    "    '''\n",
    "    return n**2"
   ]
  },
  {
   "cell_type": "code",
   "execution_count": 15,
   "id": "39188cda-2820-4286-980f-10f94022cbe5",
   "metadata": {},
   "outputs": [
    {
     "data": {
      "text/plain": [
       "12.25"
      ]
     },
     "execution_count": 15,
     "metadata": {},
     "output_type": "execute_result"
    }
   ],
   "source": [
    "square(3.5)"
   ]
  },
  {
   "cell_type": "code",
   "execution_count": 12,
   "id": "a8203cab",
   "metadata": {},
   "outputs": [
    {
     "name": "stdout",
     "output_type": "stream",
     "text": [
      "\n",
      "    Takes in a number n, returns the square of n\n",
      "\n",
      "    Argument:\n",
      "        n (int) : User input number\n",
      "    \n"
     ]
    }
   ],
   "source": [
    "print(square.__doc__)"
   ]
  },
  {
   "cell_type": "code",
   "execution_count": 13,
   "id": "7d5b2595-c3df-4ac0-aeef-b5bd0a45795b",
   "metadata": {},
   "outputs": [
    {
     "name": "stdout",
     "output_type": "stream",
     "text": [
      "print(value, ..., sep=' ', end='\\n', file=sys.stdout, flush=False)\n",
      "\n",
      "Prints the values to a stream, or to sys.stdout by default.\n",
      "Optional keyword arguments:\n",
      "file:  a file-like object (stream); defaults to the current sys.stdout.\n",
      "sep:   string inserted between values, default a space.\n",
      "end:   string appended after the last value, default a newline.\n",
      "flush: whether to forcibly flush the stream.\n"
     ]
    }
   ],
   "source": [
    "print(print.__doc__)"
   ]
  },
  {
   "cell_type": "markdown",
   "id": "b54087f2",
   "metadata": {},
   "source": [
    "---"
   ]
  },
  {
   "cell_type": "markdown",
   "id": "f46f2b79",
   "metadata": {},
   "source": [
    "---"
   ]
  },
  {
   "cell_type": "markdown",
   "id": "fa747dc9",
   "metadata": {},
   "source": [
    "### Question: Default Parameter Values\n",
    "**Write a Program to Define a Function `power`** that takes two arguments, `base` and `exp`. The function should return `base` raised to the power of `exp`.\n",
    "\n",
    " If `exp` is not provided, it should default to 2. Call this function with and without the second argument and print the results."
   ]
  },
  {
   "cell_type": "code",
   "execution_count": 9,
   "id": "4fc057a5",
   "metadata": {},
   "outputs": [
    {
     "name": "stdout",
     "output_type": "stream",
     "text": [
      "4\n",
      "32\n"
     ]
    }
   ],
   "source": [
    "def power(base: int, exp = 2):\n",
    "    result = base ** exp\n",
    "    return result\n",
    "\n",
    "squared = power(2)\n",
    "print(squared)\n",
    "\n",
    "print(power(2,5))"
   ]
  },
  {
   "cell_type": "markdown",
   "id": "5b433ebc",
   "metadata": {},
   "source": [
    "### Question : Variable-length Arguments (*args and **kwargs)\n",
    "**Write a Program to Define a Function `describe_pet`** that accepts a variable number of keyword arguments (`**kwargs`). \n",
    "\n",
    "The function should print the details of these keyword arguments as \"property: value\". Call this function with pet details like name, age, and type"
   ]
  },
  {
   "cell_type": "code",
   "execution_count": 10,
   "id": "4a3835d5",
   "metadata": {},
   "outputs": [
    {
     "name": "stdout",
     "output_type": "stream",
     "text": [
      "name : jojo\n",
      "type : dog\n",
      "age : 5\n",
      "breed : bulldog\n"
     ]
    }
   ],
   "source": [
    "# Input :  describe_pet(name=\"Rex\", age=5, type=\"dog\")\n",
    "# Output : name: Rex\n",
    "#          age: 5\n",
    "#          type: dog\n",
    "\n",
    "def describe_pet(**kwargs):\n",
    "    name = kwargs['name']\n",
    "    \n",
    "    for key,value in kwargs.items():\n",
    "        print(f'{key} : {value}')\n",
    "      \n",
    "describe_pet(name='jojo',type='dog',age=5,breed='bulldog')\n"
   ]
  },
  {
   "cell_type": "markdown",
   "id": "406d64b9",
   "metadata": {},
   "source": [
    "### Question : Calculate Std. Deviation of given list.\n",
    "\n",
    "Standard Deviation : $\\sqrt{\\frac{\\sum{(X - \\bar{X})}^2}{N}}$"
   ]
  },
  {
   "cell_type": "code",
   "execution_count": 11,
   "id": "a36c6373",
   "metadata": {},
   "outputs": [
    {
     "name": "stdout",
     "output_type": "stream",
     "text": [
      "6.340668863192041\n"
     ]
    }
   ],
   "source": [
    "from math import sqrt\n",
    "\n",
    "def std_deviation( value ):\n",
    "\n",
    "    # Find N\n",
    "    N = len(value)\n",
    "    \n",
    "    # Mean\n",
    "    x_bar = sum(value) / N\n",
    "    \n",
    "    # sq \n",
    "    summation = sum([(x - x_bar)**2 for x in value])\n",
    "    \n",
    "    # std\n",
    "    result = sqrt(summation / N )\n",
    "    \n",
    "    return result \n",
    "\n",
    "print(std_deviation([1,4,6,8,4,9,22]))"
   ]
  },
  {
   "cell_type": "markdown",
   "id": "582aea4e",
   "metadata": {},
   "source": [
    "### Question: Recursive Function\n",
    "**Write a Program to Define a Recursive Function `fibonacci`** that takes a number `n` as an argument and returns the `n`th number in the Fibonacci sequence. \n",
    "\n",
    "Recall that the Fibonacci sequence is defined as `fib(n) = fib(n-1) + fib(n-2)` with base cases `fib(0) = 0` and `fib(1) = 1`. Call this function with `n = 5` and print the result."
   ]
  },
  {
   "cell_type": "code",
   "execution_count": null,
   "id": "17511ac8-571d-47a8-b830-5fab741a97c5",
   "metadata": {},
   "outputs": [],
   "source": [
    "0,1,1,2,3,5"
   ]
  },
  {
   "cell_type": "code",
   "execution_count": 1,
   "id": "057bf68f",
   "metadata": {},
   "outputs": [
    {
     "name": "stdout",
     "output_type": "stream",
     "text": [
      "5\n"
     ]
    }
   ],
   "source": [
    "def fibonacci(n):\n",
    "    # Base cases\n",
    "    if n == 0:\n",
    "        return 0\n",
    "    elif n == 1:\n",
    "        return 1\n",
    "    else:\n",
    "        # Recursive case\n",
    "        return fibonacci(n-1) + fibonacci(n-2)\n",
    "\n",
    "# Call the function with n = 5\n",
    "result = fibonacci(5)\n",
    "\n",
    "# Print the result\n",
    "print(result)\n"
   ]
  },
  {
   "cell_type": "markdown",
   "id": "7a276366",
   "metadata": {},
   "source": [
    "### Question: File Read and Write\n",
    "**Write a Program that Uses Functions `write_to_file` and `read_from_file`**:\n",
    "- `write_to_file(filename, content)`: Writes `content` to a file named `filename`. If the file doesn't exist, it should be created.\n",
    "- `read_from_file(filename)`: Reads and prints the content of a file named `filename`.\n",
    "Call `write_to_file` to write \"Hello, Python!\" to a file named \"greetings.txt\", then call `read_from_file` to read and print the content of this file."
   ]
  },
  {
   "cell_type": "code",
   "execution_count": null,
   "id": "d9c2e049",
   "metadata": {},
   "outputs": [],
   "source": []
  }
 ],
 "metadata": {
  "kernelspec": {
   "display_name": "Python 3 (ipykernel)",
   "language": "python",
   "name": "python3"
  },
  "language_info": {
   "codemirror_mode": {
    "name": "ipython",
    "version": 3
   },
   "file_extension": ".py",
   "mimetype": "text/x-python",
   "name": "python",
   "nbconvert_exporter": "python",
   "pygments_lexer": "ipython3",
   "version": "3.10.12"
  }
 },
 "nbformat": 4,
 "nbformat_minor": 5
}
