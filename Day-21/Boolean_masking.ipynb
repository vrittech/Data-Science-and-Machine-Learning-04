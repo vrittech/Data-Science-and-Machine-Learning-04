{
 "cells": [
  {
   "cell_type": "code",
   "execution_count": 1,
   "id": "ee16e09d-42cd-4549-8369-77a27a77f923",
   "metadata": {},
   "outputs": [],
   "source": [
    "import numpy as np"
   ]
  },
  {
   "cell_type": "code",
   "execution_count": 2,
   "id": "6bbbbb6e-8ff9-4fdd-bba7-9c9d86166624",
   "metadata": {},
   "outputs": [],
   "source": [
    "a = np.array([1,4,6,9,0,3,5,2])"
   ]
  },
  {
   "cell_type": "code",
   "execution_count": 3,
   "id": "6a4c098d-cd3c-43b9-b028-6fc3285897f9",
   "metadata": {},
   "outputs": [
    {
     "data": {
      "text/plain": [
       "array([1, 4, 6, 9, 0, 3, 5, 2])"
      ]
     },
     "execution_count": 3,
     "metadata": {},
     "output_type": "execute_result"
    }
   ],
   "source": [
    "a"
   ]
  },
  {
   "cell_type": "code",
   "execution_count": 5,
   "id": "bebc3b67-7c2e-4581-8c21-74ab31406ef0",
   "metadata": {},
   "outputs": [],
   "source": [
    "mask = a > 5"
   ]
  },
  {
   "cell_type": "code",
   "execution_count": 8,
   "id": "27992697-771c-4383-84ac-a0c04793be8c",
   "metadata": {},
   "outputs": [
    {
     "data": {
      "text/plain": [
       "array([6, 9])"
      ]
     },
     "execution_count": 8,
     "metadata": {},
     "output_type": "execute_result"
    }
   ],
   "source": [
    "a[mask]"
   ]
  },
  {
   "cell_type": "code",
   "execution_count": 10,
   "id": "2a35db44-06ca-49f1-80b0-445988d4016f",
   "metadata": {},
   "outputs": [],
   "source": [
    "a_2d = np.array([[1,4],[6,9],[0,3],[5,2]])"
   ]
  },
  {
   "cell_type": "code",
   "execution_count": 12,
   "id": "fdc0a07a-088e-4ff1-85e0-4acdf9a036c1",
   "metadata": {},
   "outputs": [
    {
     "data": {
      "text/plain": [
       "(array([[1, 4],\n",
       "        [6, 9],\n",
       "        [0, 3],\n",
       "        [5, 2]]),\n",
       " (4, 2))"
      ]
     },
     "execution_count": 12,
     "metadata": {},
     "output_type": "execute_result"
    }
   ],
   "source": [
    "a_2d, a_2d.shape"
   ]
  },
  {
   "cell_type": "code",
   "execution_count": 24,
   "id": "12e518e9-647a-47aa-be15-852e89650d0f",
   "metadata": {},
   "outputs": [],
   "source": [
    "mask_a = np.array([True, False, True, True])"
   ]
  },
  {
   "cell_type": "code",
   "execution_count": 25,
   "id": "0870ea20-b7da-440b-9c92-a8230422be33",
   "metadata": {},
   "outputs": [
    {
     "data": {
      "text/plain": [
       "array([[1, 4],\n",
       "       [0, 3],\n",
       "       [5, 2]])"
      ]
     },
     "execution_count": 25,
     "metadata": {},
     "output_type": "execute_result"
    }
   ],
   "source": [
    "a_2d[mask_a]"
   ]
  },
  {
   "cell_type": "code",
   "execution_count": 27,
   "id": "2355534c-7f27-4fcf-b88e-9f1a16593a57",
   "metadata": {},
   "outputs": [
    {
     "data": {
      "text/plain": [
       "array([4, 6, 9, 3, 5])"
      ]
     },
     "execution_count": 27,
     "metadata": {},
     "output_type": "execute_result"
    }
   ],
   "source": [
    "a_2d[a_2d > 2]"
   ]
  },
  {
   "cell_type": "code",
   "execution_count": null,
   "id": "779207a7-31d0-4a8f-a31c-a72047e32dfe",
   "metadata": {},
   "outputs": [],
   "source": []
  }
 ],
 "metadata": {
  "kernelspec": {
   "display_name": "Python 3 (ipykernel)",
   "language": "python",
   "name": "python3"
  },
  "language_info": {
   "codemirror_mode": {
    "name": "ipython",
    "version": 3
   },
   "file_extension": ".py",
   "mimetype": "text/x-python",
   "name": "python",
   "nbconvert_exporter": "python",
   "pygments_lexer": "ipython3",
   "version": "3.10.12"
  }
 },
 "nbformat": 4,
 "nbformat_minor": 5
}
