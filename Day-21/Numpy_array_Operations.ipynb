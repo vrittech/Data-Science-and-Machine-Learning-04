{
 "cells": [
  {
   "cell_type": "code",
   "execution_count": 1,
   "id": "1a30a9ff-7a2f-415d-b9f4-cb9bd1efeb73",
   "metadata": {},
   "outputs": [],
   "source": [
    "import numpy as np"
   ]
  },
  {
   "cell_type": "markdown",
   "id": "a57dbff6-5f51-4063-a7f8-8a0939a3639e",
   "metadata": {},
   "source": [
    "## Elementwise Operations\n",
    "\n",
    "Refer to : https://numpy.org/doc/1.26/reference/array_api.html#elementwise-functions"
   ]
  },
  {
   "cell_type": "code",
   "execution_count": 13,
   "id": "44292308-2b10-43c3-9184-e75c851227a2",
   "metadata": {},
   "outputs": [],
   "source": [
    "a = np.array([[4, 5, 6], [5, 7, 9]])\n",
    "b = np.array([[1, 2, 3], [9, 8,7 ]])"
   ]
  },
  {
   "cell_type": "code",
   "execution_count": 14,
   "id": "b6b1700d-5c33-4b08-94b6-d613b325b446",
   "metadata": {},
   "outputs": [
    {
     "name": "stdout",
     "output_type": "stream",
     "text": [
      "[[4 5 6]\n",
      " [5 7 9]]\n",
      "--------------------\n",
      "[[1 2 3]\n",
      " [9 8 7]]\n"
     ]
    }
   ],
   "source": [
    "print(a)\n",
    "print(\"-\"*20)\n",
    "print(b)"
   ]
  },
  {
   "cell_type": "code",
   "execution_count": 15,
   "id": "12d77faa-ac37-48aa-aa82-e197231bda91",
   "metadata": {},
   "outputs": [
    {
     "data": {
      "text/plain": [
       "array([[ 5,  7,  9],\n",
       "       [14, 15, 16]])"
      ]
     },
     "execution_count": 15,
     "metadata": {},
     "output_type": "execute_result"
    }
   ],
   "source": [
    "a + b"
   ]
  },
  {
   "cell_type": "code",
   "execution_count": 9,
   "id": "16b0557a-c768-4020-8703-54e7d12ba3bc",
   "metadata": {},
   "outputs": [
    {
     "data": {
      "text/plain": [
       "array([[-3, -3, -3],\n",
       "       [ 4,  1, -2]])"
      ]
     },
     "execution_count": 9,
     "metadata": {},
     "output_type": "execute_result"
    }
   ],
   "source": [
    "b - a"
   ]
  },
  {
   "cell_type": "markdown",
   "id": "8cd6b248-c1ad-42c7-be5d-94e0b11cdc56",
   "metadata": {},
   "source": [
    "## Matrix Operations\n",
    "Refer to : https://numpy.org/doc/1.26/reference/routines.linalg.html"
   ]
  },
  {
   "cell_type": "code",
   "execution_count": 27,
   "id": "ba8f4a61-0998-4474-b978-424a54202079",
   "metadata": {},
   "outputs": [],
   "source": [
    "a = np.array([[8, 5, 6, 7], [5, 73, 7,8]])\n",
    "b = np.array([[1, 2, 7,8], [97,8,8, 8], [1, 2, 7,8], [97,8,8, 8]])"
   ]
  },
  {
   "cell_type": "code",
   "execution_count": 28,
   "id": "d4f99515-6239-44aa-b1ce-1286e2f40696",
   "metadata": {},
   "outputs": [
    {
     "name": "stdout",
     "output_type": "stream",
     "text": [
      "[[ 8  5  6  7]\n",
      " [ 5 73  7  8]]\n",
      "--------------------\n",
      "[[ 1  2  7  8]\n",
      " [97  8  8  8]\n",
      " [ 1  2  7  8]\n",
      " [97  8  8  8]]\n"
     ]
    }
   ],
   "source": [
    "print(a)\n",
    "print(\"-\"*20)\n",
    "print(b)"
   ]
  },
  {
   "cell_type": "code",
   "execution_count": 29,
   "id": "d9e20d15-4dcc-4b11-887e-22f67d7dc7d1",
   "metadata": {},
   "outputs": [
    {
     "data": {
      "text/plain": [
       "array([[1178,  124,  194,  208],\n",
       "       [7869,  672,  732,  744]])"
      ]
     },
     "execution_count": 29,
     "metadata": {},
     "output_type": "execute_result"
    }
   ],
   "source": [
    "np.dot(a,b)"
   ]
  },
  {
   "cell_type": "code",
   "execution_count": 30,
   "id": "e2c14c63-b276-45b0-a573-c9d240efb195",
   "metadata": {},
   "outputs": [
    {
     "data": {
      "text/plain": [
       "array([[ 8,  5],\n",
       "       [ 5, 73],\n",
       "       [ 6,  7],\n",
       "       [ 7,  8]])"
      ]
     },
     "execution_count": 30,
     "metadata": {},
     "output_type": "execute_result"
    }
   ],
   "source": [
    "np.transpose(a)"
   ]
  },
  {
   "cell_type": "code",
   "execution_count": 35,
   "id": "f5cba096-3629-407a-bbec-a5d1ccbfa734",
   "metadata": {},
   "outputs": [
    {
     "data": {
      "text/plain": [
       "107"
      ]
     },
     "execution_count": 35,
     "metadata": {},
     "output_type": "execute_result"
    }
   ],
   "source": [
    "np.trace(b, offset=-1)"
   ]
  },
  {
   "cell_type": "code",
   "execution_count": 37,
   "id": "cf4448d7-5a9b-4e09-9dea-d8e37bdd0b67",
   "metadata": {},
   "outputs": [
    {
     "data": {
      "text/plain": [
       "31.0"
      ]
     },
     "execution_count": 37,
     "metadata": {},
     "output_type": "execute_result"
    }
   ],
   "source": [
    "a_22 = np.array([[8, 5], [5, 7]])\n",
    "\n",
    "np.linalg.det(a_22)"
   ]
  },
  {
   "cell_type": "code",
   "execution_count": 44,
   "id": "28493f70-dea7-4505-a441-50918d8b2154",
   "metadata": {},
   "outputs": [],
   "source": [
    "d = np.random.randint(0,50,(2, 3))"
   ]
  },
  {
   "cell_type": "code",
   "execution_count": 46,
   "id": "129eb544-22bd-41f4-a2b9-b5d22e4f02bc",
   "metadata": {},
   "outputs": [
    {
     "ename": "LinAlgError",
     "evalue": "Last 2 dimensions of the array must be square",
     "output_type": "error",
     "traceback": [
      "\u001b[0;31m---------------------------------------------------------------------------\u001b[0m",
      "\u001b[0;31mLinAlgError\u001b[0m                               Traceback (most recent call last)",
      "Cell \u001b[0;32mIn[46], line 1\u001b[0m\n\u001b[0;32m----> 1\u001b[0m \u001b[43mnp\u001b[49m\u001b[38;5;241;43m.\u001b[39;49m\u001b[43mlinalg\u001b[49m\u001b[38;5;241;43m.\u001b[39;49m\u001b[43mdet\u001b[49m\u001b[43m(\u001b[49m\u001b[43md\u001b[49m\u001b[43m)\u001b[49m\n",
      "File \u001b[0;32m~/Desktop/VritEducation/vritvenv/lib/python3.10/site-packages/numpy/linalg/linalg.py:2177\u001b[0m, in \u001b[0;36mdet\u001b[0;34m(a)\u001b[0m\n\u001b[1;32m   2175\u001b[0m a \u001b[38;5;241m=\u001b[39m asarray(a)\n\u001b[1;32m   2176\u001b[0m _assert_stacked_2d(a)\n\u001b[0;32m-> 2177\u001b[0m \u001b[43m_assert_stacked_square\u001b[49m\u001b[43m(\u001b[49m\u001b[43ma\u001b[49m\u001b[43m)\u001b[49m\n\u001b[1;32m   2178\u001b[0m t, result_t \u001b[38;5;241m=\u001b[39m _commonType(a)\n\u001b[1;32m   2179\u001b[0m signature \u001b[38;5;241m=\u001b[39m \u001b[38;5;124m'\u001b[39m\u001b[38;5;124mD->D\u001b[39m\u001b[38;5;124m'\u001b[39m \u001b[38;5;28;01mif\u001b[39;00m isComplexType(t) \u001b[38;5;28;01melse\u001b[39;00m \u001b[38;5;124m'\u001b[39m\u001b[38;5;124md->d\u001b[39m\u001b[38;5;124m'\u001b[39m\n",
      "File \u001b[0;32m~/Desktop/VritEducation/vritvenv/lib/python3.10/site-packages/numpy/linalg/linalg.py:213\u001b[0m, in \u001b[0;36m_assert_stacked_square\u001b[0;34m(*arrays)\u001b[0m\n\u001b[1;32m    211\u001b[0m m, n \u001b[38;5;241m=\u001b[39m a\u001b[38;5;241m.\u001b[39mshape[\u001b[38;5;241m-\u001b[39m\u001b[38;5;241m2\u001b[39m:]\n\u001b[1;32m    212\u001b[0m \u001b[38;5;28;01mif\u001b[39;00m m \u001b[38;5;241m!=\u001b[39m n:\n\u001b[0;32m--> 213\u001b[0m     \u001b[38;5;28;01mraise\u001b[39;00m LinAlgError(\u001b[38;5;124m'\u001b[39m\u001b[38;5;124mLast 2 dimensions of the array must be square\u001b[39m\u001b[38;5;124m'\u001b[39m)\n",
      "\u001b[0;31mLinAlgError\u001b[0m: Last 2 dimensions of the array must be square"
     ]
    }
   ],
   "source": [
    "np.linalg.det(d)"
   ]
  },
  {
   "cell_type": "code",
   "execution_count": 55,
   "id": "58cd6b3d-51aa-4b0b-96d4-2883edd96197",
   "metadata": {},
   "outputs": [],
   "source": [
    "# Mathematical Inverse\n",
    "\n",
    "a_22 = np.array([[8, 5], [5, 7]])\n",
    "a_22_adj = np.array([[7, -5], [-5, 8]])\n"
   ]
  },
  {
   "cell_type": "code",
   "execution_count": 56,
   "id": "ec42769c-9652-4192-b0c2-467432718a3b",
   "metadata": {},
   "outputs": [],
   "source": [
    "a_22_inv = (1/ np.linalg.det(a_22)) * a_22_adj"
   ]
  },
  {
   "cell_type": "code",
   "execution_count": 57,
   "id": "2f1ba4d8-7dbd-493e-8134-dafe40ae33ea",
   "metadata": {},
   "outputs": [
    {
     "data": {
      "text/plain": [
       "array([[ 0.22580645, -0.16129032],\n",
       "       [-0.16129032,  0.25806452]])"
      ]
     },
     "execution_count": 57,
     "metadata": {},
     "output_type": "execute_result"
    }
   ],
   "source": [
    "a_22_inv"
   ]
  },
  {
   "cell_type": "code",
   "execution_count": 58,
   "id": "79c56b3f-51b6-46a8-b375-86a80a2bc05a",
   "metadata": {},
   "outputs": [
    {
     "data": {
      "text/plain": [
       "array([[ 0.22580645, -0.16129032],\n",
       "       [-0.16129032,  0.25806452]])"
      ]
     },
     "execution_count": 58,
     "metadata": {},
     "output_type": "execute_result"
    }
   ],
   "source": [
    "np.linalg.inv(a_22)"
   ]
  },
  {
   "cell_type": "code",
   "execution_count": 63,
   "id": "ff877831-2e0d-4b0a-a0cd-d2079df1d847",
   "metadata": {},
   "outputs": [
    {
     "data": {
      "text/plain": [
       "EigResult(eigenvalues=array([12.52493781,  2.47506219]), eigenvectors=array([[ 0.74145253, -0.67100532],\n",
       "       [ 0.67100532,  0.74145253]]))"
      ]
     },
     "execution_count": 63,
     "metadata": {},
     "output_type": "execute_result"
    }
   ],
   "source": [
    "# https://numpy.org/doc/1.26/reference/generated/numpy.linalg.eig.html\n",
    "np.linalg.eig(a_22)"
   ]
  },
  {
   "cell_type": "code",
   "execution_count": 64,
   "id": "44994d68-f8af-4bb0-8010-e726348d062e",
   "metadata": {},
   "outputs": [],
   "source": [
    "a = np.array([[1, 2], [3, 5]])\n",
    "b = np.array([1, 2])\n",
    "x = np.linalg.solve(a, b)"
   ]
  },
  {
   "cell_type": "code",
   "execution_count": 65,
   "id": "3f48c3a5-e658-48e6-941a-d8ff47e97b12",
   "metadata": {},
   "outputs": [
    {
     "data": {
      "text/plain": [
       "array([-1.,  1.])"
      ]
     },
     "execution_count": 65,
     "metadata": {},
     "output_type": "execute_result"
    }
   ],
   "source": [
    "x"
   ]
  },
  {
   "cell_type": "code",
   "execution_count": null,
   "id": "1d8ae73c-ad07-4fc9-bec6-1db8310329d5",
   "metadata": {},
   "outputs": [],
   "source": []
  },
  {
   "cell_type": "markdown",
   "id": "3d007b54-92f3-4383-865e-13e3c096c7c6",
   "metadata": {},
   "source": [
    "## Numpy Broadcasting"
   ]
  },
  {
   "cell_type": "code",
   "execution_count": 17,
   "id": "9b415e61-b5df-4b6f-9cdc-0fa44ce27b05",
   "metadata": {},
   "outputs": [],
   "source": [
    "a = np.array([[1, 2], [3, 5]])\n",
    "b = np.array([10, 20])"
   ]
  },
  {
   "cell_type": "code",
   "execution_count": 18,
   "id": "eaea67a9-6116-43fa-91c6-a0ae27b74375",
   "metadata": {},
   "outputs": [
    {
     "data": {
      "text/plain": [
       "(array([[1, 2],\n",
       "        [3, 5]]),\n",
       " (2, 2))"
      ]
     },
     "execution_count": 18,
     "metadata": {},
     "output_type": "execute_result"
    }
   ],
   "source": [
    "a , a.shape"
   ]
  },
  {
   "cell_type": "code",
   "execution_count": 19,
   "id": "22e9656c-08c2-430e-ab2a-e2cc3640f664",
   "metadata": {},
   "outputs": [
    {
     "data": {
      "text/plain": [
       "(array([10, 20]), (2,))"
      ]
     },
     "execution_count": 19,
     "metadata": {},
     "output_type": "execute_result"
    }
   ],
   "source": [
    "b, b.shape"
   ]
  },
  {
   "cell_type": "code",
   "execution_count": 20,
   "id": "207054b0-814d-4972-8c18-56cf585db87e",
   "metadata": {},
   "outputs": [
    {
     "data": {
      "text/plain": [
       "array([[11, 22],\n",
       "       [13, 25]])"
      ]
     },
     "execution_count": 20,
     "metadata": {},
     "output_type": "execute_result"
    }
   ],
   "source": [
    "a + b"
   ]
  },
  {
   "cell_type": "code",
   "execution_count": null,
   "id": "b1f54aea-7934-411f-9f13-c26efc132d4e",
   "metadata": {},
   "outputs": [],
   "source": []
  },
  {
   "cell_type": "markdown",
   "id": "a84c0afc-dd78-4704-aab7-168110160f1e",
   "metadata": {},
   "source": [
    "### Why numpy over Python's loop ?"
   ]
  },
  {
   "cell_type": "code",
   "execution_count": 7,
   "id": "4685a19f-d68d-4bd2-9cdd-6b464e80d0d2",
   "metadata": {},
   "outputs": [],
   "source": [
    "import numpy as np\n",
    "import time"
   ]
  },
  {
   "cell_type": "code",
   "execution_count": 8,
   "id": "f2f50d56-6fad-40dc-be86-544496da37a6",
   "metadata": {},
   "outputs": [],
   "source": [
    "# NumPy element_wise operation\n",
    "a = np.random.rand(5000000)\n",
    "b = np.random.rand(5000000)\n",
    "\n",
    "start = time.time()\n",
    "c = a * b\n",
    "end_time = time.time()\n",
    "\n",
    "numpy_execution_time = end_time - start\n"
   ]
  },
  {
   "cell_type": "code",
   "execution_count": 9,
   "id": "9d3c0294-0e24-4d70-a571-4de689869648",
   "metadata": {},
   "outputs": [],
   "source": [
    "# Python Execution\n",
    "a_list = list(a)\n",
    "b_list = list(b)\n",
    "c_list = []\n",
    "\n",
    "start = time.time()\n",
    "for i in range(len(a_list)):\n",
    "    c_list.append(\n",
    "        a_list[i] * b_list[i]\n",
    "    )\n",
    "end = time.time()\n",
    "\n",
    "python_execution_time = end -start\n"
   ]
  },
  {
   "cell_type": "code",
   "execution_count": 10,
   "id": "b57aa74f-3b99-43fd-9a4f-186383ae707f",
   "metadata": {},
   "outputs": [
    {
     "data": {
      "text/plain": [
       "0.008596658706665039"
      ]
     },
     "execution_count": 10,
     "metadata": {},
     "output_type": "execute_result"
    }
   ],
   "source": [
    "numpy_execution_time"
   ]
  },
  {
   "cell_type": "code",
   "execution_count": 11,
   "id": "0f47519a-4f6d-4137-84b2-4b6bc05ef5ef",
   "metadata": {},
   "outputs": [
    {
     "data": {
      "text/plain": [
       "0.4402141571044922"
      ]
     },
     "execution_count": 11,
     "metadata": {},
     "output_type": "execute_result"
    }
   ],
   "source": [
    "python_execution_time"
   ]
  },
  {
   "cell_type": "code",
   "execution_count": 12,
   "id": "50d437fa-260d-4d2d-94c3-cc28e8d6c389",
   "metadata": {},
   "outputs": [
    {
     "name": "stdout",
     "output_type": "stream",
     "text": [
      "Numpy is 51.20758798568932 times faster\n"
     ]
    }
   ],
   "source": [
    "print(f\"Numpy is {python_execution_time/numpy_execution_time} times faster\")"
   ]
  },
  {
   "cell_type": "code",
   "execution_count": null,
   "id": "23fb2218-85a4-427d-8b6a-2cf22a7be404",
   "metadata": {},
   "outputs": [],
   "source": []
  }
 ],
 "metadata": {
  "kernelspec": {
   "display_name": "Python 3 (ipykernel)",
   "language": "python",
   "name": "python3"
  },
  "language_info": {
   "codemirror_mode": {
    "name": "ipython",
    "version": 3
   },
   "file_extension": ".py",
   "mimetype": "text/x-python",
   "name": "python",
   "nbconvert_exporter": "python",
   "pygments_lexer": "ipython3",
   "version": "3.10.12"
  }
 },
 "nbformat": 4,
 "nbformat_minor": 5
}
