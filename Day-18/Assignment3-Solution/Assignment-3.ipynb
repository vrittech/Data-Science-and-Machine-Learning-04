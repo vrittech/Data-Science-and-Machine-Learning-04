{
 "cells": [
  {
   "cell_type": "markdown",
   "id": "7e76d9b4",
   "metadata": {},
   "source": [
    "# Problem Statement\n",
    "\n",
    "We want to build an online shopping cart system that allows users to add products to their cart, calculate the total cost, apply discounts, and generate an invoice. The system should include the following functionalities:\n",
    "\n",
    "- Adding products to the cart\n",
    "- Removing products from the cart\n",
    "- Calculating the total cost\n",
    "- Applying discounts based on user type\n",
    "- Generating an invoice\n",
    "\n",
    "### 1. Create the Product class\n",
    "\n",
    "We create a basic `Product` class with attributes for the product name and price."
   ]
  },
  {
   "cell_type": "code",
   "execution_count": 4,
   "id": "a286f01a",
   "metadata": {},
   "outputs": [],
   "source": [
    "class Product:\n",
    "    def __init__(self, name, price):\n",
    "        self.name = name\n",
    "        self.price = price"
   ]
  },
  {
   "cell_type": "markdown",
   "id": "0c9aa397",
   "metadata": {},
   "source": [
    "### 2.  Implement the User class\n",
    "\n",
    "In this step, we create a `User` class with attributes for the user's name and whether they are a premium member. We then modify the `calculate_total_cost` method in the `ShoppingCart` class to apply a `10%` discount for premium users."
   ]
  },
  {
   "cell_type": "code",
   "execution_count": 5,
   "id": "3393e953",
   "metadata": {},
   "outputs": [],
   "source": [
    "class User:\n",
    "    users = []\n",
    "    \n",
    "    def __init__(self, name):\n",
    "        self.name = self.validate_name(name)\n",
    "        self.__is_premium = False\n",
    "        self.__is_admin = False\n",
    "        self.shopping_cart = ShoppingCart()\n",
    "        \n",
    "        if self.name == 'admin':\n",
    "            self.__is_premium = True\n",
    "            self.__is_admin = True\n",
    "\n",
    "        User.users.append(self)\n",
    "\n",
    "    @staticmethod\n",
    "    def validate_name(name):\n",
    "        if any(user.name == name for user in User.users):\n",
    "            print(f\"User with the name '{name}' already exists. Please choose a different name.\")\n",
    "            unique_name = input(\"Please enter a unique name: \")\n",
    "            return User.validate_name(unique_name)  # Recursively validate the unique name\n",
    "        return name\n",
    "        \n",
    "    @property\n",
    "    def is_premium(self):\n",
    "        return self.__is_premium\n",
    "\n",
    "    @property\n",
    "    def is_admin(self):\n",
    "        return self.__is_admin\n",
    "\n",
    "    def make_premium(self, admin_user):\n",
    "        if admin_user.is_admin:\n",
    "            self.__is_premium = True\n",
    "        else:\n",
    "            print(\"Not Allowed\")\n",
    "\n",
    "    def remove_premium(self, admin_user):\n",
    "        if admin_user.is_admin:\n",
    "            self.__is_premium = False\n",
    "        else:\n",
    "            print(\"Not Allowed\")"
   ]
  },
  {
   "cell_type": "code",
   "execution_count": 26,
   "id": "8ad9430f-b3de-4ea9-af85-17acd0d26aa3",
   "metadata": {},
   "outputs": [],
   "source": [
    "user1 = User(\"Shailesh\")\n",
    "admin  =User(\"admin\")"
   ]
  },
  {
   "cell_type": "code",
   "execution_count": 29,
   "id": "336bfd72-ab1e-4e5a-8e17-8469035ef1c3",
   "metadata": {},
   "outputs": [],
   "source": [
    "user1.make_premium(admin)"
   ]
  },
  {
   "cell_type": "code",
   "execution_count": 32,
   "id": "82ef16fd-9a9e-4f4d-8e5c-84c02ef009ce",
   "metadata": {},
   "outputs": [
    {
     "data": {
      "text/plain": [
       "False"
      ]
     },
     "execution_count": 32,
     "metadata": {},
     "output_type": "execute_result"
    }
   ],
   "source": [
    "user1.is_premium"
   ]
  },
  {
   "cell_type": "code",
   "execution_count": 31,
   "id": "9d285754-9fdc-46b4-a731-c686fbf5e1d2",
   "metadata": {},
   "outputs": [],
   "source": [
    "user1.remove_premium(admin)"
   ]
  },
  {
   "cell_type": "code",
   "execution_count": 36,
   "id": "436030db-39e8-4acf-a9ce-75c8236e7344",
   "metadata": {},
   "outputs": [
    {
     "name": "stdout",
     "output_type": "stream",
     "text": [
      "User with the name 'Shailesh' already exists. Please choose a different name.\n"
     ]
    },
    {
     "name": "stdin",
     "output_type": "stream",
     "text": [
      "Please enter a unique name:  Shailesh\n"
     ]
    },
    {
     "name": "stdout",
     "output_type": "stream",
     "text": [
      "User with the name 'Shailesh' already exists. Please choose a different name.\n"
     ]
    },
    {
     "name": "stdin",
     "output_type": "stream",
     "text": [
      "Please enter a unique name:  Prabin\n"
     ]
    }
   ],
   "source": [
    "user2 = User(\"Shailesh\")"
   ]
  },
  {
   "cell_type": "markdown",
   "id": "3b7e070b",
   "metadata": {},
   "source": [
    "### 3. Create the ShoppingCart class\n",
    "\n",
    "In this step, we create a `ShoppingCart` class with methods for adding and removing products from the cart, as well as calculating the total cost of the items in the cart."
   ]
  },
  {
   "cell_type": "code",
   "execution_count": 2,
   "id": "70bbec8d",
   "metadata": {},
   "outputs": [],
   "source": [
    "def discount_10_percent(func):\n",
    "    def wrapper(self):\n",
    "        total_cost = func(self)\n",
    "        discounted_cost = total_cost * 0.9\n",
    "        return discounted_cost\n",
    "    return wrapper"
   ]
  },
  {
   "cell_type": "code",
   "execution_count": 11,
   "id": "c0b5196d",
   "metadata": {},
   "outputs": [],
   "source": [
    "class ShoppingCart:\n",
    "    def __init__(self):\n",
    "        self.products = []\n",
    "\n",
    "    def add_product(self, product):\n",
    "        self.products.append(product)\n",
    "\n",
    "    def remove_product(self, product):\n",
    "        self.products.remove(product)\n",
    "    \n",
    "    def calculate_total_cost(self):\n",
    "        total_cost = sum(product.price for product in self.products)\n",
    "        return total_cost \n",
    "        \n",
    "    @discount_10_percent\n",
    "    def calculate_discounted_cost(self):\n",
    "        total_cost = sum(product.price for product in self.products)\n",
    "        return total_cost\n",
    "    \n",
    "    def generate_invoice(self, user):\n",
    "        invoice = f\"Invoice for {user.name}:\\n\"\n",
    "        invoice += \"=======================\\n\"\n",
    "        for product in self.products:\n",
    "            invoice += f\"{product.name}: ${product.price}\\n\"\n",
    "        total_cost = self.calculate_total_cost()\n",
    "        if user.is_premium:\n",
    "            invoice += \"-----------------------\\n\"\n",
    "            invoice += f\"Sub-Total: ${total_cost}\\n\"\n",
    "            final_cost = self.calculate_discounted_cost()\n",
    "            invoice += f\"Discount (10%): ${total_cost - final_cost}\\n\"\n",
    "            total_cost = final_cost\n",
    "        invoice += \"-----------------------\\n\"\n",
    "        invoice += f\"Total: ${total_cost}\"\n",
    "        return invoice\n",
    "\n",
    "    def get_products(self):\n",
    "        yield from self.products"
   ]
  },
  {
   "cell_type": "markdown",
   "id": "da1f3494",
   "metadata": {},
   "source": [
    "Here, we defined a decorator `discount_10_percent` that applies a `10%` discount to the total cost. We then apply this decorator to the `calculate_total_cost` method in the `ShoppingCart` class."
   ]
  },
  {
   "cell_type": "markdown",
   "id": "afc26053",
   "metadata": {},
   "source": [
    "### 4. Testing the functionality\n",
    "\n",
    "Now that we have implemented the necessary classes and methods, let's test our online shopping cart system:"
   ]
  },
  {
   "cell_type": "code",
   "execution_count": 6,
   "id": "6186bdcb",
   "metadata": {},
   "outputs": [],
   "source": [
    "# Create some products\n",
    "product1 = Product(\"Shirt\", 20)\n",
    "product2 = Product(\"Pants\", 30)\n",
    "product3 = Product(\"Shoes\", 50)\n",
    "\n",
    "# # Create a shopping cart\n",
    "# cart = ShoppingCart()\n",
    "\n",
    "# # Add products to the cart\n",
    "# cart.add_product(product1)\n",
    "# cart.add_product(product2)"
   ]
  },
  {
   "cell_type": "code",
   "execution_count": 9,
   "id": "8bfa0b10-c238-4df4-b1a6-652f26dd04c9",
   "metadata": {},
   "outputs": [
    {
     "name": "stdout",
     "output_type": "stream",
     "text": [
      "Product: Shirt, Price: 20\n",
      "Product: Pants, Price: 30\n"
     ]
    }
   ],
   "source": [
    "# Use the generator to iterate over the products\n",
    "# for product in cart.get_products():\n",
    "#     print(f\"Product: {product.name}, Price: {product.price}\")"
   ]
  },
  {
   "cell_type": "markdown",
   "id": "7ea7c96e",
   "metadata": {},
   "source": [
    "### 5. Generating Invoice for a given cart"
   ]
  },
  {
   "cell_type": "code",
   "execution_count": 7,
   "id": "3c12ae69",
   "metadata": {
    "scrolled": true
   },
   "outputs": [],
   "source": [
    "# Create a user\n",
    "user = User(\"Rita\")\n",
    "admin = User('admin')"
   ]
  },
  {
   "cell_type": "code",
   "execution_count": 15,
   "id": "d3150c5b-56b6-466f-b282-de580a17f7da",
   "metadata": {},
   "outputs": [
    {
     "data": {
      "text/plain": [
       "True"
      ]
     },
     "execution_count": 15,
     "metadata": {},
     "output_type": "execute_result"
    }
   ],
   "source": [
    "user.is_premium"
   ]
  },
  {
   "cell_type": "code",
   "execution_count": 14,
   "id": "9f7a699b-26ce-422e-ad75-e74a33f73301",
   "metadata": {},
   "outputs": [],
   "source": [
    "user.make_premium(admin)"
   ]
  },
  {
   "cell_type": "code",
   "execution_count": 9,
   "id": "8a638936-3302-4788-8012-5e8a1742786f",
   "metadata": {},
   "outputs": [],
   "source": [
    "user.shopping_cart.add_product(product1)\n",
    "user.shopping_cart.add_product(product2)"
   ]
  },
  {
   "cell_type": "code",
   "execution_count": 16,
   "id": "c857a259-0d2d-488b-9d54-95a487b28c38",
   "metadata": {},
   "outputs": [
    {
     "name": "stdout",
     "output_type": "stream",
     "text": [
      "Invoice for Rita:\n",
      "=======================\n",
      "Shirt: $20\n",
      "Pants: $30\n",
      "-----------------------\n",
      "Sub-Total: $50\n",
      "Discount (10%): $5.0\n",
      "-----------------------\n",
      "Total: $45.0\n"
     ]
    }
   ],
   "source": [
    "# Generate and print the invoice\n",
    "invoice = user.shopping_cart.generate_invoice(user)\n",
    "print(invoice)"
   ]
  },
  {
   "cell_type": "markdown",
   "id": "b602d561-09a8-4086-9295-dce1e8dacb71",
   "metadata": {},
   "source": [
    "### 6. Bonus Challenge"
   ]
  },
  {
   "cell_type": "markdown",
   "id": "cd2cf83b",
   "metadata": {},
   "source": [
    "In this case each user share the same cart, which is useless. Also each user can register himself/herself as a premium user, which is not practical again. So, you have to add following two additional features to the above program, to make it more real:\n",
    "\n",
    "1. Cart for a user should be independent from other users\n",
    "2. Add a new admin feature `is_admin` that takes in boolean values `[True, False]`, and only admin should be allowed to create other admins and set `is_premium=True` for other users"
   ]
  },
  {
   "cell_type": "code",
   "execution_count": null,
   "id": "59e0bc19-36f6-4f4f-9d96-994e0dc19b59",
   "metadata": {},
   "outputs": [],
   "source": []
  }
 ],
 "metadata": {
  "kernelspec": {
   "display_name": "Python 3 (ipykernel)",
   "language": "python",
   "name": "python3"
  },
  "language_info": {
   "codemirror_mode": {
    "name": "ipython",
    "version": 3
   },
   "file_extension": ".py",
   "mimetype": "text/x-python",
   "name": "python",
   "nbconvert_exporter": "python",
   "pygments_lexer": "ipython3",
   "version": "3.10.12"
  }
 },
 "nbformat": 4,
 "nbformat_minor": 5
}
