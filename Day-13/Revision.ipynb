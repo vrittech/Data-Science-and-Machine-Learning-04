{
 "cells": [
  {
   "cell_type": "code",
   "execution_count": 1,
   "id": "c3d9e39e-f72d-43da-b6b6-b87d53dafffa",
   "metadata": {},
   "outputs": [],
   "source": [
    "a = 4"
   ]
  },
  {
   "cell_type": "code",
   "execution_count": 2,
   "id": "98d60b2d-12a5-4e94-9212-320a6accf7ac",
   "metadata": {},
   "outputs": [],
   "source": [
    "i = 8941658541854165468546846846464684684646846846464646464"
   ]
  },
  {
   "cell_type": "code",
   "execution_count": 3,
   "id": "50825b1c-17f1-4365-bf83-c55fc0c36991",
   "metadata": {},
   "outputs": [
    {
     "data": {
      "text/plain": [
       "8941658541854165468546846846464684684646846846464646464"
      ]
     },
     "execution_count": 3,
     "metadata": {},
     "output_type": "execute_result"
    }
   ],
   "source": [
    "i"
   ]
  },
  {
   "cell_type": "code",
   "execution_count": 4,
   "id": "725dea5c-2466-44bf-b165-b40f86031fe7",
   "metadata": {},
   "outputs": [
    {
     "data": {
      "text/plain": [
       "3"
      ]
     },
     "execution_count": 4,
     "metadata": {},
     "output_type": "execute_result"
    }
   ],
   "source": [
    "int(3.14)"
   ]
  },
  {
   "cell_type": "code",
   "execution_count": 5,
   "id": "f9f146ab-1ed1-4196-8651-ab464ea968d9",
   "metadata": {},
   "outputs": [],
   "source": [
    "ab123 = \"esgqaerwgrwgrg\""
   ]
  },
  {
   "cell_type": "code",
   "execution_count": 12,
   "id": "889bef92-8398-47e8-bae4-41923087632f",
   "metadata": {},
   "outputs": [],
   "source": [
    "st = \"hello\""
   ]
  },
  {
   "cell_type": "code",
   "execution_count": 9,
   "id": "39baa7da-0552-4065-a379-ba6453cd1b68",
   "metadata": {},
   "outputs": [
    {
     "data": {
      "text/plain": [
       "'hello'"
      ]
     },
     "execution_count": 9,
     "metadata": {},
     "output_type": "execute_result"
    }
   ],
   "source": [
    "int"
   ]
  },
  {
   "cell_type": "code",
   "execution_count": 11,
   "id": "4121d4cf-81c3-47e9-ae58-ecb464a3044e",
   "metadata": {},
   "outputs": [
    {
     "ename": "NameError",
     "evalue": "name 'x' is not defined",
     "output_type": "error",
     "traceback": [
      "\u001b[0;31m---------------------------------------------------------------------------\u001b[0m",
      "\u001b[0;31mNameError\u001b[0m                                 Traceback (most recent call last)",
      "Cell \u001b[0;32mIn[11], line 1\u001b[0m\n\u001b[0;32m----> 1\u001b[0m \u001b[38;5;28mprint\u001b[39m(\u001b[43mx\u001b[49m)\n",
      "\u001b[0;31mNameError\u001b[0m: name 'x' is not defined"
     ]
    }
   ],
   "source": [
    "print(x)"
   ]
  },
  {
   "cell_type": "code",
   "execution_count": 14,
   "id": "35b4b3ac-90f9-4fd4-bb35-56ed286123d4",
   "metadata": {},
   "outputs": [
    {
     "data": {
      "text/plain": [
       "'hell'"
      ]
     },
     "execution_count": 14,
     "metadata": {},
     "output_type": "execute_result"
    }
   ],
   "source": [
    "st[ 0:4 ]"
   ]
  },
  {
   "cell_type": "code",
   "execution_count": 16,
   "id": "a2d03fbc-7ac8-4235-bfd6-6ecf54dcb13b",
   "metadata": {},
   "outputs": [
    {
     "name": "stdout",
     "output_type": "stream",
     "text": [
      "Welcome Shailesh\n"
     ]
    }
   ],
   "source": [
    "name = 'Shailesh'\n",
    "print(f\"Welcome {name}\")"
   ]
  },
  {
   "cell_type": "code",
   "execution_count": 17,
   "id": "835cc217-4762-4125-8f46-516007bedbb3",
   "metadata": {},
   "outputs": [],
   "source": [
    "r = \"ram\""
   ]
  },
  {
   "cell_type": "code",
   "execution_count": 19,
   "id": "133d0b83-3cc8-439e-ab6e-78a38c8f6f06",
   "metadata": {},
   "outputs": [
    {
     "data": {
      "text/plain": [
       "'shree ram'"
      ]
     },
     "execution_count": 19,
     "metadata": {},
     "output_type": "execute_result"
    }
   ],
   "source": [
    "\"shree \" + r"
   ]
  },
  {
   "cell_type": "code",
   "execution_count": 20,
   "id": "33dd0ad8-675a-477a-a848-f1cb16021495",
   "metadata": {},
   "outputs": [
    {
     "data": {
      "text/plain": [
       "'ramramramramramramramramramram'"
      ]
     },
     "execution_count": 20,
     "metadata": {},
     "output_type": "execute_result"
    }
   ],
   "source": [
    "r*10"
   ]
  },
  {
   "cell_type": "code",
   "execution_count": 21,
   "id": "13ba1fd7-93e9-4647-858a-e453fb8117cd",
   "metadata": {},
   "outputs": [
    {
     "name": "stdout",
     "output_type": "stream",
     "text": [
      "==================================================\n"
     ]
    }
   ],
   "source": [
    "print(\"=\"*50)"
   ]
  },
  {
   "cell_type": "code",
   "execution_count": 34,
   "id": "94b53840-2871-4fc1-bd2a-fd3d3b6ca629",
   "metadata": {},
   "outputs": [],
   "source": [
    "ls = [\"4\",5,6,\"apple\",\"ball\"]"
   ]
  },
  {
   "cell_type": "code",
   "execution_count": 26,
   "id": "ae330f7e-a217-42c4-913a-3522da3e612a",
   "metadata": {},
   "outputs": [
    {
     "name": "stdout",
     "output_type": "stream",
     "text": [
      "ball\n"
     ]
    }
   ],
   "source": [
    "print(ls[-1])"
   ]
  },
  {
   "cell_type": "code",
   "execution_count": 27,
   "id": "e320f9bc-7737-4d0e-b78b-02e91bd64b7f",
   "metadata": {},
   "outputs": [],
   "source": [
    "tu = (4,5,6,\"apple\",\"ball\")"
   ]
  },
  {
   "cell_type": "code",
   "execution_count": 28,
   "id": "5d94636c-4317-489c-8383-8f1f84b7a556",
   "metadata": {},
   "outputs": [
    {
     "data": {
      "text/plain": [
       "(4, 5, 6, 'apple', 'ball')"
      ]
     },
     "execution_count": 28,
     "metadata": {},
     "output_type": "execute_result"
    }
   ],
   "source": [
    "tu"
   ]
  },
  {
   "cell_type": "code",
   "execution_count": 30,
   "id": "41a22754-3c4b-4bb0-8fa8-ba512acddfaa",
   "metadata": {},
   "outputs": [],
   "source": [
    "ls[1] = \"one\""
   ]
  },
  {
   "cell_type": "code",
   "execution_count": 31,
   "id": "92a1e382-3c1d-4cea-8448-3648fcecfc70",
   "metadata": {},
   "outputs": [
    {
     "data": {
      "text/plain": [
       "[4, 'one', 6, 'apple', 'ball']"
      ]
     },
     "execution_count": 31,
     "metadata": {},
     "output_type": "execute_result"
    }
   ],
   "source": [
    "ls"
   ]
  },
  {
   "cell_type": "code",
   "execution_count": 33,
   "id": "c3c50d31-6ed5-4e74-9db4-b3457a399b13",
   "metadata": {},
   "outputs": [
    {
     "ename": "TypeError",
     "evalue": "'tuple' object does not support item assignment",
     "output_type": "error",
     "traceback": [
      "\u001b[0;31m---------------------------------------------------------------------------\u001b[0m",
      "\u001b[0;31mTypeError\u001b[0m                                 Traceback (most recent call last)",
      "Cell \u001b[0;32mIn[33], line 1\u001b[0m\n\u001b[0;32m----> 1\u001b[0m \u001b[43mtu\u001b[49m\u001b[43m[\u001b[49m\u001b[38;5;241;43m1\u001b[39;49m\u001b[43m]\u001b[49m  \u001b[38;5;241m=\u001b[39m \u001b[38;5;124m\"\u001b[39m\u001b[38;5;124mtwo\u001b[39m\u001b[38;5;124m\"\u001b[39m\n",
      "\u001b[0;31mTypeError\u001b[0m: 'tuple' object does not support item assignment"
     ]
    }
   ],
   "source": [
    "tu[1]  = \"two\""
   ]
  },
  {
   "cell_type": "code",
   "execution_count": 36,
   "id": "116fe9c4-bf1e-4741-a27a-d84121e14fba",
   "metadata": {},
   "outputs": [
    {
     "data": {
      "text/plain": [
       "str"
      ]
     },
     "execution_count": 36,
     "metadata": {},
     "output_type": "execute_result"
    }
   ],
   "source": [
    "type(ls[0])"
   ]
  },
  {
   "cell_type": "code",
   "execution_count": 39,
   "id": "b81c7171-65d6-4a62-8559-b1e228e717c8",
   "metadata": {},
   "outputs": [],
   "source": [
    "dd = {\n",
    "    \"key1\":\"value1\",\n",
    "    \"key2\":\"value2\"\n",
    "}"
   ]
  },
  {
   "cell_type": "code",
   "execution_count": 46,
   "id": "535c9861-010b-4bdb-83eb-924cb3812ad8",
   "metadata": {},
   "outputs": [
    {
     "data": {
      "text/plain": [
       "dict_keys(['key1', 'key2'])"
      ]
     },
     "execution_count": 46,
     "metadata": {},
     "output_type": "execute_result"
    }
   ],
   "source": [
    "dd.keys()"
   ]
  },
  {
   "cell_type": "code",
   "execution_count": 47,
   "id": "b9eeda05-6e3d-4613-9407-77fa23ed1350",
   "metadata": {},
   "outputs": [
    {
     "data": {
      "text/plain": [
       "False"
      ]
     },
     "execution_count": 47,
     "metadata": {},
     "output_type": "execute_result"
    }
   ],
   "source": [
    "bool([])"
   ]
  },
  {
   "cell_type": "code",
   "execution_count": 48,
   "id": "612c04d3-093c-4d6a-a752-fb219a7ef1f1",
   "metadata": {},
   "outputs": [
    {
     "data": {
      "text/plain": [
       "False"
      ]
     },
     "execution_count": 48,
     "metadata": {},
     "output_type": "execute_result"
    }
   ],
   "source": [
    "bool(0)"
   ]
  },
  {
   "cell_type": "code",
   "execution_count": 50,
   "id": "50cb2bf6-2860-4d27-a363-8ff487495fdb",
   "metadata": {},
   "outputs": [
    {
     "name": "stdout",
     "output_type": "stream",
     "text": [
      "Empty\n"
     ]
    }
   ],
   "source": [
    "if bool([2]):\n",
    "\n"
   ]
  },
  {
   "cell_type": "code",
   "execution_count": null,
   "id": "e6d0218e-2fb8-458c-9b3c-7960fc8ede37",
   "metadata": {},
   "outputs": [],
   "source": []
  }
 ],
 "metadata": {
  "kernelspec": {
   "display_name": "Python 3 (ipykernel)",
   "language": "python",
   "name": "python3"
  },
  "language_info": {
   "codemirror_mode": {
    "name": "ipython",
    "version": 3
   },
   "file_extension": ".py",
   "mimetype": "text/x-python",
   "name": "python",
   "nbconvert_exporter": "python",
   "pygments_lexer": "ipython3",
   "version": "3.10.12"
  }
 },
 "nbformat": 4,
 "nbformat_minor": 5
}
